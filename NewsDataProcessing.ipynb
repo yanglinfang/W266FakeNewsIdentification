{
 "cells": [
  {
   "cell_type": "code",
   "execution_count": null,
   "metadata": {
    "collapsed": true,
    "deletable": true,
    "editable": true
   },
   "outputs": [],
   "source": []
  },
  {
   "cell_type": "markdown",
   "metadata": {
    "collapsed": false,
    "deletable": true,
    "editable": true
   },
   "source": [
    "\n",
    "#clear directory \n",
    "!rm -r ./YahooNews/YahooNewsQualityDataset-v0.8\n",
    "!rm ./Kaggle/fake.csv"
   ]
  },
  {
   "cell_type": "code",
   "execution_count": 2,
   "metadata": {
    "collapsed": true,
    "deletable": true,
    "editable": true
   },
   "outputs": [],
   "source": [
    "\n",
    "\n",
    "import zipfile\n",
    "zip_ref1 = zipfile.ZipFile('./YahooNews/YahooNewsQualityDataset-v0.8.zip', 'r')\n",
    "zip_ref1.extractall('./YahooNews/')\n",
    "zip_ref1.close()\n",
    "\n",
    "\n",
    "zip_ref2 = zipfile.ZipFile('./Kaggle/fake-news.zip', 'r')\n",
    "zip_ref2.extractall('./Kaggle/')\n",
    "zip_ref2.close()"
   ]
  },
  {
   "cell_type": "code",
   "execution_count": 3,
   "metadata": {
    "collapsed": false,
    "deletable": true,
    "editable": true
   },
   "outputs": [
    {
     "name": "stdout",
     "output_type": "stream",
     "text": [
      "annotators.xlsx  excel_dataset.py  news.tsv\n",
      "dataset\t\t methodology\t   sentences.tsv\n",
      "fake-news.zip  fake.csv\n"
     ]
    }
   ],
   "source": [
    "!ls ./YahooNews/YahooNewsQualityDataset-v0.8\n",
    "!ls ./Kaggle/"
   ]
  },
  {
   "cell_type": "code",
   "execution_count": 4,
   "metadata": {
    "collapsed": false,
    "deletable": true,
    "editable": true
   },
   "outputs": [],
   "source": [
    "import numpy as np \n",
    "import os\n",
    "folder = 'YahooNews/YahooNewsQualityDataset-v0.8/'\n",
    "news_tsv_folder = os.path.join(os.getcwd(),folder+'dataset/tsvFiles/withText-body/')\n",
    "sentences_tsv_folder = os.path.join(os.getcwd(),folder+'dataset/tsvFiles/withText-sentences/')\n",
    "\n",
    "news_csv = os.path.join(os.getcwd(),'news.csv')\n",
    "sentences_csv = os.path.join(os.getcwd(),'sentences.csv')\n",
    "\n",
    "news_csv_out = open(news_csv, 'w')\n",
    "sentences_csv_out = open(sentences_csv, 'w')\n",
    "\n",
    "# write headers\n",
    "news_csv_out.write('id\\tnews article name\\tnews article\\tFluency\\tConciseness\\tDescriptiveness\\tNovelty\\tCompleteness\\t')\n",
    "news_csv_out.write('Referencing\\tFormality\\tRichness\\tAttractiveness\\tTechnicality\\tPopularity\\tSubjectivity\\t')\n",
    "news_csv_out.write('Positive Emotion\\tNegative Emotion\\tQuality\\tAnnotatorsConfidenceScore\\n')\n",
    "\n",
    "news_article_names = {}\n",
    "\n",
    "curr_id = 1 \n",
    "for filename in os.listdir(news_tsv_folder):\n",
    "\tcurr_file = open(os.path.join(news_tsv_folder, filename), 'r')\n",
    "\tline = curr_file.readline().replace('\\n','').replace('\\r','')\n",
    "\tline = line.split('\\t')\n",
    "\tnews_article_name = filename.replace('-sentences.txt','').replace('_sentences.txt','').replace('-body.txt','').replace('_body.txt','')\n",
    "\tnews_article_names[news_article_name] = curr_id\n",
    "\tnews_article = line[0]\n",
    "\tFluency = line[1]\n",
    "\tConciseness = line[2]\n",
    "\tDescriptiveness = line[3]\n",
    "\tNovelty = line[4]\n",
    "\tCompleteness = line[5]\n",
    "\tReferencing = line[6]\n",
    "\tFormality = line[7]\n",
    "\tRichness = line[8]\n",
    "\tAttractiveness = line[9]\n",
    "\tTechnicality = line[10]\n",
    "\tPopularity = line[11]\n",
    "\tSubjectivity = line[12]\n",
    "\tPositive_Emotion = line[13]\n",
    "\tNegative_Emotion = line[14]\n",
    "\tQuality = line[15]\n",
    "\tif len(line) == 17:\n",
    "\t\tAnnotatorsConfidenceScore = line[16]\n",
    "\telse:\n",
    "\t\tAnnotatorsConfidenceScore = ''\n",
    "\tnews_csv_out.write(str(curr_id)+'\\t'+news_article_name+'\\t'+news_article+'\\t'+Fluency+'\\t'+Conciseness+'\\t'+Descriptiveness+'\\t'+Novelty+'\\t'+Completeness+'\\t')\n",
    "\tnews_csv_out.write(Referencing+'\\t'+Formality+'\\t'+Richness+'\\t'+Attractiveness+'\\t'+Technicality+'\\t')\n",
    "\tnews_csv_out.write(Popularity+'\\t'+Subjectivity+'\\t'+Positive_Emotion+'\\t'+Negative_Emotion+'\\t'+Quality+'\\t'+AnnotatorsConfidenceScore+'\\n')\n",
    "\tcurr_id = curr_id + 1\n",
    "\tcurr_file.close()\n",
    "news_csv_out.close()\n",
    "\n",
    "# write headers\n",
    "sentences_csv_out.write('id\\tnews article name\\tSentence\\tSubjectivity\\tPositivity\\tNegativity\\t')\n",
    "sentences_csv_out.write('Ignore sentence (I) or sentence Splitting issue (S)\\tAnnotatorsConfidenceScore\\n')\n",
    "for filename in os.listdir(sentences_tsv_folder):\n",
    "\tcurr_file = open(os.path.join(sentences_tsv_folder, filename), 'r')\n",
    "\tnews_article_name = filename.replace('-sentences.txt','').replace('_sentences.txt','').replace('-body.txt','').replace('_body.txt','')\n",
    "\tcurr_id = news_article_names[news_article_name]\n",
    "\twhile 1:\t\n",
    "\t\tsentence = curr_file.readline()\n",
    "\t\tif not sentence:break\n",
    "\t\tline = sentence.replace('\\n','').replace('\\r','').split('\\t')\n",
    "\t\tif len(line) == 1:break\n",
    "\t\tnews_article = line[0]\n",
    "\t\tsentence = line[1]\n",
    "\t\tsubjectivity = line[2]\n",
    "\t\tpositivity = line[3]\n",
    "\t\tnegativity = line[4]\n",
    "\t\tif len(line) == 6:\n",
    "\t\t\tI_S = line[5]\n",
    "\t\telse:\n",
    "\t\t\tI_S = ''\n",
    "\t\tif len(line) == 7:\n",
    "\t\t\tannotatorsConfidenceScore = line[6]\n",
    "\t\telse:\n",
    "\t\t\tannotatorsConfidenceScore = ''\n",
    "\t\tsentences_csv_out.write(str(curr_id)+'\\t'+news_article_name+'\\t'+news_article+'\\t'+sentence+'\\t'+subjectivity+'\\t')\n",
    "\t\tsentences_csv_out.write(positivity+'\\t'+negativity+'\\t'+I_S+'\\t'+annotatorsConfidenceScore+'\\n')\n",
    "\tcurr_file.close()\n",
    "sentences_csv_out.close()\n",
    "\n",
    "\n"
   ]
  },
  {
   "cell_type": "code",
   "execution_count": 5,
   "metadata": {
    "collapsed": false,
    "deletable": true,
    "editable": true
   },
   "outputs": [],
   "source": [
    "import csv\n",
    "header = []\n",
    "articleData = []\n",
    "with open('news.csv', 'rb') as f:\n",
    "    for line in f:\n",
    "        if len(header) == 0:\n",
    "            header = line.split('\\t')\n",
    "        else:\n",
    "            articleData.append(line.split('\\t'))\n",
    "    "
   ]
  },
  {
   "cell_type": "code",
   "execution_count": 6,
   "metadata": {
    "collapsed": false,
    "deletable": true,
    "editable": true
   },
   "outputs": [
    {
     "name": "stdout",
     "output_type": "stream",
     "text": [
      "658 19\n",
      "['id', 'news article name', 'news article', 'Fluency', 'Conciseness', 'Descriptiveness', 'Novelty', 'Completeness', 'Referencing', 'Formality', 'Richness', 'Attractiveness', 'Technicality', 'Popularity', 'Subjectivity', 'Positive Emotion', 'Negative Emotion', 'Quality', 'AnnotatorsConfidenceScore\\n']\n"
     ]
    }
   ],
   "source": [
    "\n",
    "columns = len(header)\n",
    "rows = len(articleData)\n",
    "print rows, columns\n",
    "print header"
   ]
  },
  {
   "cell_type": "code",
   "execution_count": 7,
   "metadata": {
    "collapsed": false,
    "deletable": true,
    "editable": true
   },
   "outputs": [
    {
     "name": "stdout",
     "output_type": "stream",
     "text": [
      "['346', 'park-defends-refusal-wolves-184423303', \"BOULDER, Colo. (AP) \\xe2\\x80\\x94 The National Park Service acted properly when it ruled out using wolves to control the elk population in Rocky Mountain National Park, government lawyers argued Thursday before a federal appeals court.The government also defended the use of trained volunteers to help Park Service employees shoot and kill excess elk, saying it didn't violate a hunting ban in national parks.In a hearing before the 10th U.S. Circuit Court of Appeals, a law student representing the wildlife advocacy group WildEarth Guardians argued the Park Service did not give enough consideration to the wolf option and rejected it without giving the public a chance to comment.The group also said letting volunteers shoot elk instead of limiting the shooting to Park Service employees was tantamount to hunting.WildEarth Guardians sued the Park Service in 2008, asking a Denver federal judge to overturn the park's elk-thinning policy. The judge upheld the policy last year, and WildEarth Guardians appealed to the 10th Circuit.The appeals court normally meets in Denver but heard this case at the University of Colorado Law School in Boulder as part of an outreach program. The judges did not say when they would rule.Rocky Mountain National Park sometimes has so many elk that they overgraze the vegetation, leaving other animals without enough food and habitat. Few natural predators are left there, and hunting is prohibited, so little remains to keep the elk population in check.The park launched a 20-year program in 2008 to thin the herd by having park employees and trained volunteers under park supervision periodically shoot and kill elk. The program also includes fences to protect vegetation from elk and redistributing some of the animals.Officials said reintroducing wolves to control elk numbers was infeasible. They cited a lack of support from other agencies, safety concerns of people who live nearby, expected conflicts between wolves and humans and the amount of attention that a wolf population would require of park officials.Park spokeswoman Kyle Patterson said 131 elk have been killed in the culling program during since 2008.The current size of the herd in the park's lower elevations is 600 to 800, which is within the target range set by the program, so no elk were killed last winter.No decision has been made on whether or how many elk will be killed this coming winter.Wolves disappeared from much of the West after decades of hunting and government-backed extermination. They were re-introduced in Yellowstone National Park in Wyoming in 1995, and some advocates have argued for bringing them back elsewhere.___Follow Dan Elliott at http://twitter.com/DanElliottAP___Online:National Park Service fact sheet: http://1.usa.gov/UllcuKWildEarth Guardians: http://bit.ly/T94CDm\", '4', '3', '3', '3', '3', '3', '2', '3', '3', '2', '3', '2', '1', '2', '3', '4\\n']\n"
     ]
    }
   ],
   "source": [
    "print articleData[345]"
   ]
  },
  {
   "cell_type": "code",
   "execution_count": 8,
   "metadata": {
    "collapsed": false,
    "deletable": true,
    "editable": true
   },
   "outputs": [
    {
     "name": "stdout",
     "output_type": "stream",
     "text": [
      "[543, 228, 168, 212, 188, 411, 589, 162, 431, 24, 461, 257, 114, 406, 183, 286, 15, 549, 467, 400, 300, 54, 155, 312, 546, 417, 20, 653, 377, 140, 415, 116, 613, 618, 302, 107, 354, 455, 402, 205, 1, 75, 565, 47, 611, 207, 147, 522, 654, 223, 382, 85, 39, 511, 345, 190, 252, 98, 440, 640, 51, 102, 622, 365, 165, 358, 476, 138, 595, 305, 333, 258, 206, 109, 238, 442, 545, 454, 515, 97, 5, 495, 607, 319, 324, 557, 94, 204, 378, 224, 636, 389, 344, 119, 584, 3, 36, 221, 608, 630, 564, 396, 142, 253, 185, 156, 370, 208, 213, 433, 410, 149, 176, 413, 483, 309, 633, 35, 453, 626, 397, 303, 644, 251, 349, 484, 313, 124, 525, 458, 254]\n"
     ]
    }
   ],
   "source": [
    "from random import shuffle\n",
    "rowid = range(0, rows)\n",
    "shuffle(rowid)\n",
    "trainid = []\n",
    "testid = []\n",
    "ratio = 0.8\n",
    "for i in range(0, rows):\n",
    "    if i < rows * ratio:\n",
    "        trainid.append(rowid[i])\n",
    "    else:\n",
    "        testid.append(rowid[i])\n",
    "\n",
    "print testid"
   ]
  },
  {
   "cell_type": "code",
   "execution_count": 62,
   "metadata": {
    "collapsed": true,
    "deletable": true,
    "editable": true
   },
   "outputs": [],
   "source": [
    "# Load data from yahoo dataset\n",
    "def load_yahoo_data(label_used):\n",
    "    header = []\n",
    "    articleData = []\n",
    "    with open('./news.csv', 'rb') as f:\n",
    "        for line in f:\n",
    "            if len(header) == 0:\n",
    "                header = line.split('\\t')\n",
    "            else:\n",
    "                articleData.append(line.split('\\t'))\n",
    "    columns = len(header)\n",
    "    rows = len(articleData)\n",
    "    print 'Loaded rows: ', rows,'columns: ', columns\n",
    "    print 'Headers: ', header\n",
    "    print 'Using label: ', label_used\n",
    "    #print 'sample text: ', articleData[0][header.index('news article')]\n",
    "    #print 'sample label: ', articleData[0][header.index(label_used)]\n",
    "    \n",
    "    texts = []\n",
    "    targets = []\n",
    "    for i in range(0, rows):\n",
    "        labelStr = articleData[i][header.index(label_used)]\n",
    "        if labelStr != '':\n",
    "            texts.append(articleData[i][header.index('news article')])\n",
    "            target = int(labelStr)\n",
    "            labels = [[0,1]]\n",
    "            if target <= 3:\n",
    "                labels = [[1,0]]\n",
    "            targets.append(labels)\n",
    "    y = np.concatenate(targets, 0)\n",
    "    return (texts, y)"
   ]
  },
  {
   "cell_type": "code",
   "execution_count": 63,
   "metadata": {
    "collapsed": false,
    "deletable": true,
    "editable": true
   },
   "outputs": [
    {
     "name": "stdout",
     "output_type": "stream",
     "text": [
      "Loaded rows:  658 columns:  19\n",
      "Headers:  ['id', 'news article name', 'news article', 'Fluency', 'Conciseness', 'Descriptiveness', 'Novelty', 'Completeness', 'Referencing', 'Formality', 'Richness', 'Attractiveness', 'Technicality', 'Popularity', 'Subjectivity', 'Positive Emotion', 'Negative Emotion', 'Quality', 'AnnotatorsConfidenceScore\\n']\n",
      "Using label:  Quality\n"
     ]
    }
   ],
   "source": [
    "(tests, y) = load_yahoo_data('Quality')"
   ]
  },
  {
   "cell_type": "code",
   "execution_count": 59,
   "metadata": {
    "collapsed": false,
    "deletable": true,
    "editable": true
   },
   "outputs": [],
   "source": [
    "# Load data from facebook dataset\n",
    "def load_facebook_data():\n",
    "    articleData = []\n",
    "    labelStrs = []\n",
    "    with open('./text_and_labels.tsv', 'rb') as f:\n",
    "        for line in f:\n",
    "            articleData.append(line.split('\\t'))\n",
    "    columns = 2\n",
    "    rows = len(articleData)\n",
    "    print 'Loaded rows: ', rows,'columns: ', columns\n",
    "    \n",
    "    texts = []\n",
    "    targets = []\n",
    "    for i in range(0, rows):\n",
    "        labelStr = articleData[i][1]\n",
    "        if labelStr != '':\n",
    "            texts.append(articleData[i][0])\n",
    "            if labelStr not in labelStrs:\n",
    "                labelStrs.append(labelStr)\n",
    "                \n",
    "            if labelStr.startswith('mostly true'):\n",
    "                target = 4\n",
    "            if labelStr.startswith('mixture of true and false'):\n",
    "                target = 0\n",
    "            if labelStr.startswith('no factual content'):\n",
    "                target = 0;\n",
    "            if labelStr.startswith('mostly false'):\n",
    "                target = 0;\n",
    "         \n",
    "            labels = [1]\n",
    "            if target <= 3:\n",
    "                labels = [0]\n",
    "            targets.append(labels)\n",
    "    y = np.concatenate(targets, 0)\n",
    "    return (texts, y)\n",
    "\n"
   ]
  },
  {
   "cell_type": "code",
   "execution_count": 60,
   "metadata": {
    "collapsed": false,
    "deletable": true,
    "editable": true
   },
   "outputs": [
    {
     "name": "stdout",
     "output_type": "stream",
     "text": [
      "Loaded rows:  159 columns:  2\n",
      "[1 1 1 1 1 1 1 1 1 1 1 1 1 0 1 1 1 1 1 1 1 1 1 1 1 1 1 1 1 0 1 1 1 1 0 0 0\n",
      " 0 0 0 0 0 0 0 0 0 0 0 0 0 0 0 0 0 0 0 1 0 1 0 0 0 0 0 0 0 0 0 0 0 0 0 0 0\n",
      " 0 0 0 0 0 0 0 0 0 0 0 0 0 0 0 0 0 0 0 0 0 0 0 0 0 0 0 0 0 0 0 0 0 0 0 0 0\n",
      " 0 0 0 0 0 0 0 0 0 0 0 1 1 1 1 1 0 0 0 0 1 0 0 1 1 1 1 1 1 1 1 1 1 1 1 1 1\n",
      " 1 1 1 1 1 1 1 1 1 1 1]\n"
     ]
    }
   ],
   "source": [
    "(texts, targets) = load_facebook_data()\n",
    "print targets"
   ]
  },
  {
   "cell_type": "code",
   "execution_count": 30,
   "metadata": {
    "collapsed": false,
    "deletable": true,
    "editable": true
   },
   "outputs": [
    {
     "name": "stdout",
     "output_type": "stream",
     "text": [
      "159\n",
      "Ivanka Trump met privately with House Speaker Paul Ryan, R-Wisconsin, Monday in New York City, sources confirmed to ABC News.  Trump, who requested the meeting, attended Ryan's speech at the Economic Club of New York before the two had a scheduled meeting.  House Speaker Paul Ryan Urges GOP Unity Behind Donald Trump Paul Ryan Criticizes Vladimir Putin Amid Trump's Praise for Russian Leader Ryan shared some of his experiences from the 2012 presidential campaign trail and Trump provided Ryan with an update on her father's presidential campaign, according to a source.  Ryan has not crossed paths with Trump or his family since the Republican National Convention. He has been running a parallel election-year campaign touting the House GOP \"Better Way\" policy agenda and raising money for Republicans in the House and Senate, setting fundraising records.  Last week, he suggested Trump should release his tax returns.  Ivanka Trump, who is one of her father's closest confidantes, has kept in touch with Hill Republicans throughout the presidential campaign on policy issues.  She also joined her father in Washington, D.C. for his meetings with House and Senate Republicans in early July.  \"She was good,\" Rep. Peter King, R-New York, told reporters at the time.  ABC's John Santucci contributed to this report.\n"
     ]
    }
   ],
   "source": [
    "print np.size(texts)\n",
    "print texts[9]"
   ]
  },
  {
   "cell_type": "code",
   "execution_count": 3,
   "metadata": {
    "collapsed": true,
    "deletable": true,
    "editable": true
   },
   "outputs": [],
   "source": [
    "# Load data from yahoo dataset\n",
    "def load_yahoo_data_labels(label_used):\n",
    "    header = []\n",
    "    articleData = []\n",
    "    with open('./news.csv', 'rb') as f:\n",
    "        for line in f:\n",
    "            if len(header) == 0:\n",
    "                header = line.split('\\t')\n",
    "            else:\n",
    "                articleData.append(line.split('\\t'))\n",
    "    columns = len(header)\n",
    "    rows = len(articleData)\n",
    "    \n",
    "    texts = []\n",
    "    targets = []\n",
    "    for i in range(0, rows):\n",
    "        labelStr = articleData[i][header.index(label_used)]\n",
    "        if labelStr != '':\n",
    "            texts.append(articleData[i][header.index('news article')])\n",
    "            target = int(labelStr)\n",
    "            targets.append(target)\n",
    "        else:\n",
    "            #add missing values \n",
    "            targets.append(3)\n",
    "    print 'Loaded rows: ', rows,'columns: ', columns, 'Using label: ', label_used, 'Targets length', len(targets)\n",
    "    return targets"
   ]
  },
  {
   "cell_type": "code",
   "execution_count": 47,
   "metadata": {
    "collapsed": false,
    "deletable": true,
    "editable": true
   },
   "outputs": [
    {
     "name": "stdout",
     "output_type": "stream",
     "text": [
      "\n",
      "Parameters:\n",
      "ALLOW_SOFT_PLACEMENT=True\n",
      "BATCH_SIZE=109\n",
      "CHECKPOINT_EVERY=30\n",
      "DEV_SAMPLE_PERCENTAGE=0.1\n",
      "DROPOUT_KEEP_PROB=0.5\n",
      "EMBEDDING_DIM=128\n",
      "EVALUATE_EVERY=15\n",
      "FILTER_SIZES=3,4,5\n",
      "L2_REG_LAMBDA=0.0\n",
      "LABEL_USED=Fluency\n",
      "LOG_DEVICE_PLACEMENT=False\n",
      "NUM_CHECKPOINTS=5\n",
      "NUM_EPOCHS=1\n",
      "NUM_FILTERS=128\n",
      "UNROLLED_LSTM=False\n",
      "\n",
      "Loading data...\n",
      "Loaded rows:  658 columns:  19\n",
      "Headers:  ['id', 'news article name', 'news article', 'Fluency', 'Conciseness', 'Descriptiveness', 'Novelty', 'Completeness', 'Referencing', 'Formality', 'Richness', 'Attractiveness', 'Technicality', 'Popularity', 'Subjectivity', 'Positive Emotion', 'Negative Emotion', 'Quality', 'AnnotatorsConfidenceScore\\n']\n",
      "Using label:  Fluency\n",
      "Train: 545 | dev: 109\n",
      "Train: 545 | dev: 109\n",
      "Train: 545 | dev: 109\n",
      "Train: 545 | dev: 109\n",
      "Train: 545 | dev: 109\n",
      "Train: 545 | dev: 109\n",
      "Vocabulary Size: 28855\n",
      "('Number of classes ', 2)\n",
      "Labels\n",
      "Tensor(\"accuracy/ArgMax:0\", shape=(?,), dtype=int64)\n",
      "Predictions\n",
      "Tensor(\"output/predictions:0\", shape=(?,), dtype=int64)\n",
      "Writing to /notebooks/Project/runs/1493020142\n",
      "\n",
      "K fold validation, a total of 6 folds\n",
      "\n",
      "the 1th fold\n",
      "\n",
      "('data length', 545)\n",
      "the 2th fold\n",
      "\n",
      "('data length', 545)\n",
      "the 3th fold\n",
      "\n",
      "('data length', 545)\n",
      "2017-04-24T07:51:38.705006: step 15, loss 2.36241, acc 0.59633\n",
      "('predictions for this batch:', array([0, 0, 0, 0, 0, 1, 1, 0, 0, 1, 1, 1, 0, 1, 1, 1, 0, 1, 0, 0, 0, 0, 0,\n",
      "       1, 0, 0, 0, 0, 1, 0, 0, 1, 1, 1, 0, 0, 1, 1, 1, 0, 0, 1, 0, 0, 0, 0,\n",
      "       0, 1, 0, 0, 1, 1, 0, 0, 1, 1, 0, 0, 0, 0, 0, 0, 1, 1, 0, 1, 1, 1, 1,\n",
      "       0, 0, 0, 1, 0, 1, 1, 1, 1, 0, 0, 1, 1, 0, 1, 0, 1, 1, 1, 1, 0, 0, 1,\n",
      "       1, 1, 1, 1, 0, 1, 0, 0, 1, 0, 0, 0, 1, 1, 0, 0, 0]))\n",
      "\n",
      "Evaluation:\n",
      "2017-04-24T07:51:42.236546: step 15, loss 0.5555, acc 0.669725\n",
      "\n",
      "the 4th fold\n",
      "\n",
      "('data length', 545)\n",
      "the 5th fold\n",
      "\n",
      "('data length', 545)\n",
      "the 6th fold\n",
      "\n",
      "('data length', 545)\n",
      "2017-04-24T07:54:17.914365: step 30, loss 2.9686, acc 0.53211\n",
      "('predictions for this batch:', array([0, 1, 0, 0, 0, 0, 0, 0, 0, 0, 0, 0, 1, 0, 0, 0, 1, 1, 0, 0, 0, 0, 1,\n",
      "       0, 0, 1, 1, 0, 1, 0, 1, 0, 0, 1, 0, 0, 0, 0, 0, 1, 1, 0, 1, 1, 1, 1,\n",
      "       1, 0, 0, 0, 0, 1, 0, 1, 0, 1, 0, 0, 0, 1, 0, 1, 1, 1, 0, 1, 0, 0, 0,\n",
      "       0, 1, 0, 0, 1, 0, 0, 1, 1, 0, 0, 1, 0, 1, 0, 0, 0, 0, 0, 0, 0, 0, 1,\n",
      "       0, 1, 1, 0, 0, 1, 0, 1, 0, 0, 0, 0, 1, 1, 0, 0, 0]))\n",
      "\n",
      "Evaluation:\n",
      "2017-04-24T07:54:21.416030: step 30, loss 0.221942, acc 0.853211\n",
      "\n",
      "Saved model checkpoint to /notebooks/Project/runs/1493020142/checkpoints/model-30\n",
      "\n"
     ]
    }
   ],
   "source": [
    "!python ./shared_lib/train.py --label_used 'Fluency' --num_epochs 1 --batch_size 109 --evaluate_every 15 --checkpoint_every 30\n"
   ]
  },
  {
   "cell_type": "code",
   "execution_count": 63,
   "metadata": {
    "collapsed": false,
    "deletable": true,
    "editable": true
   },
   "outputs": [
    {
     "name": "stdout",
     "output_type": "stream",
     "text": [
      "\n",
      "Parameters:\n",
      "ALLOW_SOFT_PLACEMENT=True\n",
      "BATCH_SIZE=109\n",
      "CHECKPOINT_DIR=/notebooks/Project/runs/1493020142/checkpoints\n",
      "EVAL_TRAIN=False\n",
      "LABEL_USED=Fluency\n",
      "LOG_DEVICE_PLACEMENT=False\n",
      "UNROLLED_LSTM=False\n",
      "\n",
      "Loaded rows:  658 columns:  19\n",
      "Headers:  ['id', 'news article name', 'news article', 'Fluency', 'Conciseness', 'Descriptiveness', 'Novelty', 'Completeness', 'Referencing', 'Formality', 'Richness', 'Attractiveness', 'Technicality', 'Popularity', 'Subjectivity', 'Positive Emotion', 'Negative Emotion', 'Quality', 'AnnotatorsConfidenceScore\\n']\n",
      "Using label:  Fluency\n",
      "Loaded rows:  159 columns:  2\n",
      "Vocabulary Size: 28855\n",
      "Raw text Size: 1971\n",
      "Transformed text Size: 2381\n",
      "\n",
      "Evaluating using directory...\n",
      "\n",
      "/notebooks/Project/runs/1493020142/checkpoints\n",
      "('Loading...', '/notebooks/Project/runs/1493020142/checkpoints/model-30.meta')\n",
      "('checkpoint_file', u'/notebooks/Project/runs/1493020142/checkpoints/model-30')\n",
      "('data length', 162)\n",
      "[0 1 0 1 1 1 1 1 1 1 1 1 1 1 1 1 0 1 1 1 1 1 1 1 1 1 1 1 1 1 1 1 0 1 1 1 1\n",
      " 0 0 0 0 0 0 0 0 0 0 0 0 0 0 0 0 0 0 0 0 0 0 1 0 1 0 0 0 0 0 0 0 0 0 0 0 0\n",
      " 0 0 0 0 0 0 0 0 0 0 0 0 0 0 0 0 0 0 0 0 0 0 0 0 0 0 0 0 0 0 0 0 0 0 0 0 0\n",
      " 0 0 0 0 0 0 0 0 0 0 0 0 0 0 1 1 1 1 1 0 0 0 0 1 0 0 1 1 1 1 1 1 1 1 1 1 1\n",
      " 1 1 1 1 1 1 1 1 1 1 1 1 1 1]\n",
      "[ 0.  0.  0.  0.  0.  0.  0.  0.  0.  0.  0.  0.  0.  0.  0.  0.  0.  0.\n",
      "  0.  0.  0.  0.  0.  0.  0.  0.  0.  0.  0.  0.  0.  0.  0.  0.  0.  0.\n",
      "  0.  0.  0.  0.  0.  0.  0.  0.  0.  0.  0.  0.  0.  0.  0.  0.  0.  0.\n",
      "  0.  0.  0.  0.  0.  0.  0.  0.  0.  0.  0.  0.  0.  0.  0.  0.  0.  0.\n",
      "  0.  0.  0.  0.  0.  0.  0.  0.  0.  0.  0.  0.  0.  0.  0.  0.  0.  0.\n",
      "  0.  0.  0.  0.  0.  0.  0.  0.  0.  0.  0.  0.  0.  0.  0.  0.  0.  0.\n",
      "  0.  0.  0.  0.  0.  0.  0.  0.  0.  0.  0.  0.  0.  0.  0.  0.  0.  0.\n",
      "  0.  0.  0.  0.  0.  0.  0.  0.  0.  0.  0.  0.  0.  0.  0.  0.  0.  0.\n",
      "  0.  0.  0.  0.  0.  0.  0.  0.  0.  0.  0.  0.  0.  0.  0.  0.  0.  0.]\n",
      "Total number of test examples: 162\n",
      "Accuracy: 0.592593\n",
      "Saving evaluation to /notebooks/Project/runs/1493020142/checkpoints/../prediction.csv\n",
      "Saving evaluation to /notebooks/Project/runs/1493020142/checkpoints/../prediction.csv\n"
     ]
    }
   ],
   "source": [
    "!python ./shared_lib/eval.py --batch_size 109 --eval_train False --label_used 'Fluency' --checkpoint_dir '/notebooks/Project/runs/1493020142/checkpoints' "
   ]
  },
  {
   "cell_type": "code",
   "execution_count": 48,
   "metadata": {
    "collapsed": false,
    "deletable": true,
    "editable": true
   },
   "outputs": [
    {
     "name": "stdout",
     "output_type": "stream",
     "text": [
      "\n",
      "Parameters:\n",
      "ALLOW_SOFT_PLACEMENT=True\n",
      "BATCH_SIZE=109\n",
      "CHECKPOINT_EVERY=30\n",
      "DEV_SAMPLE_PERCENTAGE=0.1\n",
      "DROPOUT_KEEP_PROB=0.5\n",
      "EMBEDDING_DIM=128\n",
      "EVALUATE_EVERY=15\n",
      "FILTER_SIZES=3,4,5\n",
      "L2_REG_LAMBDA=0.0\n",
      "LABEL_USED=Conciseness\n",
      "LOG_DEVICE_PLACEMENT=False\n",
      "NUM_CHECKPOINTS=5\n",
      "NUM_EPOCHS=1\n",
      "NUM_FILTERS=128\n",
      "UNROLLED_LSTM=False\n",
      "\n",
      "Loading data...\n",
      "Loaded rows:  658 columns:  19\n",
      "Headers:  ['id', 'news article name', 'news article', 'Fluency', 'Conciseness', 'Descriptiveness', 'Novelty', 'Completeness', 'Referencing', 'Formality', 'Richness', 'Attractiveness', 'Technicality', 'Popularity', 'Subjectivity', 'Positive Emotion', 'Negative Emotion', 'Quality', 'AnnotatorsConfidenceScore\\n']\n",
      "Using label:  Conciseness\n",
      "Train: 545 | dev: 110\n",
      "Train: 546 | dev: 109\n",
      "Train: 546 | dev: 109\n",
      "Train: 546 | dev: 109\n",
      "Train: 546 | dev: 109\n",
      "Train: 546 | dev: 109\n",
      "Vocabulary Size: 28870\n",
      "('Number of classes ', 2)\n",
      "Labels\n",
      "Tensor(\"accuracy/ArgMax:0\", shape=(?,), dtype=int64)\n",
      "Predictions\n",
      "Tensor(\"output/predictions:0\", shape=(?,), dtype=int64)\n",
      "Writing to /notebooks/Project/runs/1493020471\n",
      "\n",
      "K fold validation, a total of 6 folds\n",
      "\n",
      "the 1th fold\n",
      "\n",
      "('data length', 545)\n",
      "the 2th fold\n",
      "\n",
      "('data length', 546)\n",
      "the 3th fold\n",
      "\n",
      "('data length', 546)\n",
      "2017-04-24T07:56:58.242178: step 15, loss 2.6829, acc 0.53211\n",
      "('predictions for this batch:', array([1, 1, 1, 0, 1, 0, 1, 1, 1, 1, 1, 0, 1, 0, 1, 1, 1, 1, 0, 1, 1, 0, 1,\n",
      "       1, 0, 0, 1, 0, 1, 1, 0, 0, 1, 0, 0, 1, 0, 1, 0, 0, 1, 1, 0, 1, 1, 0,\n",
      "       1, 0, 1, 1, 0, 1, 1, 0, 0, 1, 0, 1, 1, 0, 0, 0, 1, 0, 0, 1, 1, 1, 1,\n",
      "       1, 1, 0, 0, 0, 0, 1, 1, 1, 1, 1, 1, 1, 0, 1, 0, 1, 1, 1, 1, 1, 0, 0,\n",
      "       1, 0, 1, 0, 0, 1, 1, 1, 0, 1, 0, 0, 1, 0, 1, 0, 1]))\n",
      "\n",
      "Evaluation:\n",
      "2017-04-24T07:57:01.638108: step 15, loss 0.39827, acc 0.834862\n",
      "\n",
      "the 4th fold\n",
      "\n",
      "('data length', 546)\n",
      "the 5th fold\n",
      "\n",
      "('data length', 546)\n",
      "the 6th fold\n",
      "\n",
      "('data length', 546)\n",
      "2017-04-24T07:59:06.750236: step 30, loss 1.68861, acc 0.605505\n",
      "('predictions for this batch:', array([0, 1, 1, 1, 0, 0, 0, 0, 0, 0, 0, 0, 1, 1, 0, 1, 0, 1, 0, 0, 0, 1, 1,\n",
      "       1, 0, 0, 1, 1, 0, 0, 0, 0, 1, 0, 0, 0, 0, 0, 0, 0, 1, 0, 0, 0, 1, 0,\n",
      "       0, 1, 0, 1, 1, 1, 0, 1, 0, 1, 0, 1, 0, 0, 0, 0, 0, 1, 0, 0, 0, 0, 1,\n",
      "       0, 0, 0, 1, 0, 1, 0, 0, 0, 0, 0, 0, 1, 0, 1, 0, 0, 0, 1, 0, 1, 1, 1,\n",
      "       0, 0, 0, 1, 0, 0, 0, 0, 0, 0, 0, 0, 1, 1, 0, 0, 0]))\n",
      "\n",
      "Evaluation:\n",
      "2017-04-24T07:59:10.352116: step 30, loss 0.178033, acc 0.926606\n",
      "\n",
      "Saved model checkpoint to /notebooks/Project/runs/1493020471/checkpoints/model-30\n",
      "\n"
     ]
    }
   ],
   "source": [
    "!python ./shared_lib/train.py --label_used 'Conciseness' --num_epochs 1 --batch_size 109 --evaluate_every 15 --checkpoint_every 30\n"
   ]
  },
  {
   "cell_type": "code",
   "execution_count": 64,
   "metadata": {
    "collapsed": false,
    "deletable": true,
    "editable": true
   },
   "outputs": [
    {
     "name": "stdout",
     "output_type": "stream",
     "text": [
      "\n",
      "Parameters:\n",
      "ALLOW_SOFT_PLACEMENT=True\n",
      "BATCH_SIZE=109\n",
      "CHECKPOINT_DIR=/notebooks/Project/runs/1493020471/checkpoints\n",
      "EVAL_TRAIN=False\n",
      "LABEL_USED=Conciseness\n",
      "LOG_DEVICE_PLACEMENT=False\n",
      "UNROLLED_LSTM=False\n",
      "\n",
      "Loaded rows:  658 columns:  19\n",
      "Headers:  ['id', 'news article name', 'news article', 'Fluency', 'Conciseness', 'Descriptiveness', 'Novelty', 'Completeness', 'Referencing', 'Formality', 'Richness', 'Attractiveness', 'Technicality', 'Popularity', 'Subjectivity', 'Positive Emotion', 'Negative Emotion', 'Quality', 'AnnotatorsConfidenceScore\\n']\n",
      "Using label:  Conciseness\n",
      "Loaded rows:  159 columns:  2\n",
      "Vocabulary Size: 28870\n",
      "Raw text Size: 1971\n",
      "Transformed text Size: 2381\n",
      "\n",
      "Evaluating using directory...\n",
      "\n",
      "/notebooks/Project/runs/1493020471/checkpoints\n",
      "('Loading...', '/notebooks/Project/runs/1493020471/checkpoints/model-30.meta')\n",
      "('checkpoint_file', u'/notebooks/Project/runs/1493020471/checkpoints/model-30')\n",
      "('data length', 162)\n",
      "[0 1 1 1 1 1 1 1 1 1 1 1 1 1 1 1 0 1 1 1 1 1 1 1 1 1 1 1 1 1 1 1 0 1 1 1 1\n",
      " 0 0 0 0 0 0 0 0 0 0 0 0 0 0 0 0 0 0 0 0 0 0 1 0 1 0 0 0 0 0 0 0 0 0 0 0 0\n",
      " 0 0 0 0 0 0 0 0 0 0 0 0 0 0 0 0 0 0 0 0 0 0 0 0 0 0 0 0 0 0 0 0 0 0 0 0 0\n",
      " 0 0 0 0 0 0 0 0 0 0 0 0 0 0 1 1 1 1 1 0 0 0 0 1 0 0 1 1 1 1 1 1 1 1 1 1 1\n",
      " 1 1 1 1 1 1 1 1 1 1 1 1 1 1]\n",
      "[ 0.  0.  0.  0.  0.  0.  0.  0.  0.  0.  0.  0.  0.  0.  0.  0.  0.  0.\n",
      "  0.  0.  0.  0.  0.  0.  0.  0.  0.  0.  0.  0.  0.  0.  0.  0.  0.  0.\n",
      "  0.  0.  0.  0.  0.  0.  0.  0.  0.  0.  0.  0.  0.  0.  0.  0.  0.  0.\n",
      "  0.  0.  0.  0.  0.  0.  0.  0.  0.  0.  1.  0.  0.  0.  0.  0.  0.  0.\n",
      "  0.  0.  1.  0.  0.  0.  0.  0.  0.  0.  0.  0.  0.  0.  0.  0.  0.  0.\n",
      "  0.  0.  0.  0.  0.  0.  0.  0.  0.  0.  0.  0.  0.  0.  0.  0.  0.  0.\n",
      "  0.  0.  0.  0.  0.  0.  0.  0.  0.  0.  0.  0.  0.  0.  0.  0.  0.  0.\n",
      "  0.  0.  0.  0.  0.  0.  0.  0.  0.  0.  0.  0.  0.  0.  0.  0.  0.  0.\n",
      "  0.  0.  0.  0.  0.  0.  0.  0.  0.  0.  0.  0.  0.  0.  0.  0.  0.  0.]\n",
      "Total number of test examples: 162\n",
      "Accuracy: 0.574074\n",
      "Saving evaluation to /notebooks/Project/runs/1493020471/checkpoints/../prediction.csv\n",
      "Saving evaluation to /notebooks/Project/runs/1493020471/checkpoints/../prediction.csv\n"
     ]
    }
   ],
   "source": [
    "!python ./shared_lib/eval.py --batch_size 109 --eval_train False --label_used 'Conciseness' --checkpoint_dir '/notebooks/Project/runs/1493020471/checkpoints' \n"
   ]
  },
  {
   "cell_type": "code",
   "execution_count": 49,
   "metadata": {
    "collapsed": false,
    "deletable": true,
    "editable": true
   },
   "outputs": [
    {
     "name": "stdout",
     "output_type": "stream",
     "text": [
      "\n",
      "Parameters:\n",
      "ALLOW_SOFT_PLACEMENT=True\n",
      "BATCH_SIZE=109\n",
      "CHECKPOINT_EVERY=30\n",
      "DEV_SAMPLE_PERCENTAGE=0.1\n",
      "DROPOUT_KEEP_PROB=0.5\n",
      "EMBEDDING_DIM=128\n",
      "EVALUATE_EVERY=15\n",
      "FILTER_SIZES=3,4,5\n",
      "L2_REG_LAMBDA=0.0\n",
      "LABEL_USED=Descriptiveness\n",
      "LOG_DEVICE_PLACEMENT=False\n",
      "NUM_CHECKPOINTS=5\n",
      "NUM_EPOCHS=1\n",
      "NUM_FILTERS=128\n",
      "UNROLLED_LSTM=False\n",
      "\n",
      "Loading data...\n",
      "Loaded rows:  658 columns:  19\n",
      "Headers:  ['id', 'news article name', 'news article', 'Fluency', 'Conciseness', 'Descriptiveness', 'Novelty', 'Completeness', 'Referencing', 'Formality', 'Richness', 'Attractiveness', 'Technicality', 'Popularity', 'Subjectivity', 'Positive Emotion', 'Negative Emotion', 'Quality', 'AnnotatorsConfidenceScore\\n']\n",
      "Using label:  Descriptiveness\n",
      "Train: 545 | dev: 109\n",
      "Train: 545 | dev: 109\n",
      "Train: 545 | dev: 109\n",
      "Train: 545 | dev: 109\n",
      "Train: 545 | dev: 109\n",
      "Train: 545 | dev: 109\n",
      "Vocabulary Size: 28856\n",
      "('Number of classes ', 2)\n",
      "Labels\n",
      "Tensor(\"accuracy/ArgMax:0\", shape=(?,), dtype=int64)\n",
      "Predictions\n",
      "Tensor(\"output/predictions:0\", shape=(?,), dtype=int64)\n",
      "Writing to /notebooks/Project/runs/1493020804\n",
      "\n",
      "K fold validation, a total of 6 folds\n",
      "\n",
      "the 1th fold\n",
      "\n",
      "('data length', 545)\n",
      "the 2th fold\n",
      "\n",
      "('data length', 545)\n",
      "the 3th fold\n",
      "\n",
      "('data length', 545)\n",
      "2017-04-24T08:02:40.277740: step 15, loss 1.86967, acc 0.568807\n",
      "('predictions for this batch:', array([0, 1, 0, 1, 0, 1, 1, 0, 0, 0, 1, 0, 0, 1, 0, 0, 1, 1, 0, 0, 1, 0, 0,\n",
      "       0, 0, 0, 1, 1, 0, 0, 0, 0, 0, 0, 1, 1, 1, 0, 0, 0, 1, 0, 1, 1, 1, 1,\n",
      "       0, 1, 0, 0, 0, 0, 1, 1, 1, 1, 0, 0, 0, 0, 0, 1, 0, 1, 0, 1, 0, 1, 0,\n",
      "       0, 0, 1, 1, 1, 1, 1, 0, 0, 0, 0, 0, 0, 0, 0, 0, 0, 1, 1, 1, 0, 0, 0,\n",
      "       0, 1, 0, 0, 0, 1, 0, 1, 1, 1, 0, 1, 0, 1, 0, 1, 0]))\n",
      "\n",
      "Evaluation:\n",
      "2017-04-24T08:02:43.717319: step 15, loss 0.327452, acc 0.788991\n",
      "\n",
      "the 4th fold\n",
      "\n",
      "('data length', 545)\n",
      "the 5th fold\n",
      "\n",
      "('data length', 545)\n",
      "the 6th fold\n",
      "\n",
      "('data length', 545)\n",
      "2017-04-24T08:05:17.823280: step 30, loss 2.0397, acc 0.66055\n",
      "('predictions for this batch:', array([1, 0, 0, 0, 0, 0, 1, 0, 0, 0, 0, 0, 0, 0, 0, 1, 1, 0, 0, 0, 1, 1, 0,\n",
      "       0, 0, 0, 0, 1, 0, 1, 1, 0, 0, 0, 0, 1, 0, 0, 0, 0, 0, 1, 1, 0, 0, 0,\n",
      "       1, 0, 0, 1, 0, 0, 0, 1, 0, 0, 0, 0, 1, 0, 1, 0, 0, 0, 0, 0, 0, 0, 1,\n",
      "       1, 0, 0, 0, 1, 0, 0, 0, 0, 1, 0, 0, 0, 0, 0, 0, 0, 1, 1, 0, 0, 0, 0,\n",
      "       0, 1, 0, 1, 0, 0, 0, 0, 1, 0, 1, 0, 0, 0, 0, 0, 0]))\n",
      "\n",
      "Evaluation:\n",
      "2017-04-24T08:05:21.269966: step 30, loss 0.200933, acc 0.889908\n",
      "\n",
      "Saved model checkpoint to /notebooks/Project/runs/1493020804/checkpoints/model-30\n",
      "\n"
     ]
    }
   ],
   "source": [
    "!python ./shared_lib/train.py --label_used 'Descriptiveness' --num_epochs 1 --batch_size 109 --evaluate_every 15 --checkpoint_every 30\n"
   ]
  },
  {
   "cell_type": "code",
   "execution_count": 65,
   "metadata": {
    "collapsed": false,
    "deletable": true,
    "editable": true
   },
   "outputs": [
    {
     "name": "stdout",
     "output_type": "stream",
     "text": [
      "\n",
      "Parameters:\n",
      "ALLOW_SOFT_PLACEMENT=True\n",
      "BATCH_SIZE=109\n",
      "CHECKPOINT_DIR=/notebooks/Project/runs/1493020804/checkpoints\n",
      "EVAL_TRAIN=False\n",
      "LABEL_USED=Descriptiveness\n",
      "LOG_DEVICE_PLACEMENT=False\n",
      "UNROLLED_LSTM=False\n",
      "\n",
      "Loaded rows:  658 columns:  19\n",
      "Headers:  ['id', 'news article name', 'news article', 'Fluency', 'Conciseness', 'Descriptiveness', 'Novelty', 'Completeness', 'Referencing', 'Formality', 'Richness', 'Attractiveness', 'Technicality', 'Popularity', 'Subjectivity', 'Positive Emotion', 'Negative Emotion', 'Quality', 'AnnotatorsConfidenceScore\\n']\n",
      "Using label:  Descriptiveness\n",
      "Loaded rows:  159 columns:  2\n",
      "Vocabulary Size: 28856\n",
      "Raw text Size: 1971\n",
      "Transformed text Size: 2381\n",
      "\n",
      "Evaluating using directory...\n",
      "\n",
      "/notebooks/Project/runs/1493020804/checkpoints\n",
      "('Loading...', '/notebooks/Project/runs/1493020804/checkpoints/model-30.meta')\n",
      "('checkpoint_file', u'/notebooks/Project/runs/1493020804/checkpoints/model-30')\n",
      "('data length', 162)\n",
      "[0 1 0 1 1 1 1 1 1 1 1 1 1 1 1 1 0 1 1 1 1 1 1 1 1 1 1 1 1 1 1 1 0 1 1 1 1\n",
      " 0 0 0 0 0 0 0 0 0 0 0 0 0 0 0 0 0 0 0 0 0 0 1 0 1 0 0 0 0 0 0 0 0 0 0 0 0\n",
      " 0 0 0 0 0 0 0 0 0 0 0 0 0 0 0 0 0 0 0 0 0 0 0 0 0 0 0 0 0 0 0 0 0 0 0 0 0\n",
      " 0 0 0 0 0 0 0 0 0 0 0 0 0 0 1 1 1 1 1 0 0 0 0 1 0 0 1 1 1 1 1 1 1 1 1 1 1\n",
      " 1 1 1 1 1 1 1 1 1 1 1 1 1 1]\n",
      "[ 0.  0.  0.  0.  0.  0.  0.  0.  0.  0.  0.  0.  0.  0.  0.  0.  0.  0.\n",
      "  0.  0.  0.  0.  0.  0.  0.  0.  0.  0.  0.  0.  0.  0.  0.  0.  0.  0.\n",
      "  0.  0.  0.  0.  0.  0.  0.  0.  0.  0.  0.  0.  0.  0.  0.  0.  0.  0.\n",
      "  0.  0.  0.  0.  0.  0.  0.  0.  0.  0.  0.  0.  0.  0.  0.  0.  0.  0.\n",
      "  0.  0.  0.  0.  0.  0.  0.  0.  0.  0.  0.  0.  0.  0.  0.  0.  0.  0.\n",
      "  0.  0.  0.  0.  0.  0.  0.  0.  0.  0.  0.  0.  0.  0.  0.  0.  0.  0.\n",
      "  0.  0.  0.  0.  0.  0.  0.  0.  0.  0.  0.  0.  0.  0.  0.  0.  0.  0.\n",
      "  0.  0.  0.  0.  0.  0.  0.  0.  0.  0.  0.  0.  0.  0.  0.  0.  0.  0.\n",
      "  0.  0.  0.  0.  0.  0.  0.  0.  0.  0.  0.  0.  0.  0.  0.  0.  0.  0.]\n",
      "Total number of test examples: 162\n",
      "Accuracy: 0.592593\n",
      "Saving evaluation to /notebooks/Project/runs/1493020804/checkpoints/../prediction.csv\n",
      "Saving evaluation to /notebooks/Project/runs/1493020804/checkpoints/../prediction.csv\n"
     ]
    }
   ],
   "source": [
    "\n",
    "!python ./shared_lib/eval.py --batch_size 109 --eval_train False --label_used 'Descriptiveness' --checkpoint_dir '/notebooks/Project/runs/1493020804/checkpoints' "
   ]
  },
  {
   "cell_type": "code",
   "execution_count": 50,
   "metadata": {
    "collapsed": false,
    "deletable": true,
    "editable": true
   },
   "outputs": [
    {
     "name": "stdout",
     "output_type": "stream",
     "text": [
      "\n",
      "Parameters:\n",
      "ALLOW_SOFT_PLACEMENT=True\n",
      "BATCH_SIZE=109\n",
      "CHECKPOINT_EVERY=30\n",
      "DEV_SAMPLE_PERCENTAGE=0.1\n",
      "DROPOUT_KEEP_PROB=0.5\n",
      "EMBEDDING_DIM=128\n",
      "EVALUATE_EVERY=15\n",
      "FILTER_SIZES=3,4,5\n",
      "L2_REG_LAMBDA=0.0\n",
      "LABEL_USED=Novelty\n",
      "LOG_DEVICE_PLACEMENT=False\n",
      "NUM_CHECKPOINTS=5\n",
      "NUM_EPOCHS=1\n",
      "NUM_FILTERS=128\n",
      "UNROLLED_LSTM=False\n",
      "\n",
      "Loading data...\n",
      "Loaded rows:  658 columns:  19\n",
      "Headers:  ['id', 'news article name', 'news article', 'Fluency', 'Conciseness', 'Descriptiveness', 'Novelty', 'Completeness', 'Referencing', 'Formality', 'Richness', 'Attractiveness', 'Technicality', 'Popularity', 'Subjectivity', 'Positive Emotion', 'Negative Emotion', 'Quality', 'AnnotatorsConfidenceScore\\n']\n",
      "Using label:  Novelty\n",
      "Train: 545 | dev: 109\n",
      "Train: 545 | dev: 109\n",
      "Train: 545 | dev: 109\n",
      "Train: 545 | dev: 109\n",
      "Train: 545 | dev: 109\n",
      "Train: 545 | dev: 109\n",
      "Vocabulary Size: 28830\n",
      "('Number of classes ', 2)\n",
      "Labels\n",
      "Tensor(\"accuracy/ArgMax:0\", shape=(?,), dtype=int64)\n",
      "Predictions\n",
      "Tensor(\"output/predictions:0\", shape=(?,), dtype=int64)\n",
      "Writing to /notebooks/Project/runs/1493021128\n",
      "\n",
      "K fold validation, a total of 6 folds\n",
      "\n",
      "the 1th fold\n",
      "\n",
      "('data length', 545)\n",
      "the 2th fold\n",
      "\n",
      "('data length', 545)\n",
      "the 3th fold\n",
      "\n",
      "('data length', 545)\n",
      "2017-04-24T08:08:03.914888: step 15, loss 3.06086, acc 0.605505\n",
      "('predictions for this batch:', array([0, 0, 1, 0, 0, 1, 0, 0, 0, 0, 0, 0, 0, 0, 0, 0, 0, 0, 0, 0, 0, 0, 0,\n",
      "       0, 0, 0, 1, 0, 1, 0, 1, 0, 0, 1, 0, 1, 0, 0, 0, 1, 0, 0, 0, 1, 0, 0,\n",
      "       0, 0, 1, 0, 0, 0, 1, 0, 0, 0, 1, 0, 0, 1, 1, 0, 0, 0, 0, 0, 0, 0, 1,\n",
      "       1, 1, 1, 1, 0, 0, 0, 0, 0, 0, 0, 0, 0, 0, 0, 1, 1, 0, 0, 0, 0, 0, 1,\n",
      "       0, 0, 0, 0, 0, 0, 0, 1, 0, 0, 0, 1, 1, 0, 0, 0, 0]))\n",
      "\n",
      "Evaluation:\n",
      "2017-04-24T08:08:07.346768: step 15, loss 1.46183, acc 0.66055\n",
      "\n",
      "the 4th fold\n",
      "\n",
      "('data length', 545)\n",
      "the 5th fold\n",
      "\n",
      "('data length', 545)\n",
      "the 6th fold\n",
      "\n",
      "('data length', 545)\n",
      "2017-04-24T08:10:41.715231: step 30, loss 1.3457, acc 0.752294\n",
      "('predictions for this batch:', array([0, 0, 0, 0, 0, 0, 0, 0, 0, 0, 0, 1, 0, 0, 0, 1, 1, 0, 0, 0, 0, 0, 0,\n",
      "       0, 0, 0, 0, 1, 0, 0, 0, 1, 0, 0, 0, 0, 0, 0, 0, 0, 0, 0, 0, 0, 0, 0,\n",
      "       0, 0, 0, 1, 0, 0, 0, 0, 1, 0, 1, 0, 0, 0, 0, 0, 1, 1, 1, 1, 0, 0, 0,\n",
      "       0, 0, 0, 0, 0, 0, 0, 0, 0, 1, 0, 0, 0, 0, 0, 0, 0, 0, 0, 0, 1, 1, 0,\n",
      "       0, 0, 1, 0, 1, 0, 0, 0, 0, 0, 1, 0, 1, 1, 0, 1, 0]))\n",
      "\n",
      "Evaluation:\n",
      "2017-04-24T08:10:45.167986: step 30, loss 0.44127, acc 0.788991\n",
      "\n",
      "Saved model checkpoint to /notebooks/Project/runs/1493021128/checkpoints/model-30\n",
      "\n"
     ]
    }
   ],
   "source": [
    "!python ./shared_lib/train.py --label_used 'Novelty' --num_epochs 1 --batch_size 109 --evaluate_every 15 --checkpoint_every 30\n"
   ]
  },
  {
   "cell_type": "code",
   "execution_count": 66,
   "metadata": {
    "collapsed": false,
    "deletable": true,
    "editable": true
   },
   "outputs": [
    {
     "name": "stdout",
     "output_type": "stream",
     "text": [
      "\n",
      "Parameters:\n",
      "ALLOW_SOFT_PLACEMENT=True\n",
      "BATCH_SIZE=109\n",
      "CHECKPOINT_DIR=/notebooks/Project/runs/1493021128/checkpoints\n",
      "EVAL_TRAIN=False\n",
      "LABEL_USED=Novelty\n",
      "LOG_DEVICE_PLACEMENT=False\n",
      "UNROLLED_LSTM=False\n",
      "\n",
      "Loaded rows:  658 columns:  19\n",
      "Headers:  ['id', 'news article name', 'news article', 'Fluency', 'Conciseness', 'Descriptiveness', 'Novelty', 'Completeness', 'Referencing', 'Formality', 'Richness', 'Attractiveness', 'Technicality', 'Popularity', 'Subjectivity', 'Positive Emotion', 'Negative Emotion', 'Quality', 'AnnotatorsConfidenceScore\\n']\n",
      "Using label:  Novelty\n",
      "Loaded rows:  159 columns:  2\n",
      "Vocabulary Size: 28830\n",
      "Raw text Size: 1971\n",
      "Transformed text Size: 2381\n",
      "\n",
      "Evaluating using directory...\n",
      "\n",
      "/notebooks/Project/runs/1493021128/checkpoints\n",
      "('Loading...', '/notebooks/Project/runs/1493021128/checkpoints/model-30.meta')\n",
      "('checkpoint_file', u'/notebooks/Project/runs/1493021128/checkpoints/model-30')\n",
      "('data length', 162)\n",
      "[0 1 0 1 1 1 1 1 1 1 1 1 1 1 1 1 0 1 1 1 1 1 1 1 1 1 1 1 1 1 1 1 0 1 1 1 1\n",
      " 0 0 0 0 0 0 0 0 0 0 0 0 0 0 0 0 0 0 0 0 0 0 1 0 1 0 0 0 0 0 0 0 0 0 0 0 0\n",
      " 0 0 0 0 0 0 0 0 0 0 0 0 0 0 0 0 0 0 0 0 0 0 0 0 0 0 0 0 0 0 0 0 0 0 0 0 0\n",
      " 0 0 0 0 0 0 0 0 0 0 0 0 0 0 1 1 1 1 1 0 0 0 0 1 0 0 1 1 1 1 1 1 1 1 1 1 1\n",
      " 1 1 1 1 1 1 1 1 1 1 1 1 1 1]\n",
      "[ 0.  0.  0.  0.  0.  0.  0.  0.  0.  0.  0.  0.  0.  0.  0.  0.  0.  0.\n",
      "  0.  0.  0.  0.  0.  0.  0.  0.  0.  0.  0.  0.  0.  0.  0.  0.  0.  0.\n",
      "  0.  0.  0.  0.  0.  0.  0.  0.  0.  0.  0.  0.  0.  0.  0.  0.  0.  0.\n",
      "  0.  0.  0.  0.  0.  0.  0.  0.  0.  0.  0.  0.  0.  0.  0.  0.  0.  0.\n",
      "  0.  0.  0.  0.  0.  0.  0.  0.  0.  0.  0.  0.  0.  0.  0.  0.  0.  0.\n",
      "  0.  0.  0.  0.  0.  0.  0.  0.  0.  0.  0.  0.  0.  0.  0.  0.  0.  0.\n",
      "  0.  0.  0.  0.  0.  0.  0.  0.  0.  0.  0.  0.  0.  0.  0.  0.  0.  0.\n",
      "  0.  0.  0.  0.  0.  0.  0.  0.  0.  0.  0.  0.  0.  0.  0.  0.  0.  0.\n",
      "  0.  0.  0.  0.  0.  0.  0.  0.  0.  0.  0.  0.  0.  0.  0.  0.  0.  0.]\n",
      "Total number of test examples: 162\n",
      "Accuracy: 0.592593\n",
      "Saving evaluation to /notebooks/Project/runs/1493021128/checkpoints/../prediction.csv\n",
      "Saving evaluation to /notebooks/Project/runs/1493021128/checkpoints/../prediction.csv\n"
     ]
    }
   ],
   "source": [
    "\n",
    "!python ./shared_lib/eval.py --batch_size 109 --eval_train False --label_used 'Novelty' --checkpoint_dir '/notebooks/Project/runs/1493021128/checkpoints' "
   ]
  },
  {
   "cell_type": "code",
   "execution_count": 51,
   "metadata": {
    "collapsed": false,
    "deletable": true,
    "editable": true
   },
   "outputs": [
    {
     "name": "stdout",
     "output_type": "stream",
     "text": [
      "\n",
      "Parameters:\n",
      "ALLOW_SOFT_PLACEMENT=True\n",
      "BATCH_SIZE=109\n",
      "CHECKPOINT_EVERY=30\n",
      "DEV_SAMPLE_PERCENTAGE=0.1\n",
      "DROPOUT_KEEP_PROB=0.5\n",
      "EMBEDDING_DIM=128\n",
      "EVALUATE_EVERY=15\n",
      "FILTER_SIZES=3,4,5\n",
      "L2_REG_LAMBDA=0.0\n",
      "LABEL_USED=Completeness\n",
      "LOG_DEVICE_PLACEMENT=False\n",
      "NUM_CHECKPOINTS=5\n",
      "NUM_EPOCHS=1\n",
      "NUM_FILTERS=128\n",
      "UNROLLED_LSTM=False\n",
      "\n",
      "Loading data...\n",
      "Loaded rows:  658 columns:  19\n",
      "Headers:  ['id', 'news article name', 'news article', 'Fluency', 'Conciseness', 'Descriptiveness', 'Novelty', 'Completeness', 'Referencing', 'Formality', 'Richness', 'Attractiveness', 'Technicality', 'Popularity', 'Subjectivity', 'Positive Emotion', 'Negative Emotion', 'Quality', 'AnnotatorsConfidenceScore\\n']\n",
      "Using label:  Completeness\n",
      "Train: 545 | dev: 110\n",
      "Train: 546 | dev: 109\n",
      "Train: 546 | dev: 109\n",
      "Train: 546 | dev: 109\n",
      "Train: 546 | dev: 109\n",
      "Train: 546 | dev: 109\n",
      "Vocabulary Size: 28870\n",
      "('Number of classes ', 2)\n",
      "Labels\n",
      "Tensor(\"accuracy/ArgMax:0\", shape=(?,), dtype=int64)\n",
      "Predictions\n",
      "Tensor(\"output/predictions:0\", shape=(?,), dtype=int64)\n",
      "Writing to /notebooks/Project/runs/1493021449\n",
      "\n",
      "K fold validation, a total of 6 folds\n",
      "\n",
      "the 1th fold\n",
      "\n",
      "('data length', 545)\n",
      "the 2th fold\n",
      "\n",
      "('data length', 546)\n",
      "the 3th fold\n",
      "\n",
      "('data length', 546)\n",
      "2017-04-24T08:13:23.412398: step 15, loss 2.25522, acc 0.688073\n",
      "('predictions for this batch:', array([0, 0, 0, 0, 0, 0, 0, 0, 0, 0, 1, 0, 0, 0, 0, 0, 0, 0, 0, 0, 0, 0, 0,\n",
      "       0, 0, 0, 0, 0, 0, 0, 0, 0, 1, 1, 0, 0, 0, 1, 0, 1, 0, 0, 0, 0, 1, 0,\n",
      "       0, 0, 0, 0, 0, 0, 0, 0, 0, 0, 0, 0, 0, 0, 0, 0, 0, 1, 0, 0, 0, 0, 0,\n",
      "       0, 0, 0, 0, 0, 0, 0, 0, 0, 0, 0, 0, 0, 0, 0, 0, 1, 0, 0, 1, 0, 0, 0,\n",
      "       0, 0, 0, 0, 0, 0, 0, 1, 0, 0, 0, 0, 0, 0, 0, 0, 0]))\n",
      "\n",
      "Evaluation:\n",
      "2017-04-24T08:13:27.078968: step 15, loss 1.83775, acc 0.614679\n",
      "\n",
      "the 4th fold\n",
      "\n",
      "('data length', 546)\n",
      "the 5th fold\n",
      "\n",
      "('data length', 546)\n",
      "the 6th fold\n",
      "\n",
      "('data length', 546)\n",
      "2017-04-24T08:15:34.956206: step 30, loss 1.94424, acc 0.605505\n",
      "('predictions for this batch:', array([0, 1, 0, 0, 0, 0, 0, 0, 1, 1, 1, 0, 0, 1, 0, 0, 0, 1, 0, 0, 0, 1, 1,\n",
      "       0, 1, 0, 0, 0, 0, 1, 0, 0, 0, 0, 0, 0, 0, 1, 0, 1, 0, 1, 0, 1, 0, 0,\n",
      "       1, 1, 0, 1, 0, 1, 0, 1, 0, 0, 1, 0, 0, 0, 0, 0, 0, 0, 1, 0, 1, 0, 0,\n",
      "       0, 0, 0, 0, 0, 0, 0, 0, 1, 0, 1, 1, 1, 0, 0, 0, 1, 0, 0, 0, 0, 0, 0,\n",
      "       0, 1, 0, 1, 1, 0, 1, 0, 0, 0, 0, 0, 1, 0, 0, 0, 0]))\n",
      "\n",
      "Evaluation:\n",
      "2017-04-24T08:15:38.678734: step 30, loss 0.181601, acc 0.908257\n",
      "\n",
      "Saved model checkpoint to /notebooks/Project/runs/1493021449/checkpoints/model-30\n",
      "\n"
     ]
    }
   ],
   "source": [
    "!python ./shared_lib/train.py --label_used 'Completeness' --num_epochs 1 --batch_size 109 --evaluate_every 15 --checkpoint_every 30\n"
   ]
  },
  {
   "cell_type": "code",
   "execution_count": 67,
   "metadata": {
    "collapsed": false,
    "deletable": true,
    "editable": true
   },
   "outputs": [
    {
     "name": "stdout",
     "output_type": "stream",
     "text": [
      "\n",
      "Parameters:\n",
      "ALLOW_SOFT_PLACEMENT=True\n",
      "BATCH_SIZE=109\n",
      "CHECKPOINT_DIR=/notebooks/Project/runs/1493021449/checkpoints\n",
      "EVAL_TRAIN=False\n",
      "LABEL_USED=Completeness\n",
      "LOG_DEVICE_PLACEMENT=False\n",
      "UNROLLED_LSTM=False\n",
      "\n",
      "Loaded rows:  658 columns:  19\n",
      "Headers:  ['id', 'news article name', 'news article', 'Fluency', 'Conciseness', 'Descriptiveness', 'Novelty', 'Completeness', 'Referencing', 'Formality', 'Richness', 'Attractiveness', 'Technicality', 'Popularity', 'Subjectivity', 'Positive Emotion', 'Negative Emotion', 'Quality', 'AnnotatorsConfidenceScore\\n']\n",
      "Using label:  Completeness\n",
      "Loaded rows:  159 columns:  2\n",
      "Vocabulary Size: 28870\n",
      "Raw text Size: 1971\n",
      "Transformed text Size: 2381\n",
      "\n",
      "Evaluating using directory...\n",
      "\n",
      "/notebooks/Project/runs/1493021449/checkpoints\n",
      "('Loading...', '/notebooks/Project/runs/1493021449/checkpoints/model-30.meta')\n",
      "('checkpoint_file', u'/notebooks/Project/runs/1493021449/checkpoints/model-30')\n",
      "('data length', 162)\n",
      "[0 1 1 1 1 1 1 1 1 1 1 1 1 1 1 1 0 1 1 1 1 1 1 1 1 1 1 1 1 1 1 1 0 1 1 1 1\n",
      " 0 0 0 0 0 0 0 0 0 0 0 0 0 0 0 0 0 0 0 0 0 0 1 0 1 0 0 0 0 0 0 0 0 0 0 0 0\n",
      " 0 0 0 0 0 0 0 0 0 0 0 0 0 0 0 0 0 0 0 0 0 0 0 0 0 0 0 0 0 0 0 0 0 0 0 0 0\n",
      " 0 0 0 0 0 0 0 0 0 0 0 0 0 0 1 1 1 1 1 0 0 0 0 1 0 0 1 1 1 1 1 1 1 1 1 1 1\n",
      " 1 1 1 1 1 1 1 1 1 1 1 1 1 1]\n",
      "[ 0.  0.  0.  0.  0.  0.  0.  0.  0.  0.  0.  0.  0.  0.  0.  0.  0.  0.\n",
      "  0.  0.  0.  0.  0.  0.  0.  0.  0.  0.  0.  0.  0.  0.  0.  0.  0.  0.\n",
      "  0.  0.  0.  0.  0.  0.  0.  0.  0.  0.  0.  0.  0.  0.  0.  0.  0.  0.\n",
      "  0.  0.  0.  0.  0.  0.  0.  0.  0.  0.  0.  0.  0.  0.  0.  0.  0.  0.\n",
      "  0.  0.  0.  0.  0.  0.  0.  0.  0.  0.  0.  0.  0.  0.  0.  0.  0.  0.\n",
      "  0.  0.  0.  0.  0.  0.  0.  0.  0.  0.  0.  0.  0.  0.  0.  0.  0.  0.\n",
      "  0.  0.  0.  0.  0.  0.  0.  0.  0.  0.  0.  0.  0.  0.  0.  0.  0.  0.\n",
      "  0.  0.  0.  0.  0.  0.  0.  0.  0.  0.  0.  0.  0.  0.  0.  0.  0.  0.\n",
      "  0.  0.  0.  0.  0.  0.  0.  0.  0.  0.  0.  0.  0.  0.  0.  0.  0.  0.]\n",
      "Total number of test examples: 162\n",
      "Accuracy: 0.58642\n",
      "Saving evaluation to /notebooks/Project/runs/1493021449/checkpoints/../prediction.csv\n",
      "Saving evaluation to /notebooks/Project/runs/1493021449/checkpoints/../prediction.csv\n"
     ]
    }
   ],
   "source": [
    "\n",
    "!python ./shared_lib/eval.py --batch_size 109 --eval_train False --label_used 'Completeness' --checkpoint_dir '/notebooks/Project/runs/1493021449/checkpoints' "
   ]
  },
  {
   "cell_type": "code",
   "execution_count": 52,
   "metadata": {
    "collapsed": false,
    "deletable": true,
    "editable": true
   },
   "outputs": [
    {
     "name": "stdout",
     "output_type": "stream",
     "text": [
      "\n",
      "Parameters:\n",
      "ALLOW_SOFT_PLACEMENT=True\n",
      "BATCH_SIZE=109\n",
      "CHECKPOINT_EVERY=30\n",
      "DEV_SAMPLE_PERCENTAGE=0.1\n",
      "DROPOUT_KEEP_PROB=0.5\n",
      "EMBEDDING_DIM=128\n",
      "EVALUATE_EVERY=15\n",
      "FILTER_SIZES=3,4,5\n",
      "L2_REG_LAMBDA=0.0\n",
      "LABEL_USED=Referencing\n",
      "LOG_DEVICE_PLACEMENT=False\n",
      "NUM_CHECKPOINTS=5\n",
      "NUM_EPOCHS=1\n",
      "NUM_FILTERS=128\n",
      "UNROLLED_LSTM=False\n",
      "\n",
      "Loading data...\n",
      "Loaded rows:  658 columns:  19\n",
      "Headers:  ['id', 'news article name', 'news article', 'Fluency', 'Conciseness', 'Descriptiveness', 'Novelty', 'Completeness', 'Referencing', 'Formality', 'Richness', 'Attractiveness', 'Technicality', 'Popularity', 'Subjectivity', 'Positive Emotion', 'Negative Emotion', 'Quality', 'AnnotatorsConfidenceScore\\n']\n",
      "Using label:  Referencing\n",
      "Train: 545 | dev: 110\n",
      "Train: 546 | dev: 109\n",
      "Train: 546 | dev: 109\n",
      "Train: 546 | dev: 109\n",
      "Train: 546 | dev: 109\n",
      "Train: 546 | dev: 109\n",
      "Vocabulary Size: 28870\n",
      "('Number of classes ', 2)\n",
      "Labels\n",
      "Tensor(\"accuracy/ArgMax:0\", shape=(?,), dtype=int64)\n",
      "Predictions\n",
      "Tensor(\"output/predictions:0\", shape=(?,), dtype=int64)\n",
      "Writing to /notebooks/Project/runs/1493021792\n",
      "\n",
      "K fold validation, a total of 6 folds\n",
      "\n",
      "the 1th fold\n",
      "\n",
      "('data length', 545)\n",
      "the 2th fold\n",
      "\n",
      "('data length', 546)\n",
      "the 3th fold\n",
      "\n",
      "('data length', 546)\n",
      "2017-04-24T08:19:08.560551: step 15, loss 1.45592, acc 0.752294\n",
      "('predictions for this batch:', array([1, 1, 0, 0, 0, 0, 0, 0, 0, 1, 0, 0, 0, 0, 0, 0, 0, 1, 0, 1, 0, 1, 0,\n",
      "       1, 0, 1, 0, 0, 0, 0, 0, 1, 0, 0, 1, 0, 0, 0, 1, 0, 0, 1, 0, 0, 0, 0,\n",
      "       0, 0, 0, 1, 0, 0, 0, 0, 0, 0, 0, 0, 0, 0, 1, 0, 0, 0, 0, 0, 0, 0, 0,\n",
      "       0, 0, 1, 0, 0, 0, 1, 0, 0, 1, 1, 1, 1, 0, 1, 0, 1, 0, 1, 0, 0, 0, 0,\n",
      "       1, 0, 0, 0, 0, 0, 0, 0, 0, 0, 0, 0, 0, 0, 0, 1, 0]))\n",
      "\n",
      "Evaluation:\n",
      "2017-04-24T08:19:12.223417: step 15, loss 0.297001, acc 0.798165\n",
      "\n",
      "the 4th fold\n",
      "\n",
      "('data length', 546)\n",
      "the 5th fold\n",
      "\n",
      "('data length', 546)\n",
      "the 6th fold\n",
      "\n",
      "('data length', 546)\n",
      "2017-04-24T08:21:17.408844: step 30, loss 1.89294, acc 0.752294\n",
      "('predictions for this batch:', array([0, 0, 0, 0, 0, 1, 0, 0, 0, 0, 0, 0, 0, 1, 0, 0, 0, 0, 0, 0, 0, 0, 0,\n",
      "       0, 0, 0, 0, 0, 0, 0, 0, 0, 0, 0, 0, 0, 0, 0, 0, 0, 1, 0, 0, 0, 0, 0,\n",
      "       0, 0, 0, 0, 0, 0, 0, 0, 0, 0, 0, 0, 0, 0, 0, 0, 0, 0, 0, 0, 0, 0, 0,\n",
      "       0, 0, 0, 0, 0, 0, 0, 0, 0, 0, 1, 0, 0, 0, 0, 0, 0, 1, 0, 0, 0, 0, 0,\n",
      "       0, 0, 0, 0, 0, 0, 0, 1, 0, 0, 0, 0, 0, 0, 0, 0, 0]))\n",
      "\n",
      "Evaluation:\n",
      "2017-04-24T08:21:20.892496: step 30, loss 1.3768, acc 0.770642\n",
      "\n",
      "Saved model checkpoint to /notebooks/Project/runs/1493021792/checkpoints/model-30\n",
      "\n"
     ]
    }
   ],
   "source": [
    "!python ./shared_lib/train.py --label_used 'Referencing' --num_epochs 1 --batch_size 109 --evaluate_every 15 --checkpoint_every 30\n"
   ]
  },
  {
   "cell_type": "code",
   "execution_count": 68,
   "metadata": {
    "collapsed": false,
    "deletable": true,
    "editable": true
   },
   "outputs": [
    {
     "name": "stdout",
     "output_type": "stream",
     "text": [
      "\n",
      "Parameters:\n",
      "ALLOW_SOFT_PLACEMENT=True\n",
      "BATCH_SIZE=109\n",
      "CHECKPOINT_DIR=/notebooks/Project/runs/1493021792/checkpoints\n",
      "EVAL_TRAIN=False\n",
      "LABEL_USED=Referencing\n",
      "LOG_DEVICE_PLACEMENT=False\n",
      "UNROLLED_LSTM=False\n",
      "\n",
      "Loaded rows:  658 columns:  19\n",
      "Headers:  ['id', 'news article name', 'news article', 'Fluency', 'Conciseness', 'Descriptiveness', 'Novelty', 'Completeness', 'Referencing', 'Formality', 'Richness', 'Attractiveness', 'Technicality', 'Popularity', 'Subjectivity', 'Positive Emotion', 'Negative Emotion', 'Quality', 'AnnotatorsConfidenceScore\\n']\n",
      "Using label:  Referencing\n",
      "Loaded rows:  159 columns:  2\n",
      "Vocabulary Size: 28870\n",
      "Raw text Size: 1971\n",
      "Transformed text Size: 2381\n",
      "\n",
      "Evaluating using directory...\n",
      "\n",
      "/notebooks/Project/runs/1493021792/checkpoints\n",
      "('Loading...', '/notebooks/Project/runs/1493021792/checkpoints/model-30.meta')\n",
      "('checkpoint_file', u'/notebooks/Project/runs/1493021792/checkpoints/model-30')\n",
      "('data length', 162)\n",
      "[0 1 0 1 1 1 1 1 1 1 1 1 1 1 1 1 0 1 1 1 1 1 1 1 1 1 1 1 1 1 1 1 0 1 1 1 1\n",
      " 0 0 0 0 0 0 0 0 0 0 0 0 0 0 0 0 0 0 0 0 0 0 1 0 1 0 0 0 0 0 0 0 0 0 0 0 0\n",
      " 0 0 0 0 0 0 0 0 0 0 0 0 0 0 0 0 0 0 0 0 0 0 0 0 0 0 0 0 0 0 0 0 0 0 0 0 0\n",
      " 0 0 0 0 0 0 0 0 0 0 0 0 0 0 1 1 1 1 1 0 0 0 0 1 0 0 1 1 1 1 1 1 1 1 1 1 1\n",
      " 1 1 1 1 1 1 1 1 1 1 1 1 1 1]\n",
      "[ 0.  0.  0.  0.  0.  0.  0.  0.  0.  0.  0.  0.  0.  0.  0.  0.  0.  0.\n",
      "  0.  0.  0.  0.  0.  0.  0.  0.  0.  0.  0.  0.  0.  0.  0.  0.  0.  0.\n",
      "  0.  0.  0.  0.  0.  0.  0.  0.  0.  0.  0.  0.  0.  0.  0.  0.  0.  0.\n",
      "  0.  0.  0.  0.  0.  0.  0.  0.  0.  0.  0.  0.  0.  0.  0.  0.  0.  0.\n",
      "  0.  0.  0.  0.  0.  0.  0.  0.  0.  0.  0.  0.  0.  0.  0.  0.  0.  0.\n",
      "  0.  0.  0.  0.  0.  0.  0.  0.  0.  0.  0.  0.  0.  0.  0.  0.  0.  0.\n",
      "  0.  0.  0.  0.  0.  0.  0.  0.  0.  0.  0.  0.  0.  0.  0.  0.  0.  0.\n",
      "  0.  0.  0.  0.  0.  0.  0.  0.  0.  0.  0.  0.  0.  0.  0.  0.  0.  0.\n",
      "  0.  0.  0.  0.  0.  0.  0.  0.  0.  0.  0.  0.  0.  0.  0.  0.  0.  0.]\n",
      "Total number of test examples: 162\n",
      "Accuracy: 0.592593\n",
      "Saving evaluation to /notebooks/Project/runs/1493021792/checkpoints/../prediction.csv\n",
      "Saving evaluation to /notebooks/Project/runs/1493021792/checkpoints/../prediction.csv\n"
     ]
    }
   ],
   "source": [
    "!python ./shared_lib/eval.py --batch_size 109 --eval_train False --label_used 'Referencing' --checkpoint_dir '/notebooks/Project/runs/1493021792/checkpoints' "
   ]
  },
  {
   "cell_type": "code",
   "execution_count": 53,
   "metadata": {
    "collapsed": false,
    "deletable": true,
    "editable": true
   },
   "outputs": [
    {
     "name": "stdout",
     "output_type": "stream",
     "text": [
      "\n",
      "Parameters:\n",
      "ALLOW_SOFT_PLACEMENT=True\n",
      "BATCH_SIZE=109\n",
      "CHECKPOINT_EVERY=30\n",
      "DEV_SAMPLE_PERCENTAGE=0.1\n",
      "DROPOUT_KEEP_PROB=0.5\n",
      "EMBEDDING_DIM=128\n",
      "EVALUATE_EVERY=15\n",
      "FILTER_SIZES=3,4,5\n",
      "L2_REG_LAMBDA=0.0\n",
      "LABEL_USED=Formality\n",
      "LOG_DEVICE_PLACEMENT=False\n",
      "NUM_CHECKPOINTS=5\n",
      "NUM_EPOCHS=1\n",
      "NUM_FILTERS=128\n",
      "UNROLLED_LSTM=False\n",
      "\n",
      "Loading data...\n",
      "Loaded rows:  658 columns:  19\n",
      "Headers:  ['id', 'news article name', 'news article', 'Fluency', 'Conciseness', 'Descriptiveness', 'Novelty', 'Completeness', 'Referencing', 'Formality', 'Richness', 'Attractiveness', 'Technicality', 'Popularity', 'Subjectivity', 'Positive Emotion', 'Negative Emotion', 'Quality', 'AnnotatorsConfidenceScore\\n']\n",
      "Using label:  Formality\n",
      "Train: 545 | dev: 110\n",
      "Train: 546 | dev: 109\n",
      "Train: 546 | dev: 109\n",
      "Train: 546 | dev: 109\n",
      "Train: 546 | dev: 109\n",
      "Train: 546 | dev: 109\n",
      "Vocabulary Size: 28870\n",
      "('Number of classes ', 2)\n",
      "Labels\n",
      "Tensor(\"accuracy/ArgMax:0\", shape=(?,), dtype=int64)\n",
      "Predictions\n",
      "Tensor(\"output/predictions:0\", shape=(?,), dtype=int64)\n",
      "Writing to /notebooks/Project/runs/1493022131\n",
      "\n",
      "K fold validation, a total of 6 folds\n",
      "\n",
      "the 1th fold\n",
      "\n",
      "('data length', 545)\n",
      "the 2th fold\n",
      "\n",
      "('data length', 546)\n",
      "the 3th fold\n",
      "\n",
      "('data length', 546)\n",
      "2017-04-24T08:24:39.792866: step 15, loss 1.20879, acc 0.825688\n",
      "('predictions for this batch:', array([0, 0, 0, 0, 0, 0, 0, 0, 1, 0, 0, 0, 0, 0, 0, 0, 1, 0, 0, 0, 0, 0, 0,\n",
      "       0, 0, 0, 0, 0, 0, 0, 0, 0, 0, 0, 1, 0, 0, 0, 0, 0, 0, 0, 0, 0, 0, 0,\n",
      "       0, 0, 1, 0, 1, 1, 0, 0, 0, 0, 0, 0, 0, 0, 0, 0, 0, 0, 0, 0, 0, 0, 0,\n",
      "       0, 0, 0, 0, 0, 0, 1, 0, 0, 0, 1, 1, 0, 0, 0, 1, 0, 0, 0, 0, 0, 0, 0,\n",
      "       0, 0, 0, 0, 0, 0, 0, 0, 0, 1, 0, 0, 0, 0, 0, 0, 0]))\n",
      "\n",
      "Evaluation:\n",
      "2017-04-24T08:24:43.472332: step 15, loss 0.615903, acc 0.853211\n",
      "\n",
      "the 4th fold\n",
      "\n",
      "('data length', 546)\n",
      "the 5th fold\n",
      "\n",
      "('data length', 546)\n",
      "the 6th fold\n",
      "\n",
      "('data length', 546)\n",
      "2017-04-24T08:26:49.710434: step 30, loss 1.06922, acc 0.807339\n",
      "('predictions for this batch:', array([0, 0, 0, 0, 0, 0, 0, 0, 0, 0, 0, 0, 0, 1, 0, 0, 1, 0, 0, 1, 0, 0, 0,\n",
      "       1, 0, 0, 0, 0, 0, 0, 0, 0, 0, 0, 0, 0, 0, 1, 0, 0, 0, 0, 0, 0, 0, 1,\n",
      "       0, 0, 1, 0, 0, 0, 0, 0, 0, 0, 0, 0, 0, 0, 0, 0, 0, 0, 0, 1, 0, 0, 0,\n",
      "       0, 1, 0, 0, 0, 0, 0, 0, 0, 0, 0, 0, 0, 1, 0, 0, 1, 0, 1, 0, 0, 1, 0,\n",
      "       0, 0, 0, 0, 0, 0, 0, 0, 0, 0, 1, 0, 0, 0, 1, 1, 0]))\n",
      "\n",
      "Evaluation:\n",
      "2017-04-24T08:26:53.379278: step 30, loss 0.277233, acc 0.908257\n",
      "\n",
      "Saved model checkpoint to /notebooks/Project/runs/1493022131/checkpoints/model-30\n",
      "\n"
     ]
    }
   ],
   "source": [
    "!python ./shared_lib/train.py --label_used 'Formality' --num_epochs 1 --batch_size 109 --evaluate_every 15 --checkpoint_every 30\n"
   ]
  },
  {
   "cell_type": "code",
   "execution_count": 69,
   "metadata": {
    "collapsed": false,
    "deletable": true,
    "editable": true
   },
   "outputs": [
    {
     "name": "stdout",
     "output_type": "stream",
     "text": [
      "\n",
      "Parameters:\n",
      "ALLOW_SOFT_PLACEMENT=True\n",
      "BATCH_SIZE=109\n",
      "CHECKPOINT_DIR=/notebooks/Project/runs/1493022131/checkpoints\n",
      "EVAL_TRAIN=False\n",
      "LABEL_USED=Formality\n",
      "LOG_DEVICE_PLACEMENT=False\n",
      "UNROLLED_LSTM=False\n",
      "\n",
      "Loaded rows:  658 columns:  19\n",
      "Headers:  ['id', 'news article name', 'news article', 'Fluency', 'Conciseness', 'Descriptiveness', 'Novelty', 'Completeness', 'Referencing', 'Formality', 'Richness', 'Attractiveness', 'Technicality', 'Popularity', 'Subjectivity', 'Positive Emotion', 'Negative Emotion', 'Quality', 'AnnotatorsConfidenceScore\\n']\n",
      "Using label:  Formality\n",
      "Loaded rows:  159 columns:  2\n",
      "Vocabulary Size: 28870\n",
      "Raw text Size: 1971\n",
      "Transformed text Size: 2381\n",
      "\n",
      "Evaluating using directory...\n",
      "\n",
      "/notebooks/Project/runs/1493022131/checkpoints\n",
      "('Loading...', '/notebooks/Project/runs/1493022131/checkpoints/model-30.meta')\n",
      "('checkpoint_file', u'/notebooks/Project/runs/1493022131/checkpoints/model-30')\n",
      "('data length', 162)\n",
      "[0 1 0 1 1 1 1 1 1 1 1 1 1 1 1 1 0 1 1 1 1 1 1 1 1 1 1 1 1 1 1 1 0 1 1 1 1\n",
      " 0 0 0 0 0 0 0 0 0 0 0 0 0 0 0 0 0 0 0 0 0 0 1 0 1 0 0 0 0 0 0 0 0 0 0 0 0\n",
      " 0 0 0 0 0 0 0 0 0 0 0 0 0 0 0 0 0 0 0 0 0 0 0 0 0 0 0 0 0 0 0 0 0 0 0 0 0\n",
      " 0 0 0 0 0 0 0 0 0 0 0 0 0 0 1 1 1 1 1 0 0 0 0 1 0 0 1 1 1 1 1 1 1 1 1 1 1\n",
      " 1 1 1 1 1 1 1 1 1 1 1 1 1 1]\n",
      "[ 0.  0.  0.  0.  0.  0.  0.  0.  0.  0.  0.  0.  0.  0.  0.  0.  0.  0.\n",
      "  0.  0.  0.  0.  0.  0.  0.  0.  0.  0.  0.  0.  0.  0.  0.  0.  0.  0.\n",
      "  0.  0.  0.  0.  0.  0.  0.  0.  0.  0.  0.  0.  0.  0.  0.  0.  0.  0.\n",
      "  0.  0.  0.  0.  0.  0.  0.  0.  0.  0.  0.  0.  0.  0.  0.  0.  0.  0.\n",
      "  0.  0.  0.  0.  0.  0.  0.  0.  0.  0.  0.  0.  0.  0.  0.  0.  0.  0.\n",
      "  0.  0.  0.  0.  0.  0.  0.  0.  0.  0.  0.  0.  0.  0.  0.  0.  0.  0.\n",
      "  0.  0.  0.  0.  0.  0.  0.  0.  0.  0.  0.  0.  0.  0.  0.  0.  0.  0.\n",
      "  0.  0.  0.  0.  0.  0.  0.  0.  0.  0.  0.  0.  0.  0.  0.  0.  0.  0.\n",
      "  0.  0.  0.  0.  0.  0.  0.  0.  0.  0.  0.  0.  0.  0.  0.  0.  0.  0.]\n",
      "Total number of test examples: 162\n",
      "Accuracy: 0.592593\n",
      "Saving evaluation to /notebooks/Project/runs/1493022131/checkpoints/../prediction.csv\n",
      "Saving evaluation to /notebooks/Project/runs/1493022131/checkpoints/../prediction.csv\n"
     ]
    }
   ],
   "source": [
    "\n",
    "!python ./shared_lib/eval.py --batch_size 109 --eval_train False --label_used 'Formality' --checkpoint_dir '/notebooks/Project/runs/1493022131/checkpoints' "
   ]
  },
  {
   "cell_type": "code",
   "execution_count": 54,
   "metadata": {
    "collapsed": false,
    "deletable": true,
    "editable": true
   },
   "outputs": [
    {
     "name": "stdout",
     "output_type": "stream",
     "text": [
      "\n",
      "Parameters:\n",
      "ALLOW_SOFT_PLACEMENT=True\n",
      "BATCH_SIZE=109\n",
      "CHECKPOINT_EVERY=30\n",
      "DEV_SAMPLE_PERCENTAGE=0.1\n",
      "DROPOUT_KEEP_PROB=0.5\n",
      "EMBEDDING_DIM=128\n",
      "EVALUATE_EVERY=15\n",
      "FILTER_SIZES=3,4,5\n",
      "L2_REG_LAMBDA=0.0\n",
      "LABEL_USED=Richness\n",
      "LOG_DEVICE_PLACEMENT=False\n",
      "NUM_CHECKPOINTS=5\n",
      "NUM_EPOCHS=1\n",
      "NUM_FILTERS=128\n",
      "UNROLLED_LSTM=False\n",
      "\n",
      "Loading data...\n",
      "Loaded rows:  658 columns:  19\n",
      "Headers:  ['id', 'news article name', 'news article', 'Fluency', 'Conciseness', 'Descriptiveness', 'Novelty', 'Completeness', 'Referencing', 'Formality', 'Richness', 'Attractiveness', 'Technicality', 'Popularity', 'Subjectivity', 'Positive Emotion', 'Negative Emotion', 'Quality', 'AnnotatorsConfidenceScore\\n']\n",
      "Using label:  Richness\n",
      "Train: 545 | dev: 110\n",
      "Train: 546 | dev: 109\n",
      "Train: 546 | dev: 109\n",
      "Train: 546 | dev: 109\n",
      "Train: 546 | dev: 109\n",
      "Train: 546 | dev: 109\n",
      "Vocabulary Size: 28870\n",
      "('Number of classes ', 2)\n",
      "Labels\n",
      "Tensor(\"accuracy/ArgMax:0\", shape=(?,), dtype=int64)\n",
      "Predictions\n",
      "Tensor(\"output/predictions:0\", shape=(?,), dtype=int64)\n",
      "Writing to /notebooks/Project/runs/1493022465\n",
      "\n",
      "K fold validation, a total of 6 folds\n",
      "\n",
      "the 1th fold\n",
      "\n",
      "('data length', 545)\n",
      "the 2th fold\n",
      "\n",
      "('data length', 546)\n",
      "the 3th fold\n",
      "\n",
      "('data length', 546)\n",
      "2017-04-24T08:30:17.503300: step 15, loss 3.4968, acc 0.761468\n",
      "('predictions for this batch:', array([0, 0, 0, 0, 0, 0, 0, 0, 0, 0, 0, 0, 0, 0, 0, 0, 0, 0, 0, 0, 0, 0, 0,\n",
      "       0, 0, 0, 0, 0, 0, 0, 0, 0, 0, 0, 0, 0, 0, 0, 0, 0, 0, 0, 0, 0, 0, 0,\n",
      "       0, 0, 0, 0, 0, 0, 0, 0, 0, 0, 0, 0, 0, 0, 0, 0, 0, 0, 0, 0, 0, 0, 0,\n",
      "       0, 0, 0, 0, 0, 0, 0, 0, 0, 0, 0, 0, 0, 0, 0, 0, 0, 0, 0, 0, 0, 0, 0,\n",
      "       0, 0, 0, 0, 0, 0, 0, 0, 0, 0, 0, 0, 0, 0, 0, 0, 0]))\n",
      "\n",
      "Evaluation:\n",
      "2017-04-24T08:30:21.213963: step 15, loss 3.09893, acc 0.798165\n",
      "\n",
      "the 4th fold\n",
      "\n",
      "('data length', 546)\n",
      "the 5th fold\n",
      "\n",
      "('data length', 546)\n",
      "the 6th fold\n",
      "\n",
      "('data length', 546)\n",
      "2017-04-24T08:32:27.514152: step 30, loss 1.63944, acc 0.678899\n",
      "('predictions for this batch:', array([0, 0, 1, 1, 0, 1, 0, 0, 0, 0, 0, 0, 0, 1, 0, 1, 0, 0, 0, 1, 0, 0, 0,\n",
      "       0, 0, 1, 0, 1, 0, 0, 0, 1, 0, 0, 0, 1, 1, 1, 1, 0, 1, 0, 1, 0, 0, 1,\n",
      "       1, 1, 1, 0, 0, 1, 0, 1, 0, 1, 1, 1, 0, 1, 0, 1, 0, 0, 0, 0, 0, 1, 1,\n",
      "       0, 0, 1, 0, 0, 1, 0, 0, 1, 1, 1, 0, 0, 1, 0, 0, 1, 0, 0, 0, 1, 0, 1,\n",
      "       0, 0, 0, 0, 1, 0, 0, 0, 1, 0, 0, 0, 1, 0, 0, 0, 1]))\n",
      "\n",
      "Evaluation:\n",
      "2017-04-24T08:32:31.078333: step 30, loss 0.0889576, acc 0.990826\n",
      "\n",
      "Saved model checkpoint to /notebooks/Project/runs/1493022465/checkpoints/model-30\n",
      "\n"
     ]
    }
   ],
   "source": [
    "!python ./shared_lib/train.py --label_used 'Richness' --num_epochs 1 --batch_size 109 --evaluate_every 15 --checkpoint_every 30"
   ]
  },
  {
   "cell_type": "code",
   "execution_count": 70,
   "metadata": {
    "collapsed": false,
    "deletable": true,
    "editable": true
   },
   "outputs": [
    {
     "name": "stdout",
     "output_type": "stream",
     "text": [
      "\n",
      "Parameters:\n",
      "ALLOW_SOFT_PLACEMENT=True\n",
      "BATCH_SIZE=109\n",
      "CHECKPOINT_DIR=/notebooks/Project/runs/1493022465/checkpoints\n",
      "EVAL_TRAIN=False\n",
      "LABEL_USED=Richness\n",
      "LOG_DEVICE_PLACEMENT=False\n",
      "UNROLLED_LSTM=False\n",
      "\n",
      "Loaded rows:  658 columns:  19\n",
      "Headers:  ['id', 'news article name', 'news article', 'Fluency', 'Conciseness', 'Descriptiveness', 'Novelty', 'Completeness', 'Referencing', 'Formality', 'Richness', 'Attractiveness', 'Technicality', 'Popularity', 'Subjectivity', 'Positive Emotion', 'Negative Emotion', 'Quality', 'AnnotatorsConfidenceScore\\n']\n",
      "Using label:  Richness\n",
      "Loaded rows:  159 columns:  2\n",
      "Vocabulary Size: 28870\n",
      "Raw text Size: 1971\n",
      "Transformed text Size: 2381\n",
      "\n",
      "Evaluating using directory...\n",
      "\n",
      "/notebooks/Project/runs/1493022465/checkpoints\n",
      "('Loading...', '/notebooks/Project/runs/1493022465/checkpoints/model-30.meta')\n",
      "('checkpoint_file', u'/notebooks/Project/runs/1493022465/checkpoints/model-30')\n",
      "('data length', 162)\n",
      "[0 1 0 1 1 1 1 1 1 1 1 1 1 1 1 1 0 1 1 1 1 1 1 1 1 1 1 1 1 1 1 1 0 1 1 1 1\n",
      " 0 0 0 0 0 0 0 0 0 0 0 0 0 0 0 0 0 0 0 0 0 0 1 0 1 0 0 0 0 0 0 0 0 0 0 0 0\n",
      " 0 0 0 0 0 0 0 0 0 0 0 0 0 0 0 0 0 0 0 0 0 0 0 0 0 0 0 0 0 0 0 0 0 0 0 0 0\n",
      " 0 0 0 0 0 0 0 0 0 0 0 0 0 0 1 1 1 1 1 0 0 0 0 1 0 0 1 1 1 1 1 1 1 1 1 1 1\n",
      " 1 1 1 1 1 1 1 1 1 1 1 1 1 1]\n",
      "[ 0.  0.  0.  0.  0.  0.  0.  0.  0.  0.  0.  0.  0.  0.  0.  0.  0.  0.\n",
      "  0.  0.  0.  0.  0.  0.  0.  0.  0.  0.  0.  0.  0.  0.  0.  0.  0.  0.\n",
      "  0.  0.  0.  0.  0.  0.  0.  0.  1.  0.  1.  0.  0.  0.  0.  0.  0.  0.\n",
      "  0.  0.  0.  0.  0.  0.  0.  0.  0.  0.  0.  0.  0.  0.  0.  0.  0.  0.\n",
      "  0.  0.  0.  0.  1.  0.  0.  0.  0.  0.  0.  0.  0.  0.  0.  0.  0.  0.\n",
      "  0.  0.  0.  0.  0.  0.  0.  0.  0.  0.  0.  0.  0.  0.  0.  0.  0.  0.\n",
      "  0.  0.  0.  0.  0.  0.  0.  0.  0.  0.  0.  0.  0.  0.  0.  0.  0.  0.\n",
      "  0.  0.  0.  0.  0.  0.  0.  0.  0.  0.  0.  0.  0.  0.  0.  0.  0.  0.\n",
      "  0.  0.  0.  0.  0.  0.  0.  1.  0.  0.  0.  0.  0.  0.  0.  0.  0.  0.]\n",
      "Total number of test examples: 162\n",
      "Accuracy: 0.580247\n",
      "Saving evaluation to /notebooks/Project/runs/1493022465/checkpoints/../prediction.csv\n",
      "Saving evaluation to /notebooks/Project/runs/1493022465/checkpoints/../prediction.csv\n"
     ]
    }
   ],
   "source": [
    "!python ./shared_lib/eval.py --batch_size 109 --eval_train False --label_used 'Richness' --checkpoint_dir '/notebooks/Project/runs/1493022465/checkpoints' \n"
   ]
  },
  {
   "cell_type": "code",
   "execution_count": 55,
   "metadata": {
    "collapsed": false,
    "deletable": true,
    "editable": true
   },
   "outputs": [
    {
     "name": "stdout",
     "output_type": "stream",
     "text": [
      "\n",
      "Parameters:\n",
      "ALLOW_SOFT_PLACEMENT=True\n",
      "BATCH_SIZE=109\n",
      "CHECKPOINT_EVERY=30\n",
      "DEV_SAMPLE_PERCENTAGE=0.1\n",
      "DROPOUT_KEEP_PROB=0.5\n",
      "EMBEDDING_DIM=128\n",
      "EVALUATE_EVERY=15\n",
      "FILTER_SIZES=3,4,5\n",
      "L2_REG_LAMBDA=0.0\n",
      "LABEL_USED=Attractiveness\n",
      "LOG_DEVICE_PLACEMENT=False\n",
      "NUM_CHECKPOINTS=5\n",
      "NUM_EPOCHS=1\n",
      "NUM_FILTERS=128\n",
      "UNROLLED_LSTM=False\n",
      "\n",
      "Loading data...\n",
      "Loaded rows:  658 columns:  19\n",
      "Headers:  ['id', 'news article name', 'news article', 'Fluency', 'Conciseness', 'Descriptiveness', 'Novelty', 'Completeness', 'Referencing', 'Formality', 'Richness', 'Attractiveness', 'Technicality', 'Popularity', 'Subjectivity', 'Positive Emotion', 'Negative Emotion', 'Quality', 'AnnotatorsConfidenceScore\\n']\n",
      "Using label:  Attractiveness\n",
      "Train: 545 | dev: 110\n",
      "Train: 546 | dev: 109\n",
      "Train: 546 | dev: 109\n",
      "Train: 546 | dev: 109\n",
      "Train: 546 | dev: 109\n",
      "Train: 546 | dev: 109\n",
      "Vocabulary Size: 28870\n",
      "('Number of classes ', 2)\n",
      "Labels\n",
      "Tensor(\"accuracy/ArgMax:0\", shape=(?,), dtype=int64)\n",
      "Predictions\n",
      "Tensor(\"output/predictions:0\", shape=(?,), dtype=int64)\n",
      "Writing to /notebooks/Project/runs/1493022802\n",
      "\n",
      "K fold validation, a total of 6 folds\n",
      "\n",
      "the 1th fold\n",
      "\n",
      "('data length', 545)\n",
      "the 2th fold\n",
      "\n",
      "('data length', 546)\n",
      "the 3th fold\n",
      "\n",
      "('data length', 546)\n",
      "2017-04-24T08:35:58.625542: step 15, loss 2.01372, acc 0.862385\n",
      "('predictions for this batch:', array([0, 0, 0, 0, 0, 0, 0, 0, 0, 0, 0, 0, 0, 0, 0, 0, 0, 0, 0, 0, 0, 0, 0,\n",
      "       0, 0, 0, 0, 0, 0, 0, 0, 0, 0, 0, 0, 0, 0, 0, 0, 0, 0, 0, 0, 0, 0, 0,\n",
      "       1, 0, 0, 0, 0, 0, 0, 0, 0, 0, 0, 0, 0, 1, 0, 0, 0, 0, 0, 0, 0, 0, 0,\n",
      "       0, 0, 0, 0, 0, 0, 0, 0, 0, 0, 0, 0, 0, 0, 0, 0, 0, 0, 0, 0, 0, 0, 0,\n",
      "       0, 0, 0, 0, 0, 0, 0, 0, 0, 0, 0, 0, 0, 1, 0, 0, 0]))\n",
      "\n",
      "Evaluation:\n",
      "2017-04-24T08:36:02.113802: step 15, loss 1.80913, acc 0.853211\n",
      "\n",
      "the 4th fold\n",
      "\n",
      "('data length', 546)\n",
      "the 5th fold\n",
      "\n",
      "('data length', 546)\n",
      "the 6th fold\n",
      "\n",
      "('data length', 546)\n",
      "2017-04-24T08:38:07.537323: step 30, loss 1.21769, acc 0.752294\n",
      "('predictions for this batch:', array([0, 0, 0, 1, 0, 0, 0, 1, 1, 0, 0, 0, 0, 1, 0, 0, 0, 1, 0, 0, 0, 0, 0,\n",
      "       0, 0, 0, 0, 0, 1, 0, 0, 0, 1, 0, 0, 0, 0, 0, 0, 0, 0, 0, 1, 0, 1, 0,\n",
      "       0, 1, 0, 0, 0, 1, 1, 0, 0, 0, 1, 0, 0, 1, 0, 0, 1, 0, 0, 0, 0, 1, 1,\n",
      "       1, 0, 1, 1, 0, 0, 0, 1, 0, 0, 1, 0, 0, 0, 1, 0, 1, 0, 1, 0, 0, 0, 0,\n",
      "       0, 0, 0, 0, 0, 0, 0, 0, 0, 0, 0, 1, 1, 0, 0, 0, 0]))\n",
      "\n",
      "Evaluation:\n",
      "2017-04-24T08:38:11.037086: step 30, loss 0.0611171, acc 0.990826\n",
      "\n",
      "Saved model checkpoint to /notebooks/Project/runs/1493022802/checkpoints/model-30\n",
      "\n"
     ]
    }
   ],
   "source": [
    "!python ./shared_lib/train.py --label_used 'Attractiveness' --num_epochs 1 --batch_size 109 --evaluate_every 15 --checkpoint_every 30\n"
   ]
  },
  {
   "cell_type": "code",
   "execution_count": 71,
   "metadata": {
    "collapsed": false,
    "deletable": true,
    "editable": true
   },
   "outputs": [
    {
     "name": "stdout",
     "output_type": "stream",
     "text": [
      "\n",
      "Parameters:\n",
      "ALLOW_SOFT_PLACEMENT=True\n",
      "BATCH_SIZE=109\n",
      "CHECKPOINT_DIR=/notebooks/Project/runs/1493022802/checkpoints\n",
      "EVAL_TRAIN=False\n",
      "LABEL_USED=Attractiveness\n",
      "LOG_DEVICE_PLACEMENT=False\n",
      "UNROLLED_LSTM=False\n",
      "\n",
      "Loaded rows:  658 columns:  19\n",
      "Headers:  ['id', 'news article name', 'news article', 'Fluency', 'Conciseness', 'Descriptiveness', 'Novelty', 'Completeness', 'Referencing', 'Formality', 'Richness', 'Attractiveness', 'Technicality', 'Popularity', 'Subjectivity', 'Positive Emotion', 'Negative Emotion', 'Quality', 'AnnotatorsConfidenceScore\\n']\n",
      "Using label:  Attractiveness\n",
      "Loaded rows:  159 columns:  2\n",
      "Vocabulary Size: 28870\n",
      "Raw text Size: 1971\n",
      "Transformed text Size: 2381\n",
      "\n",
      "Evaluating using directory...\n",
      "\n",
      "/notebooks/Project/runs/1493022802/checkpoints\n",
      "('Loading...', '/notebooks/Project/runs/1493022802/checkpoints/model-30.meta')\n",
      "('checkpoint_file', u'/notebooks/Project/runs/1493022802/checkpoints/model-30')\n",
      "('data length', 162)\n",
      "[0 1 0 1 1 1 1 1 1 1 1 1 1 1 1 1 0 1 1 1 1 1 1 1 1 1 1 1 1 1 1 1 0 1 1 1 1\n",
      " 0 0 0 0 0 0 0 0 0 0 0 0 0 0 0 0 0 0 0 0 0 0 1 0 1 0 0 0 0 0 0 0 0 0 0 0 0\n",
      " 0 0 0 0 0 0 0 0 0 0 0 0 0 0 0 0 0 0 0 0 0 0 0 0 0 0 0 0 0 0 0 0 0 0 0 0 0\n",
      " 0 0 0 0 0 0 0 0 0 0 0 0 0 0 1 1 1 1 1 0 0 0 0 1 0 0 1 1 1 1 1 1 1 1 1 1 1\n",
      " 1 1 1 1 1 1 1 1 1 1 1 1 1 1]\n",
      "[ 0.  0.  0.  0.  0.  0.  0.  0.  0.  0.  0.  0.  0.  0.  0.  0.  0.  0.\n",
      "  0.  0.  0.  0.  0.  0.  0.  0.  0.  0.  0.  0.  0.  0.  0.  0.  0.  0.\n",
      "  0.  0.  0.  0.  0.  0.  0.  0.  0.  0.  0.  0.  0.  0.  0.  0.  0.  0.\n",
      "  0.  0.  0.  0.  0.  0.  0.  0.  0.  0.  0.  0.  0.  0.  0.  0.  0.  0.\n",
      "  0.  0.  0.  0.  0.  0.  0.  0.  0.  0.  0.  0.  0.  0.  0.  0.  0.  0.\n",
      "  0.  0.  0.  0.  0.  0.  0.  0.  0.  0.  0.  0.  0.  0.  0.  0.  0.  0.\n",
      "  0.  0.  0.  0.  0.  0.  0.  0.  0.  0.  0.  0.  0.  0.  0.  0.  0.  0.\n",
      "  0.  0.  0.  0.  0.  0.  0.  0.  0.  0.  0.  0.  0.  0.  0.  0.  0.  0.\n",
      "  0.  0.  0.  0.  0.  0.  0.  0.  0.  0.  0.  0.  0.  0.  0.  0.  0.  0.]\n",
      "Total number of test examples: 162\n",
      "Accuracy: 0.592593\n",
      "Saving evaluation to /notebooks/Project/runs/1493022802/checkpoints/../prediction.csv\n",
      "Saving evaluation to /notebooks/Project/runs/1493022802/checkpoints/../prediction.csv\n"
     ]
    }
   ],
   "source": [
    "!python ./shared_lib/eval.py --batch_size 109 --eval_train False --label_used 'Attractiveness' --checkpoint_dir '/notebooks/Project/runs/1493022802/checkpoints' "
   ]
  },
  {
   "cell_type": "code",
   "execution_count": 56,
   "metadata": {
    "collapsed": false,
    "deletable": true,
    "editable": true
   },
   "outputs": [
    {
     "name": "stdout",
     "output_type": "stream",
     "text": [
      "\n",
      "Parameters:\n",
      "ALLOW_SOFT_PLACEMENT=True\n",
      "BATCH_SIZE=109\n",
      "CHECKPOINT_EVERY=30\n",
      "DEV_SAMPLE_PERCENTAGE=0.1\n",
      "DROPOUT_KEEP_PROB=0.5\n",
      "EMBEDDING_DIM=128\n",
      "EVALUATE_EVERY=15\n",
      "FILTER_SIZES=3,4,5\n",
      "L2_REG_LAMBDA=0.0\n",
      "LABEL_USED=Technicality\n",
      "LOG_DEVICE_PLACEMENT=False\n",
      "NUM_CHECKPOINTS=5\n",
      "NUM_EPOCHS=1\n",
      "NUM_FILTERS=128\n",
      "UNROLLED_LSTM=False\n",
      "\n",
      "Loading data...\n",
      "Loaded rows:  658 columns:  19\n",
      "Headers:  ['id', 'news article name', 'news article', 'Fluency', 'Conciseness', 'Descriptiveness', 'Novelty', 'Completeness', 'Referencing', 'Formality', 'Richness', 'Attractiveness', 'Technicality', 'Popularity', 'Subjectivity', 'Positive Emotion', 'Negative Emotion', 'Quality', 'AnnotatorsConfidenceScore\\n']\n",
      "Using label:  Technicality\n",
      "Train: 545 | dev: 110\n",
      "Train: 546 | dev: 109\n",
      "Train: 546 | dev: 109\n",
      "Train: 546 | dev: 109\n",
      "Train: 546 | dev: 109\n",
      "Train: 546 | dev: 109\n",
      "Vocabulary Size: 28870\n",
      "('Number of classes ', 2)\n",
      "Labels\n",
      "Tensor(\"accuracy/ArgMax:0\", shape=(?,), dtype=int64)\n",
      "Predictions\n",
      "Tensor(\"output/predictions:0\", shape=(?,), dtype=int64)\n",
      "Writing to /notebooks/Project/runs/1493023145\n",
      "\n",
      "K fold validation, a total of 6 folds\n",
      "\n",
      "the 1th fold\n",
      "\n",
      "('data length', 545)\n",
      "the 2th fold\n",
      "\n",
      "('data length', 546)\n",
      "the 3th fold\n",
      "\n",
      "('data length', 546)\n",
      "2017-04-24T08:41:42.594438: step 15, loss 2.0909, acc 0.798165\n",
      "('predictions for this batch:', array([0, 0, 0, 0, 0, 0, 0, 0, 0, 0, 0, 0, 0, 0, 0, 0, 0, 0, 0, 0, 0, 0, 0,\n",
      "       0, 0, 0, 0, 0, 0, 0, 0, 0, 0, 0, 0, 0, 0, 0, 0, 0, 0, 0, 0, 0, 0, 0,\n",
      "       0, 0, 0, 0, 0, 0, 0, 0, 0, 0, 0, 0, 0, 0, 0, 0, 0, 0, 0, 0, 0, 0, 0,\n",
      "       0, 0, 0, 0, 0, 0, 0, 0, 0, 0, 0, 0, 0, 0, 0, 0, 0, 0, 1, 0, 0, 0, 0,\n",
      "       0, 0, 0, 0, 0, 0, 0, 0, 0, 1, 0, 0, 0, 0, 0, 0, 1]))\n",
      "\n",
      "Evaluation:\n",
      "2017-04-24T08:41:46.140236: step 15, loss 0.885968, acc 0.917431\n",
      "\n",
      "the 4th fold\n",
      "\n",
      "('data length', 546)\n",
      "the 5th fold\n",
      "\n",
      "('data length', 546)\n",
      "the 6th fold\n",
      "\n",
      "('data length', 546)\n",
      "2017-04-24T08:44:00.122881: step 30, loss 0.789602, acc 0.779817\n",
      "('predictions for this batch:', array([0, 0, 0, 0, 0, 0, 0, 0, 0, 0, 1, 0, 0, 0, 1, 0, 0, 0, 0, 1, 0, 0, 0,\n",
      "       0, 0, 1, 0, 0, 0, 0, 0, 0, 0, 1, 0, 0, 0, 1, 0, 0, 0, 0, 0, 1, 0, 0,\n",
      "       0, 1, 0, 0, 0, 0, 1, 1, 0, 1, 0, 0, 0, 0, 0, 0, 0, 0, 0, 0, 0, 0, 0,\n",
      "       0, 0, 0, 1, 1, 0, 0, 0, 0, 0, 0, 0, 0, 0, 0, 1, 1, 0, 0, 0, 0, 0, 0,\n",
      "       0, 0, 1, 1, 0, 1, 0, 0, 0, 0, 1, 0, 0, 0, 0, 0, 0]))\n",
      "\n",
      "Evaluation:\n",
      "2017-04-24T08:44:03.757141: step 30, loss 0.271422, acc 0.908257\n",
      "\n",
      "Saved model checkpoint to /notebooks/Project/runs/1493023145/checkpoints/model-30\n",
      "\n"
     ]
    }
   ],
   "source": [
    "!python ./shared_lib/train.py --label_used 'Technicality' --num_epochs 1 --batch_size 109 --evaluate_every 15 --checkpoint_every 30\n"
   ]
  },
  {
   "cell_type": "code",
   "execution_count": 72,
   "metadata": {
    "collapsed": false,
    "deletable": true,
    "editable": true
   },
   "outputs": [
    {
     "name": "stdout",
     "output_type": "stream",
     "text": [
      "\n",
      "Parameters:\n",
      "ALLOW_SOFT_PLACEMENT=True\n",
      "BATCH_SIZE=109\n",
      "CHECKPOINT_DIR=/notebooks/Project/runs/1493023145/checkpoints\n",
      "EVAL_TRAIN=False\n",
      "LABEL_USED=Technicality\n",
      "LOG_DEVICE_PLACEMENT=False\n",
      "UNROLLED_LSTM=False\n",
      "\n",
      "Loaded rows:  658 columns:  19\n",
      "Headers:  ['id', 'news article name', 'news article', 'Fluency', 'Conciseness', 'Descriptiveness', 'Novelty', 'Completeness', 'Referencing', 'Formality', 'Richness', 'Attractiveness', 'Technicality', 'Popularity', 'Subjectivity', 'Positive Emotion', 'Negative Emotion', 'Quality', 'AnnotatorsConfidenceScore\\n']\n",
      "Using label:  Technicality\n",
      "Loaded rows:  159 columns:  2\n",
      "Vocabulary Size: 28870\n",
      "Raw text Size: 1971\n",
      "Transformed text Size: 2381\n",
      "\n",
      "Evaluating using directory...\n",
      "\n",
      "/notebooks/Project/runs/1493023145/checkpoints\n",
      "('Loading...', '/notebooks/Project/runs/1493023145/checkpoints/model-30.meta')\n",
      "('checkpoint_file', u'/notebooks/Project/runs/1493023145/checkpoints/model-30')\n",
      "('data length', 162)\n",
      "[0 1 0 1 1 1 1 1 1 1 1 1 1 1 1 1 0 1 1 1 1 1 1 1 1 1 1 1 1 1 1 1 0 1 1 1 1\n",
      " 0 0 0 0 0 0 0 0 0 0 0 0 0 0 0 0 0 0 0 0 0 0 1 0 1 0 0 0 0 0 0 0 0 0 0 0 0\n",
      " 0 0 0 0 0 0 0 0 0 0 0 0 0 0 0 0 0 0 0 0 0 0 0 0 0 0 0 0 0 0 0 0 0 0 0 0 0\n",
      " 0 0 0 0 0 0 0 0 0 0 0 0 0 0 1 1 1 1 1 0 0 0 0 1 0 0 1 1 1 1 1 1 1 1 1 1 1\n",
      " 1 1 1 1 1 1 1 1 1 1 1 1 1 1]\n",
      "[ 0.  0.  0.  0.  0.  0.  0.  0.  0.  0.  0.  0.  0.  0.  0.  0.  0.  0.\n",
      "  0.  0.  0.  0.  0.  0.  0.  0.  0.  0.  0.  0.  0.  0.  0.  0.  0.  0.\n",
      "  0.  0.  0.  0.  0.  0.  0.  0.  0.  0.  0.  0.  0.  0.  0.  0.  0.  0.\n",
      "  0.  0.  0.  0.  0.  0.  0.  0.  0.  0.  0.  0.  0.  0.  0.  0.  0.  0.\n",
      "  0.  0.  0.  0.  0.  0.  0.  0.  0.  0.  0.  0.  0.  0.  0.  0.  0.  0.\n",
      "  0.  0.  0.  0.  0.  0.  0.  0.  0.  0.  0.  0.  0.  0.  0.  0.  0.  0.\n",
      "  0.  0.  0.  0.  0.  0.  0.  0.  0.  0.  0.  0.  0.  0.  0.  0.  0.  0.\n",
      "  0.  0.  0.  0.  0.  0.  0.  0.  0.  0.  0.  0.  0.  0.  0.  0.  0.  0.\n",
      "  0.  0.  0.  0.  0.  0.  0.  0.  0.  0.  0.  0.  0.  0.  0.  0.  0.  0.]\n",
      "Total number of test examples: 162\n",
      "Accuracy: 0.592593\n",
      "Saving evaluation to /notebooks/Project/runs/1493023145/checkpoints/../prediction.csv\n",
      "Saving evaluation to /notebooks/Project/runs/1493023145/checkpoints/../prediction.csv\n"
     ]
    }
   ],
   "source": [
    "!python ./shared_lib/eval.py --batch_size 109 --eval_train False --label_used 'Technicality' --checkpoint_dir '/notebooks/Project/runs/1493023145/checkpoints' "
   ]
  },
  {
   "cell_type": "code",
   "execution_count": 57,
   "metadata": {
    "collapsed": false,
    "deletable": true,
    "editable": true
   },
   "outputs": [
    {
     "name": "stdout",
     "output_type": "stream",
     "text": [
      "\n",
      "Parameters:\n",
      "ALLOW_SOFT_PLACEMENT=True\n",
      "BATCH_SIZE=109\n",
      "CHECKPOINT_EVERY=30\n",
      "DEV_SAMPLE_PERCENTAGE=0.1\n",
      "DROPOUT_KEEP_PROB=0.5\n",
      "EMBEDDING_DIM=128\n",
      "EVALUATE_EVERY=15\n",
      "FILTER_SIZES=3,4,5\n",
      "L2_REG_LAMBDA=0.0\n",
      "LABEL_USED=Popularity\n",
      "LOG_DEVICE_PLACEMENT=False\n",
      "NUM_CHECKPOINTS=5\n",
      "NUM_EPOCHS=1\n",
      "NUM_FILTERS=128\n",
      "UNROLLED_LSTM=False\n",
      "\n",
      "Loading data...\n",
      "Loaded rows:  658 columns:  19\n",
      "Headers:  ['id', 'news article name', 'news article', 'Fluency', 'Conciseness', 'Descriptiveness', 'Novelty', 'Completeness', 'Referencing', 'Formality', 'Richness', 'Attractiveness', 'Technicality', 'Popularity', 'Subjectivity', 'Positive Emotion', 'Negative Emotion', 'Quality', 'AnnotatorsConfidenceScore\\n']\n",
      "Using label:  Popularity\n",
      "Train: 545 | dev: 110\n",
      "Train: 546 | dev: 109\n",
      "Train: 546 | dev: 109\n",
      "Train: 546 | dev: 109\n",
      "Train: 546 | dev: 109\n",
      "Train: 546 | dev: 109\n",
      "Vocabulary Size: 28870\n",
      "('Number of classes ', 2)\n",
      "Labels\n",
      "Tensor(\"accuracy/ArgMax:0\", shape=(?,), dtype=int64)\n",
      "Predictions\n",
      "Tensor(\"output/predictions:0\", shape=(?,), dtype=int64)\n",
      "Writing to /notebooks/Project/runs/1493023500\n",
      "\n",
      "K fold validation, a total of 6 folds\n",
      "\n",
      "the 1th fold\n",
      "\n",
      "('data length', 545)\n",
      "the 2th fold\n",
      "\n",
      "('data length', 546)\n",
      "the 3th fold\n",
      "\n",
      "('data length', 546)\n",
      "2017-04-24T08:47:38.989642: step 15, loss 0.945591, acc 0.807339\n",
      "('predictions for this batch:', array([0, 0, 0, 0, 0, 0, 0, 1, 0, 0, 0, 0, 0, 0, 0, 1, 1, 0, 0, 0, 0, 0, 0,\n",
      "       0, 0, 0, 0, 0, 0, 0, 0, 1, 0, 0, 1, 0, 0, 0, 0, 0, 1, 0, 0, 0, 0, 0,\n",
      "       1, 0, 0, 0, 0, 0, 0, 0, 1, 0, 0, 0, 0, 0, 1, 0, 0, 0, 0, 0, 0, 0, 0,\n",
      "       0, 0, 0, 0, 0, 0, 0, 0, 0, 0, 0, 0, 0, 1, 0, 0, 0, 0, 0, 1, 1, 0, 0,\n",
      "       0, 0, 0, 0, 0, 0, 1, 0, 1, 0, 0, 0, 0, 0, 0, 0, 0]))\n",
      "\n",
      "Evaluation:\n",
      "2017-04-24T08:47:42.719306: step 15, loss 1.01365, acc 0.816514\n",
      "\n",
      "the 4th fold\n",
      "\n",
      "('data length', 546)\n",
      "the 5th fold\n",
      "\n",
      "('data length', 546)\n",
      "the 6th fold\n",
      "\n",
      "('data length', 546)\n",
      "2017-04-24T08:50:01.592754: step 30, loss 0.735237, acc 0.825688\n",
      "('predictions for this batch:', array([0, 0, 1, 0, 0, 0, 0, 1, 0, 0, 0, 0, 0, 0, 1, 0, 0, 0, 0, 0, 0, 0, 0,\n",
      "       0, 1, 0, 0, 0, 0, 0, 0, 1, 0, 0, 1, 1, 0, 0, 1, 0, 0, 0, 0, 0, 0, 0,\n",
      "       0, 0, 0, 0, 1, 1, 0, 1, 0, 1, 0, 0, 0, 0, 0, 0, 0, 0, 0, 1, 0, 0, 0,\n",
      "       0, 0, 0, 0, 0, 0, 0, 0, 0, 0, 0, 0, 0, 0, 0, 1, 1, 0, 0, 0, 0, 0, 0,\n",
      "       0, 0, 0, 0, 0, 0, 1, 0, 0, 1, 0, 0, 0, 0, 0, 0, 0]))\n",
      "\n",
      "Evaluation:\n",
      "2017-04-24T08:50:05.340989: step 30, loss 0.178684, acc 0.87156\n",
      "\n",
      "Saved model checkpoint to /notebooks/Project/runs/1493023500/checkpoints/model-30\n",
      "\n"
     ]
    }
   ],
   "source": [
    "!python ./shared_lib/train.py --label_used 'Popularity' --num_epochs 1 --batch_size 109 --evaluate_every 15 --checkpoint_every 30\n"
   ]
  },
  {
   "cell_type": "code",
   "execution_count": 73,
   "metadata": {
    "collapsed": false,
    "deletable": true,
    "editable": true
   },
   "outputs": [
    {
     "name": "stdout",
     "output_type": "stream",
     "text": [
      "\n",
      "Parameters:\n",
      "ALLOW_SOFT_PLACEMENT=True\n",
      "BATCH_SIZE=109\n",
      "CHECKPOINT_DIR=/notebooks/Project/runs/1493023500/checkpoints\n",
      "EVAL_TRAIN=False\n",
      "LABEL_USED=Popularity\n",
      "LOG_DEVICE_PLACEMENT=False\n",
      "UNROLLED_LSTM=False\n",
      "\n",
      "Loaded rows:  658 columns:  19\n",
      "Headers:  ['id', 'news article name', 'news article', 'Fluency', 'Conciseness', 'Descriptiveness', 'Novelty', 'Completeness', 'Referencing', 'Formality', 'Richness', 'Attractiveness', 'Technicality', 'Popularity', 'Subjectivity', 'Positive Emotion', 'Negative Emotion', 'Quality', 'AnnotatorsConfidenceScore\\n']\n",
      "Using label:  Popularity\n",
      "Loaded rows:  159 columns:  2\n",
      "Vocabulary Size: 28870\n",
      "Raw text Size: 1971\n",
      "Transformed text Size: 2381\n",
      "\n",
      "Evaluating using directory...\n",
      "\n",
      "/notebooks/Project/runs/1493023500/checkpoints\n",
      "('Loading...', '/notebooks/Project/runs/1493023500/checkpoints/model-30.meta')\n",
      "('checkpoint_file', u'/notebooks/Project/runs/1493023500/checkpoints/model-30')\n",
      "('data length', 162)\n",
      "[0 1 0 1 1 1 1 1 1 1 1 1 1 1 1 1 0 1 1 1 1 1 1 1 1 1 1 1 1 1 1 1 0 1 1 1 1\n",
      " 0 0 0 0 0 0 0 0 0 0 0 0 0 0 0 0 0 0 0 0 0 0 1 0 1 0 0 0 0 0 0 0 0 0 0 0 0\n",
      " 0 0 0 0 0 0 0 0 0 0 0 0 0 0 0 0 0 0 0 0 0 0 0 0 0 0 0 0 0 0 0 0 0 0 0 0 0\n",
      " 0 0 0 0 0 0 0 0 0 0 0 0 0 0 1 1 1 1 1 0 0 0 0 1 0 0 1 1 1 1 1 1 1 1 1 1 1\n",
      " 1 1 1 1 1 1 1 1 1 1 1 1 1 1]\n",
      "[ 0.  0.  0.  0.  0.  0.  0.  0.  0.  0.  0.  0.  0.  0.  0.  0.  0.  0.\n",
      "  0.  0.  0.  0.  0.  0.  0.  0.  0.  0.  0.  0.  0.  0.  0.  0.  0.  0.\n",
      "  0.  0.  0.  0.  0.  0.  0.  0.  0.  0.  0.  0.  0.  0.  0.  0.  0.  0.\n",
      "  0.  0.  0.  0.  0.  0.  0.  0.  0.  0.  0.  0.  0.  0.  0.  0.  0.  0.\n",
      "  0.  0.  0.  0.  0.  0.  0.  0.  0.  0.  0.  0.  0.  0.  0.  0.  0.  0.\n",
      "  0.  0.  0.  0.  0.  0.  0.  0.  0.  0.  0.  0.  0.  0.  0.  0.  0.  0.\n",
      "  0.  0.  0.  0.  0.  0.  0.  0.  0.  0.  0.  0.  0.  0.  0.  0.  0.  0.\n",
      "  0.  0.  0.  0.  0.  0.  0.  0.  0.  0.  0.  0.  0.  0.  0.  0.  0.  0.\n",
      "  0.  0.  0.  0.  0.  0.  0.  0.  0.  0.  0.  0.  0.  0.  0.  0.  0.  0.]\n",
      "Total number of test examples: 162\n",
      "Accuracy: 0.592593\n",
      "Saving evaluation to /notebooks/Project/runs/1493023500/checkpoints/../prediction.csv\n",
      "Saving evaluation to /notebooks/Project/runs/1493023500/checkpoints/../prediction.csv\n"
     ]
    }
   ],
   "source": [
    "!python ./shared_lib/eval.py --batch_size 109 --eval_train False --label_used 'Popularity' --checkpoint_dir '/notebooks/Project/runs/1493023500/checkpoints' "
   ]
  },
  {
   "cell_type": "code",
   "execution_count": 59,
   "metadata": {
    "collapsed": false,
    "deletable": true,
    "editable": true
   },
   "outputs": [
    {
     "name": "stdout",
     "output_type": "stream",
     "text": [
      "\n",
      "Parameters:\n",
      "ALLOW_SOFT_PLACEMENT=True\n",
      "BATCH_SIZE=109\n",
      "CHECKPOINT_EVERY=30\n",
      "DEV_SAMPLE_PERCENTAGE=0.1\n",
      "DROPOUT_KEEP_PROB=0.5\n",
      "EMBEDDING_DIM=128\n",
      "EVALUATE_EVERY=15\n",
      "FILTER_SIZES=3,4,5\n",
      "L2_REG_LAMBDA=0.0\n",
      "LABEL_USED=Subjectivity\n",
      "LOG_DEVICE_PLACEMENT=False\n",
      "NUM_CHECKPOINTS=5\n",
      "NUM_EPOCHS=1\n",
      "NUM_FILTERS=128\n",
      "UNROLLED_LSTM=False\n",
      "\n",
      "Loading data...\n",
      "Loaded rows:  658 columns:  19\n",
      "Headers:  ['id', 'news article name', 'news article', 'Fluency', 'Conciseness', 'Descriptiveness', 'Novelty', 'Completeness', 'Referencing', 'Formality', 'Richness', 'Attractiveness', 'Technicality', 'Popularity', 'Subjectivity', 'Positive Emotion', 'Negative Emotion', 'Quality', 'AnnotatorsConfidenceScore\\n']\n",
      "Using label:  Subjectivity\n",
      "Train: 545 | dev: 110\n",
      "Train: 546 | dev: 109\n",
      "Train: 546 | dev: 109\n",
      "Train: 546 | dev: 109\n",
      "Train: 546 | dev: 109\n",
      "Train: 546 | dev: 109\n",
      "Vocabulary Size: 28870\n",
      "('Number of classes ', 2)\n",
      "Labels\n",
      "Tensor(\"accuracy/ArgMax:0\", shape=(?,), dtype=int64)\n",
      "Predictions\n",
      "Tensor(\"output/predictions:0\", shape=(?,), dtype=int64)\n",
      "Writing to /notebooks/Project/runs/1493024207\n",
      "\n",
      "K fold validation, a total of 6 folds\n",
      "\n",
      "the 1th fold\n",
      "\n",
      "('data length', 545)\n",
      "the 2th fold\n",
      "\n",
      "('data length', 546)\n",
      "the 3th fold\n",
      "\n",
      "('data length', 546)\n",
      "2017-04-24T08:59:15.661043: step 15, loss 0.213506, acc 0.963303\n",
      "('predictions for this batch:', array([0, 0, 0, 0, 0, 0, 0, 0, 0, 0, 0, 0, 0, 1, 0, 0, 0, 0, 0, 0, 0, 0, 0,\n",
      "       0, 0, 0, 0, 0, 0, 0, 0, 0, 0, 0, 0, 0, 0, 0, 0, 1, 0, 0, 0, 0, 0, 0,\n",
      "       0, 0, 0, 0, 0, 0, 0, 0, 0, 0, 0, 0, 0, 0, 0, 0, 0, 0, 0, 0, 0, 0, 0,\n",
      "       0, 0, 0, 0, 0, 0, 0, 0, 0, 0, 0, 0, 0, 0, 0, 0, 0, 0, 0, 0, 0, 1, 0,\n",
      "       0, 0, 0, 0, 0, 0, 0, 0, 0, 0, 0, 0, 0, 0, 0, 0, 0]))\n",
      "\n",
      "Evaluation:\n",
      "2017-04-24T08:59:19.170595: step 15, loss 0.241054, acc 0.972477\n",
      "\n",
      "the 4th fold\n",
      "\n",
      "('data length', 546)\n",
      "the 5th fold\n",
      "\n",
      "('data length', 546)\n",
      "the 6th fold\n",
      "\n",
      "('data length', 546)\n",
      "2017-04-24T09:01:37.018163: step 30, loss 0.287208, acc 0.93578\n",
      "('predictions for this batch:', array([0, 0, 0, 0, 0, 0, 0, 0, 0, 0, 1, 0, 0, 0, 0, 0, 0, 0, 0, 0, 0, 0, 0,\n",
      "       0, 0, 0, 0, 0, 0, 1, 0, 0, 0, 0, 0, 0, 0, 0, 0, 0, 0, 0, 1, 0, 0, 0,\n",
      "       0, 0, 0, 0, 0, 0, 0, 0, 0, 0, 0, 0, 0, 0, 0, 0, 0, 0, 0, 0, 0, 0, 0,\n",
      "       0, 0, 0, 0, 0, 0, 0, 1, 0, 1, 0, 0, 0, 0, 0, 0, 0, 0, 0, 0, 0, 0, 0,\n",
      "       0, 0, 0, 0, 0, 0, 0, 0, 0, 0, 0, 0, 0, 0, 0, 0, 0]))\n",
      "\n",
      "Evaluation:\n",
      "2017-04-24T09:01:40.597165: step 30, loss 0.126562, acc 0.972477\n",
      "\n",
      "Saved model checkpoint to /notebooks/Project/runs/1493024207/checkpoints/model-30\n",
      "\n"
     ]
    }
   ],
   "source": [
    "!python ./shared_lib/train.py --label_used 'Subjectivity' --num_epochs 1 --batch_size 109 --evaluate_every 15 --checkpoint_every 30\n"
   ]
  },
  {
   "cell_type": "code",
   "execution_count": 74,
   "metadata": {
    "collapsed": false,
    "deletable": true,
    "editable": true
   },
   "outputs": [
    {
     "name": "stdout",
     "output_type": "stream",
     "text": [
      "\n",
      "Parameters:\n",
      "ALLOW_SOFT_PLACEMENT=True\n",
      "BATCH_SIZE=109\n",
      "CHECKPOINT_DIR=/notebooks/Project/runs/1493024207/checkpoints\n",
      "EVAL_TRAIN=False\n",
      "LABEL_USED=Subjectivity\n",
      "LOG_DEVICE_PLACEMENT=False\n",
      "UNROLLED_LSTM=False\n",
      "\n",
      "Loaded rows:  658 columns:  19\n",
      "Headers:  ['id', 'news article name', 'news article', 'Fluency', 'Conciseness', 'Descriptiveness', 'Novelty', 'Completeness', 'Referencing', 'Formality', 'Richness', 'Attractiveness', 'Technicality', 'Popularity', 'Subjectivity', 'Positive Emotion', 'Negative Emotion', 'Quality', 'AnnotatorsConfidenceScore\\n']\n",
      "Using label:  Subjectivity\n",
      "Loaded rows:  159 columns:  2\n",
      "Vocabulary Size: 28870\n",
      "Raw text Size: 1971\n",
      "Transformed text Size: 2381\n",
      "\n",
      "Evaluating using directory...\n",
      "\n",
      "/notebooks/Project/runs/1493024207/checkpoints\n",
      "('Loading...', '/notebooks/Project/runs/1493024207/checkpoints/model-30.meta')\n",
      "('checkpoint_file', u'/notebooks/Project/runs/1493024207/checkpoints/model-30')\n",
      "('data length', 162)\n",
      "[0 0 0 1 1 1 1 1 1 1 1 1 1 1 1 1 0 1 1 1 1 1 1 1 1 1 1 1 1 1 1 1 0 1 1 1 1\n",
      " 0 0 0 0 0 0 0 0 0 0 0 0 0 0 0 0 0 0 0 0 0 0 1 0 1 0 0 0 0 0 0 0 0 0 0 0 0\n",
      " 0 0 0 0 0 0 0 0 0 0 0 0 0 0 0 0 0 0 0 0 0 0 0 0 0 0 0 0 0 0 0 0 0 0 0 0 0\n",
      " 0 0 0 0 0 0 0 0 0 0 0 0 0 0 1 1 1 1 1 0 0 0 0 1 0 0 1 1 1 1 1 1 1 1 1 1 1\n",
      " 1 1 1 1 1 1 1 1 1 1 1 1 1 1]\n",
      "[ 0.  0.  0.  0.  0.  0.  0.  0.  0.  0.  0.  0.  0.  0.  0.  0.  0.  0.\n",
      "  0.  0.  0.  0.  0.  0.  0.  0.  0.  0.  0.  0.  0.  0.  0.  0.  0.  0.\n",
      "  0.  0.  0.  0.  0.  0.  0.  0.  0.  0.  0.  0.  0.  0.  0.  0.  0.  0.\n",
      "  0.  0.  0.  0.  0.  0.  0.  0.  0.  0.  0.  0.  0.  0.  0.  0.  0.  0.\n",
      "  0.  0.  0.  0.  0.  0.  0.  0.  0.  0.  0.  0.  0.  0.  0.  0.  0.  0.\n",
      "  0.  0.  0.  0.  0.  0.  0.  0.  0.  0.  0.  0.  0.  0.  0.  0.  0.  0.\n",
      "  0.  0.  0.  0.  0.  0.  0.  0.  0.  0.  0.  0.  0.  0.  0.  0.  0.  0.\n",
      "  0.  0.  0.  0.  0.  0.  0.  0.  0.  0.  0.  0.  0.  0.  0.  0.  0.  0.\n",
      "  0.  0.  0.  0.  0.  0.  0.  0.  0.  0.  0.  0.  0.  0.  0.  0.  0.  0.]\n",
      "Total number of test examples: 162\n",
      "Accuracy: 0.598765\n",
      "Saving evaluation to /notebooks/Project/runs/1493024207/checkpoints/../prediction.csv\n",
      "Saving evaluation to /notebooks/Project/runs/1493024207/checkpoints/../prediction.csv\n"
     ]
    }
   ],
   "source": [
    "\n",
    "!python ./shared_lib/eval.py --batch_size 109 --eval_train False --label_used 'Subjectivity' --checkpoint_dir '/notebooks/Project/runs/1493024207/checkpoints' "
   ]
  },
  {
   "cell_type": "code",
   "execution_count": 60,
   "metadata": {
    "collapsed": false,
    "deletable": true,
    "editable": true
   },
   "outputs": [
    {
     "name": "stdout",
     "output_type": "stream",
     "text": [
      "\n",
      "Parameters:\n",
      "ALLOW_SOFT_PLACEMENT=True\n",
      "BATCH_SIZE=109\n",
      "CHECKPOINT_EVERY=30\n",
      "DEV_SAMPLE_PERCENTAGE=0.1\n",
      "DROPOUT_KEEP_PROB=0.5\n",
      "EMBEDDING_DIM=128\n",
      "EVALUATE_EVERY=15\n",
      "FILTER_SIZES=3,4,5\n",
      "L2_REG_LAMBDA=0.0\n",
      "LABEL_USED=Positive Emotion\n",
      "LOG_DEVICE_PLACEMENT=False\n",
      "NUM_CHECKPOINTS=5\n",
      "NUM_EPOCHS=1\n",
      "NUM_FILTERS=128\n",
      "UNROLLED_LSTM=False\n",
      "\n",
      "Loading data...\n",
      "Loaded rows:  658 columns:  19\n",
      "Headers:  ['id', 'news article name', 'news article', 'Fluency', 'Conciseness', 'Descriptiveness', 'Novelty', 'Completeness', 'Referencing', 'Formality', 'Richness', 'Attractiveness', 'Technicality', 'Popularity', 'Subjectivity', 'Positive Emotion', 'Negative Emotion', 'Quality', 'AnnotatorsConfidenceScore\\n']\n",
      "Using label:  Positive Emotion\n",
      "Train: 545 | dev: 110\n",
      "Train: 546 | dev: 109\n",
      "Train: 546 | dev: 109\n",
      "Train: 546 | dev: 109\n",
      "Train: 546 | dev: 109\n",
      "Train: 546 | dev: 109\n",
      "Vocabulary Size: 28870\n",
      "('Number of classes ', 2)\n",
      "Labels\n",
      "Tensor(\"accuracy/ArgMax:0\", shape=(?,), dtype=int64)\n",
      "Predictions\n",
      "Tensor(\"output/predictions:0\", shape=(?,), dtype=int64)\n",
      "Writing to /notebooks/Project/runs/1493024550\n",
      "\n",
      "K fold validation, a total of 6 folds\n",
      "\n",
      "the 1th fold\n",
      "\n",
      "('data length', 545)\n",
      "the 2th fold\n",
      "\n",
      "('data length', 546)\n",
      "the 3th fold\n",
      "\n",
      "('data length', 546)\n",
      "2017-04-24T09:05:05.152113: step 15, loss 0.178454, acc 0.990826\n",
      "('predictions for this batch:', array([0, 0, 0, 0, 0, 0, 0, 0, 0, 0, 0, 0, 0, 0, 0, 0, 0, 0, 0, 0, 0, 0, 0,\n",
      "       0, 0, 0, 0, 0, 0, 0, 0, 0, 0, 0, 0, 0, 0, 0, 0, 0, 0, 0, 0, 0, 0, 0,\n",
      "       0, 0, 0, 0, 0, 0, 0, 0, 0, 0, 0, 0, 0, 0, 0, 0, 0, 0, 0, 0, 0, 0, 0,\n",
      "       0, 0, 0, 0, 0, 0, 0, 0, 0, 0, 0, 0, 0, 0, 0, 0, 0, 0, 0, 0, 0, 0, 0,\n",
      "       0, 0, 0, 0, 0, 0, 0, 0, 0, 0, 0, 0, 0, 0, 0, 0, 0]))\n",
      "\n",
      "Evaluation:\n",
      "2017-04-24T09:05:08.877280: step 15, loss 0.824458, acc 0.963303\n",
      "\n",
      "the 4th fold\n",
      "\n",
      "('data length', 546)\n",
      "the 5th fold\n",
      "\n",
      "('data length', 546)\n",
      "the 6th fold\n",
      "\n",
      "('data length', 546)\n",
      "2017-04-24T09:07:21.737759: step 30, loss 0.226875, acc 0.990826\n",
      "('predictions for this batch:', array([0, 0, 0, 0, 0, 0, 0, 0, 0, 0, 0, 0, 0, 0, 0, 0, 0, 0, 0, 0, 0, 0, 0,\n",
      "       0, 0, 0, 0, 0, 0, 0, 0, 0, 0, 0, 0, 0, 0, 0, 0, 0, 0, 0, 0, 0, 0, 0,\n",
      "       0, 0, 0, 0, 0, 0, 0, 0, 0, 0, 0, 0, 0, 0, 0, 0, 0, 0, 0, 0, 0, 0, 0,\n",
      "       0, 0, 0, 0, 0, 0, 0, 0, 0, 0, 0, 0, 0, 0, 0, 0, 0, 0, 0, 0, 0, 0, 0,\n",
      "       0, 0, 0, 0, 0, 0, 0, 0, 0, 0, 0, 0, 0, 0, 0, 0, 0]))\n",
      "\n",
      "Evaluation:\n",
      "2017-04-24T09:07:25.282168: step 30, loss 0, acc 1\n",
      "\n",
      "Saved model checkpoint to /notebooks/Project/runs/1493024550/checkpoints/model-30\n",
      "\n"
     ]
    }
   ],
   "source": [
    "!python ./shared_lib/train.py --label_used 'Positive Emotion' --num_epochs 1 --batch_size 109 --evaluate_every 15 --checkpoint_every 30"
   ]
  },
  {
   "cell_type": "code",
   "execution_count": 75,
   "metadata": {
    "collapsed": false,
    "deletable": true,
    "editable": true
   },
   "outputs": [
    {
     "name": "stdout",
     "output_type": "stream",
     "text": [
      "\n",
      "Parameters:\n",
      "ALLOW_SOFT_PLACEMENT=True\n",
      "BATCH_SIZE=109\n",
      "CHECKPOINT_DIR=/notebooks/Project/runs/1493024550/checkpoints\n",
      "EVAL_TRAIN=False\n",
      "LABEL_USED=Positive Emotion\n",
      "LOG_DEVICE_PLACEMENT=False\n",
      "UNROLLED_LSTM=False\n",
      "\n",
      "Loaded rows:  658 columns:  19\n",
      "Headers:  ['id', 'news article name', 'news article', 'Fluency', 'Conciseness', 'Descriptiveness', 'Novelty', 'Completeness', 'Referencing', 'Formality', 'Richness', 'Attractiveness', 'Technicality', 'Popularity', 'Subjectivity', 'Positive Emotion', 'Negative Emotion', 'Quality', 'AnnotatorsConfidenceScore\\n']\n",
      "Using label:  Positive Emotion\n",
      "Loaded rows:  159 columns:  2\n",
      "Vocabulary Size: 28870\n",
      "Raw text Size: 1971\n",
      "Transformed text Size: 2381\n",
      "\n",
      "Evaluating using directory...\n",
      "\n",
      "/notebooks/Project/runs/1493024550/checkpoints\n",
      "('Loading...', '/notebooks/Project/runs/1493024550/checkpoints/model-30.meta')\n",
      "('checkpoint_file', u'/notebooks/Project/runs/1493024550/checkpoints/model-30')\n",
      "('data length', 162)\n",
      "[0 0 0 1 1 1 1 1 1 1 1 1 1 1 1 1 0 1 1 1 1 1 1 1 1 1 1 1 1 1 1 1 0 1 1 1 1\n",
      " 0 0 0 0 0 0 0 0 0 0 0 0 0 0 0 0 0 0 0 0 0 0 1 0 1 0 0 0 0 0 0 0 0 0 0 0 0\n",
      " 0 0 0 0 0 0 0 0 0 0 0 0 0 0 0 0 0 0 0 0 0 0 0 0 0 0 0 0 0 0 0 0 0 0 0 0 0\n",
      " 0 0 0 0 0 0 0 0 0 0 0 0 0 0 1 1 1 1 1 0 0 0 0 1 0 0 1 1 1 1 1 1 1 1 1 1 1\n",
      " 1 1 1 1 1 1 1 1 1 1 1 1 1 1]\n",
      "[ 0.  0.  0.  0.  0.  0.  0.  0.  0.  0.  0.  0.  0.  0.  0.  0.  0.  0.\n",
      "  0.  0.  0.  0.  0.  0.  0.  0.  0.  0.  0.  0.  0.  0.  0.  0.  0.  0.\n",
      "  0.  0.  0.  0.  0.  0.  0.  0.  0.  0.  0.  0.  0.  0.  0.  0.  0.  0.\n",
      "  0.  0.  0.  0.  0.  0.  0.  0.  0.  0.  0.  0.  0.  0.  0.  0.  0.  0.\n",
      "  0.  0.  0.  0.  0.  0.  0.  0.  0.  0.  0.  0.  0.  0.  0.  0.  0.  0.\n",
      "  0.  0.  0.  0.  0.  0.  0.  0.  0.  0.  0.  0.  0.  0.  0.  0.  0.  0.\n",
      "  0.  0.  0.  0.  0.  0.  0.  0.  0.  0.  0.  0.  0.  0.  0.  0.  0.  0.\n",
      "  0.  0.  0.  0.  0.  0.  0.  0.  0.  0.  0.  0.  0.  0.  0.  0.  0.  0.\n",
      "  0.  0.  0.  0.  0.  0.  0.  0.  0.  0.  0.  0.  0.  0.  0.  0.  0.  0.]\n",
      "Total number of test examples: 162\n",
      "Accuracy: 0.598765\n",
      "Saving evaluation to /notebooks/Project/runs/1493024550/checkpoints/../prediction.csv\n",
      "Saving evaluation to /notebooks/Project/runs/1493024550/checkpoints/../prediction.csv\n"
     ]
    }
   ],
   "source": [
    "!python ./shared_lib/eval.py --batch_size 109 --eval_train False --label_used 'Positive Emotion' --checkpoint_dir '/notebooks/Project/runs/1493024550/checkpoints' \n"
   ]
  },
  {
   "cell_type": "code",
   "execution_count": 61,
   "metadata": {
    "collapsed": false,
    "deletable": true,
    "editable": true
   },
   "outputs": [
    {
     "name": "stdout",
     "output_type": "stream",
     "text": [
      "\n",
      "Parameters:\n",
      "ALLOW_SOFT_PLACEMENT=True\n",
      "BATCH_SIZE=109\n",
      "CHECKPOINT_EVERY=30\n",
      "DEV_SAMPLE_PERCENTAGE=0.1\n",
      "DROPOUT_KEEP_PROB=0.5\n",
      "EMBEDDING_DIM=128\n",
      "EVALUATE_EVERY=15\n",
      "FILTER_SIZES=3,4,5\n",
      "L2_REG_LAMBDA=0.0\n",
      "LABEL_USED=Negative Emotion\n",
      "LOG_DEVICE_PLACEMENT=False\n",
      "NUM_CHECKPOINTS=5\n",
      "NUM_EPOCHS=1\n",
      "NUM_FILTERS=128\n",
      "UNROLLED_LSTM=False\n",
      "\n",
      "Loading data...\n",
      "Loaded rows:  658 columns:  19\n",
      "Headers:  ['id', 'news article name', 'news article', 'Fluency', 'Conciseness', 'Descriptiveness', 'Novelty', 'Completeness', 'Referencing', 'Formality', 'Richness', 'Attractiveness', 'Technicality', 'Popularity', 'Subjectivity', 'Positive Emotion', 'Negative Emotion', 'Quality', 'AnnotatorsConfidenceScore\\n']\n",
      "Using label:  Negative Emotion\n",
      "Train: 544 | dev: 109\n",
      "Train: 544 | dev: 109\n",
      "Train: 544 | dev: 109\n",
      "Train: 544 | dev: 109\n",
      "Train: 544 | dev: 109\n",
      "Train: 545 | dev: 108\n",
      "Vocabulary Size: 28827\n",
      "('Number of classes ', 2)\n",
      "Labels\n",
      "Tensor(\"accuracy/ArgMax:0\", shape=(?,), dtype=int64)\n",
      "Predictions\n",
      "Tensor(\"output/predictions:0\", shape=(?,), dtype=int64)\n",
      "Writing to /notebooks/Project/runs/1493024895\n",
      "\n",
      "K fold validation, a total of 6 folds\n",
      "\n",
      "the 1th fold\n",
      "\n",
      "('data length', 544)\n",
      "the 2th fold\n",
      "\n",
      "('data length', 544)\n",
      "the 3th fold\n",
      "\n",
      "('data length', 544)\n",
      "2017-04-24T09:10:52.743517: step 15, loss 0.590782, acc 0.87963\n",
      "('predictions for this batch:', array([0, 0, 0, 0, 0, 0, 0, 0, 0, 0, 0, 0, 0, 0, 0, 0, 0, 0, 0, 0, 0, 0, 0,\n",
      "       0, 0, 1, 0, 0, 0, 0, 0, 0, 0, 0, 0, 0, 1, 0, 0, 0, 0, 0, 0, 1, 0, 0,\n",
      "       0, 0, 0, 0, 0, 1, 0, 0, 1, 1, 0, 1, 0, 0, 0, 0, 0, 0, 0, 0, 0, 0, 0,\n",
      "       0, 0, 0, 0, 0, 0, 0, 1, 0, 0, 0, 0, 0, 0, 0, 0, 0, 0, 0, 0, 0, 0, 0,\n",
      "       0, 0, 0, 0, 0, 0, 0, 0, 0, 0, 0, 0, 0, 0, 0, 0]))\n",
      "\n",
      "Evaluation:\n",
      "2017-04-24T09:10:56.258329: step 15, loss 0.778566, acc 0.899083\n",
      "\n",
      "the 4th fold\n",
      "\n",
      "('data length', 544)\n",
      "the 5th fold\n",
      "\n",
      "('data length', 544)\n",
      "the 6th fold\n",
      "\n",
      "('data length', 545)\n",
      "2017-04-24T09:13:35.647979: step 30, loss 0.385091, acc 0.926606\n",
      "('predictions for this batch:', array([0, 0, 0, 0, 0, 0, 0, 0, 0, 0, 0, 0, 0, 0, 0, 0, 0, 0, 0, 0, 0, 0, 0,\n",
      "       1, 0, 0, 0, 0, 1, 0, 0, 0, 0, 0, 0, 0, 0, 0, 0, 0, 0, 1, 0, 0, 0, 0,\n",
      "       0, 0, 0, 0, 0, 0, 0, 0, 0, 0, 0, 0, 0, 0, 0, 0, 0, 0, 0, 0, 1, 0, 0,\n",
      "       0, 0, 0, 0, 0, 0, 0, 0, 0, 1, 0, 0, 0, 1, 0, 0, 1, 0, 0, 0, 0, 0, 0,\n",
      "       0, 0, 0, 0, 0, 0, 0, 0, 0, 0, 0, 0, 0, 0, 0, 0, 0]))\n",
      "\n",
      "Evaluation:\n",
      "2017-04-24T09:13:39.319347: step 30, loss 0.0921436, acc 0.953704\n",
      "\n",
      "Saved model checkpoint to /notebooks/Project/runs/1493024895/checkpoints/model-30\n",
      "\n"
     ]
    }
   ],
   "source": [
    "!python ./shared_lib/train.py --label_used 'Negative Emotion' --num_epochs 1 --batch_size 109 --evaluate_every 15 --checkpoint_every 30\n"
   ]
  },
  {
   "cell_type": "code",
   "execution_count": 76,
   "metadata": {
    "collapsed": false,
    "deletable": true,
    "editable": true
   },
   "outputs": [
    {
     "name": "stdout",
     "output_type": "stream",
     "text": [
      "\n",
      "Parameters:\n",
      "ALLOW_SOFT_PLACEMENT=True\n",
      "BATCH_SIZE=109\n",
      "CHECKPOINT_DIR=/notebooks/Project/runs/1493024895/checkpoints\n",
      "EVAL_TRAIN=False\n",
      "LABEL_USED=Negative Emotion\n",
      "LOG_DEVICE_PLACEMENT=False\n",
      "UNROLLED_LSTM=False\n",
      "\n",
      "Loaded rows:  658 columns:  19\n",
      "Headers:  ['id', 'news article name', 'news article', 'Fluency', 'Conciseness', 'Descriptiveness', 'Novelty', 'Completeness', 'Referencing', 'Formality', 'Richness', 'Attractiveness', 'Technicality', 'Popularity', 'Subjectivity', 'Positive Emotion', 'Negative Emotion', 'Quality', 'AnnotatorsConfidenceScore\\n']\n",
      "Using label:  Negative Emotion\n",
      "Loaded rows:  159 columns:  2\n",
      "Vocabulary Size: 28827\n",
      "Raw text Size: 1971\n",
      "Transformed text Size: 2381\n",
      "\n",
      "Evaluating using directory...\n",
      "\n",
      "/notebooks/Project/runs/1493024895/checkpoints\n",
      "('Loading...', '/notebooks/Project/runs/1493024895/checkpoints/model-30.meta')\n",
      "('checkpoint_file', u'/notebooks/Project/runs/1493024895/checkpoints/model-30')\n",
      "('data length', 162)\n",
      "[0 0 0 1 1 1 1 1 1 1 1 1 1 1 1 1 0 1 1 1 1 1 1 1 1 1 1 1 1 1 1 1 0 1 1 1 1\n",
      " 0 0 0 0 0 0 0 0 0 0 0 0 0 0 0 0 0 0 0 0 0 0 1 0 1 0 0 0 0 0 0 0 0 0 0 0 0\n",
      " 0 0 0 0 0 0 0 0 0 0 0 0 0 0 0 0 0 0 0 0 0 0 0 0 0 0 0 0 0 0 0 0 0 0 0 0 0\n",
      " 0 0 0 0 0 0 0 0 0 0 0 0 0 0 1 1 1 1 1 0 0 0 0 1 0 0 1 1 1 1 1 1 1 1 1 1 1\n",
      " 1 1 1 1 1 1 1 1 1 1 1 1 1 1]\n",
      "[ 0.  0.  0.  0.  0.  0.  0.  0.  0.  0.  0.  0.  0.  0.  0.  0.  0.  0.\n",
      "  0.  0.  0.  0.  0.  0.  0.  0.  0.  0.  0.  0.  0.  0.  0.  0.  0.  0.\n",
      "  0.  0.  0.  0.  0.  0.  0.  0.  0.  0.  0.  0.  0.  0.  0.  0.  0.  0.\n",
      "  0.  0.  0.  0.  0.  0.  0.  0.  0.  0.  0.  0.  0.  0.  0.  0.  0.  0.\n",
      "  0.  0.  0.  0.  0.  0.  0.  0.  0.  0.  0.  0.  0.  0.  0.  0.  0.  0.\n",
      "  0.  0.  0.  0.  0.  0.  0.  0.  0.  0.  0.  0.  0.  0.  0.  0.  0.  0.\n",
      "  0.  0.  0.  0.  0.  0.  0.  0.  0.  0.  0.  0.  0.  0.  0.  0.  0.  0.\n",
      "  0.  0.  0.  0.  0.  0.  0.  0.  0.  0.  0.  0.  0.  0.  0.  0.  0.  0.\n",
      "  0.  0.  0.  0.  0.  0.  0.  0.  0.  0.  0.  0.  0.  0.  0.  0.  0.  0.]\n",
      "Total number of test examples: 162\n",
      "Accuracy: 0.598765\n",
      "Saving evaluation to /notebooks/Project/runs/1493024895/checkpoints/../prediction.csv\n",
      "Saving evaluation to /notebooks/Project/runs/1493024895/checkpoints/../prediction.csv\n"
     ]
    }
   ],
   "source": [
    "!python ./shared_lib/eval.py --batch_size 109 --eval_train False --label_used 'Negative Emotion' --checkpoint_dir '/notebooks/Project/runs/1493024895/checkpoints' \n"
   ]
  },
  {
   "cell_type": "code",
   "execution_count": 62,
   "metadata": {
    "collapsed": false,
    "deletable": true,
    "editable": true
   },
   "outputs": [
    {
     "name": "stdout",
     "output_type": "stream",
     "text": [
      "\n",
      "Parameters:\n",
      "ALLOW_SOFT_PLACEMENT=True\n",
      "BATCH_SIZE=109\n",
      "CHECKPOINT_EVERY=30\n",
      "DEV_SAMPLE_PERCENTAGE=0.1\n",
      "DROPOUT_KEEP_PROB=0.5\n",
      "EMBEDDING_DIM=128\n",
      "EVALUATE_EVERY=15\n",
      "FILTER_SIZES=3,4,5\n",
      "L2_REG_LAMBDA=0.0\n",
      "LABEL_USED=Quality\n",
      "LOG_DEVICE_PLACEMENT=False\n",
      "NUM_CHECKPOINTS=5\n",
      "NUM_EPOCHS=1\n",
      "NUM_FILTERS=128\n",
      "UNROLLED_LSTM=False\n",
      "\n",
      "Loading data...\n",
      "Loaded rows:  658 columns:  19\n",
      "Headers:  ['id', 'news article name', 'news article', 'Fluency', 'Conciseness', 'Descriptiveness', 'Novelty', 'Completeness', 'Referencing', 'Formality', 'Richness', 'Attractiveness', 'Technicality', 'Popularity', 'Subjectivity', 'Positive Emotion', 'Negative Emotion', 'Quality', 'AnnotatorsConfidenceScore\\n']\n",
      "Using label:  Quality\n",
      "Train: 544 | dev: 109\n",
      "Train: 544 | dev: 109\n",
      "Train: 544 | dev: 109\n",
      "Train: 544 | dev: 109\n",
      "Train: 544 | dev: 109\n",
      "Train: 545 | dev: 108\n",
      "Vocabulary Size: 28818\n",
      "('Number of classes ', 2)\n",
      "Labels\n",
      "Tensor(\"accuracy/ArgMax:0\", shape=(?,), dtype=int64)\n",
      "Predictions\n",
      "Tensor(\"output/predictions:0\", shape=(?,), dtype=int64)\n",
      "Writing to /notebooks/Project/runs/1493025225\n",
      "\n",
      "K fold validation, a total of 6 folds\n",
      "\n",
      "the 1th fold\n",
      "\n",
      "('data length', 544)\n",
      "the 2th fold\n",
      "\n",
      "('data length', 544)\n",
      "the 3th fold\n",
      "\n",
      "('data length', 544)\n",
      "2017-04-24T09:16:27.036846: step 15, loss 1.52456, acc 0.694444\n",
      "('predictions for this batch:', array([0, 1, 0, 0, 0, 1, 1, 0, 1, 0, 0, 0, 0, 0, 1, 0, 0, 0, 1, 0, 0, 1, 0,\n",
      "       0, 0, 1, 0, 0, 0, 0, 0, 1, 0, 1, 0, 1, 0, 0, 0, 1, 0, 0, 0, 0, 0, 0,\n",
      "       1, 0, 1, 0, 0, 0, 1, 1, 1, 1, 0, 0, 1, 0, 0, 0, 0, 1, 0, 0, 0, 0, 1,\n",
      "       0, 0, 0, 1, 0, 1, 1, 0, 0, 0, 0, 0, 0, 0, 0, 1, 1, 1, 1, 0, 0, 0, 0,\n",
      "       0, 0, 0, 0, 0, 0, 1, 0, 0, 0, 0, 0, 1, 0, 1, 1]))\n",
      "\n",
      "Evaluation:\n",
      "2017-04-24T09:16:30.506344: step 15, loss 0.467219, acc 0.752294\n",
      "\n",
      "the 4th fold\n",
      "\n",
      "('data length', 544)\n",
      "the 5th fold\n",
      "\n",
      "('data length', 544)\n",
      "the 6th fold\n",
      "\n",
      "('data length', 545)\n",
      "2017-04-24T09:19:06.621863: step 30, loss 1.66133, acc 0.669725\n",
      "('predictions for this batch:', array([0, 0, 0, 0, 1, 0, 0, 0, 0, 0, 0, 0, 0, 0, 1, 0, 0, 0, 0, 0, 0, 0, 0,\n",
      "       0, 0, 0, 0, 1, 0, 1, 0, 0, 0, 1, 1, 1, 0, 1, 0, 1, 0, 0, 0, 0, 0, 0,\n",
      "       1, 0, 0, 0, 1, 0, 0, 0, 0, 0, 0, 0, 0, 0, 1, 1, 0, 1, 0, 0, 1, 1, 0,\n",
      "       0, 0, 0, 0, 0, 0, 0, 0, 0, 0, 0, 0, 1, 0, 0, 0, 1, 0, 0, 1, 0, 0, 0,\n",
      "       1, 0, 0, 0, 0, 0, 1, 0, 0, 1, 0, 0, 1, 0, 0, 0, 0]))\n",
      "\n",
      "Evaluation:\n",
      "2017-04-24T09:19:10.251232: step 30, loss 0.123172, acc 0.907407\n",
      "\n",
      "Saved model checkpoint to /notebooks/Project/runs/1493025225/checkpoints/model-30\n",
      "\n"
     ]
    }
   ],
   "source": [
    "!python ./shared_lib/train.py --label_used 'Quality' --num_epochs 1 --batch_size 109 --evaluate_every 15 --checkpoint_every 30\n"
   ]
  },
  {
   "cell_type": "code",
   "execution_count": 77,
   "metadata": {
    "collapsed": false,
    "deletable": true,
    "editable": true
   },
   "outputs": [
    {
     "name": "stdout",
     "output_type": "stream",
     "text": [
      "\n",
      "Parameters:\n",
      "ALLOW_SOFT_PLACEMENT=True\n",
      "BATCH_SIZE=109\n",
      "CHECKPOINT_DIR=/notebooks/Project/runs/1493025225/checkpoints\n",
      "EVAL_TRAIN=False\n",
      "LABEL_USED=Quality\n",
      "LOG_DEVICE_PLACEMENT=False\n",
      "UNROLLED_LSTM=False\n",
      "\n",
      "Loaded rows:  658 columns:  19\n",
      "Headers:  ['id', 'news article name', 'news article', 'Fluency', 'Conciseness', 'Descriptiveness', 'Novelty', 'Completeness', 'Referencing', 'Formality', 'Richness', 'Attractiveness', 'Technicality', 'Popularity', 'Subjectivity', 'Positive Emotion', 'Negative Emotion', 'Quality', 'AnnotatorsConfidenceScore\\n']\n",
      "Using label:  Quality\n",
      "Loaded rows:  159 columns:  2\n",
      "Vocabulary Size: 28818\n",
      "Raw text Size: 1971\n",
      "Transformed text Size: 2381\n",
      "\n",
      "Evaluating using directory...\n",
      "\n",
      "/notebooks/Project/runs/1493025225/checkpoints\n",
      "('Loading...', '/notebooks/Project/runs/1493025225/checkpoints/model-30.meta')\n",
      "('checkpoint_file', u'/notebooks/Project/runs/1493025225/checkpoints/model-30')\n",
      "('data length', 162)\n",
      "[0 1 0 1 1 1 1 1 1 1 1 1 1 1 1 1 0 1 1 1 1 1 1 1 1 1 1 1 1 1 1 1 0 1 1 1 1\n",
      " 0 0 0 0 0 0 0 0 0 0 0 0 0 0 0 0 0 0 0 0 0 0 1 0 1 0 0 0 0 0 0 0 0 0 0 0 0\n",
      " 0 0 0 0 0 0 0 0 0 0 0 0 0 0 0 0 0 0 0 0 0 0 0 0 0 0 0 0 0 0 0 0 0 0 0 0 0\n",
      " 0 0 0 0 0 0 0 0 0 0 0 0 0 0 1 1 1 1 1 0 0 0 0 1 0 0 1 1 1 1 1 1 1 1 1 1 1\n",
      " 1 1 1 1 1 1 1 1 1 1 1 1 1 1]\n",
      "[ 0.  0.  0.  0.  0.  0.  0.  0.  0.  0.  0.  0.  0.  0.  0.  0.  0.  0.\n",
      "  0.  0.  0.  0.  0.  0.  0.  0.  0.  0.  0.  0.  0.  0.  0.  0.  0.  0.\n",
      "  0.  0.  0.  0.  0.  0.  0.  0.  0.  0.  0.  0.  0.  0.  0.  0.  0.  0.\n",
      "  0.  0.  0.  0.  0.  0.  0.  0.  0.  0.  0.  0.  0.  0.  0.  0.  0.  0.\n",
      "  0.  0.  0.  0.  0.  0.  0.  0.  0.  0.  0.  0.  0.  0.  0.  0.  0.  0.\n",
      "  0.  0.  0.  0.  0.  0.  0.  0.  0.  0.  0.  0.  0.  0.  0.  0.  0.  0.\n",
      "  0.  0.  0.  0.  0.  0.  0.  0.  0.  0.  0.  0.  0.  0.  0.  0.  0.  0.\n",
      "  0.  0.  0.  0.  0.  0.  0.  0.  0.  0.  0.  0.  0.  0.  0.  0.  0.  0.\n",
      "  0.  0.  0.  0.  0.  0.  0.  0.  0.  0.  0.  0.  0.  0.  0.  0.  0.  0.]\n",
      "Total number of test examples: 162\n",
      "Accuracy: 0.592593\n",
      "Saving evaluation to /notebooks/Project/runs/1493025225/checkpoints/../prediction.csv\n",
      "Saving evaluation to /notebooks/Project/runs/1493025225/checkpoints/../prediction.csv\n"
     ]
    }
   ],
   "source": [
    "!python ./shared_lib/eval.py --batch_size 109 --eval_train False --label_used 'Quality' --checkpoint_dir '/notebooks/Project/runs/1493025225/checkpoints' "
   ]
  },
  {
   "cell_type": "code",
   "execution_count": 16,
   "metadata": {
    "collapsed": false,
    "deletable": true,
    "editable": true
   },
   "outputs": [
    {
     "name": "stdout",
     "output_type": "stream",
     "text": [
      "Loaded rows:  658 columns:  19 Using label:  Fluency Targets length 658\n",
      "Loaded rows:  658 columns:  19 Using label:  Conciseness Targets length 658\n",
      "Loaded rows:  658 columns:  19 Using label:  Descriptiveness Targets length 658\n",
      "Loaded rows:  658 columns:  19 Using label:  Novelty Targets length 658\n",
      "Loaded rows:  658 columns:  19 Using label:  Completeness Targets length 658\n",
      "Loaded rows:  658 columns:  19 Using label:  Referencing Targets length 658\n",
      "Loaded rows:  658 columns:  19 Using label:  Formality Targets length 658\n",
      "Loaded rows:  658 columns:  19 Using label:  Richness Targets length 658\n",
      "Loaded rows:  658 columns:  19 Using label:  Attractiveness Targets length 658\n",
      "Loaded rows:  658 columns:  19 Using label:  Technicality Targets length 658\n",
      "Loaded rows:  658 columns:  19 Using label:  Popularity Targets length 658\n",
      "Loaded rows:  658 columns:  19 Using label:  Subjectivity Targets length 658\n",
      "Loaded rows:  658 columns:  19 Using label:  Positive Emotion Targets length 658\n",
      "Loaded rows:  658 columns:  19 Using label:  Negative Emotion Targets length 658\n",
      "Loaded rows:  658 columns:  19 Using label:  Subjectivity Targets length 658\n",
      "Loaded rows:  658 columns:  19 Using label:  Quality Targets length 658\n"
     ]
    }
   ],
   "source": [
    "labels = {}\n",
    "labels['Fluency'] = load_yahoo_data_labels('Fluency')\n",
    "labels['Conciseness'] = load_yahoo_data_labels('Conciseness')\n",
    "labels['Descriptiveness'] = load_yahoo_data_labels('Descriptiveness')\n",
    "labels['Novelty'] = load_yahoo_data_labels('Novelty')\n",
    "labels['Completeness'] = load_yahoo_data_labels('Completeness')\n",
    "labels['Referencing'] = load_yahoo_data_labels('Referencing')\n",
    "labels['Formality'] = load_yahoo_data_labels('Formality')\n",
    "labels['Richness'] = load_yahoo_data_labels('Richness')\n",
    "labels['Attractiveness'] = load_yahoo_data_labels('Attractiveness')\n",
    "labels['Technicality'] = load_yahoo_data_labels('Technicality')\n",
    "labels['Popularity'] = load_yahoo_data_labels('Popularity')\n",
    "labels['Subjectivity'] = load_yahoo_data_labels('Subjectivity')\n",
    "labels['PositiveEmotion'] = load_yahoo_data_labels('Positive Emotion')\n",
    "labels['NegativeEmotion'] = load_yahoo_data_labels('Negative Emotion')\n",
    "labels['Subjectivity'] = load_yahoo_data_labels('Subjectivity')\n",
    "\n",
    "label_Quality = load_yahoo_data_labels('Quality')"
   ]
  },
  {
   "cell_type": "code",
   "execution_count": 17,
   "metadata": {
    "collapsed": false,
    "deletable": true,
    "editable": true
   },
   "outputs": [
    {
     "data": {
      "text/plain": [
       "658"
      ]
     },
     "execution_count": 17,
     "metadata": {},
     "output_type": "execute_result"
    }
   ],
   "source": [
    "len(label_Quality)"
   ]
  },
  {
   "cell_type": "code",
   "execution_count": 18,
   "metadata": {
    "collapsed": true,
    "deletable": true,
    "editable": true
   },
   "outputs": [],
   "source": [
    "!rm label_correlation.csv"
   ]
  },
  {
   "cell_type": "code",
   "execution_count": 19,
   "metadata": {
    "collapsed": false,
    "deletable": true,
    "editable": true
   },
   "outputs": [
    {
     "name": "stdout",
     "output_type": "stream",
     "text": [
      "Help on function pearsonr in module scipy.stats.stats:\n",
      "\n",
      "pearsonr(x, y)\n",
      "    Calculates a Pearson correlation coefficient and the p-value for testing\n",
      "    non-correlation.\n",
      "    \n",
      "    The Pearson correlation coefficient measures the linear relationship\n",
      "    between two datasets. Strictly speaking, Pearson's correlation requires\n",
      "    that each dataset be normally distributed, and not necessarily zero-mean.\n",
      "    Like other correlation coefficients, this one varies between -1 and +1\n",
      "    with 0 implying no correlation. Correlations of -1 or +1 imply an exact\n",
      "    linear relationship. Positive correlations imply that as x increases, so\n",
      "    does y. Negative correlations imply that as x increases, y decreases.\n",
      "    \n",
      "    The p-value roughly indicates the probability of an uncorrelated system\n",
      "    producing datasets that have a Pearson correlation at least as extreme\n",
      "    as the one computed from these datasets. The p-values are not entirely\n",
      "    reliable but are probably reasonable for datasets larger than 500 or so.\n",
      "    \n",
      "    Parameters\n",
      "    ----------\n",
      "    x : (N,) array_like\n",
      "        Input\n",
      "    y : (N,) array_like\n",
      "        Input\n",
      "    \n",
      "    Returns\n",
      "    -------\n",
      "    r : float\n",
      "        Pearson's correlation coefficient\n",
      "    p-value : float\n",
      "        2-tailed p-value\n",
      "    \n",
      "    References\n",
      "    ----------\n",
      "    http://www.statsoft.com/textbook/glosp.html#Pearson%20Correlation\n",
      "\n"
     ]
    }
   ],
   "source": [
    "from pydoc import help\n",
    "from scipy.stats.stats import pearsonr\n",
    "import numpy as np\n",
    "help(pearsonr)"
   ]
  },
  {
   "cell_type": "code",
   "execution_count": 24,
   "metadata": {
    "collapsed": false,
    "deletable": true,
    "editable": true
   },
   "outputs": [
    {
     "name": "stdout",
     "output_type": "stream",
     "text": [
      "(0.52290621497476319, 1.8706453874907871e-47) Conciseness\n",
      "(0.4504620128899155, 3.3919295139596297e-34) Popularity\n",
      "(0.40972030174692498, 5.014242546156251e-28) Descriptiveness\n",
      "(0.51360938215499452, 1.4339657951881042e-45) Formality\n",
      "(0.6388017429647862, 9.8229297901455812e-77) Richness\n",
      "(0.51639238667890153, 3.9673074840509671e-46) Attractiveness\n",
      "(0.28955790778752516, 3.5535196358706179e-14) Technicality\n",
      "(0.44389282095785504, 3.8269219425978935e-33) Novelty\n",
      "(0.21878079297127495, 1.4261452926210867e-08) Subjectivity\n",
      "(0.49269740336918122, 1.5454471309195563e-41) Referencing\n",
      "(0.70987994340442684, 6.0216610264496714e-102) Completeness\n",
      "(0.26764066523928792, 2.9504375912304476e-12) PositiveEmotion\n",
      "(0.68686129817758657, 5.4878902680668407e-93) Fluency\n",
      "(0.1683276120954858, 1.4205735551543075e-05) NegativeEmotion\n"
     ]
    }
   ],
   "source": [
    "import csv\n",
    "\n",
    "ids = []\n",
    "correlation_coefficient = []\n",
    "pvalues = []\n",
    "\n",
    "myfile = open(\"label_correlation.csv\", 'wb')\n",
    "wr = csv.writer(myfile, quoting=csv.QUOTE_ALL)\n",
    "wr.writerow(['featureId','correlation', 'log10_pvalue'])\n",
    "\n",
    "for i in labels:\n",
    "    p = pearsonr(labels[i], label_Quality)\n",
    "    print p, i\n",
    "    \n",
    "    ids.append(i)\n",
    "    correlation_coefficient.append(p[0])\n",
    "    pvalues.append( np.log10(p[1]))\n",
    "\n",
    "    wr.writerow([i,p[0], np.log10(p[1])])\n",
    "\n"
   ]
  },
  {
   "cell_type": "code",
   "execution_count": 25,
   "metadata": {
    "collapsed": false,
    "deletable": true,
    "editable": true
   },
   "outputs": [
    {
     "name": "stdout",
     "output_type": "stream",
     "text": [
      "2.0.6\n"
     ]
    }
   ],
   "source": [
    "from plotly import __version__\n",
    "from plotly.offline import download_plotlyjs, init_notebook_mode, plot, iplot\n",
    "from plotly.graph_objs import Scatter, Figure, Layout\n",
    "from IPython.display import HTML\n",
    "import plotly.graph_objs as go\n",
    "\n",
    "print __version__ # requires version >= 1.9.0"
   ]
  },
  {
   "cell_type": "code",
   "execution_count": 26,
   "metadata": {
    "collapsed": false,
    "deletable": true,
    "editable": true
   },
   "outputs": [
    {
     "data": {
      "text/html": [
       "<script>requirejs.config({paths: { 'plotly': ['https://cdn.plot.ly/plotly-latest.min']},});if(!window.Plotly) {{require(['plotly'],function(plotly) {window.Plotly=plotly;});}}</script>"
      ],
      "text/vnd.plotly.v1+html": [
       "<script>requirejs.config({paths: { 'plotly': ['https://cdn.plot.ly/plotly-latest.min']},});if(!window.Plotly) {{require(['plotly'],function(plotly) {window.Plotly=plotly;});}}</script>"
      ]
     },
     "metadata": {},
     "output_type": "display_data"
    },
    {
     "data": {
      "application/vnd.plotly.v1+json": {
       "data": [
        {
         "colorscale": [
          [
           0,
           "#00083e"
          ],
          [
           0.5,
           "#ededee"
          ],
          [
           1,
           "#ffffff"
          ]
         ],
         "hoverinfo": "none",
         "opacity": 0.75,
         "showscale": false,
         "type": "heatmap",
         "z": [
          [
           0,
           0,
           0
          ],
          [
           0.5,
           0.5,
           0.5
          ],
          [
           1,
           1,
           1
          ],
          [
           0.5,
           0.5,
           0.5
          ],
          [
           1,
           1,
           1
          ],
          [
           0.5,
           0.5,
           0.5
          ],
          [
           1,
           1,
           1
          ],
          [
           0.5,
           0.5,
           0.5
          ],
          [
           1,
           1,
           1
          ],
          [
           0.5,
           0.5,
           0.5
          ],
          [
           1,
           1,
           1
          ],
          [
           0.5,
           0.5,
           0.5
          ],
          [
           1,
           1,
           1
          ],
          [
           0.5,
           0.5,
           0.5
          ],
          [
           1,
           1,
           1
          ]
         ]
        }
       ],
       "layout": {
        "annotations": [
         {
          "align": "left",
          "font": {
           "color": "#ffffff"
          },
          "showarrow": false,
          "text": "<b>featureId</b>",
          "x": -0.45,
          "xanchor": "left",
          "xref": "x1",
          "y": 0,
          "yref": "y1"
         },
         {
          "align": "left",
          "font": {
           "color": "#ffffff"
          },
          "showarrow": false,
          "text": "<b>correlation</b>",
          "x": 0.55,
          "xanchor": "left",
          "xref": "x1",
          "y": 0,
          "yref": "y1"
         },
         {
          "align": "left",
          "font": {
           "color": "#ffffff"
          },
          "showarrow": false,
          "text": "<b>log10_pvalue</b>",
          "x": 1.55,
          "xanchor": "left",
          "xref": "x1",
          "y": 0,
          "yref": "y1"
         },
         {
          "align": "left",
          "font": {
           "color": "#000000"
          },
          "showarrow": false,
          "text": "Conciseness",
          "x": -0.45,
          "xanchor": "left",
          "xref": "x1",
          "y": 1,
          "yref": "y1"
         },
         {
          "align": "left",
          "font": {
           "color": "#000000"
          },
          "showarrow": false,
          "text": "0.522906214975",
          "x": 0.55,
          "xanchor": "left",
          "xref": "x1",
          "y": 1,
          "yref": "y1"
         },
         {
          "align": "left",
          "font": {
           "color": "#000000"
          },
          "showarrow": false,
          "text": "-46.7280085326",
          "x": 1.55,
          "xanchor": "left",
          "xref": "x1",
          "y": 1,
          "yref": "y1"
         },
         {
          "align": "left",
          "font": {
           "color": "#000000"
          },
          "showarrow": false,
          "text": "Popularity",
          "x": -0.45,
          "xanchor": "left",
          "xref": "x1",
          "y": 2,
          "yref": "y1"
         },
         {
          "align": "left",
          "font": {
           "color": "#000000"
          },
          "showarrow": false,
          "text": "0.45046201289",
          "x": 0.55,
          "xanchor": "left",
          "xref": "x1",
          "y": 2,
          "yref": "y1"
         },
         {
          "align": "left",
          "font": {
           "color": "#000000"
          },
          "showarrow": false,
          "text": "-33.4695531812",
          "x": 1.55,
          "xanchor": "left",
          "xref": "x1",
          "y": 2,
          "yref": "y1"
         },
         {
          "align": "left",
          "font": {
           "color": "#000000"
          },
          "showarrow": false,
          "text": "Descriptiveness",
          "x": -0.45,
          "xanchor": "left",
          "xref": "x1",
          "y": 3,
          "yref": "y1"
         },
         {
          "align": "left",
          "font": {
           "color": "#000000"
          },
          "showarrow": false,
          "text": "0.409720301747",
          "x": 0.55,
          "xanchor": "left",
          "xref": "x1",
          "y": 3,
          "yref": "y1"
         },
         {
          "align": "left",
          "font": {
           "color": "#000000"
          },
          "showarrow": false,
          "text": "-27.2997946624",
          "x": 1.55,
          "xanchor": "left",
          "xref": "x1",
          "y": 3,
          "yref": "y1"
         },
         {
          "align": "left",
          "font": {
           "color": "#000000"
          },
          "showarrow": false,
          "text": "Formality",
          "x": -0.45,
          "xanchor": "left",
          "xref": "x1",
          "y": 4,
          "yref": "y1"
         },
         {
          "align": "left",
          "font": {
           "color": "#000000"
          },
          "showarrow": false,
          "text": "0.513609382155",
          "x": 0.55,
          "xanchor": "left",
          "xref": "x1",
          "y": 4,
          "yref": "y1"
         },
         {
          "align": "left",
          "font": {
           "color": "#000000"
          },
          "showarrow": false,
          "text": "-44.8434612079",
          "x": 1.55,
          "xanchor": "left",
          "xref": "x1",
          "y": 4,
          "yref": "y1"
         },
         {
          "align": "left",
          "font": {
           "color": "#000000"
          },
          "showarrow": false,
          "text": "Richness",
          "x": -0.45,
          "xanchor": "left",
          "xref": "x1",
          "y": 5,
          "yref": "y1"
         },
         {
          "align": "left",
          "font": {
           "color": "#000000"
          },
          "showarrow": false,
          "text": "0.638801742965",
          "x": 0.55,
          "xanchor": "left",
          "xref": "x1",
          "y": 5,
          "yref": "y1"
         },
         {
          "align": "left",
          "font": {
           "color": "#000000"
          },
          "showarrow": false,
          "text": "-76.0077589601",
          "x": 1.55,
          "xanchor": "left",
          "xref": "x1",
          "y": 5,
          "yref": "y1"
         },
         {
          "align": "left",
          "font": {
           "color": "#000000"
          },
          "showarrow": false,
          "text": "Attractiveness",
          "x": -0.45,
          "xanchor": "left",
          "xref": "x1",
          "y": 6,
          "yref": "y1"
         },
         {
          "align": "left",
          "font": {
           "color": "#000000"
          },
          "showarrow": false,
          "text": "0.516392386679",
          "x": 0.55,
          "xanchor": "left",
          "xref": "x1",
          "y": 6,
          "yref": "y1"
         },
         {
          "align": "left",
          "font": {
           "color": "#000000"
          },
          "showarrow": false,
          "text": "-45.4015041385",
          "x": 1.55,
          "xanchor": "left",
          "xref": "x1",
          "y": 6,
          "yref": "y1"
         },
         {
          "align": "left",
          "font": {
           "color": "#000000"
          },
          "showarrow": false,
          "text": "Technicality",
          "x": -0.45,
          "xanchor": "left",
          "xref": "x1",
          "y": 7,
          "yref": "y1"
         },
         {
          "align": "left",
          "font": {
           "color": "#000000"
          },
          "showarrow": false,
          "text": "0.289557907788",
          "x": 0.55,
          "xanchor": "left",
          "xref": "x1",
          "y": 7,
          "yref": "y1"
         },
         {
          "align": "left",
          "font": {
           "color": "#000000"
          },
          "showarrow": false,
          "text": "-13.4493412804",
          "x": 1.55,
          "xanchor": "left",
          "xref": "x1",
          "y": 7,
          "yref": "y1"
         },
         {
          "align": "left",
          "font": {
           "color": "#000000"
          },
          "showarrow": false,
          "text": "Novelty",
          "x": -0.45,
          "xanchor": "left",
          "xref": "x1",
          "y": 8,
          "yref": "y1"
         },
         {
          "align": "left",
          "font": {
           "color": "#000000"
          },
          "showarrow": false,
          "text": "0.443892820958",
          "x": 0.55,
          "xanchor": "left",
          "xref": "x1",
          "y": 8,
          "yref": "y1"
         },
         {
          "align": "left",
          "font": {
           "color": "#000000"
          },
          "showarrow": false,
          "text": "-32.417150396",
          "x": 1.55,
          "xanchor": "left",
          "xref": "x1",
          "y": 8,
          "yref": "y1"
         },
         {
          "align": "left",
          "font": {
           "color": "#000000"
          },
          "showarrow": false,
          "text": "Subjectivity",
          "x": -0.45,
          "xanchor": "left",
          "xref": "x1",
          "y": 9,
          "yref": "y1"
         },
         {
          "align": "left",
          "font": {
           "color": "#000000"
          },
          "showarrow": false,
          "text": "0.218780792971",
          "x": 0.55,
          "xanchor": "left",
          "xref": "x1",
          "y": 9,
          "yref": "y1"
         },
         {
          "align": "left",
          "font": {
           "color": "#000000"
          },
          "showarrow": false,
          "text": "-7.84583622724",
          "x": 1.55,
          "xanchor": "left",
          "xref": "x1",
          "y": 9,
          "yref": "y1"
         },
         {
          "align": "left",
          "font": {
           "color": "#000000"
          },
          "showarrow": false,
          "text": "Referencing",
          "x": -0.45,
          "xanchor": "left",
          "xref": "x1",
          "y": 10,
          "yref": "y1"
         },
         {
          "align": "left",
          "font": {
           "color": "#000000"
          },
          "showarrow": false,
          "text": "0.492697403369",
          "x": 0.55,
          "xanchor": "left",
          "xref": "x1",
          "y": 10,
          "yref": "y1"
         },
         {
          "align": "left",
          "font": {
           "color": "#000000"
          },
          "showarrow": false,
          "text": "-40.8109458474",
          "x": 1.55,
          "xanchor": "left",
          "xref": "x1",
          "y": 10,
          "yref": "y1"
         },
         {
          "align": "left",
          "font": {
           "color": "#000000"
          },
          "showarrow": false,
          "text": "Completeness",
          "x": -0.45,
          "xanchor": "left",
          "xref": "x1",
          "y": 11,
          "yref": "y1"
         },
         {
          "align": "left",
          "font": {
           "color": "#000000"
          },
          "showarrow": false,
          "text": "0.709879943404",
          "x": 0.55,
          "xanchor": "left",
          "xref": "x1",
          "y": 11,
          "yref": "y1"
         },
         {
          "align": "left",
          "font": {
           "color": "#000000"
          },
          "showarrow": false,
          "text": "-101.220283696",
          "x": 1.55,
          "xanchor": "left",
          "xref": "x1",
          "y": 11,
          "yref": "y1"
         },
         {
          "align": "left",
          "font": {
           "color": "#000000"
          },
          "showarrow": false,
          "text": "PositiveEmotion",
          "x": -0.45,
          "xanchor": "left",
          "xref": "x1",
          "y": 12,
          "yref": "y1"
         },
         {
          "align": "left",
          "font": {
           "color": "#000000"
          },
          "showarrow": false,
          "text": "0.267640665239",
          "x": 0.55,
          "xanchor": "left",
          "xref": "x1",
          "y": 12,
          "yref": "y1"
         },
         {
          "align": "left",
          "font": {
           "color": "#000000"
          },
          "showarrow": false,
          "text": "-11.5301135673",
          "x": 1.55,
          "xanchor": "left",
          "xref": "x1",
          "y": 12,
          "yref": "y1"
         },
         {
          "align": "left",
          "font": {
           "color": "#000000"
          },
          "showarrow": false,
          "text": "Fluency",
          "x": -0.45,
          "xanchor": "left",
          "xref": "x1",
          "y": 13,
          "yref": "y1"
         },
         {
          "align": "left",
          "font": {
           "color": "#000000"
          },
          "showarrow": false,
          "text": "0.686861298178",
          "x": 0.55,
          "xanchor": "left",
          "xref": "x1",
          "y": 13,
          "yref": "y1"
         },
         {
          "align": "left",
          "font": {
           "color": "#000000"
          },
          "showarrow": false,
          "text": "-92.2605945811",
          "x": 1.55,
          "xanchor": "left",
          "xref": "x1",
          "y": 13,
          "yref": "y1"
         },
         {
          "align": "left",
          "font": {
           "color": "#000000"
          },
          "showarrow": false,
          "text": "NegativeEmotion",
          "x": -0.45,
          "xanchor": "left",
          "xref": "x1",
          "y": 14,
          "yref": "y1"
         },
         {
          "align": "left",
          "font": {
           "color": "#000000"
          },
          "showarrow": false,
          "text": "0.168327612095",
          "x": 0.55,
          "xanchor": "left",
          "xref": "x1",
          "y": 14,
          "yref": "y1"
         },
         {
          "align": "left",
          "font": {
           "color": "#000000"
          },
          "showarrow": false,
          "text": "-4.84753627425",
          "x": 1.55,
          "xanchor": "left",
          "xref": "x1",
          "y": 14,
          "yref": "y1"
         }
        ],
        "height": 500,
        "margin": {
         "b": 0,
         "l": 0,
         "r": 0,
         "t": 0
        },
        "xaxis": {
         "dtick": 1,
         "gridwidth": 2,
         "showticklabels": false,
         "tick0": -0.5,
         "ticks": "",
         "zeroline": false
        },
        "yaxis": {
         "autorange": "reversed",
         "dtick": 1,
         "gridwidth": 2,
         "showticklabels": false,
         "tick0": 0.5,
         "ticks": "",
         "zeroline": false
        }
       }
      },
      "text/html": [
       "<div id=\"7db02dc0-7f1f-456d-913b-b9f232bd7b93\" style=\"height: 500px; width: 100%;\" class=\"plotly-graph-div\"></div><script type=\"text/javascript\">require([\"plotly\"], function(Plotly) { window.PLOTLYENV=window.PLOTLYENV || {};window.PLOTLYENV.BASE_URL=\"https://plot.ly\";Plotly.newPlot(\"7db02dc0-7f1f-456d-913b-b9f232bd7b93\", [{\"opacity\": 0.75, \"colorscale\": [[0, \"#00083e\"], [0.5, \"#ededee\"], [1, \"#ffffff\"]], \"showscale\": false, \"hoverinfo\": \"none\", \"z\": [[0, 0, 0], [0.5, 0.5, 0.5], [1, 1, 1], [0.5, 0.5, 0.5], [1, 1, 1], [0.5, 0.5, 0.5], [1, 1, 1], [0.5, 0.5, 0.5], [1, 1, 1], [0.5, 0.5, 0.5], [1, 1, 1], [0.5, 0.5, 0.5], [1, 1, 1], [0.5, 0.5, 0.5], [1, 1, 1]], \"type\": \"heatmap\"}], {\"yaxis\": {\"showticklabels\": false, \"tick0\": 0.5, \"ticks\": \"\", \"gridwidth\": 2, \"dtick\": 1, \"zeroline\": false, \"autorange\": \"reversed\"}, \"margin\": {\"r\": 0, \"b\": 0, \"l\": 0, \"t\": 0}, \"annotations\": [{\"xref\": \"x1\", \"xanchor\": \"left\", \"yref\": \"y1\", \"text\": \"<b>featureId</b>\", \"align\": \"left\", \"y\": 0, \"x\": -0.45, \"font\": {\"color\": \"#ffffff\"}, \"showarrow\": false}, {\"xref\": \"x1\", \"xanchor\": \"left\", \"yref\": \"y1\", \"text\": \"<b>correlation</b>\", \"align\": \"left\", \"y\": 0, \"x\": 0.55, \"font\": {\"color\": \"#ffffff\"}, \"showarrow\": false}, {\"xref\": \"x1\", \"xanchor\": \"left\", \"yref\": \"y1\", \"text\": \"<b>log10_pvalue</b>\", \"align\": \"left\", \"y\": 0, \"x\": 1.55, \"font\": {\"color\": \"#ffffff\"}, \"showarrow\": false}, {\"xref\": \"x1\", \"xanchor\": \"left\", \"yref\": \"y1\", \"text\": \"Conciseness\", \"align\": \"left\", \"y\": 1, \"x\": -0.45, \"font\": {\"color\": \"#000000\"}, \"showarrow\": false}, {\"xref\": \"x1\", \"xanchor\": \"left\", \"yref\": \"y1\", \"text\": \"0.522906214975\", \"align\": \"left\", \"y\": 1, \"x\": 0.55, \"font\": {\"color\": \"#000000\"}, \"showarrow\": false}, {\"xref\": \"x1\", \"xanchor\": \"left\", \"yref\": \"y1\", \"text\": \"-46.7280085326\", \"align\": \"left\", \"y\": 1, \"x\": 1.55, \"font\": {\"color\": \"#000000\"}, \"showarrow\": false}, {\"xref\": \"x1\", \"xanchor\": \"left\", \"yref\": \"y1\", \"text\": \"Popularity\", \"align\": \"left\", \"y\": 2, \"x\": -0.45, \"font\": {\"color\": \"#000000\"}, \"showarrow\": false}, {\"xref\": \"x1\", \"xanchor\": \"left\", \"yref\": \"y1\", \"text\": \"0.45046201289\", \"align\": \"left\", \"y\": 2, \"x\": 0.55, \"font\": {\"color\": \"#000000\"}, \"showarrow\": false}, {\"xref\": \"x1\", \"xanchor\": \"left\", \"yref\": \"y1\", \"text\": \"-33.4695531812\", \"align\": \"left\", \"y\": 2, \"x\": 1.55, \"font\": {\"color\": \"#000000\"}, \"showarrow\": false}, {\"xref\": \"x1\", \"xanchor\": \"left\", \"yref\": \"y1\", \"text\": \"Descriptiveness\", \"align\": \"left\", \"y\": 3, \"x\": -0.45, \"font\": {\"color\": \"#000000\"}, \"showarrow\": false}, {\"xref\": \"x1\", \"xanchor\": \"left\", \"yref\": \"y1\", \"text\": \"0.409720301747\", \"align\": \"left\", \"y\": 3, \"x\": 0.55, \"font\": {\"color\": \"#000000\"}, \"showarrow\": false}, {\"xref\": \"x1\", \"xanchor\": \"left\", \"yref\": \"y1\", \"text\": \"-27.2997946624\", \"align\": \"left\", \"y\": 3, \"x\": 1.55, \"font\": {\"color\": \"#000000\"}, \"showarrow\": false}, {\"xref\": \"x1\", \"xanchor\": \"left\", \"yref\": \"y1\", \"text\": \"Formality\", \"align\": \"left\", \"y\": 4, \"x\": -0.45, \"font\": {\"color\": \"#000000\"}, \"showarrow\": false}, {\"xref\": \"x1\", \"xanchor\": \"left\", \"yref\": \"y1\", \"text\": \"0.513609382155\", \"align\": \"left\", \"y\": 4, \"x\": 0.55, \"font\": {\"color\": \"#000000\"}, \"showarrow\": false}, {\"xref\": \"x1\", \"xanchor\": \"left\", \"yref\": \"y1\", \"text\": \"-44.8434612079\", \"align\": \"left\", \"y\": 4, \"x\": 1.55, \"font\": {\"color\": \"#000000\"}, \"showarrow\": false}, {\"xref\": \"x1\", \"xanchor\": \"left\", \"yref\": \"y1\", \"text\": \"Richness\", \"align\": \"left\", \"y\": 5, \"x\": -0.45, \"font\": {\"color\": \"#000000\"}, \"showarrow\": false}, {\"xref\": \"x1\", \"xanchor\": \"left\", \"yref\": \"y1\", \"text\": \"0.638801742965\", \"align\": \"left\", \"y\": 5, \"x\": 0.55, \"font\": {\"color\": \"#000000\"}, \"showarrow\": false}, {\"xref\": \"x1\", \"xanchor\": \"left\", \"yref\": \"y1\", \"text\": \"-76.0077589601\", \"align\": \"left\", \"y\": 5, \"x\": 1.55, \"font\": {\"color\": \"#000000\"}, \"showarrow\": false}, {\"xref\": \"x1\", \"xanchor\": \"left\", \"yref\": \"y1\", \"text\": \"Attractiveness\", \"align\": \"left\", \"y\": 6, \"x\": -0.45, \"font\": {\"color\": \"#000000\"}, \"showarrow\": false}, {\"xref\": \"x1\", \"xanchor\": \"left\", \"yref\": \"y1\", \"text\": \"0.516392386679\", \"align\": \"left\", \"y\": 6, \"x\": 0.55, \"font\": {\"color\": \"#000000\"}, \"showarrow\": false}, {\"xref\": \"x1\", \"xanchor\": \"left\", \"yref\": \"y1\", \"text\": \"-45.4015041385\", \"align\": \"left\", \"y\": 6, \"x\": 1.55, \"font\": {\"color\": \"#000000\"}, \"showarrow\": false}, {\"xref\": \"x1\", \"xanchor\": \"left\", \"yref\": \"y1\", \"text\": \"Technicality\", \"align\": \"left\", \"y\": 7, \"x\": -0.45, \"font\": {\"color\": \"#000000\"}, \"showarrow\": false}, {\"xref\": \"x1\", \"xanchor\": \"left\", \"yref\": \"y1\", \"text\": \"0.289557907788\", \"align\": \"left\", \"y\": 7, \"x\": 0.55, \"font\": {\"color\": \"#000000\"}, \"showarrow\": false}, {\"xref\": \"x1\", \"xanchor\": \"left\", \"yref\": \"y1\", \"text\": \"-13.4493412804\", \"align\": \"left\", \"y\": 7, \"x\": 1.55, \"font\": {\"color\": \"#000000\"}, \"showarrow\": false}, {\"xref\": \"x1\", \"xanchor\": \"left\", \"yref\": \"y1\", \"text\": \"Novelty\", \"align\": \"left\", \"y\": 8, \"x\": -0.45, \"font\": {\"color\": \"#000000\"}, \"showarrow\": false}, {\"xref\": \"x1\", \"xanchor\": \"left\", \"yref\": \"y1\", \"text\": \"0.443892820958\", \"align\": \"left\", \"y\": 8, \"x\": 0.55, \"font\": {\"color\": \"#000000\"}, \"showarrow\": false}, {\"xref\": \"x1\", \"xanchor\": \"left\", \"yref\": \"y1\", \"text\": \"-32.417150396\", \"align\": \"left\", \"y\": 8, \"x\": 1.55, \"font\": {\"color\": \"#000000\"}, \"showarrow\": false}, {\"xref\": \"x1\", \"xanchor\": \"left\", \"yref\": \"y1\", \"text\": \"Subjectivity\", \"align\": \"left\", \"y\": 9, \"x\": -0.45, \"font\": {\"color\": \"#000000\"}, \"showarrow\": false}, {\"xref\": \"x1\", \"xanchor\": \"left\", \"yref\": \"y1\", \"text\": \"0.218780792971\", \"align\": \"left\", \"y\": 9, \"x\": 0.55, \"font\": {\"color\": \"#000000\"}, \"showarrow\": false}, {\"xref\": \"x1\", \"xanchor\": \"left\", \"yref\": \"y1\", \"text\": \"-7.84583622724\", \"align\": \"left\", \"y\": 9, \"x\": 1.55, \"font\": {\"color\": \"#000000\"}, \"showarrow\": false}, {\"xref\": \"x1\", \"xanchor\": \"left\", \"yref\": \"y1\", \"text\": \"Referencing\", \"align\": \"left\", \"y\": 10, \"x\": -0.45, \"font\": {\"color\": \"#000000\"}, \"showarrow\": false}, {\"xref\": \"x1\", \"xanchor\": \"left\", \"yref\": \"y1\", \"text\": \"0.492697403369\", \"align\": \"left\", \"y\": 10, \"x\": 0.55, \"font\": {\"color\": \"#000000\"}, \"showarrow\": false}, {\"xref\": \"x1\", \"xanchor\": \"left\", \"yref\": \"y1\", \"text\": \"-40.8109458474\", \"align\": \"left\", \"y\": 10, \"x\": 1.55, \"font\": {\"color\": \"#000000\"}, \"showarrow\": false}, {\"xref\": \"x1\", \"xanchor\": \"left\", \"yref\": \"y1\", \"text\": \"Completeness\", \"align\": \"left\", \"y\": 11, \"x\": -0.45, \"font\": {\"color\": \"#000000\"}, \"showarrow\": false}, {\"xref\": \"x1\", \"xanchor\": \"left\", \"yref\": \"y1\", \"text\": \"0.709879943404\", \"align\": \"left\", \"y\": 11, \"x\": 0.55, \"font\": {\"color\": \"#000000\"}, \"showarrow\": false}, {\"xref\": \"x1\", \"xanchor\": \"left\", \"yref\": \"y1\", \"text\": \"-101.220283696\", \"align\": \"left\", \"y\": 11, \"x\": 1.55, \"font\": {\"color\": \"#000000\"}, \"showarrow\": false}, {\"xref\": \"x1\", \"xanchor\": \"left\", \"yref\": \"y1\", \"text\": \"PositiveEmotion\", \"align\": \"left\", \"y\": 12, \"x\": -0.45, \"font\": {\"color\": \"#000000\"}, \"showarrow\": false}, {\"xref\": \"x1\", \"xanchor\": \"left\", \"yref\": \"y1\", \"text\": \"0.267640665239\", \"align\": \"left\", \"y\": 12, \"x\": 0.55, \"font\": {\"color\": \"#000000\"}, \"showarrow\": false}, {\"xref\": \"x1\", \"xanchor\": \"left\", \"yref\": \"y1\", \"text\": \"-11.5301135673\", \"align\": \"left\", \"y\": 12, \"x\": 1.55, \"font\": {\"color\": \"#000000\"}, \"showarrow\": false}, {\"xref\": \"x1\", \"xanchor\": \"left\", \"yref\": \"y1\", \"text\": \"Fluency\", \"align\": \"left\", \"y\": 13, \"x\": -0.45, \"font\": {\"color\": \"#000000\"}, \"showarrow\": false}, {\"xref\": \"x1\", \"xanchor\": \"left\", \"yref\": \"y1\", \"text\": \"0.686861298178\", \"align\": \"left\", \"y\": 13, \"x\": 0.55, \"font\": {\"color\": \"#000000\"}, \"showarrow\": false}, {\"xref\": \"x1\", \"xanchor\": \"left\", \"yref\": \"y1\", \"text\": \"-92.2605945811\", \"align\": \"left\", \"y\": 13, \"x\": 1.55, \"font\": {\"color\": \"#000000\"}, \"showarrow\": false}, {\"xref\": \"x1\", \"xanchor\": \"left\", \"yref\": \"y1\", \"text\": \"NegativeEmotion\", \"align\": \"left\", \"y\": 14, \"x\": -0.45, \"font\": {\"color\": \"#000000\"}, \"showarrow\": false}, {\"xref\": \"x1\", \"xanchor\": \"left\", \"yref\": \"y1\", \"text\": \"0.168327612095\", \"align\": \"left\", \"y\": 14, \"x\": 0.55, \"font\": {\"color\": \"#000000\"}, \"showarrow\": false}, {\"xref\": \"x1\", \"xanchor\": \"left\", \"yref\": \"y1\", \"text\": \"-4.84753627425\", \"align\": \"left\", \"y\": 14, \"x\": 1.55, \"font\": {\"color\": \"#000000\"}, \"showarrow\": false}], \"xaxis\": {\"showticklabels\": false, \"tick0\": -0.5, \"ticks\": \"\", \"gridwidth\": 2, \"dtick\": 1, \"zeroline\": false}, \"height\": 500}, {\"linkText\": \"Export to plot.ly\", \"showLink\": true})});</script>"
      ],
      "text/vnd.plotly.v1+html": [
       "<div id=\"7db02dc0-7f1f-456d-913b-b9f232bd7b93\" style=\"height: 500px; width: 100%;\" class=\"plotly-graph-div\"></div><script type=\"text/javascript\">require([\"plotly\"], function(Plotly) { window.PLOTLYENV=window.PLOTLYENV || {};window.PLOTLYENV.BASE_URL=\"https://plot.ly\";Plotly.newPlot(\"7db02dc0-7f1f-456d-913b-b9f232bd7b93\", [{\"opacity\": 0.75, \"colorscale\": [[0, \"#00083e\"], [0.5, \"#ededee\"], [1, \"#ffffff\"]], \"showscale\": false, \"hoverinfo\": \"none\", \"z\": [[0, 0, 0], [0.5, 0.5, 0.5], [1, 1, 1], [0.5, 0.5, 0.5], [1, 1, 1], [0.5, 0.5, 0.5], [1, 1, 1], [0.5, 0.5, 0.5], [1, 1, 1], [0.5, 0.5, 0.5], [1, 1, 1], [0.5, 0.5, 0.5], [1, 1, 1], [0.5, 0.5, 0.5], [1, 1, 1]], \"type\": \"heatmap\"}], {\"yaxis\": {\"showticklabels\": false, \"tick0\": 0.5, \"ticks\": \"\", \"gridwidth\": 2, \"dtick\": 1, \"zeroline\": false, \"autorange\": \"reversed\"}, \"margin\": {\"r\": 0, \"b\": 0, \"l\": 0, \"t\": 0}, \"annotations\": [{\"xref\": \"x1\", \"xanchor\": \"left\", \"yref\": \"y1\", \"text\": \"<b>featureId</b>\", \"align\": \"left\", \"y\": 0, \"x\": -0.45, \"font\": {\"color\": \"#ffffff\"}, \"showarrow\": false}, {\"xref\": \"x1\", \"xanchor\": \"left\", \"yref\": \"y1\", \"text\": \"<b>correlation</b>\", \"align\": \"left\", \"y\": 0, \"x\": 0.55, \"font\": {\"color\": \"#ffffff\"}, \"showarrow\": false}, {\"xref\": \"x1\", \"xanchor\": \"left\", \"yref\": \"y1\", \"text\": \"<b>log10_pvalue</b>\", \"align\": \"left\", \"y\": 0, \"x\": 1.55, \"font\": {\"color\": \"#ffffff\"}, \"showarrow\": false}, {\"xref\": \"x1\", \"xanchor\": \"left\", \"yref\": \"y1\", \"text\": \"Conciseness\", \"align\": \"left\", \"y\": 1, \"x\": -0.45, \"font\": {\"color\": \"#000000\"}, \"showarrow\": false}, {\"xref\": \"x1\", \"xanchor\": \"left\", \"yref\": \"y1\", \"text\": \"0.522906214975\", \"align\": \"left\", \"y\": 1, \"x\": 0.55, \"font\": {\"color\": \"#000000\"}, \"showarrow\": false}, {\"xref\": \"x1\", \"xanchor\": \"left\", \"yref\": \"y1\", \"text\": \"-46.7280085326\", \"align\": \"left\", \"y\": 1, \"x\": 1.55, \"font\": {\"color\": \"#000000\"}, \"showarrow\": false}, {\"xref\": \"x1\", \"xanchor\": \"left\", \"yref\": \"y1\", \"text\": \"Popularity\", \"align\": \"left\", \"y\": 2, \"x\": -0.45, \"font\": {\"color\": \"#000000\"}, \"showarrow\": false}, {\"xref\": \"x1\", \"xanchor\": \"left\", \"yref\": \"y1\", \"text\": \"0.45046201289\", \"align\": \"left\", \"y\": 2, \"x\": 0.55, \"font\": {\"color\": \"#000000\"}, \"showarrow\": false}, {\"xref\": \"x1\", \"xanchor\": \"left\", \"yref\": \"y1\", \"text\": \"-33.4695531812\", \"align\": \"left\", \"y\": 2, \"x\": 1.55, \"font\": {\"color\": \"#000000\"}, \"showarrow\": false}, {\"xref\": \"x1\", \"xanchor\": \"left\", \"yref\": \"y1\", \"text\": \"Descriptiveness\", \"align\": \"left\", \"y\": 3, \"x\": -0.45, \"font\": {\"color\": \"#000000\"}, \"showarrow\": false}, {\"xref\": \"x1\", \"xanchor\": \"left\", \"yref\": \"y1\", \"text\": \"0.409720301747\", \"align\": \"left\", \"y\": 3, \"x\": 0.55, \"font\": {\"color\": \"#000000\"}, \"showarrow\": false}, {\"xref\": \"x1\", \"xanchor\": \"left\", \"yref\": \"y1\", \"text\": \"-27.2997946624\", \"align\": \"left\", \"y\": 3, \"x\": 1.55, \"font\": {\"color\": \"#000000\"}, \"showarrow\": false}, {\"xref\": \"x1\", \"xanchor\": \"left\", \"yref\": \"y1\", \"text\": \"Formality\", \"align\": \"left\", \"y\": 4, \"x\": -0.45, \"font\": {\"color\": \"#000000\"}, \"showarrow\": false}, {\"xref\": \"x1\", \"xanchor\": \"left\", \"yref\": \"y1\", \"text\": \"0.513609382155\", \"align\": \"left\", \"y\": 4, \"x\": 0.55, \"font\": {\"color\": \"#000000\"}, \"showarrow\": false}, {\"xref\": \"x1\", \"xanchor\": \"left\", \"yref\": \"y1\", \"text\": \"-44.8434612079\", \"align\": \"left\", \"y\": 4, \"x\": 1.55, \"font\": {\"color\": \"#000000\"}, \"showarrow\": false}, {\"xref\": \"x1\", \"xanchor\": \"left\", \"yref\": \"y1\", \"text\": \"Richness\", \"align\": \"left\", \"y\": 5, \"x\": -0.45, \"font\": {\"color\": \"#000000\"}, \"showarrow\": false}, {\"xref\": \"x1\", \"xanchor\": \"left\", \"yref\": \"y1\", \"text\": \"0.638801742965\", \"align\": \"left\", \"y\": 5, \"x\": 0.55, \"font\": {\"color\": \"#000000\"}, \"showarrow\": false}, {\"xref\": \"x1\", \"xanchor\": \"left\", \"yref\": \"y1\", \"text\": \"-76.0077589601\", \"align\": \"left\", \"y\": 5, \"x\": 1.55, \"font\": {\"color\": \"#000000\"}, \"showarrow\": false}, {\"xref\": \"x1\", \"xanchor\": \"left\", \"yref\": \"y1\", \"text\": \"Attractiveness\", \"align\": \"left\", \"y\": 6, \"x\": -0.45, \"font\": {\"color\": \"#000000\"}, \"showarrow\": false}, {\"xref\": \"x1\", \"xanchor\": \"left\", \"yref\": \"y1\", \"text\": \"0.516392386679\", \"align\": \"left\", \"y\": 6, \"x\": 0.55, \"font\": {\"color\": \"#000000\"}, \"showarrow\": false}, {\"xref\": \"x1\", \"xanchor\": \"left\", \"yref\": \"y1\", \"text\": \"-45.4015041385\", \"align\": \"left\", \"y\": 6, \"x\": 1.55, \"font\": {\"color\": \"#000000\"}, \"showarrow\": false}, {\"xref\": \"x1\", \"xanchor\": \"left\", \"yref\": \"y1\", \"text\": \"Technicality\", \"align\": \"left\", \"y\": 7, \"x\": -0.45, \"font\": {\"color\": \"#000000\"}, \"showarrow\": false}, {\"xref\": \"x1\", \"xanchor\": \"left\", \"yref\": \"y1\", \"text\": \"0.289557907788\", \"align\": \"left\", \"y\": 7, \"x\": 0.55, \"font\": {\"color\": \"#000000\"}, \"showarrow\": false}, {\"xref\": \"x1\", \"xanchor\": \"left\", \"yref\": \"y1\", \"text\": \"-13.4493412804\", \"align\": \"left\", \"y\": 7, \"x\": 1.55, \"font\": {\"color\": \"#000000\"}, \"showarrow\": false}, {\"xref\": \"x1\", \"xanchor\": \"left\", \"yref\": \"y1\", \"text\": \"Novelty\", \"align\": \"left\", \"y\": 8, \"x\": -0.45, \"font\": {\"color\": \"#000000\"}, \"showarrow\": false}, {\"xref\": \"x1\", \"xanchor\": \"left\", \"yref\": \"y1\", \"text\": \"0.443892820958\", \"align\": \"left\", \"y\": 8, \"x\": 0.55, \"font\": {\"color\": \"#000000\"}, \"showarrow\": false}, {\"xref\": \"x1\", \"xanchor\": \"left\", \"yref\": \"y1\", \"text\": \"-32.417150396\", \"align\": \"left\", \"y\": 8, \"x\": 1.55, \"font\": {\"color\": \"#000000\"}, \"showarrow\": false}, {\"xref\": \"x1\", \"xanchor\": \"left\", \"yref\": \"y1\", \"text\": \"Subjectivity\", \"align\": \"left\", \"y\": 9, \"x\": -0.45, \"font\": {\"color\": \"#000000\"}, \"showarrow\": false}, {\"xref\": \"x1\", \"xanchor\": \"left\", \"yref\": \"y1\", \"text\": \"0.218780792971\", \"align\": \"left\", \"y\": 9, \"x\": 0.55, \"font\": {\"color\": \"#000000\"}, \"showarrow\": false}, {\"xref\": \"x1\", \"xanchor\": \"left\", \"yref\": \"y1\", \"text\": \"-7.84583622724\", \"align\": \"left\", \"y\": 9, \"x\": 1.55, \"font\": {\"color\": \"#000000\"}, \"showarrow\": false}, {\"xref\": \"x1\", \"xanchor\": \"left\", \"yref\": \"y1\", \"text\": \"Referencing\", \"align\": \"left\", \"y\": 10, \"x\": -0.45, \"font\": {\"color\": \"#000000\"}, \"showarrow\": false}, {\"xref\": \"x1\", \"xanchor\": \"left\", \"yref\": \"y1\", \"text\": \"0.492697403369\", \"align\": \"left\", \"y\": 10, \"x\": 0.55, \"font\": {\"color\": \"#000000\"}, \"showarrow\": false}, {\"xref\": \"x1\", \"xanchor\": \"left\", \"yref\": \"y1\", \"text\": \"-40.8109458474\", \"align\": \"left\", \"y\": 10, \"x\": 1.55, \"font\": {\"color\": \"#000000\"}, \"showarrow\": false}, {\"xref\": \"x1\", \"xanchor\": \"left\", \"yref\": \"y1\", \"text\": \"Completeness\", \"align\": \"left\", \"y\": 11, \"x\": -0.45, \"font\": {\"color\": \"#000000\"}, \"showarrow\": false}, {\"xref\": \"x1\", \"xanchor\": \"left\", \"yref\": \"y1\", \"text\": \"0.709879943404\", \"align\": \"left\", \"y\": 11, \"x\": 0.55, \"font\": {\"color\": \"#000000\"}, \"showarrow\": false}, {\"xref\": \"x1\", \"xanchor\": \"left\", \"yref\": \"y1\", \"text\": \"-101.220283696\", \"align\": \"left\", \"y\": 11, \"x\": 1.55, \"font\": {\"color\": \"#000000\"}, \"showarrow\": false}, {\"xref\": \"x1\", \"xanchor\": \"left\", \"yref\": \"y1\", \"text\": \"PositiveEmotion\", \"align\": \"left\", \"y\": 12, \"x\": -0.45, \"font\": {\"color\": \"#000000\"}, \"showarrow\": false}, {\"xref\": \"x1\", \"xanchor\": \"left\", \"yref\": \"y1\", \"text\": \"0.267640665239\", \"align\": \"left\", \"y\": 12, \"x\": 0.55, \"font\": {\"color\": \"#000000\"}, \"showarrow\": false}, {\"xref\": \"x1\", \"xanchor\": \"left\", \"yref\": \"y1\", \"text\": \"-11.5301135673\", \"align\": \"left\", \"y\": 12, \"x\": 1.55, \"font\": {\"color\": \"#000000\"}, \"showarrow\": false}, {\"xref\": \"x1\", \"xanchor\": \"left\", \"yref\": \"y1\", \"text\": \"Fluency\", \"align\": \"left\", \"y\": 13, \"x\": -0.45, \"font\": {\"color\": \"#000000\"}, \"showarrow\": false}, {\"xref\": \"x1\", \"xanchor\": \"left\", \"yref\": \"y1\", \"text\": \"0.686861298178\", \"align\": \"left\", \"y\": 13, \"x\": 0.55, \"font\": {\"color\": \"#000000\"}, \"showarrow\": false}, {\"xref\": \"x1\", \"xanchor\": \"left\", \"yref\": \"y1\", \"text\": \"-92.2605945811\", \"align\": \"left\", \"y\": 13, \"x\": 1.55, \"font\": {\"color\": \"#000000\"}, \"showarrow\": false}, {\"xref\": \"x1\", \"xanchor\": \"left\", \"yref\": \"y1\", \"text\": \"NegativeEmotion\", \"align\": \"left\", \"y\": 14, \"x\": -0.45, \"font\": {\"color\": \"#000000\"}, \"showarrow\": false}, {\"xref\": \"x1\", \"xanchor\": \"left\", \"yref\": \"y1\", \"text\": \"0.168327612095\", \"align\": \"left\", \"y\": 14, \"x\": 0.55, \"font\": {\"color\": \"#000000\"}, \"showarrow\": false}, {\"xref\": \"x1\", \"xanchor\": \"left\", \"yref\": \"y1\", \"text\": \"-4.84753627425\", \"align\": \"left\", \"y\": 14, \"x\": 1.55, \"font\": {\"color\": \"#000000\"}, \"showarrow\": false}], \"xaxis\": {\"showticklabels\": false, \"tick0\": -0.5, \"ticks\": \"\", \"gridwidth\": 2, \"dtick\": 1, \"zeroline\": false}, \"height\": 500}, {\"linkText\": \"Export to plot.ly\", \"showLink\": true})});</script>"
      ]
     },
     "metadata": {},
     "output_type": "display_data"
    },
    {
     "data": {
      "application/vnd.plotly.v1+json": {
       "data": [
        {
         "name": "correlation",
         "type": "bar",
         "x": [
          "NegativeEmotion",
          "Subjectivity",
          "PositiveEmotion",
          "Technicality",
          "Descriptiveness",
          "Novelty",
          "Popularity",
          "Referencing",
          "Formality",
          "Attractiveness",
          "Conciseness",
          "Richness",
          "Fluency",
          "Completeness"
         ],
         "y": [
          0.1683276120954858,
          0.21878079297127492,
          0.2676406652392879,
          0.2895579077875252,
          0.409720301746925,
          0.44389282095785504,
          0.4504620128899155,
          0.4926974033691812,
          0.5136093821549945,
          0.5163923866789015,
          0.5229062149747632,
          0.6388017429647862,
          0.6868612981775866,
          0.709879943404427
         ]
        }
       ],
       "layout": {
        "title": "correlation"
       }
      },
      "text/html": [
       "<div id=\"3035d7c1-a85f-4973-bbe4-70d221c4f5fa\" style=\"height: 525px; width: 100%;\" class=\"plotly-graph-div\"></div><script type=\"text/javascript\">require([\"plotly\"], function(Plotly) { window.PLOTLYENV=window.PLOTLYENV || {};window.PLOTLYENV.BASE_URL=\"https://plot.ly\";Plotly.newPlot(\"3035d7c1-a85f-4973-bbe4-70d221c4f5fa\", [{\"y\": [0.1683276120954858, 0.21878079297127492, 0.2676406652392879, 0.2895579077875252, 0.409720301746925, 0.44389282095785504, 0.4504620128899155, 0.4926974033691812, 0.5136093821549945, 0.5163923866789015, 0.5229062149747632, 0.6388017429647862, 0.6868612981775866, 0.709879943404427], \"x\": [\"NegativeEmotion\", \"Subjectivity\", \"PositiveEmotion\", \"Technicality\", \"Descriptiveness\", \"Novelty\", \"Popularity\", \"Referencing\", \"Formality\", \"Attractiveness\", \"Conciseness\", \"Richness\", \"Fluency\", \"Completeness\"], \"type\": \"bar\", \"name\": \"correlation\"}], {\"title\": \"correlation\"}, {\"linkText\": \"Export to plot.ly\", \"showLink\": true})});</script>"
      ],
      "text/vnd.plotly.v1+html": [
       "<div id=\"3035d7c1-a85f-4973-bbe4-70d221c4f5fa\" style=\"height: 525px; width: 100%;\" class=\"plotly-graph-div\"></div><script type=\"text/javascript\">require([\"plotly\"], function(Plotly) { window.PLOTLYENV=window.PLOTLYENV || {};window.PLOTLYENV.BASE_URL=\"https://plot.ly\";Plotly.newPlot(\"3035d7c1-a85f-4973-bbe4-70d221c4f5fa\", [{\"y\": [0.1683276120954858, 0.21878079297127492, 0.2676406652392879, 0.2895579077875252, 0.409720301746925, 0.44389282095785504, 0.4504620128899155, 0.4926974033691812, 0.5136093821549945, 0.5163923866789015, 0.5229062149747632, 0.6388017429647862, 0.6868612981775866, 0.709879943404427], \"x\": [\"NegativeEmotion\", \"Subjectivity\", \"PositiveEmotion\", \"Technicality\", \"Descriptiveness\", \"Novelty\", \"Popularity\", \"Referencing\", \"Formality\", \"Attractiveness\", \"Conciseness\", \"Richness\", \"Fluency\", \"Completeness\"], \"type\": \"bar\", \"name\": \"correlation\"}], {\"title\": \"correlation\"}, {\"linkText\": \"Export to plot.ly\", \"showLink\": true})});</script>"
      ]
     },
     "metadata": {},
     "output_type": "display_data"
    },
    {
     "data": {
      "application/vnd.plotly.v1+json": {
       "data": [
        {
         "name": "log10_pvalue",
         "type": "bar",
         "x": [
          "NegativeEmotion",
          "Subjectivity",
          "PositiveEmotion",
          "Technicality",
          "Descriptiveness",
          "Novelty",
          "Popularity",
          "Referencing",
          "Formality",
          "Attractiveness",
          "Conciseness",
          "Richness",
          "Fluency",
          "Completeness"
         ],
         "y": [
          -4.847536274246153,
          -7.845836227240637,
          -11.530113567288627,
          -13.449341280411028,
          -27.29979466241817,
          -32.41715039595285,
          -33.469553181184324,
          -40.810945847373645,
          -44.84346120789989,
          -45.40150413845916,
          -46.728008532570705,
          -76.00775896008244,
          -92.2605945810567,
          -101.2202836955994
         ]
        }
       ],
       "layout": {
        "title": "log10_pvalue"
       }
      },
      "text/html": [
       "<div id=\"2a7b0ab9-067c-4857-b4bd-454f3ff4a31f\" style=\"height: 525px; width: 100%;\" class=\"plotly-graph-div\"></div><script type=\"text/javascript\">require([\"plotly\"], function(Plotly) { window.PLOTLYENV=window.PLOTLYENV || {};window.PLOTLYENV.BASE_URL=\"https://plot.ly\";Plotly.newPlot(\"2a7b0ab9-067c-4857-b4bd-454f3ff4a31f\", [{\"y\": [-4.847536274246153, -7.845836227240637, -11.530113567288627, -13.449341280411028, -27.29979466241817, -32.41715039595285, -33.469553181184324, -40.810945847373645, -44.84346120789989, -45.40150413845916, -46.728008532570705, -76.00775896008244, -92.2605945810567, -101.2202836955994], \"x\": [\"NegativeEmotion\", \"Subjectivity\", \"PositiveEmotion\", \"Technicality\", \"Descriptiveness\", \"Novelty\", \"Popularity\", \"Referencing\", \"Formality\", \"Attractiveness\", \"Conciseness\", \"Richness\", \"Fluency\", \"Completeness\"], \"type\": \"bar\", \"name\": \"log10_pvalue\"}], {\"title\": \"log10_pvalue\"}, {\"linkText\": \"Export to plot.ly\", \"showLink\": true})});</script>"
      ],
      "text/vnd.plotly.v1+html": [
       "<div id=\"2a7b0ab9-067c-4857-b4bd-454f3ff4a31f\" style=\"height: 525px; width: 100%;\" class=\"plotly-graph-div\"></div><script type=\"text/javascript\">require([\"plotly\"], function(Plotly) { window.PLOTLYENV=window.PLOTLYENV || {};window.PLOTLYENV.BASE_URL=\"https://plot.ly\";Plotly.newPlot(\"2a7b0ab9-067c-4857-b4bd-454f3ff4a31f\", [{\"y\": [-4.847536274246153, -7.845836227240637, -11.530113567288627, -13.449341280411028, -27.29979466241817, -32.41715039595285, -33.469553181184324, -40.810945847373645, -44.84346120789989, -45.40150413845916, -46.728008532570705, -76.00775896008244, -92.2605945810567, -101.2202836955994], \"x\": [\"NegativeEmotion\", \"Subjectivity\", \"PositiveEmotion\", \"Technicality\", \"Descriptiveness\", \"Novelty\", \"Popularity\", \"Referencing\", \"Formality\", \"Attractiveness\", \"Conciseness\", \"Richness\", \"Fluency\", \"Completeness\"], \"type\": \"bar\", \"name\": \"log10_pvalue\"}], {\"title\": \"log10_pvalue\"}, {\"linkText\": \"Export to plot.ly\", \"showLink\": true})});</script>"
      ]
     },
     "metadata": {},
     "output_type": "display_data"
    }
   ],
   "source": [
    "import pandas as pd\n",
    "import plotly.figure_factory as ff\n",
    "\n",
    "init_notebook_mode(connected=True)\n",
    "\n",
    "df = pd.read_csv(\"label_correlation.csv\")\n",
    "\n",
    "table = ff.create_table(df)\n",
    "\n",
    "df = df.sort_values(by='featureId')\n",
    "iplot(table)\n",
    "\n",
    "name = 'correlation'\n",
    "df = df.sort_values(by=name, ascending = True)\n",
    "data = go.Bar(x=df.featureId, y=df.correlation, name=name)\n",
    "layout = go.Layout(title=name)\n",
    "fig = go.Figure(data=[data], layout=layout)\n",
    "iplot(fig, filename=name)\n",
    "        \n",
    "name = 'log10_pvalue'\n",
    "df = df.sort_values(by=name, ascending = False)\n",
    "data = go.Bar(x=df.featureId, y=df.log10_pvalue, name=name)\n",
    "layout = go.Layout(title=name)\n",
    "fig = go.Figure(data=[data], layout=layout)\n",
    "iplot(fig, filename=name)\n"
   ]
  },
  {
   "cell_type": "code",
   "execution_count": null,
   "metadata": {
    "collapsed": true,
    "deletable": true,
    "editable": true
   },
   "outputs": [],
   "source": []
  }
 ],
 "metadata": {
  "anaconda-cloud": {},
  "kernelspec": {
   "display_name": "Python 2",
   "language": "python",
   "name": "python2"
  },
  "language_info": {
   "codemirror_mode": {
    "name": "ipython",
    "version": 2
   },
   "file_extension": ".py",
   "mimetype": "text/x-python",
   "name": "python",
   "nbconvert_exporter": "python",
   "pygments_lexer": "ipython2",
   "version": "2.7.12"
  }
 },
 "nbformat": 4,
 "nbformat_minor": 1
}
