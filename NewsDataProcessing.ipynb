{
 "cells": [
  {
   "cell_type": "code",
   "execution_count": 1,
   "metadata": {
    "collapsed": false
   },
   "outputs": [],
   "source": [
    "\n",
    "#clear directory \n",
    "!rm -r ./YahooNews/YahooNewsQualityDataset-v0.8\n",
    "!rm ./Kaggle/fake.csv"
   ]
  },
  {
   "cell_type": "code",
   "execution_count": 2,
   "metadata": {
    "collapsed": true
   },
   "outputs": [],
   "source": [
    "\n",
    "\n",
    "import zipfile\n",
    "zip_ref1 = zipfile.ZipFile('./YahooNews/YahooNewsQualityDataset-v0.8.zip', 'r')\n",
    "zip_ref1.extractall('./YahooNews/')\n",
    "zip_ref1.close()\n",
    "\n",
    "\n",
    "zip_ref2 = zipfile.ZipFile('./Kaggle/fake-news.zip', 'r')\n",
    "zip_ref2.extractall('./Kaggle/')\n",
    "zip_ref2.close()"
   ]
  },
  {
   "cell_type": "code",
   "execution_count": 3,
   "metadata": {
    "collapsed": false
   },
   "outputs": [
    {
     "name": "stdout",
     "output_type": "stream",
     "text": [
      "annotators.xlsx  excel_dataset.py  news.tsv\n",
      "dataset\t\t methodology\t   sentences.tsv\n",
      "fake-news.zip  fake.csv\n"
     ]
    }
   ],
   "source": [
    "!ls ./YahooNews/YahooNewsQualityDataset-v0.8\n",
    "!ls ./Kaggle/"
   ]
  },
  {
   "cell_type": "code",
   "execution_count": 4,
   "metadata": {
    "collapsed": false
   },
   "outputs": [],
   "source": [
    "'''\n",
    "Created on 29/10/2016\n",
    "\n",
    "@author: PelejaF\n",
    "'''\n",
    "\n",
    "import os\n",
    "folder = 'YahooNews/YahooNewsQualityDataset-v0.8/'\n",
    "news_tsv_folder = os.path.join(os.getcwd(),folder+'dataset/tsvFiles/withText-body/')\n",
    "sentences_tsv_folder = os.path.join(os.getcwd(),folder+'dataset/tsvFiles/withText-sentences/')\n",
    "\n",
    "news_csv = os.path.join(os.getcwd(),'news.csv')\n",
    "sentences_csv = os.path.join(os.getcwd(),'sentences.csv')\n",
    "\n",
    "news_csv_out = open(news_csv, 'w')\n",
    "sentences_csv_out = open(sentences_csv, 'w')\n",
    "\n",
    "# write headers\n",
    "news_csv_out.write('id\\tnews article name\\tnews article\\tFluency\\tConciseness\\tDescriptiveness\\tNovelty\\tCompleteness\\t')\n",
    "news_csv_out.write('Referencing\\tFormality\\tRichness\\tAttractiveness\\tTechnicality\\tPopularity\\tSubjectivity\\t')\n",
    "news_csv_out.write('Positive Emotion\\tNegative Emotion\\tQuality\\tAnnotatorsConfidenceScore\\n')\n",
    "\n",
    "news_article_names = {}\n",
    "\n",
    "curr_id = 1 \n",
    "for filename in os.listdir(news_tsv_folder):\n",
    "\tcurr_file = open(os.path.join(news_tsv_folder, filename), 'r')\n",
    "\tline = curr_file.readline().replace('\\n','').replace('\\r','')\n",
    "\tline = line.split('\\t')\n",
    "\tnews_article_name = filename.replace('-sentences.txt','').replace('_sentences.txt','').replace('-body.txt','').replace('_body.txt','')\n",
    "\tnews_article_names[news_article_name] = curr_id\n",
    "\tnews_article = line[0]\n",
    "\tFluency = line[1]\n",
    "\tConciseness = line[2]\n",
    "\tDescriptiveness = line[3]\n",
    "\tNovelty = line[4]\n",
    "\tCompleteness = line[5]\n",
    "\tReferencing = line[6]\n",
    "\tFormality = line[7]\n",
    "\tRichness = line[8]\n",
    "\tAttractiveness = line[9]\n",
    "\tTechnicality = line[10]\n",
    "\tPopularity = line[11]\n",
    "\tSubjectivity = line[12]\n",
    "\tPositive_Emotion = line[13]\n",
    "\tNegative_Emotion = line[14]\n",
    "\tQuality = line[15]\n",
    "\tif len(line) == 17:\n",
    "\t\tAnnotatorsConfidenceScore = line[16]\n",
    "\telse:\n",
    "\t\tAnnotatorsConfidenceScore = ''\n",
    "\tnews_csv_out.write(str(curr_id)+'\\t'+news_article_name+'\\t'+news_article+'\\t'+Fluency+'\\t'+Conciseness+'\\t'+Descriptiveness+'\\t'+Novelty+'\\t'+Completeness+'\\t')\n",
    "\tnews_csv_out.write(Referencing+'\\t'+Formality+'\\t'+Richness+'\\t'+Attractiveness+'\\t'+Technicality+'\\t')\n",
    "\tnews_csv_out.write(Popularity+'\\t'+Subjectivity+'\\t'+Positive_Emotion+'\\t'+Negative_Emotion+'\\t'+Quality+'\\t'+AnnotatorsConfidenceScore+'\\n')\n",
    "\tcurr_id = curr_id + 1\n",
    "\tcurr_file.close()\n",
    "news_csv_out.close()\n",
    "\n",
    "# write headers\n",
    "sentences_csv_out.write('id\\tnews article name\\tSentence\\tSubjectivity\\tPositivity\\tNegativity\\t')\n",
    "sentences_csv_out.write('Ignore sentence (I) or sentence Splitting issue (S)\\tAnnotatorsConfidenceScore\\n')\n",
    "for filename in os.listdir(sentences_tsv_folder):\n",
    "\tcurr_file = open(os.path.join(sentences_tsv_folder, filename), 'r')\n",
    "\tnews_article_name = filename.replace('-sentences.txt','').replace('_sentences.txt','').replace('-body.txt','').replace('_body.txt','')\n",
    "\tcurr_id = news_article_names[news_article_name]\n",
    "\twhile 1:\t\n",
    "\t\tsentence = curr_file.readline()\n",
    "\t\tif not sentence:break\n",
    "\t\tline = sentence.replace('\\n','').replace('\\r','').split('\\t')\n",
    "\t\tif len(line) == 1:break\n",
    "\t\tnews_article = line[0]\n",
    "\t\tsentence = line[1]\n",
    "\t\tsubjectivity = line[2]\n",
    "\t\tpositivity = line[3]\n",
    "\t\tnegativity = line[4]\n",
    "\t\tif len(line) == 6:\n",
    "\t\t\tI_S = line[5]\n",
    "\t\telse:\n",
    "\t\t\tI_S = ''\n",
    "\t\tif len(line) == 7:\n",
    "\t\t\tannotatorsConfidenceScore = line[6]\n",
    "\t\telse:\n",
    "\t\t\tannotatorsConfidenceScore = ''\n",
    "\t\tsentences_csv_out.write(str(curr_id)+'\\t'+news_article_name+'\\t'+news_article+'\\t'+sentence+'\\t'+subjectivity+'\\t')\n",
    "\t\tsentences_csv_out.write(positivity+'\\t'+negativity+'\\t'+I_S+'\\t'+annotatorsConfidenceScore+'\\n')\n",
    "\tcurr_file.close()\n",
    "sentences_csv_out.close()\n",
    "\n",
    "\n"
   ]
  },
  {
   "cell_type": "code",
   "execution_count": 45,
   "metadata": {
    "collapsed": false
   },
   "outputs": [],
   "source": [
    "import csv\n",
    "header = []\n",
    "articleData = []\n",
    "with open('news.csv', 'rb') as f:\n",
    "    for line in f:\n",
    "        if len(header) == 0:\n",
    "            header = line.split('\\t')\n",
    "        else:\n",
    "            articleData.append(line.split('\\t'))\n",
    "    "
   ]
  },
  {
   "cell_type": "code",
   "execution_count": 58,
   "metadata": {
    "collapsed": false
   },
   "outputs": [
    {
     "name": "stdout",
     "output_type": "stream",
     "text": [
      "658 19\n",
      "['id', 'news article name', 'news article', 'Fluency', 'Conciseness', 'Descriptiveness', 'Novelty', 'Completeness', 'Referencing', 'Formality', 'Richness', 'Attractiveness', 'Technicality', 'Popularity', 'Subjectivity', 'Positive Emotion', 'Negative Emotion', 'Quality', 'AnnotatorsConfidenceScore\\n']\n"
     ]
    }
   ],
   "source": [
    "\n",
    "columns = len(header)\n",
    "rows = len(articleData)\n",
    "print rows, columns\n",
    "print header"
   ]
  },
  {
   "cell_type": "code",
   "execution_count": 50,
   "metadata": {
    "collapsed": false
   },
   "outputs": [
    {
     "name": "stdout",
     "output_type": "stream",
     "text": [
      "BOULDER, Colo. (AP) — The National Park Service acted properly when it ruled out using wolves to control the elk population in Rocky Mountain National Park, government lawyers argued Thursday before a federal appeals court.The government also defended the use of trained volunteers to help Park Service employees shoot and kill excess elk, saying it didn't violate a hunting ban in national parks.In a hearing before the 10th U.S. Circuit Court of Appeals, a law student representing the wildlife advocacy group WildEarth Guardians argued the Park Service did not give enough consideration to the wolf option and rejected it without giving the public a chance to comment.The group also said letting volunteers shoot elk instead of limiting the shooting to Park Service employees was tantamount to hunting.WildEarth Guardians sued the Park Service in 2008, asking a Denver federal judge to overturn the park's elk-thinning policy. The judge upheld the policy last year, and WildEarth Guardians appealed to the 10th Circuit.The appeals court normally meets in Denver but heard this case at the University of Colorado Law School in Boulder as part of an outreach program. The judges did not say when they would rule.Rocky Mountain National Park sometimes has so many elk that they overgraze the vegetation, leaving other animals without enough food and habitat. Few natural predators are left there, and hunting is prohibited, so little remains to keep the elk population in check.The park launched a 20-year program in 2008 to thin the herd by having park employees and trained volunteers under park supervision periodically shoot and kill elk. The program also includes fences to protect vegetation from elk and redistributing some of the animals.Officials said reintroducing wolves to control elk numbers was infeasible. They cited a lack of support from other agencies, safety concerns of people who live nearby, expected conflicts between wolves and humans and the amount of attention that a wolf population would require of park officials.Park spokeswoman Kyle Patterson said 131 elk have been killed in the culling program during since 2008.The current size of the herd in the park's lower elevations is 600 to 800, which is within the target range set by the program, so no elk were killed last winter.No decision has been made on whether or how many elk will be killed this coming winter.Wolves disappeared from much of the West after decades of hunting and government-backed extermination. They were re-introduced in Yellowstone National Park in Wyoming in 1995, and some advocates have argued for bringing them back elsewhere.___Follow Dan Elliott at http://twitter.com/DanElliottAP___Online:National Park Service fact sheet: http://1.usa.gov/UllcuKWildEarth Guardians: http://bit.ly/T94CDm\n",
      "3\n"
     ]
    }
   ],
   "source": [
    "print articleData[345][header.index(\"news article\")]\n",
    "print articleData[345][header.index(\"Quality\")]"
   ]
  },
  {
   "cell_type": "code",
   "execution_count": 73,
   "metadata": {
    "collapsed": false
   },
   "outputs": [
    {
     "name": "stdout",
     "output_type": "stream",
     "text": [
      "[647, 479, 72, 376, 264, 93, 292, 481, 542, 83, 250, 307, 203, 528, 162, 370, 299, 494, 53, 199, 208, 533, 362, 117, 418, 453, 394, 243, 369, 406, 361, 566, 305, 589, 88, 228, 105, 266, 137, 69, 619, 91, 134, 588, 339, 86, 396, 31, 179, 308, 596, 75, 508, 2, 258, 112, 433, 366, 260, 509, 472, 298, 297, 226, 155, 164, 423, 604, 211, 315, 270, 67, 21, 375, 181, 312, 279, 271, 559, 118, 340, 646, 474, 33, 286, 204, 614, 506, 598, 490, 306, 321, 543, 136, 122, 110, 587, 477, 313, 197, 411, 219, 335, 254, 353, 216, 284, 534, 39, 383, 92, 244, 287, 188, 349, 563, 551, 301, 60, 649, 147, 655, 176, 505, 309, 626, 127, 517, 144, 341, 652]\n"
     ]
    }
   ],
   "source": [
    "from random import shuffle\n",
    "rowid = range(0, rows)\n",
    "shuffle(rowid)\n",
    "trainid = []\n",
    "testid = []\n",
    "ratio = 0.8\n",
    "for i in range(0, rows):\n",
    "    if i < rows * ratio:\n",
    "        trainid.append(rowid[i])\n",
    "    else:\n",
    "        testid.append(rowid[i])\n",
    "\n",
    "print testid"
   ]
  },
  {
   "cell_type": "code",
   "execution_count": null,
   "metadata": {
    "collapsed": true
   },
   "outputs": [],
   "source": []
  }
 ],
 "metadata": {
  "anaconda-cloud": {},
  "kernelspec": {
   "display_name": "Python 2",
   "language": "python",
   "name": "python2"
  },
  "language_info": {
   "codemirror_mode": {
    "name": "ipython",
    "version": 2
   },
   "file_extension": ".py",
   "mimetype": "text/x-python",
   "name": "python",
   "nbconvert_exporter": "python",
   "pygments_lexer": "ipython2",
   "version": "2.7.6"
  }
 },
 "nbformat": 4,
 "nbformat_minor": 1
}
