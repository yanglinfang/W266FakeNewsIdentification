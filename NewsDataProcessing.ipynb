{
 "cells": [
  {
   "cell_type": "code",
   "execution_count": 75,
   "metadata": {
    "collapsed": false
   },
   "outputs": [],
   "source": [
    "\n",
    "#clear directory \n",
    "!rm -r ./YahooNews/YahooNewsQualityDataset-v0.8\n",
    "!rm ./Kaggle/fake.csv"
   ]
  },
  {
   "cell_type": "code",
   "execution_count": 76,
   "metadata": {
    "collapsed": true
   },
   "outputs": [],
   "source": [
    "\n",
    "\n",
    "import zipfile\n",
    "zip_ref1 = zipfile.ZipFile('./YahooNews/YahooNewsQualityDataset-v0.8.zip', 'r')\n",
    "zip_ref1.extractall('./YahooNews/')\n",
    "zip_ref1.close()\n",
    "\n",
    "\n",
    "zip_ref2 = zipfile.ZipFile('./Kaggle/fake-news.zip', 'r')\n",
    "zip_ref2.extractall('./Kaggle/')\n",
    "zip_ref2.close()"
   ]
  },
  {
   "cell_type": "code",
   "execution_count": 77,
   "metadata": {
    "collapsed": false
   },
   "outputs": [
    {
     "name": "stdout",
     "output_type": "stream",
     "text": [
      "annotators.xlsx  excel_dataset.py  news.tsv\n",
      "dataset\t\t methodology\t   sentences.tsv\n",
      "fake-news.zip  fake.csv\n"
     ]
    }
   ],
   "source": [
    "!ls ./YahooNews/YahooNewsQualityDataset-v0.8\n",
    "!ls ./Kaggle/"
   ]
  },
  {
   "cell_type": "code",
   "execution_count": 78,
   "metadata": {
    "collapsed": false
   },
   "outputs": [],
   "source": [
    "\n",
    "import os\n",
    "folder = 'YahooNews/YahooNewsQualityDataset-v0.8/'\n",
    "news_tsv_folder = os.path.join(os.getcwd(),folder+'dataset/tsvFiles/withText-body/')\n",
    "sentences_tsv_folder = os.path.join(os.getcwd(),folder+'dataset/tsvFiles/withText-sentences/')\n",
    "\n",
    "news_csv = os.path.join(os.getcwd(),'news.csv')\n",
    "sentences_csv = os.path.join(os.getcwd(),'sentences.csv')\n",
    "\n",
    "news_csv_out = open(news_csv, 'w')\n",
    "sentences_csv_out = open(sentences_csv, 'w')\n",
    "\n",
    "# write headers\n",
    "news_csv_out.write('id\\tnews article name\\tnews article\\tFluency\\tConciseness\\tDescriptiveness\\tNovelty\\tCompleteness\\t')\n",
    "news_csv_out.write('Referencing\\tFormality\\tRichness\\tAttractiveness\\tTechnicality\\tPopularity\\tSubjectivity\\t')\n",
    "news_csv_out.write('Positive Emotion\\tNegative Emotion\\tQuality\\tAnnotatorsConfidenceScore\\n')\n",
    "\n",
    "news_article_names = {}\n",
    "\n",
    "curr_id = 1 \n",
    "for filename in os.listdir(news_tsv_folder):\n",
    "\tcurr_file = open(os.path.join(news_tsv_folder, filename), 'r')\n",
    "\tline = curr_file.readline().replace('\\n','').replace('\\r','')\n",
    "\tline = line.split('\\t')\n",
    "\tnews_article_name = filename.replace('-sentences.txt','').replace('_sentences.txt','').replace('-body.txt','').replace('_body.txt','')\n",
    "\tnews_article_names[news_article_name] = curr_id\n",
    "\tnews_article = line[0]\n",
    "\tFluency = line[1]\n",
    "\tConciseness = line[2]\n",
    "\tDescriptiveness = line[3]\n",
    "\tNovelty = line[4]\n",
    "\tCompleteness = line[5]\n",
    "\tReferencing = line[6]\n",
    "\tFormality = line[7]\n",
    "\tRichness = line[8]\n",
    "\tAttractiveness = line[9]\n",
    "\tTechnicality = line[10]\n",
    "\tPopularity = line[11]\n",
    "\tSubjectivity = line[12]\n",
    "\tPositive_Emotion = line[13]\n",
    "\tNegative_Emotion = line[14]\n",
    "\tQuality = line[15]\n",
    "\tif len(line) == 17:\n",
    "\t\tAnnotatorsConfidenceScore = line[16]\n",
    "\telse:\n",
    "\t\tAnnotatorsConfidenceScore = ''\n",
    "\tnews_csv_out.write(str(curr_id)+'\\t'+news_article_name+'\\t'+news_article+'\\t'+Fluency+'\\t'+Conciseness+'\\t'+Descriptiveness+'\\t'+Novelty+'\\t'+Completeness+'\\t')\n",
    "\tnews_csv_out.write(Referencing+'\\t'+Formality+'\\t'+Richness+'\\t'+Attractiveness+'\\t'+Technicality+'\\t')\n",
    "\tnews_csv_out.write(Popularity+'\\t'+Subjectivity+'\\t'+Positive_Emotion+'\\t'+Negative_Emotion+'\\t'+Quality+'\\t'+AnnotatorsConfidenceScore+'\\n')\n",
    "\tcurr_id = curr_id + 1\n",
    "\tcurr_file.close()\n",
    "news_csv_out.close()\n",
    "\n",
    "# write headers\n",
    "sentences_csv_out.write('id\\tnews article name\\tSentence\\tSubjectivity\\tPositivity\\tNegativity\\t')\n",
    "sentences_csv_out.write('Ignore sentence (I) or sentence Splitting issue (S)\\tAnnotatorsConfidenceScore\\n')\n",
    "for filename in os.listdir(sentences_tsv_folder):\n",
    "\tcurr_file = open(os.path.join(sentences_tsv_folder, filename), 'r')\n",
    "\tnews_article_name = filename.replace('-sentences.txt','').replace('_sentences.txt','').replace('-body.txt','').replace('_body.txt','')\n",
    "\tcurr_id = news_article_names[news_article_name]\n",
    "\twhile 1:\t\n",
    "\t\tsentence = curr_file.readline()\n",
    "\t\tif not sentence:break\n",
    "\t\tline = sentence.replace('\\n','').replace('\\r','').split('\\t')\n",
    "\t\tif len(line) == 1:break\n",
    "\t\tnews_article = line[0]\n",
    "\t\tsentence = line[1]\n",
    "\t\tsubjectivity = line[2]\n",
    "\t\tpositivity = line[3]\n",
    "\t\tnegativity = line[4]\n",
    "\t\tif len(line) == 6:\n",
    "\t\t\tI_S = line[5]\n",
    "\t\telse:\n",
    "\t\t\tI_S = ''\n",
    "\t\tif len(line) == 7:\n",
    "\t\t\tannotatorsConfidenceScore = line[6]\n",
    "\t\telse:\n",
    "\t\t\tannotatorsConfidenceScore = ''\n",
    "\t\tsentences_csv_out.write(str(curr_id)+'\\t'+news_article_name+'\\t'+news_article+'\\t'+sentence+'\\t'+subjectivity+'\\t')\n",
    "\t\tsentences_csv_out.write(positivity+'\\t'+negativity+'\\t'+I_S+'\\t'+annotatorsConfidenceScore+'\\n')\n",
    "\tcurr_file.close()\n",
    "sentences_csv_out.close()\n",
    "\n",
    "\n"
   ]
  },
  {
   "cell_type": "code",
   "execution_count": 79,
   "metadata": {
    "collapsed": false
   },
   "outputs": [],
   "source": [
    "import csv\n",
    "header = []\n",
    "articleData = []\n",
    "with open('news.csv', 'rb') as f:\n",
    "    for line in f:\n",
    "        if len(header) == 0:\n",
    "            header = line.split('\\t')\n",
    "        else:\n",
    "            articleData.append(line.split('\\t'))\n",
    "    "
   ]
  },
  {
   "cell_type": "code",
   "execution_count": 80,
   "metadata": {
    "collapsed": false
   },
   "outputs": [
    {
     "name": "stdout",
     "output_type": "stream",
     "text": [
      "658 19\n",
      "['id', 'news article name', 'news article', 'Fluency', 'Conciseness', 'Descriptiveness', 'Novelty', 'Completeness', 'Referencing', 'Formality', 'Richness', 'Attractiveness', 'Technicality', 'Popularity', 'Subjectivity', 'Positive Emotion', 'Negative Emotion', 'Quality', 'AnnotatorsConfidenceScore\\n']\n"
     ]
    }
   ],
   "source": [
    "\n",
    "columns = len(header)\n",
    "rows = len(articleData)\n",
    "print rows, columns\n",
    "print header"
   ]
  },
  {
   "cell_type": "code",
   "execution_count": 87,
   "metadata": {
    "collapsed": false
   },
   "outputs": [
    {
     "name": "stdout",
     "output_type": "stream",
     "text": [
      "['346', 'park-defends-refusal-wolves-184423303', \"BOULDER, Colo. (AP) \\xe2\\x80\\x94 The National Park Service acted properly when it ruled out using wolves to control the elk population in Rocky Mountain National Park, government lawyers argued Thursday before a federal appeals court.The government also defended the use of trained volunteers to help Park Service employees shoot and kill excess elk, saying it didn't violate a hunting ban in national parks.In a hearing before the 10th U.S. Circuit Court of Appeals, a law student representing the wildlife advocacy group WildEarth Guardians argued the Park Service did not give enough consideration to the wolf option and rejected it without giving the public a chance to comment.The group also said letting volunteers shoot elk instead of limiting the shooting to Park Service employees was tantamount to hunting.WildEarth Guardians sued the Park Service in 2008, asking a Denver federal judge to overturn the park's elk-thinning policy. The judge upheld the policy last year, and WildEarth Guardians appealed to the 10th Circuit.The appeals court normally meets in Denver but heard this case at the University of Colorado Law School in Boulder as part of an outreach program. The judges did not say when they would rule.Rocky Mountain National Park sometimes has so many elk that they overgraze the vegetation, leaving other animals without enough food and habitat. Few natural predators are left there, and hunting is prohibited, so little remains to keep the elk population in check.The park launched a 20-year program in 2008 to thin the herd by having park employees and trained volunteers under park supervision periodically shoot and kill elk. The program also includes fences to protect vegetation from elk and redistributing some of the animals.Officials said reintroducing wolves to control elk numbers was infeasible. They cited a lack of support from other agencies, safety concerns of people who live nearby, expected conflicts between wolves and humans and the amount of attention that a wolf population would require of park officials.Park spokeswoman Kyle Patterson said 131 elk have been killed in the culling program during since 2008.The current size of the herd in the park's lower elevations is 600 to 800, which is within the target range set by the program, so no elk were killed last winter.No decision has been made on whether or how many elk will be killed this coming winter.Wolves disappeared from much of the West after decades of hunting and government-backed extermination. They were re-introduced in Yellowstone National Park in Wyoming in 1995, and some advocates have argued for bringing them back elsewhere.___Follow Dan Elliott at http://twitter.com/DanElliottAP___Online:National Park Service fact sheet: http://1.usa.gov/UllcuKWildEarth Guardians: http://bit.ly/T94CDm\", '4', '3', '3', '3', '3', '3', '2', '3', '3', '2', '3', '2', '1', '2', '3', '4\\n']\n"
     ]
    }
   ],
   "source": [
    "print articleData[345]"
   ]
  },
  {
   "cell_type": "code",
   "execution_count": 82,
   "metadata": {
    "collapsed": false
   },
   "outputs": [
    {
     "name": "stdout",
     "output_type": "stream",
     "text": [
      "[226, 642, 343, 435, 184, 139, 18, 218, 493, 302, 192, 344, 213, 39, 606, 472, 597, 571, 628, 117, 75, 10, 562, 515, 566, 15, 484, 558, 458, 594, 58, 553, 266, 168, 261, 375, 307, 148, 288, 353, 468, 464, 408, 197, 511, 141, 225, 260, 630, 634, 415, 22, 583, 187, 273, 264, 508, 495, 255, 442, 394, 504, 222, 102, 426, 179, 190, 171, 212, 469, 252, 146, 200, 8, 595, 322, 77, 453, 582, 622, 577, 454, 147, 250, 152, 219, 531, 291, 239, 49, 83, 280, 305, 601, 154, 201, 565, 467, 512, 471, 185, 269, 107, 215, 181, 283, 417, 345, 587, 357, 487, 368, 53, 397, 243, 257, 434, 71, 535, 412, 366, 542, 578, 330, 298, 199, 457, 499, 551, 427, 590]\n"
     ]
    }
   ],
   "source": [
    "from random import shuffle\n",
    "rowid = range(0, rows)\n",
    "shuffle(rowid)\n",
    "trainid = []\n",
    "testid = []\n",
    "ratio = 0.8\n",
    "for i in range(0, rows):\n",
    "    if i < rows * ratio:\n",
    "        trainid.append(rowid[i])\n",
    "    else:\n",
    "        testid.append(rowid[i])\n",
    "\n",
    "print testid"
   ]
  },
  {
   "cell_type": "code",
   "execution_count": 169,
   "metadata": {
    "collapsed": true
   },
   "outputs": [],
   "source": [
    "# Load data from yahoo dataset\n",
    "def load_yahoo_data(label_used):\n",
    "    header = []\n",
    "    articleData = []\n",
    "    with open('./news.csv', 'rb') as f:\n",
    "        for line in f:\n",
    "            if len(header) == 0:\n",
    "                header = line.split('\\t')\n",
    "            else:\n",
    "                articleData.append(line.split('\\t'))\n",
    "    columns = len(header)\n",
    "    rows = len(articleData)\n",
    "    print 'Loaded rows: ', rows,'columns: ', columns\n",
    "    print 'Headers: ', header\n",
    "    print 'Using label: ', label_used\n",
    "    #print 'sample text: ', articleData[0][header.index('news article')]\n",
    "    #print 'sample label: ', articleData[0][header.index(label_used)]\n",
    "    \n",
    "    texts = []\n",
    "    targets = []\n",
    "    for i in range(0, rows):\n",
    "        labelStr = articleData[i][header.index(label_used)]\n",
    "        if labelStr != '':\n",
    "            texts.append(articleData[i][header.index('news article')])\n",
    "            target = int(labelStr)\n",
    "            labels = [[0,1]]\n",
    "            if target <= 3:\n",
    "                labels = [[1,0]]\n",
    "            targets.append(labels)\n",
    "    y = np.concatenate(targets, 0)\n",
    "    return (texts, y)\n",
    "        "
   ]
  },
  {
   "cell_type": "code",
   "execution_count": 170,
   "metadata": {
    "collapsed": false
   },
   "outputs": [
    {
     "name": "stdout",
     "output_type": "stream",
     "text": [
      "Loaded rows:  658 columns:  19\n",
      "Headers:  ['id', 'news article name', 'news article', 'Fluency', 'Conciseness', 'Descriptiveness', 'Novelty', 'Completeness', 'Referencing', 'Formality', 'Richness', 'Attractiveness', 'Technicality', 'Popularity', 'Subjectivity', 'Positive Emotion', 'Negative Emotion', 'Quality', 'AnnotatorsConfidenceScore\\n']\n",
      "Using label:  Fluency\n",
      "[[0 1]\n",
      " [1 0]\n",
      " [1 0]\n",
      " ..., \n",
      " [1 0]\n",
      " [0 1]\n",
      " [1 0]]\n"
     ]
    }
   ],
   "source": [
    "(texts, targets) = load_yahoo_data('Fluency')\n",
    "print targets"
   ]
  },
  {
   "cell_type": "code",
   "execution_count": 178,
   "metadata": {
    "collapsed": false
   },
   "outputs": [
    {
     "name": "stdout",
     "output_type": "stream",
     "text": [
      "\n",
      "Parameters:\n",
      "ALLOW_SOFT_PLACEMENT=True\n",
      "BATCH_SIZE=100\n",
      "CHECKPOINT_EVERY=6\n",
      "DEV_SAMPLE_PERCENTAGE=0.1\n",
      "DROPOUT_KEEP_PROB=0.5\n",
      "EMBEDDING_DIM=128\n",
      "EVALUATE_EVERY=6\n",
      "FILTER_SIZES=3,4,5\n",
      "L2_REG_LAMBDA=0.0\n",
      "LABEL_USED=Formality\n",
      "LOG_DEVICE_PLACEMENT=False\n",
      "NUM_CHECKPOINTS=5\n",
      "NUM_EPOCHS=2\n",
      "NUM_FILTERS=128\n",
      "UNROLLED_LSTM=False\n",
      "\n",
      "Loading data...\n",
      "Loaded rows:  658 columns:  19\n",
      "Headers:  ['id', 'news article name', 'news article', 'Fluency', 'Conciseness', 'Descriptiveness', 'Novelty', 'Completeness', 'Referencing', 'Formality', 'Richness', 'Attractiveness', 'Technicality', 'Popularity', 'Subjectivity', 'Positive Emotion', 'Negative Emotion', 'Quality', 'AnnotatorsConfidenceScore\\n']\n",
      "Using label:  Formality\n",
      "Vocabulary Size: 28958\n",
      "Train/Dev split: 593/65\n",
      "Writing to /notebooks/Project/runs/1490688015\n",
      "\n",
      "2017-03-28T08:00:26.947020: step 1, loss 2.40234, acc 0.8\n",
      "2017-03-28T08:00:36.871000: step 2, loss 0.950264, acc 0.84\n",
      "2017-03-28T08:00:46.496985: step 3, loss 1.44981, acc 0.77\n",
      "2017-03-28T08:00:56.743431: step 4, loss 1.60513, acc 0.76\n",
      "2017-03-28T08:01:06.909260: step 5, loss 1.44417, acc 0.74\n",
      "2017-03-28T08:01:15.840052: step 6, loss 1.31651, acc 0.784946\n",
      "\n",
      "Evaluation:\n",
      "2017-03-28T08:01:17.996871: step 6, loss 1.09719, acc 0.830769\n",
      "\n",
      "Saved model checkpoint to /notebooks/Project/runs/1490688015/checkpoints/model-6\n",
      "\n",
      "2017-03-28T08:01:27.814995: step 7, loss 1.53354, acc 0.72\n",
      "2017-03-28T08:01:37.510048: step 8, loss 0.979521, acc 0.84\n",
      "2017-03-28T08:01:47.032085: step 9, loss 1.64339, acc 0.77\n",
      "2017-03-28T08:01:56.778231: step 10, loss 2.09955, acc 0.74\n",
      "2017-03-28T08:02:06.295418: step 11, loss 1.17923, acc 0.84\n",
      "2017-03-28T08:02:15.018387: step 12, loss 0.99778, acc 0.827957\n",
      "\n",
      "Evaluation:\n",
      "2017-03-28T08:02:17.056606: step 12, loss 1.69776, acc 0.830769\n",
      "\n",
      "Saved model checkpoint to /notebooks/Project/runs/1490688015/checkpoints/model-12\n",
      "\n"
     ]
    }
   ],
   "source": [
    "!python ./shared_lib/train.py --label_used 'Formality' --num_epochs 2 --batch_size 100 --evaluate_every 6 --checkpoint_every 6"
   ]
  },
  {
   "cell_type": "code",
   "execution_count": 179,
   "metadata": {
    "collapsed": false
   },
   "outputs": [
    {
     "name": "stdout",
     "output_type": "stream",
     "text": [
      "\n",
      "Parameters:\n",
      "ALLOW_SOFT_PLACEMENT=True\n",
      "BATCH_SIZE=100\n",
      "CHECKPOINT_EVERY=6\n",
      "DEV_SAMPLE_PERCENTAGE=0.1\n",
      "DROPOUT_KEEP_PROB=0.5\n",
      "EMBEDDING_DIM=128\n",
      "EVALUATE_EVERY=6\n",
      "FILTER_SIZES=3,4,5\n",
      "L2_REG_LAMBDA=0.0\n",
      "LABEL_USED=Fluency\n",
      "LOG_DEVICE_PLACEMENT=False\n",
      "NUM_CHECKPOINTS=5\n",
      "NUM_EPOCHS=2\n",
      "NUM_FILTERS=128\n",
      "UNROLLED_LSTM=False\n",
      "\n",
      "Loading data...\n",
      "Loaded rows:  658 columns:  19\n",
      "Headers:  ['id', 'news article name', 'news article', 'Fluency', 'Conciseness', 'Descriptiveness', 'Novelty', 'Completeness', 'Referencing', 'Formality', 'Richness', 'Attractiveness', 'Technicality', 'Popularity', 'Subjectivity', 'Positive Emotion', 'Negative Emotion', 'Quality', 'AnnotatorsConfidenceScore\\n']\n",
      "Using label:  Fluency\n",
      "Vocabulary Size: 28943\n",
      "Train/Dev split: 592/65\n",
      "Writing to /notebooks/Project/runs/1490688298\n",
      "\n",
      "2017-03-28T08:05:08.908221: step 1, loss 2.37685, acc 0.65\n",
      "2017-03-28T08:05:19.027893: step 2, loss 3.02644, acc 0.6\n",
      "2017-03-28T08:05:28.688774: step 3, loss 3.56061, acc 0.45\n",
      "2017-03-28T08:05:38.175095: step 4, loss 2.8927, acc 0.52\n",
      "2017-03-28T08:05:47.632388: step 5, loss 3.17686, acc 0.49\n",
      "2017-03-28T08:05:56.453438: step 6, loss 2.14088, acc 0.619565\n",
      "\n",
      "Evaluation:\n",
      "2017-03-28T08:05:58.672197: step 6, loss 1.24267, acc 0.676923\n",
      "\n",
      "Saved model checkpoint to /notebooks/Project/runs/1490688298/checkpoints/model-6\n",
      "\n",
      "2017-03-28T08:06:08.599120: step 7, loss 2.09968, acc 0.6\n",
      "2017-03-28T08:06:18.640570: step 8, loss 1.81088, acc 0.7\n",
      "2017-03-28T08:06:28.613190: step 9, loss 2.03491, acc 0.62\n",
      "2017-03-28T08:06:39.346311: step 10, loss 2.52935, acc 0.68\n",
      "2017-03-28T08:06:49.252633: step 11, loss 2.59219, acc 0.63\n",
      "2017-03-28T08:06:58.008318: step 12, loss 2.26413, acc 0.619565\n",
      "\n",
      "Evaluation:\n",
      "2017-03-28T08:07:00.129334: step 12, loss 1.16817, acc 0.676923\n",
      "\n",
      "Saved model checkpoint to /notebooks/Project/runs/1490688298/checkpoints/model-12\n",
      "\n"
     ]
    }
   ],
   "source": [
    "!python ./shared_lib/train.py --label_used 'Fluency' --num_epochs 2 --batch_size 100 --evaluate_every 6 --checkpoint_every 6"
   ]
  },
  {
   "cell_type": "code",
   "execution_count": 180,
   "metadata": {
    "collapsed": false
   },
   "outputs": [
    {
     "name": "stdout",
     "output_type": "stream",
     "text": [
      "\n",
      "Parameters:\n",
      "ALLOW_SOFT_PLACEMENT=True\n",
      "BATCH_SIZE=100\n",
      "CHECKPOINT_EVERY=6\n",
      "DEV_SAMPLE_PERCENTAGE=0.1\n",
      "DROPOUT_KEEP_PROB=0.5\n",
      "EMBEDDING_DIM=128\n",
      "EVALUATE_EVERY=6\n",
      "FILTER_SIZES=3,4,5\n",
      "L2_REG_LAMBDA=0.0\n",
      "LABEL_USED=Conciseness\n",
      "LOG_DEVICE_PLACEMENT=False\n",
      "NUM_CHECKPOINTS=5\n",
      "NUM_EPOCHS=2\n",
      "NUM_FILTERS=128\n",
      "UNROLLED_LSTM=False\n",
      "\n",
      "Loading data...\n",
      "Loaded rows:  658 columns:  19\n",
      "Headers:  ['id', 'news article name', 'news article', 'Fluency', 'Conciseness', 'Descriptiveness', 'Novelty', 'Completeness', 'Referencing', 'Formality', 'Richness', 'Attractiveness', 'Technicality', 'Popularity', 'Subjectivity', 'Positive Emotion', 'Negative Emotion', 'Quality', 'AnnotatorsConfidenceScore\\n']\n",
      "Using label:  Conciseness\n",
      "Vocabulary Size: 28958\n",
      "Train/Dev split: 593/65\n",
      "Writing to /notebooks/Project/runs/1490688430\n",
      "\n",
      "2017-03-28T08:07:22.278751: step 1, loss 3.72992, acc 0.5\n",
      "2017-03-28T08:07:32.455406: step 2, loss 2.29583, acc 0.51\n",
      "2017-03-28T08:07:42.742030: step 3, loss 2.17881, acc 0.54\n",
      "2017-03-28T08:07:52.373817: step 4, loss 2.85111, acc 0.54\n",
      "2017-03-28T08:08:02.005054: step 5, loss 2.25256, acc 0.55\n",
      "2017-03-28T08:08:12.294968: step 6, loss 3.26825, acc 0.55914\n",
      "\n",
      "Evaluation:\n",
      "2017-03-28T08:08:14.664677: step 6, loss 1.61457, acc 0.661538\n",
      "\n",
      "Saved model checkpoint to /notebooks/Project/runs/1490688430/checkpoints/model-6\n",
      "\n",
      "2017-03-28T08:08:26.093997: step 7, loss 3.30928, acc 0.5\n",
      "2017-03-28T08:08:36.200621: step 8, loss 2.02439, acc 0.64\n",
      "2017-03-28T08:08:46.781269: step 9, loss 2.26234, acc 0.59\n",
      "2017-03-28T08:08:57.708186: step 10, loss 1.92886, acc 0.62\n",
      "2017-03-28T08:09:08.020672: step 11, loss 2.31658, acc 0.56\n",
      "2017-03-28T08:09:17.294372: step 12, loss 2.32563, acc 0.55914\n",
      "\n",
      "Evaluation:\n",
      "2017-03-28T08:09:19.527730: step 12, loss 0.622582, acc 0.630769\n",
      "\n",
      "Saved model checkpoint to /notebooks/Project/runs/1490688430/checkpoints/model-12\n",
      "\n"
     ]
    }
   ],
   "source": [
    "!python ./shared_lib/train.py --label_used 'Conciseness' --num_epochs 2 --batch_size 100 --evaluate_every 6 --checkpoint_every 6"
   ]
  },
  {
   "cell_type": "code",
   "execution_count": 181,
   "metadata": {
    "collapsed": false
   },
   "outputs": [
    {
     "name": "stdout",
     "output_type": "stream",
     "text": [
      "\n",
      "Parameters:\n",
      "ALLOW_SOFT_PLACEMENT=True\n",
      "BATCH_SIZE=100\n",
      "CHECKPOINT_EVERY=6\n",
      "DEV_SAMPLE_PERCENTAGE=0.1\n",
      "DROPOUT_KEEP_PROB=0.5\n",
      "EMBEDDING_DIM=128\n",
      "EVALUATE_EVERY=6\n",
      "FILTER_SIZES=3,4,5\n",
      "L2_REG_LAMBDA=0.0\n",
      "LABEL_USED=Descriptiveness\n",
      "LOG_DEVICE_PLACEMENT=False\n",
      "NUM_CHECKPOINTS=5\n",
      "NUM_EPOCHS=2\n",
      "NUM_FILTERS=128\n",
      "UNROLLED_LSTM=False\n",
      "\n",
      "Loading data...\n",
      "Loaded rows:  658 columns:  19\n",
      "Headers:  ['id', 'news article name', 'news article', 'Fluency', 'Conciseness', 'Descriptiveness', 'Novelty', 'Completeness', 'Referencing', 'Formality', 'Richness', 'Attractiveness', 'Technicality', 'Popularity', 'Subjectivity', 'Positive Emotion', 'Negative Emotion', 'Quality', 'AnnotatorsConfidenceScore\\n']\n",
      "Using label:  Descriptiveness\n",
      "Vocabulary Size: 28944\n",
      "Train/Dev split: 592/65\n",
      "Writing to /notebooks/Project/runs/1490688566\n",
      "\n",
      "2017-03-28T08:09:38.193531: step 1, loss 5.76185, acc 0.28\n",
      "2017-03-28T08:09:47.967546: step 2, loss 3.53856, acc 0.45\n",
      "2017-03-28T08:09:57.606287: step 3, loss 2.85325, acc 0.45\n",
      "2017-03-28T08:10:07.322728: step 4, loss 1.82601, acc 0.66\n",
      "2017-03-28T08:10:17.455419: step 5, loss 2.5141, acc 0.69\n",
      "2017-03-28T08:10:26.878614: step 6, loss 2.1784, acc 0.695652\n",
      "\n",
      "Evaluation:\n",
      "2017-03-28T08:10:29.206857: step 6, loss 2.2792, acc 0.769231\n",
      "\n",
      "Saved model checkpoint to /notebooks/Project/runs/1490688566/checkpoints/model-6\n",
      "\n",
      "2017-03-28T08:10:40.499477: step 7, loss 2.69402, acc 0.73\n",
      "2017-03-28T08:10:50.342243: step 8, loss 2.68272, acc 0.74\n",
      "2017-03-28T08:11:00.074901: step 9, loss 2.68884, acc 0.76\n",
      "2017-03-28T08:11:09.743586: step 10, loss 3.29943, acc 0.67\n",
      "2017-03-28T08:11:19.457269: step 11, loss 2.1511, acc 0.7\n",
      "2017-03-28T08:11:28.310810: step 12, loss 1.51497, acc 0.771739\n",
      "\n",
      "Evaluation:\n",
      "2017-03-28T08:11:30.440907: step 12, loss 1.25169, acc 0.769231\n",
      "\n",
      "Saved model checkpoint to /notebooks/Project/runs/1490688566/checkpoints/model-12\n",
      "\n"
     ]
    }
   ],
   "source": [
    "!python ./shared_lib/train.py --label_used 'Descriptiveness' --num_epochs 2 --batch_size 100 --evaluate_every 6 --checkpoint_every 6"
   ]
  },
  {
   "cell_type": "code",
   "execution_count": 182,
   "metadata": {
    "collapsed": false
   },
   "outputs": [
    {
     "name": "stdout",
     "output_type": "stream",
     "text": [
      "\n",
      "Parameters:\n",
      "ALLOW_SOFT_PLACEMENT=True\n",
      "BATCH_SIZE=100\n",
      "CHECKPOINT_EVERY=6\n",
      "DEV_SAMPLE_PERCENTAGE=0.1\n",
      "DROPOUT_KEEP_PROB=0.5\n",
      "EMBEDDING_DIM=128\n",
      "EVALUATE_EVERY=6\n",
      "FILTER_SIZES=3,4,5\n",
      "L2_REG_LAMBDA=0.0\n",
      "LABEL_USED=Novelty\n",
      "LOG_DEVICE_PLACEMENT=False\n",
      "NUM_CHECKPOINTS=5\n",
      "NUM_EPOCHS=2\n",
      "NUM_FILTERS=128\n",
      "UNROLLED_LSTM=False\n",
      "\n",
      "Loading data...\n",
      "Loaded rows:  658 columns:  19\n",
      "Headers:  ['id', 'news article name', 'news article', 'Fluency', 'Conciseness', 'Descriptiveness', 'Novelty', 'Completeness', 'Referencing', 'Formality', 'Richness', 'Attractiveness', 'Technicality', 'Popularity', 'Subjectivity', 'Positive Emotion', 'Negative Emotion', 'Quality', 'AnnotatorsConfidenceScore\\n']\n",
      "Using label:  Novelty\n",
      "Vocabulary Size: 28918\n",
      "Train/Dev split: 592/65\n",
      "Writing to /notebooks/Project/runs/1490688698\n",
      "\n",
      "2017-03-28T08:11:49.493929: step 1, loss 3.91466, acc 0.4\n",
      "2017-03-28T08:11:59.294261: step 2, loss 2.89625, acc 0.49\n",
      "2017-03-28T08:12:09.434733: step 3, loss 2.15905, acc 0.64\n",
      "2017-03-28T08:12:19.462382: step 4, loss 2.48, acc 0.63\n",
      "2017-03-28T08:12:29.807846: step 5, loss 3.15289, acc 0.66\n",
      "2017-03-28T08:12:39.236539: step 6, loss 2.99871, acc 0.695652\n",
      "\n",
      "Evaluation:\n",
      "2017-03-28T08:12:41.403986: step 6, loss 1.4997, acc 0.815385\n",
      "\n",
      "Saved model checkpoint to /notebooks/Project/runs/1490688698/checkpoints/model-6\n",
      "\n",
      "2017-03-28T08:12:52.145014: step 7, loss 2.08006, acc 0.68\n",
      "2017-03-28T08:13:02.260012: step 8, loss 2.28521, acc 0.7\n",
      "2017-03-28T08:13:12.387801: step 9, loss 2.10658, acc 0.71\n",
      "2017-03-28T08:13:22.172065: step 10, loss 1.93491, acc 0.64\n",
      "2017-03-28T08:13:32.121690: step 11, loss 1.3321, acc 0.72\n",
      "2017-03-28T08:13:41.165456: step 12, loss 2.86937, acc 0.554348\n",
      "\n",
      "Evaluation:\n",
      "2017-03-28T08:13:43.323534: step 12, loss 0.512005, acc 0.815385\n",
      "\n",
      "Saved model checkpoint to /notebooks/Project/runs/1490688698/checkpoints/model-12\n",
      "\n"
     ]
    }
   ],
   "source": [
    "!python ./shared_lib/train.py --label_used 'Novelty' --num_epochs 2 --batch_size 100 --evaluate_every 6 --checkpoint_every 6"
   ]
  },
  {
   "cell_type": "code",
   "execution_count": 183,
   "metadata": {
    "collapsed": false
   },
   "outputs": [
    {
     "name": "stdout",
     "output_type": "stream",
     "text": [
      "\n",
      "Parameters:\n",
      "ALLOW_SOFT_PLACEMENT=True\n",
      "BATCH_SIZE=100\n",
      "CHECKPOINT_EVERY=6\n",
      "DEV_SAMPLE_PERCENTAGE=0.1\n",
      "DROPOUT_KEEP_PROB=0.5\n",
      "EMBEDDING_DIM=128\n",
      "EVALUATE_EVERY=6\n",
      "FILTER_SIZES=3,4,5\n",
      "L2_REG_LAMBDA=0.0\n",
      "LABEL_USED=Completeness\n",
      "LOG_DEVICE_PLACEMENT=False\n",
      "NUM_CHECKPOINTS=5\n",
      "NUM_EPOCHS=2\n",
      "NUM_FILTERS=128\n",
      "UNROLLED_LSTM=False\n",
      "\n",
      "Loading data...\n",
      "Loaded rows:  658 columns:  19\n",
      "Headers:  ['id', 'news article name', 'news article', 'Fluency', 'Conciseness', 'Descriptiveness', 'Novelty', 'Completeness', 'Referencing', 'Formality', 'Richness', 'Attractiveness', 'Technicality', 'Popularity', 'Subjectivity', 'Positive Emotion', 'Negative Emotion', 'Quality', 'AnnotatorsConfidenceScore\\n']\n",
      "Using label:  Completeness\n",
      "Vocabulary Size: 28958\n",
      "Train/Dev split: 593/65\n",
      "Writing to /notebooks/Project/runs/1490688831\n",
      "\n",
      "2017-03-28T08:14:02.956961: step 1, loss 5.14576, acc 0.34\n",
      "2017-03-28T08:14:13.217554: step 2, loss 3.68081, acc 0.46\n",
      "2017-03-28T08:14:23.393938: step 3, loss 2.78571, acc 0.45\n",
      "2017-03-28T08:14:33.291645: step 4, loss 2.01481, acc 0.59\n",
      "2017-03-28T08:14:43.556540: step 5, loss 2.46202, acc 0.67\n",
      "2017-03-28T08:14:52.848203: step 6, loss 2.70628, acc 0.655914\n",
      "\n",
      "Evaluation:\n",
      "2017-03-28T08:14:55.056154: step 6, loss 2.82578, acc 0.676923\n",
      "\n",
      "Saved model checkpoint to /notebooks/Project/runs/1490688831/checkpoints/model-6\n",
      "\n",
      "2017-03-28T08:15:05.138862: step 7, loss 3.83446, acc 0.55\n",
      "2017-03-28T08:15:15.056448: step 8, loss 1.81267, acc 0.77\n",
      "2017-03-28T08:15:24.944303: step 9, loss 2.53077, acc 0.65\n",
      "2017-03-28T08:15:34.703452: step 10, loss 2.40208, acc 0.66\n",
      "2017-03-28T08:15:44.848954: step 11, loss 3.26645, acc 0.6\n",
      "2017-03-28T08:15:54.648140: step 12, loss 2.08407, acc 0.698925\n",
      "\n",
      "Evaluation:\n",
      "2017-03-28T08:15:56.972684: step 12, loss 1.57439, acc 0.676923\n",
      "\n",
      "Saved model checkpoint to /notebooks/Project/runs/1490688831/checkpoints/model-12\n",
      "\n"
     ]
    }
   ],
   "source": [
    "!python ./shared_lib/train.py --label_used 'Completeness' --num_epochs 2 --batch_size 100 --evaluate_every 6 --checkpoint_every 6"
   ]
  },
  {
   "cell_type": "code",
   "execution_count": 184,
   "metadata": {
    "collapsed": false
   },
   "outputs": [
    {
     "name": "stdout",
     "output_type": "stream",
     "text": [
      "\n",
      "Parameters:\n",
      "ALLOW_SOFT_PLACEMENT=True\n",
      "BATCH_SIZE=100\n",
      "CHECKPOINT_EVERY=6\n",
      "DEV_SAMPLE_PERCENTAGE=0.1\n",
      "DROPOUT_KEEP_PROB=0.5\n",
      "EMBEDDING_DIM=128\n",
      "EVALUATE_EVERY=6\n",
      "FILTER_SIZES=3,4,5\n",
      "L2_REG_LAMBDA=0.0\n",
      "LABEL_USED=Referencing\n",
      "LOG_DEVICE_PLACEMENT=False\n",
      "NUM_CHECKPOINTS=5\n",
      "NUM_EPOCHS=2\n",
      "NUM_FILTERS=128\n",
      "UNROLLED_LSTM=False\n",
      "\n",
      "Loading data...\n",
      "Loaded rows:  658 columns:  19\n",
      "Headers:  ['id', 'news article name', 'news article', 'Fluency', 'Conciseness', 'Descriptiveness', 'Novelty', 'Completeness', 'Referencing', 'Formality', 'Richness', 'Attractiveness', 'Technicality', 'Popularity', 'Subjectivity', 'Positive Emotion', 'Negative Emotion', 'Quality', 'AnnotatorsConfidenceScore\\n']\n",
      "Using label:  Referencing\n",
      "Vocabulary Size: 28958\n",
      "Train/Dev split: 593/65\n",
      "Writing to /notebooks/Project/runs/1490688965\n",
      "\n",
      "2017-03-28T08:16:17.203155: step 1, loss 2.30994, acc 0.58\n",
      "2017-03-28T08:16:27.677301: step 2, loss 2.18345, acc 0.64\n",
      "2017-03-28T08:16:38.384132: step 3, loss 1.6091, acc 0.71\n",
      "2017-03-28T08:16:49.224524: step 4, loss 2.28439, acc 0.7\n",
      "2017-03-28T08:16:59.734912: step 5, loss 2.30871, acc 0.68\n",
      "2017-03-28T08:17:10.110375: step 6, loss 2.57914, acc 0.655914\n",
      "\n",
      "Evaluation:\n",
      "2017-03-28T08:17:12.618757: step 6, loss 1.09734, acc 0.8\n",
      "\n",
      "Saved model checkpoint to /notebooks/Project/runs/1490688965/checkpoints/model-6\n",
      "\n",
      "2017-03-28T08:17:24.150694: step 7, loss 2.13816, acc 0.73\n",
      "2017-03-28T08:17:34.991267: step 8, loss 2.1016, acc 0.67\n",
      "2017-03-28T08:17:45.926532: step 9, loss 2.40055, acc 0.61\n",
      "2017-03-28T08:17:57.328653: step 10, loss 2.2147, acc 0.57\n",
      "2017-03-28T08:18:09.383668: step 11, loss 2.39252, acc 0.51\n",
      "2017-03-28T08:18:19.839722: step 12, loss 1.80248, acc 0.655914\n",
      "\n",
      "Evaluation:\n",
      "2017-03-28T08:18:22.451708: step 12, loss 0.755305, acc 0.8\n",
      "\n",
      "Saved model checkpoint to /notebooks/Project/runs/1490688965/checkpoints/model-12\n",
      "\n"
     ]
    }
   ],
   "source": [
    "!python ./shared_lib/train.py --label_used 'Referencing' --num_epochs 2 --batch_size 100 --evaluate_every 6 --checkpoint_every 6"
   ]
  },
  {
   "cell_type": "code",
   "execution_count": 185,
   "metadata": {
    "collapsed": false
   },
   "outputs": [
    {
     "name": "stdout",
     "output_type": "stream",
     "text": [
      "\n",
      "Parameters:\n",
      "ALLOW_SOFT_PLACEMENT=True\n",
      "BATCH_SIZE=100\n",
      "CHECKPOINT_EVERY=6\n",
      "DEV_SAMPLE_PERCENTAGE=0.1\n",
      "DROPOUT_KEEP_PROB=0.5\n",
      "EMBEDDING_DIM=128\n",
      "EVALUATE_EVERY=6\n",
      "FILTER_SIZES=3,4,5\n",
      "L2_REG_LAMBDA=0.0\n",
      "LABEL_USED=Richness\n",
      "LOG_DEVICE_PLACEMENT=False\n",
      "NUM_CHECKPOINTS=5\n",
      "NUM_EPOCHS=2\n",
      "NUM_FILTERS=128\n",
      "UNROLLED_LSTM=False\n",
      "\n",
      "Loading data...\n",
      "Loaded rows:  658 columns:  19\n",
      "Headers:  ['id', 'news article name', 'news article', 'Fluency', 'Conciseness', 'Descriptiveness', 'Novelty', 'Completeness', 'Referencing', 'Formality', 'Richness', 'Attractiveness', 'Technicality', 'Popularity', 'Subjectivity', 'Positive Emotion', 'Negative Emotion', 'Quality', 'AnnotatorsConfidenceScore\\n']\n",
      "Using label:  Richness\n",
      "Vocabulary Size: 28958\n",
      "Train/Dev split: 593/65\n",
      "Writing to /notebooks/Project/runs/1490689110\n",
      "\n",
      "2017-03-28T08:18:44.148114: step 1, loss 4.46433, acc 0.39\n",
      "2017-03-28T08:18:55.061258: step 2, loss 2.39987, acc 0.58\n",
      "2017-03-28T08:19:06.395274: step 3, loss 2.55135, acc 0.54\n",
      "2017-03-28T08:19:18.129862: step 4, loss 2.47965, acc 0.71\n",
      "2017-03-28T08:19:30.250994: step 5, loss 3.18744, acc 0.7\n",
      "2017-03-28T08:19:42.553450: step 6, loss 1.79678, acc 0.774194\n",
      "\n",
      "Evaluation:\n",
      "2017-03-28T08:19:45.392330: step 6, loss 1.81347, acc 0.846154\n",
      "\n",
      "Saved model checkpoint to /notebooks/Project/runs/1490689110/checkpoints/model-6\n",
      "\n",
      "2017-03-28T08:19:57.489655: step 7, loss 2.57515, acc 0.76\n",
      "2017-03-28T08:20:09.246832: step 8, loss 2.7663, acc 0.77\n",
      "2017-03-28T08:20:21.396551: step 9, loss 1.76831, acc 0.83\n",
      "2017-03-28T08:20:33.482330: step 10, loss 2.87323, acc 0.77\n",
      "2017-03-28T08:20:45.636239: step 11, loss 2.38659, acc 0.74\n",
      "2017-03-28T08:20:56.458098: step 12, loss 1.72039, acc 0.666667\n",
      "\n",
      "Evaluation:\n",
      "2017-03-28T08:20:59.134360: step 12, loss 0.988632, acc 0.846154\n",
      "\n",
      "Saved model checkpoint to /notebooks/Project/runs/1490689110/checkpoints/model-12\n",
      "\n"
     ]
    }
   ],
   "source": [
    "!python ./shared_lib/train.py --label_used 'Richness' --num_epochs 2 --batch_size 100 --evaluate_every 6 --checkpoint_every 6"
   ]
  },
  {
   "cell_type": "code",
   "execution_count": 186,
   "metadata": {
    "collapsed": false
   },
   "outputs": [
    {
     "name": "stdout",
     "output_type": "stream",
     "text": [
      "\n",
      "Parameters:\n",
      "ALLOW_SOFT_PLACEMENT=True\n",
      "BATCH_SIZE=100\n",
      "CHECKPOINT_EVERY=6\n",
      "DEV_SAMPLE_PERCENTAGE=0.1\n",
      "DROPOUT_KEEP_PROB=0.5\n",
      "EMBEDDING_DIM=128\n",
      "EVALUATE_EVERY=6\n",
      "FILTER_SIZES=3,4,5\n",
      "L2_REG_LAMBDA=0.0\n",
      "LABEL_USED=Attractiveness\n",
      "LOG_DEVICE_PLACEMENT=False\n",
      "NUM_CHECKPOINTS=5\n",
      "NUM_EPOCHS=2\n",
      "NUM_FILTERS=128\n",
      "UNROLLED_LSTM=False\n",
      "\n",
      "Loading data...\n",
      "Loaded rows:  658 columns:  19\n",
      "Headers:  ['id', 'news article name', 'news article', 'Fluency', 'Conciseness', 'Descriptiveness', 'Novelty', 'Completeness', 'Referencing', 'Formality', 'Richness', 'Attractiveness', 'Technicality', 'Popularity', 'Subjectivity', 'Positive Emotion', 'Negative Emotion', 'Quality', 'AnnotatorsConfidenceScore\\n']\n",
      "Using label:  Attractiveness\n",
      "Vocabulary Size: 28958\n",
      "Train/Dev split: 593/65\n",
      "Writing to /notebooks/Project/runs/1490689262\n",
      "\n",
      "2017-03-28T08:21:16.556621: step 1, loss 2.12085, acc 0.55\n",
      "2017-03-28T08:21:28.201446: step 2, loss 1.96333, acc 0.67\n",
      "2017-03-28T08:21:40.375902: step 3, loss 1.31748, acc 0.79\n",
      "2017-03-28T08:21:52.039289: step 4, loss 1.7428, acc 0.82\n",
      "2017-03-28T08:22:04.018444: step 5, loss 2.25126, acc 0.8\n",
      "2017-03-28T08:22:15.283998: step 6, loss 1.57299, acc 0.892473\n",
      "\n",
      "Evaluation:\n",
      "2017-03-28T08:22:17.950015: step 6, loss 1.52575, acc 0.892308\n",
      "\n",
      "Saved model checkpoint to /notebooks/Project/runs/1490689262/checkpoints/model-6\n",
      "\n",
      "2017-03-28T08:22:30.650475: step 7, loss 2.98791, acc 0.81\n",
      "2017-03-28T08:22:41.976909: step 8, loss 1.70627, acc 0.85\n",
      "2017-03-28T08:22:52.924380: step 9, loss 1.02599, acc 0.91\n",
      "2017-03-28T08:23:03.802935: step 10, loss 1.86519, acc 0.85\n",
      "2017-03-28T08:23:14.526164: step 11, loss 1.17625, acc 0.83\n",
      "2017-03-28T08:23:24.656581: step 12, loss 1.62241, acc 0.752688\n",
      "\n",
      "Evaluation:\n",
      "2017-03-28T08:23:27.189236: step 12, loss 1.0084, acc 0.892308\n",
      "\n",
      "Saved model checkpoint to /notebooks/Project/runs/1490689262/checkpoints/model-12\n",
      "\n"
     ]
    }
   ],
   "source": [
    "!python ./shared_lib/train.py --label_used 'Attractiveness' --num_epochs 2 --batch_size 100 --evaluate_every 6 --checkpoint_every 6"
   ]
  },
  {
   "cell_type": "code",
   "execution_count": 187,
   "metadata": {
    "collapsed": false
   },
   "outputs": [
    {
     "name": "stdout",
     "output_type": "stream",
     "text": [
      "\n",
      "Parameters:\n",
      "ALLOW_SOFT_PLACEMENT=True\n",
      "BATCH_SIZE=100\n",
      "CHECKPOINT_EVERY=6\n",
      "DEV_SAMPLE_PERCENTAGE=0.1\n",
      "DROPOUT_KEEP_PROB=0.5\n",
      "EMBEDDING_DIM=128\n",
      "EVALUATE_EVERY=6\n",
      "FILTER_SIZES=3,4,5\n",
      "L2_REG_LAMBDA=0.0\n",
      "LABEL_USED=Technicality\n",
      "LOG_DEVICE_PLACEMENT=False\n",
      "NUM_CHECKPOINTS=5\n",
      "NUM_EPOCHS=2\n",
      "NUM_FILTERS=128\n",
      "UNROLLED_LSTM=False\n",
      "\n",
      "Loading data...\n",
      "Loaded rows:  658 columns:  19\n",
      "Headers:  ['id', 'news article name', 'news article', 'Fluency', 'Conciseness', 'Descriptiveness', 'Novelty', 'Completeness', 'Referencing', 'Formality', 'Richness', 'Attractiveness', 'Technicality', 'Popularity', 'Subjectivity', 'Positive Emotion', 'Negative Emotion', 'Quality', 'AnnotatorsConfidenceScore\\n']\n",
      "Using label:  Technicality\n",
      "Vocabulary Size: 28958\n",
      "Train/Dev split: 593/65\n",
      "Writing to /notebooks/Project/runs/1490689410\n",
      "\n",
      "2017-03-28T08:23:43.178645: step 1, loss 2.01603, acc 0.62\n",
      "2017-03-28T08:23:53.658817: step 2, loss 1.69244, acc 0.71\n",
      "2017-03-28T08:24:04.027660: step 3, loss 1.09567, acc 0.78\n",
      "2017-03-28T08:24:14.781153: step 4, loss 1.35579, acc 0.88\n",
      "2017-03-28T08:24:25.384630: step 5, loss 2.39698, acc 0.85\n",
      "2017-03-28T08:24:35.385520: step 6, loss 1.63281, acc 0.870968\n",
      "\n",
      "Evaluation:\n",
      "2017-03-28T08:24:37.842266: step 6, loss 1.85398, acc 0.861538\n",
      "\n",
      "Saved model checkpoint to /notebooks/Project/runs/1490689410/checkpoints/model-6\n",
      "\n",
      "2017-03-28T08:24:49.538289: step 7, loss 1.433, acc 0.87\n",
      "2017-03-28T08:25:00.783150: step 8, loss 1.52801, acc 0.87\n",
      "2017-03-28T08:25:11.542934: step 9, loss 2.25245, acc 0.84\n",
      "2017-03-28T08:25:22.347244: step 10, loss 0.92203, acc 0.89\n",
      "2017-03-28T08:25:32.865067: step 11, loss 1.68659, acc 0.83\n",
      "2017-03-28T08:25:42.833978: step 12, loss 1.50892, acc 0.827957\n",
      "\n",
      "Evaluation:\n",
      "2017-03-28T08:25:45.137769: step 12, loss 0.931201, acc 0.861538\n",
      "\n",
      "Saved model checkpoint to /notebooks/Project/runs/1490689410/checkpoints/model-12\n",
      "\n"
     ]
    }
   ],
   "source": [
    "!python ./shared_lib/train.py --label_used 'Technicality' --num_epochs 2 --batch_size 100 --evaluate_every 6 --checkpoint_every 6"
   ]
  },
  {
   "cell_type": "code",
   "execution_count": 188,
   "metadata": {
    "collapsed": false
   },
   "outputs": [
    {
     "name": "stdout",
     "output_type": "stream",
     "text": [
      "\n",
      "Parameters:\n",
      "ALLOW_SOFT_PLACEMENT=True\n",
      "BATCH_SIZE=100\n",
      "CHECKPOINT_EVERY=6\n",
      "DEV_SAMPLE_PERCENTAGE=0.1\n",
      "DROPOUT_KEEP_PROB=0.5\n",
      "EMBEDDING_DIM=128\n",
      "EVALUATE_EVERY=6\n",
      "FILTER_SIZES=3,4,5\n",
      "L2_REG_LAMBDA=0.0\n",
      "LABEL_USED=Popularity\n",
      "LOG_DEVICE_PLACEMENT=False\n",
      "NUM_CHECKPOINTS=5\n",
      "NUM_EPOCHS=2\n",
      "NUM_FILTERS=128\n",
      "UNROLLED_LSTM=False\n",
      "\n",
      "Loading data...\n",
      "Loaded rows:  658 columns:  19\n",
      "Headers:  ['id', 'news article name', 'news article', 'Fluency', 'Conciseness', 'Descriptiveness', 'Novelty', 'Completeness', 'Referencing', 'Formality', 'Richness', 'Attractiveness', 'Technicality', 'Popularity', 'Subjectivity', 'Positive Emotion', 'Negative Emotion', 'Quality', 'AnnotatorsConfidenceScore\\n']\n",
      "Using label:  Popularity\n",
      "Vocabulary Size: 28958\n",
      "Train/Dev split: 593/65\n",
      "Writing to /notebooks/Project/runs/1490689548\n",
      "\n",
      "2017-03-28T08:26:00.890666: step 1, loss 10.6421, acc 0.2\n",
      "2017-03-28T08:26:11.408640: step 2, loss 7.53289, acc 0.28\n",
      "2017-03-28T08:26:21.886740: step 3, loss 5.38345, acc 0.32\n",
      "2017-03-28T08:26:32.539786: step 4, loss 3.11158, acc 0.44\n",
      "2017-03-28T08:26:43.201803: step 5, loss 1.73898, acc 0.64\n",
      "2017-03-28T08:26:53.013690: step 6, loss 1.64472, acc 0.774194\n",
      "\n",
      "Evaluation:\n",
      "2017-03-28T08:26:55.355186: step 6, loss 1.32643, acc 0.861538\n",
      "\n",
      "Saved model checkpoint to /notebooks/Project/runs/1490689548/checkpoints/model-6\n",
      "\n",
      "2017-03-28T08:27:06.577383: step 7, loss 1.61149, acc 0.81\n",
      "2017-03-28T08:27:17.221547: step 8, loss 1.77761, acc 0.85\n",
      "2017-03-28T08:27:27.849915: step 9, loss 1.58315, acc 0.87\n",
      "2017-03-28T08:27:38.851346: step 10, loss 2.00955, acc 0.87\n",
      "2017-03-28T08:27:49.468484: step 11, loss 2.99539, acc 0.82\n",
      "2017-03-28T08:27:59.298889: step 12, loss 2.96139, acc 0.83871\n",
      "\n",
      "Evaluation:\n",
      "2017-03-28T08:28:01.689552: step 12, loss 2.5033, acc 0.861538\n",
      "\n",
      "Saved model checkpoint to /notebooks/Project/runs/1490689548/checkpoints/model-12\n",
      "\n"
     ]
    }
   ],
   "source": [
    "!python ./shared_lib/train.py --label_used 'Popularity' --num_epochs 2 --batch_size 100 --evaluate_every 6 --checkpoint_every 6"
   ]
  },
  {
   "cell_type": "code",
   "execution_count": 189,
   "metadata": {
    "collapsed": false
   },
   "outputs": [
    {
     "name": "stdout",
     "output_type": "stream",
     "text": [
      "\n",
      "Parameters:\n",
      "ALLOW_SOFT_PLACEMENT=True\n",
      "BATCH_SIZE=100\n",
      "CHECKPOINT_EVERY=6\n",
      "DEV_SAMPLE_PERCENTAGE=0.1\n",
      "DROPOUT_KEEP_PROB=0.5\n",
      "EMBEDDING_DIM=128\n",
      "EVALUATE_EVERY=6\n",
      "FILTER_SIZES=3,4,5\n",
      "L2_REG_LAMBDA=0.0\n",
      "LABEL_USED=Subjectivity\n",
      "LOG_DEVICE_PLACEMENT=False\n",
      "NUM_CHECKPOINTS=5\n",
      "NUM_EPOCHS=2\n",
      "NUM_FILTERS=128\n",
      "UNROLLED_LSTM=False\n",
      "\n",
      "Loading data...\n",
      "Loaded rows:  658 columns:  19\n",
      "Headers:  ['id', 'news article name', 'news article', 'Fluency', 'Conciseness', 'Descriptiveness', 'Novelty', 'Completeness', 'Referencing', 'Formality', 'Richness', 'Attractiveness', 'Technicality', 'Popularity', 'Subjectivity', 'Positive Emotion', 'Negative Emotion', 'Quality', 'AnnotatorsConfidenceScore\\n']\n",
      "Using label:  Subjectivity\n",
      "Vocabulary Size: 28958\n",
      "Train/Dev split: 593/65\n",
      "Writing to /notebooks/Project/runs/1490689684\n",
      "\n",
      "2017-03-28T08:28:17.234716: step 1, loss 0.894351, acc 0.79\n",
      "2017-03-28T08:28:27.838678: step 2, loss 0.469354, acc 0.93\n",
      "2017-03-28T08:28:38.848903: step 3, loss 1.07141, acc 0.88\n",
      "2017-03-28T08:28:49.470949: step 4, loss 0.26004, acc 0.99\n",
      "2017-03-28T08:29:00.197115: step 5, loss 0.375137, acc 0.98\n",
      "2017-03-28T08:29:10.221475: step 6, loss 0.438843, acc 0.967742\n",
      "\n",
      "Evaluation:\n",
      "2017-03-28T08:29:12.610163: step 6, loss 1.48331, acc 0.923077\n",
      "\n",
      "Saved model checkpoint to /notebooks/Project/runs/1490689684/checkpoints/model-6\n",
      "\n",
      "2017-03-28T08:29:23.690830: step 7, loss 0.882964, acc 0.97\n",
      "2017-03-28T08:29:34.413253: step 8, loss 0.333361, acc 0.98\n",
      "2017-03-28T08:29:45.149313: step 9, loss 0.421827, acc 0.99\n",
      "2017-03-28T08:29:55.725502: step 10, loss 1.11157, acc 0.95\n",
      "2017-03-28T08:30:06.614090: step 11, loss 0.486546, acc 0.97\n",
      "2017-03-28T08:30:16.589263: step 12, loss 0.341628, acc 0.978495\n",
      "\n",
      "Evaluation:\n",
      "2017-03-28T08:30:18.995688: step 12, loss 1.32433, acc 0.923077\n",
      "\n",
      "Saved model checkpoint to /notebooks/Project/runs/1490689684/checkpoints/model-12\n",
      "\n"
     ]
    }
   ],
   "source": [
    "!python ./shared_lib/train.py --label_used 'Subjectivity' --num_epochs 2 --batch_size 100 --evaluate_every 6 --checkpoint_every 6"
   ]
  },
  {
   "cell_type": "code",
   "execution_count": 190,
   "metadata": {
    "collapsed": false
   },
   "outputs": [
    {
     "name": "stdout",
     "output_type": "stream",
     "text": [
      "\n",
      "Parameters:\n",
      "ALLOW_SOFT_PLACEMENT=True\n",
      "BATCH_SIZE=100\n",
      "CHECKPOINT_EVERY=6\n",
      "DEV_SAMPLE_PERCENTAGE=0.1\n",
      "DROPOUT_KEEP_PROB=0.5\n",
      "EMBEDDING_DIM=128\n",
      "EVALUATE_EVERY=6\n",
      "FILTER_SIZES=3,4,5\n",
      "L2_REG_LAMBDA=0.0\n",
      "LABEL_USED=Positive Emotion\n",
      "LOG_DEVICE_PLACEMENT=False\n",
      "NUM_CHECKPOINTS=5\n",
      "NUM_EPOCHS=2\n",
      "NUM_FILTERS=128\n",
      "UNROLLED_LSTM=False\n",
      "\n",
      "Loading data...\n",
      "Loaded rows:  658 columns:  19\n",
      "Headers:  ['id', 'news article name', 'news article', 'Fluency', 'Conciseness', 'Descriptiveness', 'Novelty', 'Completeness', 'Referencing', 'Formality', 'Richness', 'Attractiveness', 'Technicality', 'Popularity', 'Subjectivity', 'Positive Emotion', 'Negative Emotion', 'Quality', 'AnnotatorsConfidenceScore\\n']\n",
      "Using label:  Positive Emotion\n",
      "Vocabulary Size: 28958\n",
      "Train/Dev split: 593/65\n",
      "Writing to /notebooks/Project/runs/1490689822\n",
      "\n",
      "2017-03-28T08:30:34.989943: step 1, loss 1.44619, acc 0.71\n",
      "2017-03-28T08:30:45.585857: step 2, loss 1.00441, acc 0.82\n",
      "2017-03-28T08:30:55.949278: step 3, loss 0.410693, acc 0.95\n",
      "2017-03-28T08:31:06.320109: step 4, loss 0.405161, acc 0.97\n",
      "2017-03-28T08:31:16.883772: step 5, loss 0.0213893, acc 0.99\n",
      "2017-03-28T08:31:26.762041: step 6, loss 0.191834, acc 0.967742\n",
      "\n",
      "Evaluation:\n",
      "2017-03-28T08:31:29.160412: step 6, loss 0.607633, acc 0.969231\n",
      "\n",
      "Saved model checkpoint to /notebooks/Project/runs/1490689822/checkpoints/model-6\n",
      "\n",
      "2017-03-28T08:31:40.234843: step 7, loss 0.491077, acc 0.97\n",
      "2017-03-28T08:31:50.598504: step 8, loss 0.497744, acc 0.98\n",
      "2017-03-28T08:32:00.921843: step 9, loss 0.207703, acc 0.98\n",
      "2017-03-28T08:32:11.340331: step 10, loss 0.481131, acc 0.98\n",
      "2017-03-28T08:32:21.737868: step 11, loss 0.289575, acc 0.99\n",
      "2017-03-28T08:32:31.767906: step 12, loss 0.592994, acc 0.978495\n",
      "\n",
      "Evaluation:\n",
      "2017-03-28T08:32:34.072502: step 12, loss 0.750635, acc 0.969231\n",
      "\n",
      "Saved model checkpoint to /notebooks/Project/runs/1490689822/checkpoints/model-12\n",
      "\n"
     ]
    }
   ],
   "source": [
    "!python ./shared_lib/train.py --label_used 'Positive Emotion' --num_epochs 2 --batch_size 100 --evaluate_every 6 --checkpoint_every 6"
   ]
  },
  {
   "cell_type": "code",
   "execution_count": 191,
   "metadata": {
    "collapsed": false
   },
   "outputs": [
    {
     "name": "stdout",
     "output_type": "stream",
     "text": [
      "\n",
      "Parameters:\n",
      "ALLOW_SOFT_PLACEMENT=True\n",
      "BATCH_SIZE=100\n",
      "CHECKPOINT_EVERY=6\n",
      "DEV_SAMPLE_PERCENTAGE=0.1\n",
      "DROPOUT_KEEP_PROB=0.5\n",
      "EMBEDDING_DIM=128\n",
      "EVALUATE_EVERY=6\n",
      "FILTER_SIZES=3,4,5\n",
      "L2_REG_LAMBDA=0.0\n",
      "LABEL_USED=Negative Emotion\n",
      "LOG_DEVICE_PLACEMENT=False\n",
      "NUM_CHECKPOINTS=5\n",
      "NUM_EPOCHS=2\n",
      "NUM_FILTERS=128\n",
      "UNROLLED_LSTM=False\n",
      "\n",
      "Loading data...\n",
      "Loaded rows:  658 columns:  19\n",
      "Headers:  ['id', 'news article name', 'news article', 'Fluency', 'Conciseness', 'Descriptiveness', 'Novelty', 'Completeness', 'Referencing', 'Formality', 'Richness', 'Attractiveness', 'Technicality', 'Popularity', 'Subjectivity', 'Positive Emotion', 'Negative Emotion', 'Quality', 'AnnotatorsConfidenceScore\\n']\n",
      "Using label:  Negative Emotion\n",
      "Vocabulary Size: 28915\n",
      "Train/Dev split: 591/65\n",
      "Writing to /notebooks/Project/runs/1490689957\n",
      "\n",
      "2017-03-28T08:32:50.410684: step 1, loss 7.86725, acc 0.17\n",
      "2017-03-28T08:33:00.967757: step 2, loss 6.06809, acc 0.2\n",
      "2017-03-28T08:33:11.453514: step 3, loss 3.35116, acc 0.41\n",
      "2017-03-28T08:33:22.012115: step 4, loss 1.38086, acc 0.64\n",
      "2017-03-28T08:33:32.525344: step 5, loss 0.86797, acc 0.84\n",
      "2017-03-28T08:33:42.200291: step 6, loss 0.577536, acc 0.912088\n",
      "\n",
      "Evaluation:\n",
      "2017-03-28T08:33:44.585310: step 6, loss 0.388951, acc 0.969231\n",
      "\n",
      "Saved model checkpoint to /notebooks/Project/runs/1490689957/checkpoints/model-6\n",
      "\n",
      "2017-03-28T08:33:55.826928: step 7, loss 0.183465, acc 0.96\n",
      "2017-03-28T08:34:06.442641: step 8, loss 1.13507, acc 0.93\n",
      "2017-03-28T08:34:16.874225: step 9, loss 0.808525, acc 0.94\n",
      "2017-03-28T08:34:27.452305: step 10, loss 1.56726, acc 0.91\n",
      "2017-03-28T08:34:38.230423: step 11, loss 1.25362, acc 0.92\n",
      "2017-03-28T08:34:47.849997: step 12, loss 1.39506, acc 0.945055\n",
      "\n",
      "Evaluation:\n",
      "2017-03-28T08:34:50.382200: step 12, loss 0.696416, acc 0.969231\n",
      "\n",
      "Saved model checkpoint to /notebooks/Project/runs/1490689957/checkpoints/model-12\n",
      "\n"
     ]
    }
   ],
   "source": [
    "!python ./shared_lib/train.py --label_used 'Negative Emotion' --num_epochs 2 --batch_size 100 --evaluate_every 6 --checkpoint_every 6"
   ]
  },
  {
   "cell_type": "code",
   "execution_count": 192,
   "metadata": {
    "collapsed": false
   },
   "outputs": [
    {
     "name": "stdout",
     "output_type": "stream",
     "text": [
      "\n",
      "Parameters:\n",
      "ALLOW_SOFT_PLACEMENT=True\n",
      "BATCH_SIZE=100\n",
      "CHECKPOINT_EVERY=6\n",
      "DEV_SAMPLE_PERCENTAGE=0.1\n",
      "DROPOUT_KEEP_PROB=0.5\n",
      "EMBEDDING_DIM=128\n",
      "EVALUATE_EVERY=6\n",
      "FILTER_SIZES=3,4,5\n",
      "L2_REG_LAMBDA=0.0\n",
      "LABEL_USED=Quality\n",
      "LOG_DEVICE_PLACEMENT=False\n",
      "NUM_CHECKPOINTS=5\n",
      "NUM_EPOCHS=2\n",
      "NUM_FILTERS=128\n",
      "UNROLLED_LSTM=False\n",
      "\n",
      "Loading data...\n",
      "Loaded rows:  658 columns:  19\n",
      "Headers:  ['id', 'news article name', 'news article', 'Fluency', 'Conciseness', 'Descriptiveness', 'Novelty', 'Completeness', 'Referencing', 'Formality', 'Richness', 'Attractiveness', 'Technicality', 'Popularity', 'Subjectivity', 'Positive Emotion', 'Negative Emotion', 'Quality', 'AnnotatorsConfidenceScore\\n']\n",
      "Using label:  Quality\n",
      "Vocabulary Size: 28906\n",
      "Train/Dev split: 591/65\n",
      "Writing to /notebooks/Project/runs/1490690093\n",
      "\n",
      "2017-03-28T08:35:06.042793: step 1, loss 1.96128, acc 0.76\n",
      "2017-03-28T08:35:16.438164: step 2, loss 1.79726, acc 0.64\n",
      "2017-03-28T08:35:26.794328: step 3, loss 2.0105, acc 0.69\n",
      "2017-03-28T08:35:37.235779: step 4, loss 1.80803, acc 0.63\n",
      "2017-03-28T08:35:47.854008: step 5, loss 1.40464, acc 0.66\n",
      "2017-03-28T08:35:57.392764: step 6, loss 2.27546, acc 0.703297\n",
      "\n",
      "Evaluation:\n",
      "2017-03-28T08:35:59.743310: step 6, loss 1.06806, acc 0.846154\n",
      "\n",
      "Saved model checkpoint to /notebooks/Project/runs/1490690093/checkpoints/model-6\n",
      "\n",
      "2017-03-28T08:36:10.716744: step 7, loss 2.72485, acc 0.66\n",
      "2017-03-28T08:36:21.483736: step 8, loss 1.68344, acc 0.73\n",
      "2017-03-28T08:36:31.902552: step 9, loss 1.39383, acc 0.8\n",
      "2017-03-28T08:36:42.567558: step 10, loss 1.92066, acc 0.69\n",
      "2017-03-28T08:36:53.117966: step 11, loss 1.68002, acc 0.65\n",
      "2017-03-28T08:37:02.819238: step 12, loss 1.14094, acc 0.747253\n",
      "\n",
      "Evaluation:\n",
      "2017-03-28T08:37:05.278751: step 12, loss 0.95889, acc 0.846154\n",
      "\n",
      "Saved model checkpoint to /notebooks/Project/runs/1490690093/checkpoints/model-12\n",
      "\n"
     ]
    }
   ],
   "source": [
    "!python ./shared_lib/train.py --label_used 'Quality' --num_epochs 2 --batch_size 100 --evaluate_every 6 --checkpoint_every 6"
   ]
  },
  {
   "cell_type": "code",
   "execution_count": null,
   "metadata": {
    "collapsed": true
   },
   "outputs": [],
   "source": []
  }
 ],
 "metadata": {
  "anaconda-cloud": {},
  "kernelspec": {
   "display_name": "Python 2",
   "language": "python",
   "name": "python2"
  },
  "language_info": {
   "codemirror_mode": {
    "name": "ipython",
    "version": 2
   },
   "file_extension": ".py",
   "mimetype": "text/x-python",
   "name": "python",
   "nbconvert_exporter": "python",
   "pygments_lexer": "ipython2",
   "version": "2.7.6"
  }
 },
 "nbformat": 4,
 "nbformat_minor": 1
}
