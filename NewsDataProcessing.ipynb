{
 "cells": [
  {
   "cell_type": "code",
   "execution_count": 1,
   "metadata": {
    "collapsed": false,
    "deletable": true,
    "editable": true
   },
   "outputs": [],
   "source": [
    "\n",
    "#clear directory \n",
    "!rm -r ./YahooNews/YahooNewsQualityDataset-v0.8\n",
    "!rm ./Kaggle/fake.csv"
   ]
  },
  {
   "cell_type": "code",
   "execution_count": 2,
   "metadata": {
    "collapsed": true,
    "deletable": true,
    "editable": true
   },
   "outputs": [],
   "source": [
    "\n",
    "\n",
    "import zipfile\n",
    "zip_ref1 = zipfile.ZipFile('./YahooNews/YahooNewsQualityDataset-v0.8.zip', 'r')\n",
    "zip_ref1.extractall('./YahooNews/')\n",
    "zip_ref1.close()\n",
    "\n",
    "\n",
    "zip_ref2 = zipfile.ZipFile('./Kaggle/fake-news.zip', 'r')\n",
    "zip_ref2.extractall('./Kaggle/')\n",
    "zip_ref2.close()"
   ]
  },
  {
   "cell_type": "code",
   "execution_count": 3,
   "metadata": {
    "collapsed": false,
    "deletable": true,
    "editable": true
   },
   "outputs": [
    {
     "name": "stdout",
     "output_type": "stream",
     "text": [
      "annotators.xlsx  excel_dataset.py  news.tsv\n",
      "dataset\t\t methodology\t   sentences.tsv\n",
      "fake-news.zip  fake.csv\n"
     ]
    }
   ],
   "source": [
    "!ls ./YahooNews/YahooNewsQualityDataset-v0.8\n",
    "!ls ./Kaggle/"
   ]
  },
  {
   "cell_type": "code",
   "execution_count": 4,
   "metadata": {
    "collapsed": false,
    "deletable": true,
    "editable": true
   },
   "outputs": [],
   "source": [
    "import numpy as np \n",
    "import os\n",
    "folder = 'YahooNews/YahooNewsQualityDataset-v0.8/'\n",
    "news_tsv_folder = os.path.join(os.getcwd(),folder+'dataset/tsvFiles/withText-body/')\n",
    "sentences_tsv_folder = os.path.join(os.getcwd(),folder+'dataset/tsvFiles/withText-sentences/')\n",
    "\n",
    "news_csv = os.path.join(os.getcwd(),'news.csv')\n",
    "sentences_csv = os.path.join(os.getcwd(),'sentences.csv')\n",
    "\n",
    "news_csv_out = open(news_csv, 'w')\n",
    "sentences_csv_out = open(sentences_csv, 'w')\n",
    "\n",
    "# write headers\n",
    "news_csv_out.write('id\\tnews article name\\tnews article\\tFluency\\tConciseness\\tDescriptiveness\\tNovelty\\tCompleteness\\t')\n",
    "news_csv_out.write('Referencing\\tFormality\\tRichness\\tAttractiveness\\tTechnicality\\tPopularity\\tSubjectivity\\t')\n",
    "news_csv_out.write('Positive Emotion\\tNegative Emotion\\tQuality\\tAnnotatorsConfidenceScore\\n')\n",
    "\n",
    "news_article_names = {}\n",
    "\n",
    "curr_id = 1 \n",
    "for filename in os.listdir(news_tsv_folder):\n",
    "\tcurr_file = open(os.path.join(news_tsv_folder, filename), 'r')\n",
    "\tline = curr_file.readline().replace('\\n','').replace('\\r','')\n",
    "\tline = line.split('\\t')\n",
    "\tnews_article_name = filename.replace('-sentences.txt','').replace('_sentences.txt','').replace('-body.txt','').replace('_body.txt','')\n",
    "\tnews_article_names[news_article_name] = curr_id\n",
    "\tnews_article = line[0]\n",
    "\tFluency = line[1]\n",
    "\tConciseness = line[2]\n",
    "\tDescriptiveness = line[3]\n",
    "\tNovelty = line[4]\n",
    "\tCompleteness = line[5]\n",
    "\tReferencing = line[6]\n",
    "\tFormality = line[7]\n",
    "\tRichness = line[8]\n",
    "\tAttractiveness = line[9]\n",
    "\tTechnicality = line[10]\n",
    "\tPopularity = line[11]\n",
    "\tSubjectivity = line[12]\n",
    "\tPositive_Emotion = line[13]\n",
    "\tNegative_Emotion = line[14]\n",
    "\tQuality = line[15]\n",
    "\tif len(line) == 17:\n",
    "\t\tAnnotatorsConfidenceScore = line[16]\n",
    "\telse:\n",
    "\t\tAnnotatorsConfidenceScore = ''\n",
    "\tnews_csv_out.write(str(curr_id)+'\\t'+news_article_name+'\\t'+news_article+'\\t'+Fluency+'\\t'+Conciseness+'\\t'+Descriptiveness+'\\t'+Novelty+'\\t'+Completeness+'\\t')\n",
    "\tnews_csv_out.write(Referencing+'\\t'+Formality+'\\t'+Richness+'\\t'+Attractiveness+'\\t'+Technicality+'\\t')\n",
    "\tnews_csv_out.write(Popularity+'\\t'+Subjectivity+'\\t'+Positive_Emotion+'\\t'+Negative_Emotion+'\\t'+Quality+'\\t'+AnnotatorsConfidenceScore+'\\n')\n",
    "\tcurr_id = curr_id + 1\n",
    "\tcurr_file.close()\n",
    "news_csv_out.close()\n",
    "\n",
    "# write headers\n",
    "sentences_csv_out.write('id\\tnews article name\\tSentence\\tSubjectivity\\tPositivity\\tNegativity\\t')\n",
    "sentences_csv_out.write('Ignore sentence (I) or sentence Splitting issue (S)\\tAnnotatorsConfidenceScore\\n')\n",
    "for filename in os.listdir(sentences_tsv_folder):\n",
    "\tcurr_file = open(os.path.join(sentences_tsv_folder, filename), 'r')\n",
    "\tnews_article_name = filename.replace('-sentences.txt','').replace('_sentences.txt','').replace('-body.txt','').replace('_body.txt','')\n",
    "\tcurr_id = news_article_names[news_article_name]\n",
    "\twhile 1:\t\n",
    "\t\tsentence = curr_file.readline()\n",
    "\t\tif not sentence:break\n",
    "\t\tline = sentence.replace('\\n','').replace('\\r','').split('\\t')\n",
    "\t\tif len(line) == 1:break\n",
    "\t\tnews_article = line[0]\n",
    "\t\tsentence = line[1]\n",
    "\t\tsubjectivity = line[2]\n",
    "\t\tpositivity = line[3]\n",
    "\t\tnegativity = line[4]\n",
    "\t\tif len(line) == 6:\n",
    "\t\t\tI_S = line[5]\n",
    "\t\telse:\n",
    "\t\t\tI_S = ''\n",
    "\t\tif len(line) == 7:\n",
    "\t\t\tannotatorsConfidenceScore = line[6]\n",
    "\t\telse:\n",
    "\t\t\tannotatorsConfidenceScore = ''\n",
    "\t\tsentences_csv_out.write(str(curr_id)+'\\t'+news_article_name+'\\t'+news_article+'\\t'+sentence+'\\t'+subjectivity+'\\t')\n",
    "\t\tsentences_csv_out.write(positivity+'\\t'+negativity+'\\t'+I_S+'\\t'+annotatorsConfidenceScore+'\\n')\n",
    "\tcurr_file.close()\n",
    "sentences_csv_out.close()\n",
    "\n",
    "\n"
   ]
  },
  {
   "cell_type": "code",
   "execution_count": 5,
   "metadata": {
    "collapsed": false,
    "deletable": true,
    "editable": true
   },
   "outputs": [],
   "source": [
    "import csv\n",
    "header = []\n",
    "articleData = []\n",
    "with open('news.csv', 'rb') as f:\n",
    "    for line in f:\n",
    "        if len(header) == 0:\n",
    "            header = line.split('\\t')\n",
    "        else:\n",
    "            articleData.append(line.split('\\t'))\n",
    "    "
   ]
  },
  {
   "cell_type": "code",
   "execution_count": 6,
   "metadata": {
    "collapsed": false,
    "deletable": true,
    "editable": true
   },
   "outputs": [
    {
     "name": "stdout",
     "output_type": "stream",
     "text": [
      "658 19\n",
      "['id', 'news article name', 'news article', 'Fluency', 'Conciseness', 'Descriptiveness', 'Novelty', 'Completeness', 'Referencing', 'Formality', 'Richness', 'Attractiveness', 'Technicality', 'Popularity', 'Subjectivity', 'Positive Emotion', 'Negative Emotion', 'Quality', 'AnnotatorsConfidenceScore\\n']\n"
     ]
    }
   ],
   "source": [
    "\n",
    "columns = len(header)\n",
    "rows = len(articleData)\n",
    "print rows, columns\n",
    "print header"
   ]
  },
  {
   "cell_type": "code",
   "execution_count": 7,
   "metadata": {
    "collapsed": false,
    "deletable": true,
    "editable": true
   },
   "outputs": [
    {
     "name": "stdout",
     "output_type": "stream",
     "text": [
      "['346', 'two-suicide-bombers-hit-somali-capital-witnesses-155930402', 'MOGADISHU (Reuters) - Two suicide bombers walked into a restaurant in central Mogadishu and blew themselves killing at least six people, witnesses said, less than a week after militant bombers targeted the country\\'s new president.A Reuters photographer said he could see six bodies as well as the severed heads of the two bombers. Chairs and tables were strewn across the restaurant and pools of blood covered the flooring.\"Two suicide bombers targeted a restaurant called \\'The Village\\' opposite the theatre. There are bodies and there are wounded people,\" said Mohamed Sheikh, a security guard at the National Theatre located opposite the blast site.The election of President Hassan Sheikh Mohamud last week was hailed by his supporters as a vote for change in a country mired in conflict for more than two decades.But the latest attacks underscore the security challenges the political newcomer faces as African forces battle to quash a five-year insurgency waged by the Islamist rebel group, al Shabaab.The restaurant, called \"The Village\", is owned by a well known Somali businessman who returned to Somalia from Britain recently.(Reporting by Abdi Sheikh and Mohamed Ahmed; Writing by Richard Lough; Editing by James Macharia)', '2', '3', '3', '3', '2', '2', '2', '2', '2', '2', '3', '2', '1', '4', '2', '4\\n']\n"
     ]
    }
   ],
   "source": [
    "print articleData[345]"
   ]
  },
  {
   "cell_type": "code",
   "execution_count": 8,
   "metadata": {
    "collapsed": false,
    "deletable": true,
    "editable": true
   },
   "outputs": [
    {
     "name": "stdout",
     "output_type": "stream",
     "text": [
      "[7, 606, 592, 56, 391, 434, 350, 409, 550, 255, 33, 212, 458, 174, 318, 281, 383, 49, 277, 444, 558, 42, 327, 239, 519, 599, 605, 411, 141, 62, 135, 194, 120, 437, 293, 254, 16, 15, 78, 76, 483, 270, 427, 113, 285, 4, 568, 179, 461, 172, 213, 543, 582, 344, 588, 324, 24, 52, 547, 372, 240, 264, 490, 106, 110, 306, 102, 642, 263, 251, 635, 408, 561, 71, 349, 355, 199, 354, 493, 474, 533, 480, 425, 377, 95, 585, 170, 479, 185, 315, 361, 72, 91, 322, 646, 587, 595, 210, 148, 17, 426, 509, 513, 451, 111, 430, 379, 142, 192, 520, 617, 497, 262, 175, 128, 326, 46, 347, 145, 524, 258, 19, 486, 353, 498, 97, 618, 227, 517, 22, 338]\n"
     ]
    }
   ],
   "source": [
    "from random import shuffle\n",
    "rowid = range(0, rows)\n",
    "shuffle(rowid)\n",
    "trainid = []\n",
    "testid = []\n",
    "ratio = 0.8\n",
    "for i in range(0, rows):\n",
    "    if i < rows * ratio:\n",
    "        trainid.append(rowid[i])\n",
    "    else:\n",
    "        testid.append(rowid[i])\n",
    "\n",
    "print testid"
   ]
  },
  {
   "cell_type": "code",
   "execution_count": 99,
   "metadata": {
    "collapsed": false,
    "deletable": true,
    "editable": true
   },
   "outputs": [],
   "source": [
    "# Load data from facebook dataset\n",
    "def load_facebook_data():\n",
    "    articleData = []\n",
    "    labelStrs = []\n",
    "    with open('./text_and_labels.tsv', 'rb') as f:\n",
    "        for line in f:\n",
    "            articleData.append(line.split('\\t'))\n",
    "    columns = 2\n",
    "    rows = len(articleData)\n",
    "    print 'Loaded rows: ', rows,'columns: ', columns\n",
    "    \n",
    "    texts = []\n",
    "    targets = []\n",
    "    for i in range(0, rows):\n",
    "        labelStr = articleData[i][1]\n",
    "        if labelStr != '':\n",
    "            texts.append(articleData[i][0])\n",
    "            if labelStr not in labelStrs:\n",
    "                labelStrs.append(labelStr)\n",
    "                \n",
    "            #change\n",
    "            \n",
    "            if labelStr.startswith('mostly true'):\n",
    "                target = 5\n",
    "            if labelStr.startswith('mixture of true and false'):\n",
    "                target = 4\n",
    "            if labelStr.startswith('no factual content'):\n",
    "                target = 3;\n",
    "            if labelStr.startswith('mostly false'):\n",
    "                target = 2;\n",
    "            \n",
    "            labels = [1]\n",
    "            if target <= 3:\n",
    "                labels = [0]\n",
    "            targets.append(labels)\n",
    "    y = np.concatenate(targets, 0)\n",
    "    print 'Labels evaluated ', labelStrs\n",
    "    return (texts, y)\n",
    "        "
   ]
  },
  {
   "cell_type": "code",
   "execution_count": 100,
   "metadata": {
    "collapsed": false,
    "deletable": true,
    "editable": true
   },
   "outputs": [
    {
     "name": "stdout",
     "output_type": "stream",
     "text": [
      "Loaded rows:  159 columns:  2\n",
      "Labels evaluated  ['mostly true\\r\\n', 'mixture of true and false\\r\\n', 'no factual content\\r\\n', 'mostly false\\r\\n', 'mostly true']\n",
      "[1 1 1 1 1 1 1 1 1 1 1 1 1 1 1 1 1 1 1 1 1 1 1 1 1 1 1 1 1 1 1 1 1 1 0 0 1\n",
      " 1 1 1 0 1 1 1 1 1 1 0 1 1 1 0 1 0 1 1 1 1 1 1 0 1 1 1 0 1 0 0 0 1 1 1 0 0\n",
      " 1 1 0 1 0 0 0 1 0 0 1 1 1 0 1 1 1 1 1 0 0 0 0 0 0 1 0 0 0 0 0 0 1 1 0 1 0\n",
      " 1 0 0 1 0 1 1 1 1 1 1 1 1 1 1 1 1 1 0 1 1 0 0 1 1 1 1 1 1 1 1 1 1 1 1 1 1\n",
      " 1 1 1 1 1 1 1 1 1 1 1]\n"
     ]
    }
   ],
   "source": [
    "(texts, targets) = load_facebook_data()\n",
    "print targets"
   ]
  },
  {
   "cell_type": "code",
   "execution_count": 11,
   "metadata": {
    "collapsed": false,
    "deletable": true,
    "editable": true
   },
   "outputs": [
    {
     "name": "stdout",
     "output_type": "stream",
     "text": [
      "\n",
      "Parameters:\n",
      "ALLOW_SOFT_PLACEMENT=True\n",
      "BATCH_SIZE=100\n",
      "CHECKPOINT_EVERY=6\n",
      "DEV_SAMPLE_PERCENTAGE=0.1\n",
      "DROPOUT_KEEP_PROB=0.5\n",
      "EMBEDDING_DIM=128\n",
      "EVALUATE_EVERY=6\n",
      "FILTER_SIZES=3,4,5\n",
      "L2_REG_LAMBDA=0.0\n",
      "LABEL_USED=Formality\n",
      "LOG_DEVICE_PLACEMENT=False\n",
      "NUM_CHECKPOINTS=5\n",
      "NUM_EPOCHS=2\n",
      "NUM_FILTERS=128\n",
      "UNROLLED_LSTM=False\n",
      "\n",
      "Loading data...\n",
      "Loaded rows:  658 columns:  19\n",
      "Headers:  ['id', 'news article name', 'news article', 'Fluency', 'Conciseness', 'Descriptiveness', 'Novelty', 'Completeness', 'Referencing', 'Formality', 'Richness', 'Attractiveness', 'Technicality', 'Popularity', 'Subjectivity', 'Positive Emotion', 'Negative Emotion', 'Quality', 'AnnotatorsConfidenceScore\\n']\n",
      "Using label:  Formality\n",
      "Vocabulary Size: 28958\n",
      "Train/Dev split: 593/65\n",
      "Writing to /notebooks/project/runs/1491454118\n",
      "\n",
      "2017-04-06T04:48:52.232299: step 1, loss 9.05998, acc 0.17\n",
      "2017-04-06T04:49:05.210557: step 2, loss 4.73077, acc 0.33\n",
      "2017-04-06T04:49:17.135869: step 3, loss 2.40344, acc 0.52\n",
      "2017-04-06T04:49:29.003645: step 4, loss 2.15719, acc 0.62\n",
      "2017-04-06T04:49:40.797375: step 5, loss 1.32275, acc 0.76\n",
      "2017-04-06T04:49:51.654505: step 6, loss 1.2648, acc 0.774194\n",
      "\n",
      "Evaluation:\n",
      "2017-04-06T04:49:54.202913: step 6, loss 1.04676, acc 0.907692\n",
      "\n",
      "Saved model checkpoint to /notebooks/project/runs/1491454118/checkpoints/model-6\n",
      "\n",
      "2017-04-06T04:50:07.449406: step 7, loss 2.76322, acc 0.75\n",
      "2017-04-06T04:50:21.977909: step 8, loss 0.914875, acc 0.92\n",
      "2017-04-06T04:50:35.853165: step 9, loss 1.97067, acc 0.85\n",
      "2017-04-06T04:50:48.003244: step 10, loss 1.86727, acc 0.87\n",
      "2017-04-06T04:50:59.836929: step 11, loss 2.5521, acc 0.81\n",
      "2017-04-06T04:51:10.840565: step 12, loss 1.68312, acc 0.892473\n",
      "\n",
      "Evaluation:\n",
      "2017-04-06T04:51:13.705187: step 12, loss 1.5438, acc 0.907692\n",
      "\n",
      "Saved model checkpoint to /notebooks/project/runs/1491454118/checkpoints/model-12\n",
      "\n"
     ]
    }
   ],
   "source": [
    "!python ./shared_lib/train.py --label_used 'Formality' --num_epochs 2 --batch_size 100 --evaluate_every 6 --checkpoint_every 6"
   ]
  },
  {
   "cell_type": "code",
   "execution_count": 179,
   "metadata": {
    "collapsed": false,
    "deletable": true,
    "editable": true
   },
   "outputs": [
    {
     "name": "stdout",
     "output_type": "stream",
     "text": [
      "\n",
      "Parameters:\n",
      "ALLOW_SOFT_PLACEMENT=True\n",
      "BATCH_SIZE=100\n",
      "CHECKPOINT_EVERY=6\n",
      "DEV_SAMPLE_PERCENTAGE=0.1\n",
      "DROPOUT_KEEP_PROB=0.5\n",
      "EMBEDDING_DIM=128\n",
      "EVALUATE_EVERY=6\n",
      "FILTER_SIZES=3,4,5\n",
      "L2_REG_LAMBDA=0.0\n",
      "LABEL_USED=Fluency\n",
      "LOG_DEVICE_PLACEMENT=False\n",
      "NUM_CHECKPOINTS=5\n",
      "NUM_EPOCHS=2\n",
      "NUM_FILTERS=128\n",
      "UNROLLED_LSTM=False\n",
      "\n",
      "Loading data...\n",
      "Loaded rows:  658 columns:  19\n",
      "Headers:  ['id', 'news article name', 'news article', 'Fluency', 'Conciseness', 'Descriptiveness', 'Novelty', 'Completeness', 'Referencing', 'Formality', 'Richness', 'Attractiveness', 'Technicality', 'Popularity', 'Subjectivity', 'Positive Emotion', 'Negative Emotion', 'Quality', 'AnnotatorsConfidenceScore\\n']\n",
      "Using label:  Fluency\n",
      "Vocabulary Size: 28943\n",
      "Train/Dev split: 592/65\n",
      "Writing to /notebooks/Project/runs/1490688298\n",
      "\n",
      "2017-03-28T08:05:08.908221: step 1, loss 2.37685, acc 0.65\n",
      "2017-03-28T08:05:19.027893: step 2, loss 3.02644, acc 0.6\n",
      "2017-03-28T08:05:28.688774: step 3, loss 3.56061, acc 0.45\n",
      "2017-03-28T08:05:38.175095: step 4, loss 2.8927, acc 0.52\n",
      "2017-03-28T08:05:47.632388: step 5, loss 3.17686, acc 0.49\n",
      "2017-03-28T08:05:56.453438: step 6, loss 2.14088, acc 0.619565\n",
      "\n",
      "Evaluation:\n",
      "2017-03-28T08:05:58.672197: step 6, loss 1.24267, acc 0.676923\n",
      "\n",
      "Saved model checkpoint to /notebooks/Project/runs/1490688298/checkpoints/model-6\n",
      "\n",
      "2017-03-28T08:06:08.599120: step 7, loss 2.09968, acc 0.6\n",
      "2017-03-28T08:06:18.640570: step 8, loss 1.81088, acc 0.7\n",
      "2017-03-28T08:06:28.613190: step 9, loss 2.03491, acc 0.62\n",
      "2017-03-28T08:06:39.346311: step 10, loss 2.52935, acc 0.68\n",
      "2017-03-28T08:06:49.252633: step 11, loss 2.59219, acc 0.63\n",
      "2017-03-28T08:06:58.008318: step 12, loss 2.26413, acc 0.619565\n",
      "\n",
      "Evaluation:\n",
      "2017-03-28T08:07:00.129334: step 12, loss 1.16817, acc 0.676923\n",
      "\n",
      "Saved model checkpoint to /notebooks/Project/runs/1490688298/checkpoints/model-12\n",
      "\n"
     ]
    }
   ],
   "source": [
    "!python ./shared_lib/train.py --label_used 'Fluency' --num_epochs 2 --batch_size 100 --evaluate_every 6 --checkpoint_every 6"
   ]
  },
  {
   "cell_type": "code",
   "execution_count": 180,
   "metadata": {
    "collapsed": false,
    "deletable": true,
    "editable": true
   },
   "outputs": [
    {
     "name": "stdout",
     "output_type": "stream",
     "text": [
      "\n",
      "Parameters:\n",
      "ALLOW_SOFT_PLACEMENT=True\n",
      "BATCH_SIZE=100\n",
      "CHECKPOINT_EVERY=6\n",
      "DEV_SAMPLE_PERCENTAGE=0.1\n",
      "DROPOUT_KEEP_PROB=0.5\n",
      "EMBEDDING_DIM=128\n",
      "EVALUATE_EVERY=6\n",
      "FILTER_SIZES=3,4,5\n",
      "L2_REG_LAMBDA=0.0\n",
      "LABEL_USED=Conciseness\n",
      "LOG_DEVICE_PLACEMENT=False\n",
      "NUM_CHECKPOINTS=5\n",
      "NUM_EPOCHS=2\n",
      "NUM_FILTERS=128\n",
      "UNROLLED_LSTM=False\n",
      "\n",
      "Loading data...\n",
      "Loaded rows:  658 columns:  19\n",
      "Headers:  ['id', 'news article name', 'news article', 'Fluency', 'Conciseness', 'Descriptiveness', 'Novelty', 'Completeness', 'Referencing', 'Formality', 'Richness', 'Attractiveness', 'Technicality', 'Popularity', 'Subjectivity', 'Positive Emotion', 'Negative Emotion', 'Quality', 'AnnotatorsConfidenceScore\\n']\n",
      "Using label:  Conciseness\n",
      "Vocabulary Size: 28958\n",
      "Train/Dev split: 593/65\n",
      "Writing to /notebooks/Project/runs/1490688430\n",
      "\n",
      "2017-03-28T08:07:22.278751: step 1, loss 3.72992, acc 0.5\n",
      "2017-03-28T08:07:32.455406: step 2, loss 2.29583, acc 0.51\n",
      "2017-03-28T08:07:42.742030: step 3, loss 2.17881, acc 0.54\n",
      "2017-03-28T08:07:52.373817: step 4, loss 2.85111, acc 0.54\n",
      "2017-03-28T08:08:02.005054: step 5, loss 2.25256, acc 0.55\n",
      "2017-03-28T08:08:12.294968: step 6, loss 3.26825, acc 0.55914\n",
      "\n",
      "Evaluation:\n",
      "2017-03-28T08:08:14.664677: step 6, loss 1.61457, acc 0.661538\n",
      "\n",
      "Saved model checkpoint to /notebooks/Project/runs/1490688430/checkpoints/model-6\n",
      "\n",
      "2017-03-28T08:08:26.093997: step 7, loss 3.30928, acc 0.5\n",
      "2017-03-28T08:08:36.200621: step 8, loss 2.02439, acc 0.64\n",
      "2017-03-28T08:08:46.781269: step 9, loss 2.26234, acc 0.59\n",
      "2017-03-28T08:08:57.708186: step 10, loss 1.92886, acc 0.62\n",
      "2017-03-28T08:09:08.020672: step 11, loss 2.31658, acc 0.56\n",
      "2017-03-28T08:09:17.294372: step 12, loss 2.32563, acc 0.55914\n",
      "\n",
      "Evaluation:\n",
      "2017-03-28T08:09:19.527730: step 12, loss 0.622582, acc 0.630769\n",
      "\n",
      "Saved model checkpoint to /notebooks/Project/runs/1490688430/checkpoints/model-12\n",
      "\n"
     ]
    }
   ],
   "source": [
    "!python ./shared_lib/train.py --label_used 'Conciseness' --num_epochs 2 --batch_size 100 --evaluate_every 6 --checkpoint_every 6"
   ]
  },
  {
   "cell_type": "code",
   "execution_count": 181,
   "metadata": {
    "collapsed": false,
    "deletable": true,
    "editable": true
   },
   "outputs": [
    {
     "name": "stdout",
     "output_type": "stream",
     "text": [
      "\n",
      "Parameters:\n",
      "ALLOW_SOFT_PLACEMENT=True\n",
      "BATCH_SIZE=100\n",
      "CHECKPOINT_EVERY=6\n",
      "DEV_SAMPLE_PERCENTAGE=0.1\n",
      "DROPOUT_KEEP_PROB=0.5\n",
      "EMBEDDING_DIM=128\n",
      "EVALUATE_EVERY=6\n",
      "FILTER_SIZES=3,4,5\n",
      "L2_REG_LAMBDA=0.0\n",
      "LABEL_USED=Descriptiveness\n",
      "LOG_DEVICE_PLACEMENT=False\n",
      "NUM_CHECKPOINTS=5\n",
      "NUM_EPOCHS=2\n",
      "NUM_FILTERS=128\n",
      "UNROLLED_LSTM=False\n",
      "\n",
      "Loading data...\n",
      "Loaded rows:  658 columns:  19\n",
      "Headers:  ['id', 'news article name', 'news article', 'Fluency', 'Conciseness', 'Descriptiveness', 'Novelty', 'Completeness', 'Referencing', 'Formality', 'Richness', 'Attractiveness', 'Technicality', 'Popularity', 'Subjectivity', 'Positive Emotion', 'Negative Emotion', 'Quality', 'AnnotatorsConfidenceScore\\n']\n",
      "Using label:  Descriptiveness\n",
      "Vocabulary Size: 28944\n",
      "Train/Dev split: 592/65\n",
      "Writing to /notebooks/Project/runs/1490688566\n",
      "\n",
      "2017-03-28T08:09:38.193531: step 1, loss 5.76185, acc 0.28\n",
      "2017-03-28T08:09:47.967546: step 2, loss 3.53856, acc 0.45\n",
      "2017-03-28T08:09:57.606287: step 3, loss 2.85325, acc 0.45\n",
      "2017-03-28T08:10:07.322728: step 4, loss 1.82601, acc 0.66\n",
      "2017-03-28T08:10:17.455419: step 5, loss 2.5141, acc 0.69\n",
      "2017-03-28T08:10:26.878614: step 6, loss 2.1784, acc 0.695652\n",
      "\n",
      "Evaluation:\n",
      "2017-03-28T08:10:29.206857: step 6, loss 2.2792, acc 0.769231\n",
      "\n",
      "Saved model checkpoint to /notebooks/Project/runs/1490688566/checkpoints/model-6\n",
      "\n",
      "2017-03-28T08:10:40.499477: step 7, loss 2.69402, acc 0.73\n",
      "2017-03-28T08:10:50.342243: step 8, loss 2.68272, acc 0.74\n",
      "2017-03-28T08:11:00.074901: step 9, loss 2.68884, acc 0.76\n",
      "2017-03-28T08:11:09.743586: step 10, loss 3.29943, acc 0.67\n",
      "2017-03-28T08:11:19.457269: step 11, loss 2.1511, acc 0.7\n",
      "2017-03-28T08:11:28.310810: step 12, loss 1.51497, acc 0.771739\n",
      "\n",
      "Evaluation:\n",
      "2017-03-28T08:11:30.440907: step 12, loss 1.25169, acc 0.769231\n",
      "\n",
      "Saved model checkpoint to /notebooks/Project/runs/1490688566/checkpoints/model-12\n",
      "\n"
     ]
    }
   ],
   "source": [
    "!python ./shared_lib/train.py --label_used 'Descriptiveness' --num_epochs 2 --batch_size 100 --evaluate_every 6 --checkpoint_every 6"
   ]
  },
  {
   "cell_type": "code",
   "execution_count": 182,
   "metadata": {
    "collapsed": false,
    "deletable": true,
    "editable": true
   },
   "outputs": [
    {
     "name": "stdout",
     "output_type": "stream",
     "text": [
      "\n",
      "Parameters:\n",
      "ALLOW_SOFT_PLACEMENT=True\n",
      "BATCH_SIZE=100\n",
      "CHECKPOINT_EVERY=6\n",
      "DEV_SAMPLE_PERCENTAGE=0.1\n",
      "DROPOUT_KEEP_PROB=0.5\n",
      "EMBEDDING_DIM=128\n",
      "EVALUATE_EVERY=6\n",
      "FILTER_SIZES=3,4,5\n",
      "L2_REG_LAMBDA=0.0\n",
      "LABEL_USED=Novelty\n",
      "LOG_DEVICE_PLACEMENT=False\n",
      "NUM_CHECKPOINTS=5\n",
      "NUM_EPOCHS=2\n",
      "NUM_FILTERS=128\n",
      "UNROLLED_LSTM=False\n",
      "\n",
      "Loading data...\n",
      "Loaded rows:  658 columns:  19\n",
      "Headers:  ['id', 'news article name', 'news article', 'Fluency', 'Conciseness', 'Descriptiveness', 'Novelty', 'Completeness', 'Referencing', 'Formality', 'Richness', 'Attractiveness', 'Technicality', 'Popularity', 'Subjectivity', 'Positive Emotion', 'Negative Emotion', 'Quality', 'AnnotatorsConfidenceScore\\n']\n",
      "Using label:  Novelty\n",
      "Vocabulary Size: 28918\n",
      "Train/Dev split: 592/65\n",
      "Writing to /notebooks/Project/runs/1490688698\n",
      "\n",
      "2017-03-28T08:11:49.493929: step 1, loss 3.91466, acc 0.4\n",
      "2017-03-28T08:11:59.294261: step 2, loss 2.89625, acc 0.49\n",
      "2017-03-28T08:12:09.434733: step 3, loss 2.15905, acc 0.64\n",
      "2017-03-28T08:12:19.462382: step 4, loss 2.48, acc 0.63\n",
      "2017-03-28T08:12:29.807846: step 5, loss 3.15289, acc 0.66\n",
      "2017-03-28T08:12:39.236539: step 6, loss 2.99871, acc 0.695652\n",
      "\n",
      "Evaluation:\n",
      "2017-03-28T08:12:41.403986: step 6, loss 1.4997, acc 0.815385\n",
      "\n",
      "Saved model checkpoint to /notebooks/Project/runs/1490688698/checkpoints/model-6\n",
      "\n",
      "2017-03-28T08:12:52.145014: step 7, loss 2.08006, acc 0.68\n",
      "2017-03-28T08:13:02.260012: step 8, loss 2.28521, acc 0.7\n",
      "2017-03-28T08:13:12.387801: step 9, loss 2.10658, acc 0.71\n",
      "2017-03-28T08:13:22.172065: step 10, loss 1.93491, acc 0.64\n",
      "2017-03-28T08:13:32.121690: step 11, loss 1.3321, acc 0.72\n",
      "2017-03-28T08:13:41.165456: step 12, loss 2.86937, acc 0.554348\n",
      "\n",
      "Evaluation:\n",
      "2017-03-28T08:13:43.323534: step 12, loss 0.512005, acc 0.815385\n",
      "\n",
      "Saved model checkpoint to /notebooks/Project/runs/1490688698/checkpoints/model-12\n",
      "\n"
     ]
    }
   ],
   "source": [
    "!python ./shared_lib/train.py --label_used 'Novelty' --num_epochs 2 --batch_size 100 --evaluate_every 6 --checkpoint_every 6"
   ]
  },
  {
   "cell_type": "code",
   "execution_count": 54,
   "metadata": {
    "collapsed": false,
    "deletable": true,
    "editable": true
   },
   "outputs": [
    {
     "name": "stdout",
     "output_type": "stream",
     "text": [
      "\n",
      "Parameters:\n",
      "ALLOW_SOFT_PLACEMENT=True\n",
      "BATCH_SIZE=100\n",
      "CHECKPOINT_EVERY=6\n",
      "DEV_SAMPLE_PERCENTAGE=0.1\n",
      "DROPOUT_KEEP_PROB=0.5\n",
      "EMBEDDING_DIM=128\n",
      "EVALUATE_EVERY=6\n",
      "FILTER_SIZES=3,4,5\n",
      "L2_REG_LAMBDA=0.0\n",
      "LABEL_USED=Completeness\n",
      "LOG_DEVICE_PLACEMENT=False\n",
      "NUM_CHECKPOINTS=5\n",
      "NUM_EPOCHS=2\n",
      "NUM_FILTERS=128\n",
      "UNROLLED_LSTM=False\n",
      "\n",
      "Loading data...\n",
      "Loaded rows:  658 columns:  19\n",
      "Headers:  ['id', 'news article name', 'news article', 'Fluency', 'Conciseness', 'Descriptiveness', 'Novelty', 'Completeness', 'Referencing', 'Formality', 'Richness', 'Attractiveness', 'Technicality', 'Popularity', 'Subjectivity', 'Positive Emotion', 'Negative Emotion', 'Quality', 'AnnotatorsConfidenceScore\\n']\n",
      "Using label:  Completeness\n",
      "Vocabulary Size: 28958\n",
      "Train/Dev split: 593/65\n",
      "('Number of classes ', 2)\n",
      "Writing to /notebooks/project/runs/1492142154\n",
      "\n",
      "2017-04-14T03:56:07.701921: step 1, loss 3.20404, acc 0.51\n",
      "2017-04-14T03:56:21.057212: step 2, loss 2.95301, acc 0.57\n",
      "2017-04-14T03:56:34.606426: step 3, loss 2.23537, acc 0.54\n",
      "2017-04-14T03:56:47.755688: step 4, loss 3.10154, acc 0.52\n",
      "2017-04-14T03:57:00.658167: step 5, loss 2.27902, acc 0.6\n",
      "2017-04-14T03:57:12.227939: step 6, loss 2.33974, acc 0.516129\n",
      "\n",
      "Evaluation:\n",
      "2017-04-14T03:57:15.111973: step 6, loss 0.703388, acc 0.769231\n",
      "\n",
      "Saved model checkpoint to /notebooks/project/runs/1492142154/checkpoints/model-6\n",
      "\n",
      "2017-04-14T03:57:29.965683: step 7, loss 2.21101, acc 0.54\n",
      "2017-04-14T03:57:42.281207: step 8, loss 2.38182, acc 0.58\n",
      "2017-04-14T03:57:55.044893: step 9, loss 1.97597, acc 0.53\n",
      "2017-04-14T03:58:07.592112: step 10, loss 2.97962, acc 0.47\n",
      "2017-04-14T03:58:19.920675: step 11, loss 2.50595, acc 0.6\n",
      "2017-04-14T03:58:31.133685: step 12, loss 2.08547, acc 0.645161\n",
      "\n",
      "Evaluation:\n",
      "2017-04-14T03:58:33.693740: step 12, loss 0.740272, acc 0.769231\n",
      "\n",
      "Saved model checkpoint to /notebooks/project/runs/1492142154/checkpoints/model-12\n",
      "\n"
     ]
    }
   ],
   "source": [
    "!python ./shared_lib/train.py --label_used 'Completeness' --num_epochs 2 --batch_size 100 --evaluate_every 6 --checkpoint_every 6"
   ]
  },
  {
   "cell_type": "code",
   "execution_count": 55,
   "metadata": {
    "collapsed": false
   },
   "outputs": [
    {
     "name": "stdout",
     "output_type": "stream",
     "text": [
      "checkpoints  summaries\tvocab\n",
      "checkpoint\t\t      model-12.meta\t\t   model-6.meta\n",
      "model-12.data-00000-of-00001  model-6.data-00000-of-00001\n",
      "model-12.index\t\t      model-6.index\n"
     ]
    }
   ],
   "source": [
    "!ls /notebooks/project/runs/1492138448/\n",
    "!ls /notebooks/project/runs/1492138448/checkpoints/"
   ]
  },
  {
   "cell_type": "code",
   "execution_count": 103,
   "metadata": {
    "collapsed": false
   },
   "outputs": [
    {
     "name": "stdout",
     "output_type": "stream",
     "text": [
      "\n",
      "Parameters:\n",
      "ALLOW_SOFT_PLACEMENT=True\n",
      "BATCH_SIZE=100\n",
      "CHECKPOINT_EVERY=20\n",
      "DEV_SAMPLE_PERCENTAGE=0.1\n",
      "DROPOUT_KEEP_PROB=0.5\n",
      "EMBEDDING_DIM=128\n",
      "EVALUATE_EVERY=6\n",
      "FILTER_SIZES=3,4,5\n",
      "L2_REG_LAMBDA=0.0\n",
      "LABEL_USED=Completeness\n",
      "LOG_DEVICE_PLACEMENT=False\n",
      "MODEL_PATH=/notebooks/project/runs/1492138448/checkpoints/\n",
      "NUM_CHECKPOINTS=5\n",
      "NUM_EPOCHS=2\n",
      "NUM_FILTERS=128\n",
      "UNROLLED_LSTM=False\n",
      "VOCAB_PATH=/notebooks/project/runs/1492138448/vocab\n",
      "\n",
      "Loading data...\n",
      "Loaded rows:  159 columns:  2\n",
      "Labels evaluated  ['mostly true\\r\\n', 'mixture of true and false\\r\\n', 'no factual content\\r\\n', 'mostly false\\r\\n', 'mostly true']\n",
      "\n",
      "Evaluating...\n",
      "\n",
      "Predictions: \n",
      "Total number of test examples: 159\n",
      "Accuracy: 0.522013\n"
     ]
    }
   ],
   "source": [
    "!python ./shared_lib/score.py --label_used 'Completeness' --num_epochs 2 --batch_size 100 --evaluate_every 6 \\\n",
    "--model_path '/notebooks/project/runs/1492138448/checkpoints/' \\\n",
    "--vocab_path '/notebooks/project/runs/1492138448/vocab'\n"
   ]
  },
  {
   "cell_type": "code",
   "execution_count": null,
   "metadata": {
    "collapsed": true
   },
   "outputs": [],
   "source": []
  },
  {
   "cell_type": "code",
   "execution_count": null,
   "metadata": {
    "collapsed": true
   },
   "outputs": [],
   "source": []
  },
  {
   "cell_type": "code",
   "execution_count": 184,
   "metadata": {
    "collapsed": false,
    "deletable": true,
    "editable": true
   },
   "outputs": [
    {
     "name": "stdout",
     "output_type": "stream",
     "text": [
      "\n",
      "Parameters:\n",
      "ALLOW_SOFT_PLACEMENT=True\n",
      "BATCH_SIZE=100\n",
      "CHECKPOINT_EVERY=6\n",
      "DEV_SAMPLE_PERCENTAGE=0.1\n",
      "DROPOUT_KEEP_PROB=0.5\n",
      "EMBEDDING_DIM=128\n",
      "EVALUATE_EVERY=6\n",
      "FILTER_SIZES=3,4,5\n",
      "L2_REG_LAMBDA=0.0\n",
      "LABEL_USED=Referencing\n",
      "LOG_DEVICE_PLACEMENT=False\n",
      "NUM_CHECKPOINTS=5\n",
      "NUM_EPOCHS=2\n",
      "NUM_FILTERS=128\n",
      "UNROLLED_LSTM=False\n",
      "\n",
      "Loading data...\n",
      "Loaded rows:  658 columns:  19\n",
      "Headers:  ['id', 'news article name', 'news article', 'Fluency', 'Conciseness', 'Descriptiveness', 'Novelty', 'Completeness', 'Referencing', 'Formality', 'Richness', 'Attractiveness', 'Technicality', 'Popularity', 'Subjectivity', 'Positive Emotion', 'Negative Emotion', 'Quality', 'AnnotatorsConfidenceScore\\n']\n",
      "Using label:  Referencing\n",
      "Vocabulary Size: 28958\n",
      "Train/Dev split: 593/65\n",
      "Writing to /notebooks/Project/runs/1490688965\n",
      "\n",
      "2017-03-28T08:16:17.203155: step 1, loss 2.30994, acc 0.58\n",
      "2017-03-28T08:16:27.677301: step 2, loss 2.18345, acc 0.64\n",
      "2017-03-28T08:16:38.384132: step 3, loss 1.6091, acc 0.71\n",
      "2017-03-28T08:16:49.224524: step 4, loss 2.28439, acc 0.7\n",
      "2017-03-28T08:16:59.734912: step 5, loss 2.30871, acc 0.68\n",
      "2017-03-28T08:17:10.110375: step 6, loss 2.57914, acc 0.655914\n",
      "\n",
      "Evaluation:\n",
      "2017-03-28T08:17:12.618757: step 6, loss 1.09734, acc 0.8\n",
      "\n",
      "Saved model checkpoint to /notebooks/Project/runs/1490688965/checkpoints/model-6\n",
      "\n",
      "2017-03-28T08:17:24.150694: step 7, loss 2.13816, acc 0.73\n",
      "2017-03-28T08:17:34.991267: step 8, loss 2.1016, acc 0.67\n",
      "2017-03-28T08:17:45.926532: step 9, loss 2.40055, acc 0.61\n",
      "2017-03-28T08:17:57.328653: step 10, loss 2.2147, acc 0.57\n",
      "2017-03-28T08:18:09.383668: step 11, loss 2.39252, acc 0.51\n",
      "2017-03-28T08:18:19.839722: step 12, loss 1.80248, acc 0.655914\n",
      "\n",
      "Evaluation:\n",
      "2017-03-28T08:18:22.451708: step 12, loss 0.755305, acc 0.8\n",
      "\n",
      "Saved model checkpoint to /notebooks/Project/runs/1490688965/checkpoints/model-12\n",
      "\n"
     ]
    }
   ],
   "source": [
    "!python ./shared_lib/train.py --label_used 'Referencing' --num_epochs 2 --batch_size 100 --evaluate_every 6 --checkpoint_every 6"
   ]
  },
  {
   "cell_type": "code",
   "execution_count": 185,
   "metadata": {
    "collapsed": false,
    "deletable": true,
    "editable": true
   },
   "outputs": [
    {
     "name": "stdout",
     "output_type": "stream",
     "text": [
      "\n",
      "Parameters:\n",
      "ALLOW_SOFT_PLACEMENT=True\n",
      "BATCH_SIZE=100\n",
      "CHECKPOINT_EVERY=6\n",
      "DEV_SAMPLE_PERCENTAGE=0.1\n",
      "DROPOUT_KEEP_PROB=0.5\n",
      "EMBEDDING_DIM=128\n",
      "EVALUATE_EVERY=6\n",
      "FILTER_SIZES=3,4,5\n",
      "L2_REG_LAMBDA=0.0\n",
      "LABEL_USED=Richness\n",
      "LOG_DEVICE_PLACEMENT=False\n",
      "NUM_CHECKPOINTS=5\n",
      "NUM_EPOCHS=2\n",
      "NUM_FILTERS=128\n",
      "UNROLLED_LSTM=False\n",
      "\n",
      "Loading data...\n",
      "Loaded rows:  658 columns:  19\n",
      "Headers:  ['id', 'news article name', 'news article', 'Fluency', 'Conciseness', 'Descriptiveness', 'Novelty', 'Completeness', 'Referencing', 'Formality', 'Richness', 'Attractiveness', 'Technicality', 'Popularity', 'Subjectivity', 'Positive Emotion', 'Negative Emotion', 'Quality', 'AnnotatorsConfidenceScore\\n']\n",
      "Using label:  Richness\n",
      "Vocabulary Size: 28958\n",
      "Train/Dev split: 593/65\n",
      "Writing to /notebooks/Project/runs/1490689110\n",
      "\n",
      "2017-03-28T08:18:44.148114: step 1, loss 4.46433, acc 0.39\n",
      "2017-03-28T08:18:55.061258: step 2, loss 2.39987, acc 0.58\n",
      "2017-03-28T08:19:06.395274: step 3, loss 2.55135, acc 0.54\n",
      "2017-03-28T08:19:18.129862: step 4, loss 2.47965, acc 0.71\n",
      "2017-03-28T08:19:30.250994: step 5, loss 3.18744, acc 0.7\n",
      "2017-03-28T08:19:42.553450: step 6, loss 1.79678, acc 0.774194\n",
      "\n",
      "Evaluation:\n",
      "2017-03-28T08:19:45.392330: step 6, loss 1.81347, acc 0.846154\n",
      "\n",
      "Saved model checkpoint to /notebooks/Project/runs/1490689110/checkpoints/model-6\n",
      "\n",
      "2017-03-28T08:19:57.489655: step 7, loss 2.57515, acc 0.76\n",
      "2017-03-28T08:20:09.246832: step 8, loss 2.7663, acc 0.77\n",
      "2017-03-28T08:20:21.396551: step 9, loss 1.76831, acc 0.83\n",
      "2017-03-28T08:20:33.482330: step 10, loss 2.87323, acc 0.77\n",
      "2017-03-28T08:20:45.636239: step 11, loss 2.38659, acc 0.74\n",
      "2017-03-28T08:20:56.458098: step 12, loss 1.72039, acc 0.666667\n",
      "\n",
      "Evaluation:\n",
      "2017-03-28T08:20:59.134360: step 12, loss 0.988632, acc 0.846154\n",
      "\n",
      "Saved model checkpoint to /notebooks/Project/runs/1490689110/checkpoints/model-12\n",
      "\n"
     ]
    }
   ],
   "source": [
    "!python ./shared_lib/train.py --label_used 'Richness' --num_epochs 2 --batch_size 100 --evaluate_every 6 --checkpoint_every 6"
   ]
  },
  {
   "cell_type": "code",
   "execution_count": 186,
   "metadata": {
    "collapsed": false,
    "deletable": true,
    "editable": true
   },
   "outputs": [
    {
     "name": "stdout",
     "output_type": "stream",
     "text": [
      "\n",
      "Parameters:\n",
      "ALLOW_SOFT_PLACEMENT=True\n",
      "BATCH_SIZE=100\n",
      "CHECKPOINT_EVERY=6\n",
      "DEV_SAMPLE_PERCENTAGE=0.1\n",
      "DROPOUT_KEEP_PROB=0.5\n",
      "EMBEDDING_DIM=128\n",
      "EVALUATE_EVERY=6\n",
      "FILTER_SIZES=3,4,5\n",
      "L2_REG_LAMBDA=0.0\n",
      "LABEL_USED=Attractiveness\n",
      "LOG_DEVICE_PLACEMENT=False\n",
      "NUM_CHECKPOINTS=5\n",
      "NUM_EPOCHS=2\n",
      "NUM_FILTERS=128\n",
      "UNROLLED_LSTM=False\n",
      "\n",
      "Loading data...\n",
      "Loaded rows:  658 columns:  19\n",
      "Headers:  ['id', 'news article name', 'news article', 'Fluency', 'Conciseness', 'Descriptiveness', 'Novelty', 'Completeness', 'Referencing', 'Formality', 'Richness', 'Attractiveness', 'Technicality', 'Popularity', 'Subjectivity', 'Positive Emotion', 'Negative Emotion', 'Quality', 'AnnotatorsConfidenceScore\\n']\n",
      "Using label:  Attractiveness\n",
      "Vocabulary Size: 28958\n",
      "Train/Dev split: 593/65\n",
      "Writing to /notebooks/Project/runs/1490689262\n",
      "\n",
      "2017-03-28T08:21:16.556621: step 1, loss 2.12085, acc 0.55\n",
      "2017-03-28T08:21:28.201446: step 2, loss 1.96333, acc 0.67\n",
      "2017-03-28T08:21:40.375902: step 3, loss 1.31748, acc 0.79\n",
      "2017-03-28T08:21:52.039289: step 4, loss 1.7428, acc 0.82\n",
      "2017-03-28T08:22:04.018444: step 5, loss 2.25126, acc 0.8\n",
      "2017-03-28T08:22:15.283998: step 6, loss 1.57299, acc 0.892473\n",
      "\n",
      "Evaluation:\n",
      "2017-03-28T08:22:17.950015: step 6, loss 1.52575, acc 0.892308\n",
      "\n",
      "Saved model checkpoint to /notebooks/Project/runs/1490689262/checkpoints/model-6\n",
      "\n",
      "2017-03-28T08:22:30.650475: step 7, loss 2.98791, acc 0.81\n",
      "2017-03-28T08:22:41.976909: step 8, loss 1.70627, acc 0.85\n",
      "2017-03-28T08:22:52.924380: step 9, loss 1.02599, acc 0.91\n",
      "2017-03-28T08:23:03.802935: step 10, loss 1.86519, acc 0.85\n",
      "2017-03-28T08:23:14.526164: step 11, loss 1.17625, acc 0.83\n",
      "2017-03-28T08:23:24.656581: step 12, loss 1.62241, acc 0.752688\n",
      "\n",
      "Evaluation:\n",
      "2017-03-28T08:23:27.189236: step 12, loss 1.0084, acc 0.892308\n",
      "\n",
      "Saved model checkpoint to /notebooks/Project/runs/1490689262/checkpoints/model-12\n",
      "\n"
     ]
    }
   ],
   "source": [
    "!python ./shared_lib/train.py --label_used 'Attractiveness' --num_epochs 2 --batch_size 100 --evaluate_every 6 --checkpoint_every 6"
   ]
  },
  {
   "cell_type": "code",
   "execution_count": 187,
   "metadata": {
    "collapsed": false,
    "deletable": true,
    "editable": true
   },
   "outputs": [
    {
     "name": "stdout",
     "output_type": "stream",
     "text": [
      "\n",
      "Parameters:\n",
      "ALLOW_SOFT_PLACEMENT=True\n",
      "BATCH_SIZE=100\n",
      "CHECKPOINT_EVERY=6\n",
      "DEV_SAMPLE_PERCENTAGE=0.1\n",
      "DROPOUT_KEEP_PROB=0.5\n",
      "EMBEDDING_DIM=128\n",
      "EVALUATE_EVERY=6\n",
      "FILTER_SIZES=3,4,5\n",
      "L2_REG_LAMBDA=0.0\n",
      "LABEL_USED=Technicality\n",
      "LOG_DEVICE_PLACEMENT=False\n",
      "NUM_CHECKPOINTS=5\n",
      "NUM_EPOCHS=2\n",
      "NUM_FILTERS=128\n",
      "UNROLLED_LSTM=False\n",
      "\n",
      "Loading data...\n",
      "Loaded rows:  658 columns:  19\n",
      "Headers:  ['id', 'news article name', 'news article', 'Fluency', 'Conciseness', 'Descriptiveness', 'Novelty', 'Completeness', 'Referencing', 'Formality', 'Richness', 'Attractiveness', 'Technicality', 'Popularity', 'Subjectivity', 'Positive Emotion', 'Negative Emotion', 'Quality', 'AnnotatorsConfidenceScore\\n']\n",
      "Using label:  Technicality\n",
      "Vocabulary Size: 28958\n",
      "Train/Dev split: 593/65\n",
      "Writing to /notebooks/Project/runs/1490689410\n",
      "\n",
      "2017-03-28T08:23:43.178645: step 1, loss 2.01603, acc 0.62\n",
      "2017-03-28T08:23:53.658817: step 2, loss 1.69244, acc 0.71\n",
      "2017-03-28T08:24:04.027660: step 3, loss 1.09567, acc 0.78\n",
      "2017-03-28T08:24:14.781153: step 4, loss 1.35579, acc 0.88\n",
      "2017-03-28T08:24:25.384630: step 5, loss 2.39698, acc 0.85\n",
      "2017-03-28T08:24:35.385520: step 6, loss 1.63281, acc 0.870968\n",
      "\n",
      "Evaluation:\n",
      "2017-03-28T08:24:37.842266: step 6, loss 1.85398, acc 0.861538\n",
      "\n",
      "Saved model checkpoint to /notebooks/Project/runs/1490689410/checkpoints/model-6\n",
      "\n",
      "2017-03-28T08:24:49.538289: step 7, loss 1.433, acc 0.87\n",
      "2017-03-28T08:25:00.783150: step 8, loss 1.52801, acc 0.87\n",
      "2017-03-28T08:25:11.542934: step 9, loss 2.25245, acc 0.84\n",
      "2017-03-28T08:25:22.347244: step 10, loss 0.92203, acc 0.89\n",
      "2017-03-28T08:25:32.865067: step 11, loss 1.68659, acc 0.83\n",
      "2017-03-28T08:25:42.833978: step 12, loss 1.50892, acc 0.827957\n",
      "\n",
      "Evaluation:\n",
      "2017-03-28T08:25:45.137769: step 12, loss 0.931201, acc 0.861538\n",
      "\n",
      "Saved model checkpoint to /notebooks/Project/runs/1490689410/checkpoints/model-12\n",
      "\n"
     ]
    }
   ],
   "source": [
    "!python ./shared_lib/train.py --label_used 'Technicality' --num_epochs 2 --batch_size 100 --evaluate_every 6 --checkpoint_every 6"
   ]
  },
  {
   "cell_type": "code",
   "execution_count": 188,
   "metadata": {
    "collapsed": false,
    "deletable": true,
    "editable": true
   },
   "outputs": [
    {
     "name": "stdout",
     "output_type": "stream",
     "text": [
      "\n",
      "Parameters:\n",
      "ALLOW_SOFT_PLACEMENT=True\n",
      "BATCH_SIZE=100\n",
      "CHECKPOINT_EVERY=6\n",
      "DEV_SAMPLE_PERCENTAGE=0.1\n",
      "DROPOUT_KEEP_PROB=0.5\n",
      "EMBEDDING_DIM=128\n",
      "EVALUATE_EVERY=6\n",
      "FILTER_SIZES=3,4,5\n",
      "L2_REG_LAMBDA=0.0\n",
      "LABEL_USED=Popularity\n",
      "LOG_DEVICE_PLACEMENT=False\n",
      "NUM_CHECKPOINTS=5\n",
      "NUM_EPOCHS=2\n",
      "NUM_FILTERS=128\n",
      "UNROLLED_LSTM=False\n",
      "\n",
      "Loading data...\n",
      "Loaded rows:  658 columns:  19\n",
      "Headers:  ['id', 'news article name', 'news article', 'Fluency', 'Conciseness', 'Descriptiveness', 'Novelty', 'Completeness', 'Referencing', 'Formality', 'Richness', 'Attractiveness', 'Technicality', 'Popularity', 'Subjectivity', 'Positive Emotion', 'Negative Emotion', 'Quality', 'AnnotatorsConfidenceScore\\n']\n",
      "Using label:  Popularity\n",
      "Vocabulary Size: 28958\n",
      "Train/Dev split: 593/65\n",
      "Writing to /notebooks/Project/runs/1490689548\n",
      "\n",
      "2017-03-28T08:26:00.890666: step 1, loss 10.6421, acc 0.2\n",
      "2017-03-28T08:26:11.408640: step 2, loss 7.53289, acc 0.28\n",
      "2017-03-28T08:26:21.886740: step 3, loss 5.38345, acc 0.32\n",
      "2017-03-28T08:26:32.539786: step 4, loss 3.11158, acc 0.44\n",
      "2017-03-28T08:26:43.201803: step 5, loss 1.73898, acc 0.64\n",
      "2017-03-28T08:26:53.013690: step 6, loss 1.64472, acc 0.774194\n",
      "\n",
      "Evaluation:\n",
      "2017-03-28T08:26:55.355186: step 6, loss 1.32643, acc 0.861538\n",
      "\n",
      "Saved model checkpoint to /notebooks/Project/runs/1490689548/checkpoints/model-6\n",
      "\n",
      "2017-03-28T08:27:06.577383: step 7, loss 1.61149, acc 0.81\n",
      "2017-03-28T08:27:17.221547: step 8, loss 1.77761, acc 0.85\n",
      "2017-03-28T08:27:27.849915: step 9, loss 1.58315, acc 0.87\n",
      "2017-03-28T08:27:38.851346: step 10, loss 2.00955, acc 0.87\n",
      "2017-03-28T08:27:49.468484: step 11, loss 2.99539, acc 0.82\n",
      "2017-03-28T08:27:59.298889: step 12, loss 2.96139, acc 0.83871\n",
      "\n",
      "Evaluation:\n",
      "2017-03-28T08:28:01.689552: step 12, loss 2.5033, acc 0.861538\n",
      "\n",
      "Saved model checkpoint to /notebooks/Project/runs/1490689548/checkpoints/model-12\n",
      "\n"
     ]
    }
   ],
   "source": [
    "!python ./shared_lib/train.py --label_used 'Popularity' --num_epochs 2 --batch_size 100 --evaluate_every 6 --checkpoint_every 6"
   ]
  },
  {
   "cell_type": "code",
   "execution_count": 189,
   "metadata": {
    "collapsed": false,
    "deletable": true,
    "editable": true
   },
   "outputs": [
    {
     "name": "stdout",
     "output_type": "stream",
     "text": [
      "\n",
      "Parameters:\n",
      "ALLOW_SOFT_PLACEMENT=True\n",
      "BATCH_SIZE=100\n",
      "CHECKPOINT_EVERY=6\n",
      "DEV_SAMPLE_PERCENTAGE=0.1\n",
      "DROPOUT_KEEP_PROB=0.5\n",
      "EMBEDDING_DIM=128\n",
      "EVALUATE_EVERY=6\n",
      "FILTER_SIZES=3,4,5\n",
      "L2_REG_LAMBDA=0.0\n",
      "LABEL_USED=Subjectivity\n",
      "LOG_DEVICE_PLACEMENT=False\n",
      "NUM_CHECKPOINTS=5\n",
      "NUM_EPOCHS=2\n",
      "NUM_FILTERS=128\n",
      "UNROLLED_LSTM=False\n",
      "\n",
      "Loading data...\n",
      "Loaded rows:  658 columns:  19\n",
      "Headers:  ['id', 'news article name', 'news article', 'Fluency', 'Conciseness', 'Descriptiveness', 'Novelty', 'Completeness', 'Referencing', 'Formality', 'Richness', 'Attractiveness', 'Technicality', 'Popularity', 'Subjectivity', 'Positive Emotion', 'Negative Emotion', 'Quality', 'AnnotatorsConfidenceScore\\n']\n",
      "Using label:  Subjectivity\n",
      "Vocabulary Size: 28958\n",
      "Train/Dev split: 593/65\n",
      "Writing to /notebooks/Project/runs/1490689684\n",
      "\n",
      "2017-03-28T08:28:17.234716: step 1, loss 0.894351, acc 0.79\n",
      "2017-03-28T08:28:27.838678: step 2, loss 0.469354, acc 0.93\n",
      "2017-03-28T08:28:38.848903: step 3, loss 1.07141, acc 0.88\n",
      "2017-03-28T08:28:49.470949: step 4, loss 0.26004, acc 0.99\n",
      "2017-03-28T08:29:00.197115: step 5, loss 0.375137, acc 0.98\n",
      "2017-03-28T08:29:10.221475: step 6, loss 0.438843, acc 0.967742\n",
      "\n",
      "Evaluation:\n",
      "2017-03-28T08:29:12.610163: step 6, loss 1.48331, acc 0.923077\n",
      "\n",
      "Saved model checkpoint to /notebooks/Project/runs/1490689684/checkpoints/model-6\n",
      "\n",
      "2017-03-28T08:29:23.690830: step 7, loss 0.882964, acc 0.97\n",
      "2017-03-28T08:29:34.413253: step 8, loss 0.333361, acc 0.98\n",
      "2017-03-28T08:29:45.149313: step 9, loss 0.421827, acc 0.99\n",
      "2017-03-28T08:29:55.725502: step 10, loss 1.11157, acc 0.95\n",
      "2017-03-28T08:30:06.614090: step 11, loss 0.486546, acc 0.97\n",
      "2017-03-28T08:30:16.589263: step 12, loss 0.341628, acc 0.978495\n",
      "\n",
      "Evaluation:\n",
      "2017-03-28T08:30:18.995688: step 12, loss 1.32433, acc 0.923077\n",
      "\n",
      "Saved model checkpoint to /notebooks/Project/runs/1490689684/checkpoints/model-12\n",
      "\n"
     ]
    }
   ],
   "source": [
    "!python ./shared_lib/train.py --label_used 'Subjectivity' --num_epochs 2 --batch_size 100 --evaluate_every 6 --checkpoint_every 6"
   ]
  },
  {
   "cell_type": "code",
   "execution_count": 190,
   "metadata": {
    "collapsed": false,
    "deletable": true,
    "editable": true
   },
   "outputs": [
    {
     "name": "stdout",
     "output_type": "stream",
     "text": [
      "\n",
      "Parameters:\n",
      "ALLOW_SOFT_PLACEMENT=True\n",
      "BATCH_SIZE=100\n",
      "CHECKPOINT_EVERY=6\n",
      "DEV_SAMPLE_PERCENTAGE=0.1\n",
      "DROPOUT_KEEP_PROB=0.5\n",
      "EMBEDDING_DIM=128\n",
      "EVALUATE_EVERY=6\n",
      "FILTER_SIZES=3,4,5\n",
      "L2_REG_LAMBDA=0.0\n",
      "LABEL_USED=Positive Emotion\n",
      "LOG_DEVICE_PLACEMENT=False\n",
      "NUM_CHECKPOINTS=5\n",
      "NUM_EPOCHS=2\n",
      "NUM_FILTERS=128\n",
      "UNROLLED_LSTM=False\n",
      "\n",
      "Loading data...\n",
      "Loaded rows:  658 columns:  19\n",
      "Headers:  ['id', 'news article name', 'news article', 'Fluency', 'Conciseness', 'Descriptiveness', 'Novelty', 'Completeness', 'Referencing', 'Formality', 'Richness', 'Attractiveness', 'Technicality', 'Popularity', 'Subjectivity', 'Positive Emotion', 'Negative Emotion', 'Quality', 'AnnotatorsConfidenceScore\\n']\n",
      "Using label:  Positive Emotion\n",
      "Vocabulary Size: 28958\n",
      "Train/Dev split: 593/65\n",
      "Writing to /notebooks/Project/runs/1490689822\n",
      "\n",
      "2017-03-28T08:30:34.989943: step 1, loss 1.44619, acc 0.71\n",
      "2017-03-28T08:30:45.585857: step 2, loss 1.00441, acc 0.82\n",
      "2017-03-28T08:30:55.949278: step 3, loss 0.410693, acc 0.95\n",
      "2017-03-28T08:31:06.320109: step 4, loss 0.405161, acc 0.97\n",
      "2017-03-28T08:31:16.883772: step 5, loss 0.0213893, acc 0.99\n",
      "2017-03-28T08:31:26.762041: step 6, loss 0.191834, acc 0.967742\n",
      "\n",
      "Evaluation:\n",
      "2017-03-28T08:31:29.160412: step 6, loss 0.607633, acc 0.969231\n",
      "\n",
      "Saved model checkpoint to /notebooks/Project/runs/1490689822/checkpoints/model-6\n",
      "\n",
      "2017-03-28T08:31:40.234843: step 7, loss 0.491077, acc 0.97\n",
      "2017-03-28T08:31:50.598504: step 8, loss 0.497744, acc 0.98\n",
      "2017-03-28T08:32:00.921843: step 9, loss 0.207703, acc 0.98\n",
      "2017-03-28T08:32:11.340331: step 10, loss 0.481131, acc 0.98\n",
      "2017-03-28T08:32:21.737868: step 11, loss 0.289575, acc 0.99\n",
      "2017-03-28T08:32:31.767906: step 12, loss 0.592994, acc 0.978495\n",
      "\n",
      "Evaluation:\n",
      "2017-03-28T08:32:34.072502: step 12, loss 0.750635, acc 0.969231\n",
      "\n",
      "Saved model checkpoint to /notebooks/Project/runs/1490689822/checkpoints/model-12\n",
      "\n"
     ]
    }
   ],
   "source": [
    "!python ./shared_lib/train.py --label_used 'Positive Emotion' --num_epochs 2 --batch_size 100 --evaluate_every 6 --checkpoint_every 6"
   ]
  },
  {
   "cell_type": "code",
   "execution_count": 191,
   "metadata": {
    "collapsed": false,
    "deletable": true,
    "editable": true
   },
   "outputs": [
    {
     "name": "stdout",
     "output_type": "stream",
     "text": [
      "\n",
      "Parameters:\n",
      "ALLOW_SOFT_PLACEMENT=True\n",
      "BATCH_SIZE=100\n",
      "CHECKPOINT_EVERY=6\n",
      "DEV_SAMPLE_PERCENTAGE=0.1\n",
      "DROPOUT_KEEP_PROB=0.5\n",
      "EMBEDDING_DIM=128\n",
      "EVALUATE_EVERY=6\n",
      "FILTER_SIZES=3,4,5\n",
      "L2_REG_LAMBDA=0.0\n",
      "LABEL_USED=Negative Emotion\n",
      "LOG_DEVICE_PLACEMENT=False\n",
      "NUM_CHECKPOINTS=5\n",
      "NUM_EPOCHS=2\n",
      "NUM_FILTERS=128\n",
      "UNROLLED_LSTM=False\n",
      "\n",
      "Loading data...\n",
      "Loaded rows:  658 columns:  19\n",
      "Headers:  ['id', 'news article name', 'news article', 'Fluency', 'Conciseness', 'Descriptiveness', 'Novelty', 'Completeness', 'Referencing', 'Formality', 'Richness', 'Attractiveness', 'Technicality', 'Popularity', 'Subjectivity', 'Positive Emotion', 'Negative Emotion', 'Quality', 'AnnotatorsConfidenceScore\\n']\n",
      "Using label:  Negative Emotion\n",
      "Vocabulary Size: 28915\n",
      "Train/Dev split: 591/65\n",
      "Writing to /notebooks/Project/runs/1490689957\n",
      "\n",
      "2017-03-28T08:32:50.410684: step 1, loss 7.86725, acc 0.17\n",
      "2017-03-28T08:33:00.967757: step 2, loss 6.06809, acc 0.2\n",
      "2017-03-28T08:33:11.453514: step 3, loss 3.35116, acc 0.41\n",
      "2017-03-28T08:33:22.012115: step 4, loss 1.38086, acc 0.64\n",
      "2017-03-28T08:33:32.525344: step 5, loss 0.86797, acc 0.84\n",
      "2017-03-28T08:33:42.200291: step 6, loss 0.577536, acc 0.912088\n",
      "\n",
      "Evaluation:\n",
      "2017-03-28T08:33:44.585310: step 6, loss 0.388951, acc 0.969231\n",
      "\n",
      "Saved model checkpoint to /notebooks/Project/runs/1490689957/checkpoints/model-6\n",
      "\n",
      "2017-03-28T08:33:55.826928: step 7, loss 0.183465, acc 0.96\n",
      "2017-03-28T08:34:06.442641: step 8, loss 1.13507, acc 0.93\n",
      "2017-03-28T08:34:16.874225: step 9, loss 0.808525, acc 0.94\n",
      "2017-03-28T08:34:27.452305: step 10, loss 1.56726, acc 0.91\n",
      "2017-03-28T08:34:38.230423: step 11, loss 1.25362, acc 0.92\n",
      "2017-03-28T08:34:47.849997: step 12, loss 1.39506, acc 0.945055\n",
      "\n",
      "Evaluation:\n",
      "2017-03-28T08:34:50.382200: step 12, loss 0.696416, acc 0.969231\n",
      "\n",
      "Saved model checkpoint to /notebooks/Project/runs/1490689957/checkpoints/model-12\n",
      "\n"
     ]
    }
   ],
   "source": [
    "!python ./shared_lib/train.py --label_used 'Negative Emotion' --num_epochs 2 --batch_size 100 --evaluate_every 6 --checkpoint_every 6"
   ]
  },
  {
   "cell_type": "code",
   "execution_count": 104,
   "metadata": {
    "collapsed": false,
    "deletable": true,
    "editable": true
   },
   "outputs": [
    {
     "name": "stdout",
     "output_type": "stream",
     "text": [
      "\n",
      "Parameters:\n",
      "ALLOW_SOFT_PLACEMENT=True\n",
      "BATCH_SIZE=100\n",
      "CHECKPOINT_EVERY=6\n",
      "DEV_SAMPLE_PERCENTAGE=0.1\n",
      "DROPOUT_KEEP_PROB=0.5\n",
      "EMBEDDING_DIM=128\n",
      "EVALUATE_EVERY=6\n",
      "FILTER_SIZES=3,4,5\n",
      "L2_REG_LAMBDA=0.0\n",
      "LABEL_USED=Quality\n",
      "LOG_DEVICE_PLACEMENT=False\n",
      "NUM_CHECKPOINTS=5\n",
      "NUM_EPOCHS=2\n",
      "NUM_FILTERS=128\n",
      "UNROLLED_LSTM=False\n",
      "\n",
      "Loading data...\n",
      "Loaded rows:  658 columns:  19\n",
      "Headers:  ['id', 'news article name', 'news article', 'Fluency', 'Conciseness', 'Descriptiveness', 'Novelty', 'Completeness', 'Referencing', 'Formality', 'Richness', 'Attractiveness', 'Technicality', 'Popularity', 'Subjectivity', 'Positive Emotion', 'Negative Emotion', 'Quality', 'AnnotatorsConfidenceScore\\n']\n",
      "Using label:  Quality\n",
      "Vocabulary Size: 28906\n",
      "Train/Dev split: 591/65\n",
      "('Number of classes ', 2)\n",
      "Writing to /notebooks/project/runs/1492145971\n",
      "\n",
      "2017-04-14T04:59:44.263478: step 1, loss 4.31796, acc 0.42\n",
      "2017-04-14T04:59:56.308902: step 2, loss 2.03532, acc 0.59\n",
      "2017-04-14T05:00:09.399424: step 3, loss 1.70417, acc 0.65\n",
      "2017-04-14T05:00:22.038999: step 4, loss 2.52427, acc 0.7\n",
      "2017-04-14T05:00:35.065287: step 5, loss 2.85389, acc 0.7\n",
      "2017-04-14T05:00:46.692333: step 6, loss 2.79346, acc 0.758242\n",
      "\n",
      "Evaluation:\n",
      "2017-04-14T05:00:49.221107: step 6, loss 1.97637, acc 0.830769\n",
      "\n",
      "Saved model checkpoint to /notebooks/project/runs/1492145971/checkpoints/model-6\n",
      "\n",
      "2017-04-14T05:01:02.909514: step 7, loss 2.36902, acc 0.81\n",
      "2017-04-14T05:01:15.654900: step 8, loss 1.82418, acc 0.82\n",
      "2017-04-14T05:01:31.643555: step 9, loss 2.07044, acc 0.77\n",
      "2017-04-14T05:01:48.390006: step 10, loss 1.95016, acc 0.78\n",
      "2017-04-14T05:02:02.358534: step 11, loss 2.14758, acc 0.78\n",
      "2017-04-14T05:02:13.828067: step 12, loss 2.31164, acc 0.681319\n",
      "\n",
      "Evaluation:\n",
      "2017-04-14T05:02:16.418891: step 12, loss 1.221, acc 0.830769\n",
      "\n",
      "Saved model checkpoint to /notebooks/project/runs/1492145971/checkpoints/model-12\n",
      "\n"
     ]
    }
   ],
   "source": [
    "!python ./shared_lib/train.py --label_used 'Quality' --num_epochs 2 --batch_size 100 --evaluate_every 6 --checkpoint_every 6"
   ]
  },
  {
   "cell_type": "code",
   "execution_count": 105,
   "metadata": {
    "collapsed": false
   },
   "outputs": [
    {
     "name": "stdout",
     "output_type": "stream",
     "text": [
      "\n",
      "Parameters:\n",
      "ALLOW_SOFT_PLACEMENT=True\n",
      "BATCH_SIZE=100\n",
      "CHECKPOINT_EVERY=20\n",
      "DEV_SAMPLE_PERCENTAGE=0.1\n",
      "DROPOUT_KEEP_PROB=0.5\n",
      "EMBEDDING_DIM=128\n",
      "EVALUATE_EVERY=6\n",
      "FILTER_SIZES=3,4,5\n",
      "L2_REG_LAMBDA=0.0\n",
      "LABEL_USED=Quality\n",
      "LOG_DEVICE_PLACEMENT=False\n",
      "MODEL_PATH=/notebooks/project/runs/1492145971/checkpoints/\n",
      "NUM_CHECKPOINTS=5\n",
      "NUM_EPOCHS=2\n",
      "NUM_FILTERS=128\n",
      "UNROLLED_LSTM=False\n",
      "VOCAB_PATH=/notebooks/project/runs/1492145971/vocab\n",
      "\n",
      "Loading data...\n",
      "Loaded rows:  159 columns:  2\n",
      "Labels evaluated  ['mostly true\\r\\n', 'mixture of true and false\\r\\n', 'no factual content\\r\\n', 'mostly false\\r\\n', 'mostly true']\n",
      "\n",
      "Evaluating...\n",
      "\n",
      "Predictions: \n",
      "Total number of test examples: 159\n",
      "Accuracy: 0.591195\n"
     ]
    }
   ],
   "source": [
    "!python ./shared_lib/score.py --label_used 'Quality' --num_epochs 2 --batch_size 100 --evaluate_every 6 \\\n",
    "--model_path '/notebooks/project/runs/1492145971/checkpoints/' \\\n",
    "--vocab_path '/notebooks/project/runs/1492145971/vocab'"
   ]
  },
  {
   "cell_type": "code",
   "execution_count": 183,
   "metadata": {
    "collapsed": false,
    "deletable": true,
    "editable": true
   },
   "outputs": [
    {
     "name": "stdout",
     "output_type": "stream",
     "text": [
      "Help on function pearsonr in module scipy.stats.stats:\n",
      "\n",
      "pearsonr(x, y)\n",
      "    Calculates a Pearson correlation coefficient and the p-value for testing\n",
      "    non-correlation.\n",
      "    \n",
      "    The Pearson correlation coefficient measures the linear relationship\n",
      "    between two datasets. Strictly speaking, Pearson's correlation requires\n",
      "    that each dataset be normally distributed, and not necessarily zero-mean.\n",
      "    Like other correlation coefficients, this one varies between -1 and +1\n",
      "    with 0 implying no correlation. Correlations of -1 or +1 imply an exact\n",
      "    linear relationship. Positive correlations imply that as x increases, so\n",
      "    does y. Negative correlations imply that as x increases, y decreases.\n",
      "    \n",
      "    The p-value roughly indicates the probability of an uncorrelated system\n",
      "    producing datasets that have a Pearson correlation at least as extreme\n",
      "    as the one computed from these datasets. The p-values are not entirely\n",
      "    reliable but are probably reasonable for datasets larger than 500 or so.\n",
      "    \n",
      "    Parameters\n",
      "    ----------\n",
      "    x : (N,) array_like\n",
      "        Input\n",
      "    y : (N,) array_like\n",
      "        Input\n",
      "    \n",
      "    Returns\n",
      "    -------\n",
      "    r : float\n",
      "        Pearson's correlation coefficient\n",
      "    p-value : float\n",
      "        2-tailed p-value\n",
      "    \n",
      "    References\n",
      "    ----------\n",
      "    http://www.statsoft.com/textbook/glosp.html#Pearson%20Correlation\n",
      "\n"
     ]
    }
   ],
   "source": [
    "from pydoc import help\n",
    "from scipy.stats.stats import pearsonr\n",
    "help(pearsonr)\n"
   ]
  },
  {
   "cell_type": "code",
   "execution_count": 184,
   "metadata": {
    "collapsed": true,
    "deletable": true,
    "editable": true
   },
   "outputs": [],
   "source": [
    "# Load data from yahoo dataset\n",
    "def load_yahoo_data_labels(label_used):\n",
    "    header = []\n",
    "    articleData = []\n",
    "    with open('./news.csv', 'rb') as f:\n",
    "        for line in f:\n",
    "            if len(header) == 0:\n",
    "                header = line.split('\\t')\n",
    "            else:\n",
    "                articleData.append(line.split('\\t'))\n",
    "    columns = len(header)\n",
    "    rows = len(articleData)\n",
    "    \n",
    "    texts = []\n",
    "    targets = []\n",
    "    for i in range(0, rows):\n",
    "        labelStr = articleData[i][header.index(label_used)]\n",
    "        if labelStr != '':\n",
    "            texts.append(articleData[i][header.index('news article')])\n",
    "            target = int(labelStr)\n",
    "            targets.append(target)\n",
    "        else:\n",
    "            #add missing values \n",
    "            targets.append(3)\n",
    "    print 'Loaded rows: ', rows,'columns: ', columns, 'Using label: ', label_used, 'Targets length', len(targets)\n",
    "    return targets"
   ]
  },
  {
   "cell_type": "code",
   "execution_count": 185,
   "metadata": {
    "collapsed": false,
    "deletable": true,
    "editable": true
   },
   "outputs": [
    {
     "name": "stdout",
     "output_type": "stream",
     "text": [
      "Loaded rows:  658 columns:  19 Using label:  Fluency Targets length 658\n",
      "Loaded rows:  658 columns:  19 Using label:  Conciseness Targets length 658\n",
      "Loaded rows:  658 columns:  19 Using label:  Descriptiveness Targets length 658\n",
      "Loaded rows:  658 columns:  19 Using label:  Novelty Targets length 658\n",
      "Loaded rows:  658 columns:  19 Using label:  Completeness Targets length 658\n",
      "Loaded rows:  658 columns:  19 Using label:  Referencing Targets length 658\n",
      "Loaded rows:  658 columns:  19 Using label:  Formality Targets length 658\n",
      "Loaded rows:  658 columns:  19 Using label:  Richness Targets length 658\n",
      "Loaded rows:  658 columns:  19 Using label:  Attractiveness Targets length 658\n",
      "Loaded rows:  658 columns:  19 Using label:  Technicality Targets length 658\n",
      "Loaded rows:  658 columns:  19 Using label:  Popularity Targets length 658\n",
      "Loaded rows:  658 columns:  19 Using label:  Subjectivity Targets length 658\n",
      "Loaded rows:  658 columns:  19 Using label:  Positive Emotion Targets length 658\n",
      "Loaded rows:  658 columns:  19 Using label:  Negative Emotion Targets length 658\n",
      "Loaded rows:  658 columns:  19 Using label:  Subjectivity Targets length 658\n",
      "Loaded rows:  658 columns:  19 Using label:  Quality Targets length 658\n"
     ]
    }
   ],
   "source": [
    "labels = {}\n",
    "labels['Fluency'] = load_yahoo_data_labels('Fluency')\n",
    "labels['Conciseness'] = load_yahoo_data_labels('Conciseness')\n",
    "labels['Descriptiveness'] = load_yahoo_data_labels('Descriptiveness')\n",
    "labels['Novelty'] = load_yahoo_data_labels('Novelty')\n",
    "labels['Completeness'] = load_yahoo_data_labels('Completeness')\n",
    "labels['Referencing'] = load_yahoo_data_labels('Referencing')\n",
    "labels['Formality'] = load_yahoo_data_labels('Formality')\n",
    "labels['Richness'] = load_yahoo_data_labels('Richness')\n",
    "labels['Attractiveness'] = load_yahoo_data_labels('Attractiveness')\n",
    "labels['Technicality'] = load_yahoo_data_labels('Technicality')\n",
    "labels['Popularity'] = load_yahoo_data_labels('Popularity')\n",
    "labels['Subjectivity'] = load_yahoo_data_labels('Subjectivity')\n",
    "labels['PositiveEmotion'] = load_yahoo_data_labels('Positive Emotion')\n",
    "labels['NegativeEmotion'] = load_yahoo_data_labels('Negative Emotion')\n",
    "labels['Subjectivity'] = load_yahoo_data_labels('Subjectivity')\n",
    "\n",
    "label_Quality = load_yahoo_data_labels('Quality')"
   ]
  },
  {
   "cell_type": "code",
   "execution_count": 186,
   "metadata": {
    "collapsed": false,
    "deletable": true,
    "editable": true
   },
   "outputs": [
    {
     "data": {
      "text/plain": [
       "658"
      ]
     },
     "execution_count": 186,
     "metadata": {},
     "output_type": "execute_result"
    }
   ],
   "source": [
    "len(label_Quality)"
   ]
  },
  {
   "cell_type": "code",
   "execution_count": 187,
   "metadata": {
    "collapsed": true,
    "deletable": true,
    "editable": true
   },
   "outputs": [],
   "source": [
    "!rm label_correlation.csv"
   ]
  },
  {
   "cell_type": "code",
   "execution_count": 189,
   "metadata": {
    "collapsed": false,
    "deletable": true,
    "editable": true
   },
   "outputs": [
    {
     "name": "stdout",
     "output_type": "stream",
     "text": [
      "(0.52290621497476319, 1.8706453874907871e-47) Conciseness\n",
      "(0.45046201288991555, 3.3919295139594368e-34) Popularity\n",
      "(0.40972030174692503, 5.014242546156251e-28) Descriptiveness\n",
      "(0.51360938215499441, 1.4339657951881857e-45) Formality\n",
      "(0.6388017429647862, 9.8229297901455812e-77) Richness\n",
      "(0.51639238667890142, 3.9673074840513054e-46) Attractiveness\n",
      "(0.28955790778752516, 3.5535196358706179e-14) Technicality\n",
      "(0.44389282095785504, 3.8269219425978935e-33) Novelty\n",
      "(0.21878079297127492, 1.4261452926210867e-08) Subjectivity\n",
      "(0.49269740336918127, 1.5454471309195563e-41) Referencing\n",
      "(0.70987994340442673, 6.0216610264501846e-102) Completeness\n",
      "(0.26764066523928798, 2.9504375912304476e-12) PositiveEmotion\n",
      "(0.68686129817758657, 5.4878902680668407e-93) Fluency\n",
      "(0.16832761209548577, 1.4205735551543075e-05) NegativeEmotion\n"
     ]
    }
   ],
   "source": [
    "import csv\n",
    "\n",
    "ids = []\n",
    "correlation_coefficient = []\n",
    "pvalues = []\n",
    "\n",
    "myfile = open(\"label_correlation.csv\", 'wb')\n",
    "wr = csv.writer(myfile, quoting=csv.QUOTE_ALL)\n",
    "wr.writerow(['featureId','correlation', 'log10_pvalue'])\n",
    "\n",
    "for i in labels:\n",
    "    p = pearsonr(labels[i], label_Quality)\n",
    "    print p, i\n",
    "    \n",
    "    ids.append(i)\n",
    "    correlation_coefficient.append(p[0])\n",
    "    pvalues.append( np.log10(p[1]))\n",
    "\n",
    "    wr.writerow([i,p[0], np.log10(p[1])])\n",
    "\n"
   ]
  },
  {
   "cell_type": "code",
   "execution_count": 190,
   "metadata": {
    "collapsed": false,
    "deletable": true,
    "editable": true
   },
   "outputs": [
    {
     "name": "stdout",
     "output_type": "stream",
     "text": [
      "2.0.6\n"
     ]
    }
   ],
   "source": [
    "from plotly import __version__\n",
    "from plotly.offline import download_plotlyjs, init_notebook_mode, plot, iplot\n",
    "from plotly.graph_objs import Scatter, Figure, Layout\n",
    "from IPython.display import HTML\n",
    "import plotly.graph_objs as go\n",
    "\n",
    "print __version__ # requires version >= 1.9.0"
   ]
  },
  {
   "cell_type": "code",
   "execution_count": 192,
   "metadata": {
    "collapsed": false,
    "deletable": true,
    "editable": true
   },
   "outputs": [
    {
     "data": {
      "text/html": [
       "<script>requirejs.config({paths: { 'plotly': ['https://cdn.plot.ly/plotly-latest.min']},});if(!window.Plotly) {{require(['plotly'],function(plotly) {window.Plotly=plotly;});}}</script>"
      ],
      "text/vnd.plotly.v1+html": [
       "<script>requirejs.config({paths: { 'plotly': ['https://cdn.plot.ly/plotly-latest.min']},});if(!window.Plotly) {{require(['plotly'],function(plotly) {window.Plotly=plotly;});}}</script>"
      ]
     },
     "metadata": {},
     "output_type": "display_data"
    },
    {
     "data": {
      "application/vnd.plotly.v1+json": {
       "data": [
        {
         "colorscale": [
          [
           0,
           "#00083e"
          ],
          [
           0.5,
           "#ededee"
          ],
          [
           1,
           "#ffffff"
          ]
         ],
         "hoverinfo": "none",
         "opacity": 0.75,
         "showscale": false,
         "type": "heatmap",
         "z": [
          [
           0,
           0,
           0
          ],
          [
           0.5,
           0.5,
           0.5
          ],
          [
           1,
           1,
           1
          ],
          [
           0.5,
           0.5,
           0.5
          ],
          [
           1,
           1,
           1
          ],
          [
           0.5,
           0.5,
           0.5
          ],
          [
           1,
           1,
           1
          ],
          [
           0.5,
           0.5,
           0.5
          ],
          [
           1,
           1,
           1
          ],
          [
           0.5,
           0.5,
           0.5
          ],
          [
           1,
           1,
           1
          ],
          [
           0.5,
           0.5,
           0.5
          ],
          [
           1,
           1,
           1
          ],
          [
           0.5,
           0.5,
           0.5
          ],
          [
           1,
           1,
           1
          ]
         ]
        }
       ],
       "layout": {
        "annotations": [
         {
          "align": "left",
          "font": {
           "color": "#ffffff"
          },
          "showarrow": false,
          "text": "<b>featureId</b>",
          "x": -0.45,
          "xanchor": "left",
          "xref": "x1",
          "y": 0,
          "yref": "y1"
         },
         {
          "align": "left",
          "font": {
           "color": "#ffffff"
          },
          "showarrow": false,
          "text": "<b>correlation</b>",
          "x": 0.55,
          "xanchor": "left",
          "xref": "x1",
          "y": 0,
          "yref": "y1"
         },
         {
          "align": "left",
          "font": {
           "color": "#ffffff"
          },
          "showarrow": false,
          "text": "<b>log10_pvalue</b>",
          "x": 1.55,
          "xanchor": "left",
          "xref": "x1",
          "y": 0,
          "yref": "y1"
         },
         {
          "align": "left",
          "font": {
           "color": "#000000"
          },
          "showarrow": false,
          "text": "Conciseness",
          "x": -0.45,
          "xanchor": "left",
          "xref": "x1",
          "y": 1,
          "yref": "y1"
         },
         {
          "align": "left",
          "font": {
           "color": "#000000"
          },
          "showarrow": false,
          "text": "0.522906214975",
          "x": 0.55,
          "xanchor": "left",
          "xref": "x1",
          "y": 1,
          "yref": "y1"
         },
         {
          "align": "left",
          "font": {
           "color": "#000000"
          },
          "showarrow": false,
          "text": "-46.7280085326",
          "x": 1.55,
          "xanchor": "left",
          "xref": "x1",
          "y": 1,
          "yref": "y1"
         },
         {
          "align": "left",
          "font": {
           "color": "#000000"
          },
          "showarrow": false,
          "text": "Popularity",
          "x": -0.45,
          "xanchor": "left",
          "xref": "x1",
          "y": 2,
          "yref": "y1"
         },
         {
          "align": "left",
          "font": {
           "color": "#000000"
          },
          "showarrow": false,
          "text": "0.45046201289",
          "x": 0.55,
          "xanchor": "left",
          "xref": "x1",
          "y": 2,
          "yref": "y1"
         },
         {
          "align": "left",
          "font": {
           "color": "#000000"
          },
          "showarrow": false,
          "text": "-33.4695531812",
          "x": 1.55,
          "xanchor": "left",
          "xref": "x1",
          "y": 2,
          "yref": "y1"
         },
         {
          "align": "left",
          "font": {
           "color": "#000000"
          },
          "showarrow": false,
          "text": "Descriptiveness",
          "x": -0.45,
          "xanchor": "left",
          "xref": "x1",
          "y": 3,
          "yref": "y1"
         },
         {
          "align": "left",
          "font": {
           "color": "#000000"
          },
          "showarrow": false,
          "text": "0.409720301747",
          "x": 0.55,
          "xanchor": "left",
          "xref": "x1",
          "y": 3,
          "yref": "y1"
         },
         {
          "align": "left",
          "font": {
           "color": "#000000"
          },
          "showarrow": false,
          "text": "-27.2997946624",
          "x": 1.55,
          "xanchor": "left",
          "xref": "x1",
          "y": 3,
          "yref": "y1"
         },
         {
          "align": "left",
          "font": {
           "color": "#000000"
          },
          "showarrow": false,
          "text": "Formality",
          "x": -0.45,
          "xanchor": "left",
          "xref": "x1",
          "y": 4,
          "yref": "y1"
         },
         {
          "align": "left",
          "font": {
           "color": "#000000"
          },
          "showarrow": false,
          "text": "0.513609382155",
          "x": 0.55,
          "xanchor": "left",
          "xref": "x1",
          "y": 4,
          "yref": "y1"
         },
         {
          "align": "left",
          "font": {
           "color": "#000000"
          },
          "showarrow": false,
          "text": "-44.8434612079",
          "x": 1.55,
          "xanchor": "left",
          "xref": "x1",
          "y": 4,
          "yref": "y1"
         },
         {
          "align": "left",
          "font": {
           "color": "#000000"
          },
          "showarrow": false,
          "text": "Richness",
          "x": -0.45,
          "xanchor": "left",
          "xref": "x1",
          "y": 5,
          "yref": "y1"
         },
         {
          "align": "left",
          "font": {
           "color": "#000000"
          },
          "showarrow": false,
          "text": "0.638801742965",
          "x": 0.55,
          "xanchor": "left",
          "xref": "x1",
          "y": 5,
          "yref": "y1"
         },
         {
          "align": "left",
          "font": {
           "color": "#000000"
          },
          "showarrow": false,
          "text": "-76.0077589601",
          "x": 1.55,
          "xanchor": "left",
          "xref": "x1",
          "y": 5,
          "yref": "y1"
         },
         {
          "align": "left",
          "font": {
           "color": "#000000"
          },
          "showarrow": false,
          "text": "Attractiveness",
          "x": -0.45,
          "xanchor": "left",
          "xref": "x1",
          "y": 6,
          "yref": "y1"
         },
         {
          "align": "left",
          "font": {
           "color": "#000000"
          },
          "showarrow": false,
          "text": "0.516392386679",
          "x": 0.55,
          "xanchor": "left",
          "xref": "x1",
          "y": 6,
          "yref": "y1"
         },
         {
          "align": "left",
          "font": {
           "color": "#000000"
          },
          "showarrow": false,
          "text": "-45.4015041385",
          "x": 1.55,
          "xanchor": "left",
          "xref": "x1",
          "y": 6,
          "yref": "y1"
         },
         {
          "align": "left",
          "font": {
           "color": "#000000"
          },
          "showarrow": false,
          "text": "Technicality",
          "x": -0.45,
          "xanchor": "left",
          "xref": "x1",
          "y": 7,
          "yref": "y1"
         },
         {
          "align": "left",
          "font": {
           "color": "#000000"
          },
          "showarrow": false,
          "text": "0.289557907788",
          "x": 0.55,
          "xanchor": "left",
          "xref": "x1",
          "y": 7,
          "yref": "y1"
         },
         {
          "align": "left",
          "font": {
           "color": "#000000"
          },
          "showarrow": false,
          "text": "-13.4493412804",
          "x": 1.55,
          "xanchor": "left",
          "xref": "x1",
          "y": 7,
          "yref": "y1"
         },
         {
          "align": "left",
          "font": {
           "color": "#000000"
          },
          "showarrow": false,
          "text": "Novelty",
          "x": -0.45,
          "xanchor": "left",
          "xref": "x1",
          "y": 8,
          "yref": "y1"
         },
         {
          "align": "left",
          "font": {
           "color": "#000000"
          },
          "showarrow": false,
          "text": "0.443892820958",
          "x": 0.55,
          "xanchor": "left",
          "xref": "x1",
          "y": 8,
          "yref": "y1"
         },
         {
          "align": "left",
          "font": {
           "color": "#000000"
          },
          "showarrow": false,
          "text": "-32.417150396",
          "x": 1.55,
          "xanchor": "left",
          "xref": "x1",
          "y": 8,
          "yref": "y1"
         },
         {
          "align": "left",
          "font": {
           "color": "#000000"
          },
          "showarrow": false,
          "text": "Subjectivity",
          "x": -0.45,
          "xanchor": "left",
          "xref": "x1",
          "y": 9,
          "yref": "y1"
         },
         {
          "align": "left",
          "font": {
           "color": "#000000"
          },
          "showarrow": false,
          "text": "0.218780792971",
          "x": 0.55,
          "xanchor": "left",
          "xref": "x1",
          "y": 9,
          "yref": "y1"
         },
         {
          "align": "left",
          "font": {
           "color": "#000000"
          },
          "showarrow": false,
          "text": "-7.84583622724",
          "x": 1.55,
          "xanchor": "left",
          "xref": "x1",
          "y": 9,
          "yref": "y1"
         },
         {
          "align": "left",
          "font": {
           "color": "#000000"
          },
          "showarrow": false,
          "text": "Referencing",
          "x": -0.45,
          "xanchor": "left",
          "xref": "x1",
          "y": 10,
          "yref": "y1"
         },
         {
          "align": "left",
          "font": {
           "color": "#000000"
          },
          "showarrow": false,
          "text": "0.492697403369",
          "x": 0.55,
          "xanchor": "left",
          "xref": "x1",
          "y": 10,
          "yref": "y1"
         },
         {
          "align": "left",
          "font": {
           "color": "#000000"
          },
          "showarrow": false,
          "text": "-40.8109458474",
          "x": 1.55,
          "xanchor": "left",
          "xref": "x1",
          "y": 10,
          "yref": "y1"
         },
         {
          "align": "left",
          "font": {
           "color": "#000000"
          },
          "showarrow": false,
          "text": "Completeness",
          "x": -0.45,
          "xanchor": "left",
          "xref": "x1",
          "y": 11,
          "yref": "y1"
         },
         {
          "align": "left",
          "font": {
           "color": "#000000"
          },
          "showarrow": false,
          "text": "0.709879943404",
          "x": 0.55,
          "xanchor": "left",
          "xref": "x1",
          "y": 11,
          "yref": "y1"
         },
         {
          "align": "left",
          "font": {
           "color": "#000000"
          },
          "showarrow": false,
          "text": "-101.220283696",
          "x": 1.55,
          "xanchor": "left",
          "xref": "x1",
          "y": 11,
          "yref": "y1"
         },
         {
          "align": "left",
          "font": {
           "color": "#000000"
          },
          "showarrow": false,
          "text": "PositiveEmotion",
          "x": -0.45,
          "xanchor": "left",
          "xref": "x1",
          "y": 12,
          "yref": "y1"
         },
         {
          "align": "left",
          "font": {
           "color": "#000000"
          },
          "showarrow": false,
          "text": "0.267640665239",
          "x": 0.55,
          "xanchor": "left",
          "xref": "x1",
          "y": 12,
          "yref": "y1"
         },
         {
          "align": "left",
          "font": {
           "color": "#000000"
          },
          "showarrow": false,
          "text": "-11.5301135673",
          "x": 1.55,
          "xanchor": "left",
          "xref": "x1",
          "y": 12,
          "yref": "y1"
         },
         {
          "align": "left",
          "font": {
           "color": "#000000"
          },
          "showarrow": false,
          "text": "Fluency",
          "x": -0.45,
          "xanchor": "left",
          "xref": "x1",
          "y": 13,
          "yref": "y1"
         },
         {
          "align": "left",
          "font": {
           "color": "#000000"
          },
          "showarrow": false,
          "text": "0.686861298178",
          "x": 0.55,
          "xanchor": "left",
          "xref": "x1",
          "y": 13,
          "yref": "y1"
         },
         {
          "align": "left",
          "font": {
           "color": "#000000"
          },
          "showarrow": false,
          "text": "-92.2605945811",
          "x": 1.55,
          "xanchor": "left",
          "xref": "x1",
          "y": 13,
          "yref": "y1"
         },
         {
          "align": "left",
          "font": {
           "color": "#000000"
          },
          "showarrow": false,
          "text": "NegativeEmotion",
          "x": -0.45,
          "xanchor": "left",
          "xref": "x1",
          "y": 14,
          "yref": "y1"
         },
         {
          "align": "left",
          "font": {
           "color": "#000000"
          },
          "showarrow": false,
          "text": "0.168327612095",
          "x": 0.55,
          "xanchor": "left",
          "xref": "x1",
          "y": 14,
          "yref": "y1"
         },
         {
          "align": "left",
          "font": {
           "color": "#000000"
          },
          "showarrow": false,
          "text": "-4.84753627425",
          "x": 1.55,
          "xanchor": "left",
          "xref": "x1",
          "y": 14,
          "yref": "y1"
         }
        ],
        "height": 500,
        "margin": {
         "b": 0,
         "l": 0,
         "r": 0,
         "t": 0
        },
        "xaxis": {
         "dtick": 1,
         "gridwidth": 2,
         "showticklabels": false,
         "tick0": -0.5,
         "ticks": "",
         "zeroline": false
        },
        "yaxis": {
         "autorange": "reversed",
         "dtick": 1,
         "gridwidth": 2,
         "showticklabels": false,
         "tick0": 0.5,
         "ticks": "",
         "zeroline": false
        }
       }
      },
      "text/html": [
       "<div id=\"ada4ede2-305a-4853-8ae4-a92a7e0fbcb1\" style=\"height: 500px; width: 100%;\" class=\"plotly-graph-div\"></div><script type=\"text/javascript\">require([\"plotly\"], function(Plotly) { window.PLOTLYENV=window.PLOTLYENV || {};window.PLOTLYENV.BASE_URL=\"https://plot.ly\";Plotly.newPlot(\"ada4ede2-305a-4853-8ae4-a92a7e0fbcb1\", [{\"opacity\": 0.75, \"colorscale\": [[0, \"#00083e\"], [0.5, \"#ededee\"], [1, \"#ffffff\"]], \"showscale\": false, \"hoverinfo\": \"none\", \"z\": [[0, 0, 0], [0.5, 0.5, 0.5], [1, 1, 1], [0.5, 0.5, 0.5], [1, 1, 1], [0.5, 0.5, 0.5], [1, 1, 1], [0.5, 0.5, 0.5], [1, 1, 1], [0.5, 0.5, 0.5], [1, 1, 1], [0.5, 0.5, 0.5], [1, 1, 1], [0.5, 0.5, 0.5], [1, 1, 1]], \"type\": \"heatmap\"}], {\"yaxis\": {\"showticklabels\": false, \"tick0\": 0.5, \"ticks\": \"\", \"gridwidth\": 2, \"dtick\": 1, \"zeroline\": false, \"autorange\": \"reversed\"}, \"margin\": {\"r\": 0, \"b\": 0, \"l\": 0, \"t\": 0}, \"annotations\": [{\"xref\": \"x1\", \"xanchor\": \"left\", \"yref\": \"y1\", \"text\": \"<b>featureId</b>\", \"align\": \"left\", \"y\": 0, \"x\": -0.45, \"font\": {\"color\": \"#ffffff\"}, \"showarrow\": false}, {\"xref\": \"x1\", \"xanchor\": \"left\", \"yref\": \"y1\", \"text\": \"<b>correlation</b>\", \"align\": \"left\", \"y\": 0, \"x\": 0.55, \"font\": {\"color\": \"#ffffff\"}, \"showarrow\": false}, {\"xref\": \"x1\", \"xanchor\": \"left\", \"yref\": \"y1\", \"text\": \"<b>log10_pvalue</b>\", \"align\": \"left\", \"y\": 0, \"x\": 1.55, \"font\": {\"color\": \"#ffffff\"}, \"showarrow\": false}, {\"xref\": \"x1\", \"xanchor\": \"left\", \"yref\": \"y1\", \"text\": \"Conciseness\", \"align\": \"left\", \"y\": 1, \"x\": -0.45, \"font\": {\"color\": \"#000000\"}, \"showarrow\": false}, {\"xref\": \"x1\", \"xanchor\": \"left\", \"yref\": \"y1\", \"text\": \"0.522906214975\", \"align\": \"left\", \"y\": 1, \"x\": 0.55, \"font\": {\"color\": \"#000000\"}, \"showarrow\": false}, {\"xref\": \"x1\", \"xanchor\": \"left\", \"yref\": \"y1\", \"text\": \"-46.7280085326\", \"align\": \"left\", \"y\": 1, \"x\": 1.55, \"font\": {\"color\": \"#000000\"}, \"showarrow\": false}, {\"xref\": \"x1\", \"xanchor\": \"left\", \"yref\": \"y1\", \"text\": \"Popularity\", \"align\": \"left\", \"y\": 2, \"x\": -0.45, \"font\": {\"color\": \"#000000\"}, \"showarrow\": false}, {\"xref\": \"x1\", \"xanchor\": \"left\", \"yref\": \"y1\", \"text\": \"0.45046201289\", \"align\": \"left\", \"y\": 2, \"x\": 0.55, \"font\": {\"color\": \"#000000\"}, \"showarrow\": false}, {\"xref\": \"x1\", \"xanchor\": \"left\", \"yref\": \"y1\", \"text\": \"-33.4695531812\", \"align\": \"left\", \"y\": 2, \"x\": 1.55, \"font\": {\"color\": \"#000000\"}, \"showarrow\": false}, {\"xref\": \"x1\", \"xanchor\": \"left\", \"yref\": \"y1\", \"text\": \"Descriptiveness\", \"align\": \"left\", \"y\": 3, \"x\": -0.45, \"font\": {\"color\": \"#000000\"}, \"showarrow\": false}, {\"xref\": \"x1\", \"xanchor\": \"left\", \"yref\": \"y1\", \"text\": \"0.409720301747\", \"align\": \"left\", \"y\": 3, \"x\": 0.55, \"font\": {\"color\": \"#000000\"}, \"showarrow\": false}, {\"xref\": \"x1\", \"xanchor\": \"left\", \"yref\": \"y1\", \"text\": \"-27.2997946624\", \"align\": \"left\", \"y\": 3, \"x\": 1.55, \"font\": {\"color\": \"#000000\"}, \"showarrow\": false}, {\"xref\": \"x1\", \"xanchor\": \"left\", \"yref\": \"y1\", \"text\": \"Formality\", \"align\": \"left\", \"y\": 4, \"x\": -0.45, \"font\": {\"color\": \"#000000\"}, \"showarrow\": false}, {\"xref\": \"x1\", \"xanchor\": \"left\", \"yref\": \"y1\", \"text\": \"0.513609382155\", \"align\": \"left\", \"y\": 4, \"x\": 0.55, \"font\": {\"color\": \"#000000\"}, \"showarrow\": false}, {\"xref\": \"x1\", \"xanchor\": \"left\", \"yref\": \"y1\", \"text\": \"-44.8434612079\", \"align\": \"left\", \"y\": 4, \"x\": 1.55, \"font\": {\"color\": \"#000000\"}, \"showarrow\": false}, {\"xref\": \"x1\", \"xanchor\": \"left\", \"yref\": \"y1\", \"text\": \"Richness\", \"align\": \"left\", \"y\": 5, \"x\": -0.45, \"font\": {\"color\": \"#000000\"}, \"showarrow\": false}, {\"xref\": \"x1\", \"xanchor\": \"left\", \"yref\": \"y1\", \"text\": \"0.638801742965\", \"align\": \"left\", \"y\": 5, \"x\": 0.55, \"font\": {\"color\": \"#000000\"}, \"showarrow\": false}, {\"xref\": \"x1\", \"xanchor\": \"left\", \"yref\": \"y1\", \"text\": \"-76.0077589601\", \"align\": \"left\", \"y\": 5, \"x\": 1.55, \"font\": {\"color\": \"#000000\"}, \"showarrow\": false}, {\"xref\": \"x1\", \"xanchor\": \"left\", \"yref\": \"y1\", \"text\": \"Attractiveness\", \"align\": \"left\", \"y\": 6, \"x\": -0.45, \"font\": {\"color\": \"#000000\"}, \"showarrow\": false}, {\"xref\": \"x1\", \"xanchor\": \"left\", \"yref\": \"y1\", \"text\": \"0.516392386679\", \"align\": \"left\", \"y\": 6, \"x\": 0.55, \"font\": {\"color\": \"#000000\"}, \"showarrow\": false}, {\"xref\": \"x1\", \"xanchor\": \"left\", \"yref\": \"y1\", \"text\": \"-45.4015041385\", \"align\": \"left\", \"y\": 6, \"x\": 1.55, \"font\": {\"color\": \"#000000\"}, \"showarrow\": false}, {\"xref\": \"x1\", \"xanchor\": \"left\", \"yref\": \"y1\", \"text\": \"Technicality\", \"align\": \"left\", \"y\": 7, \"x\": -0.45, \"font\": {\"color\": \"#000000\"}, \"showarrow\": false}, {\"xref\": \"x1\", \"xanchor\": \"left\", \"yref\": \"y1\", \"text\": \"0.289557907788\", \"align\": \"left\", \"y\": 7, \"x\": 0.55, \"font\": {\"color\": \"#000000\"}, \"showarrow\": false}, {\"xref\": \"x1\", \"xanchor\": \"left\", \"yref\": \"y1\", \"text\": \"-13.4493412804\", \"align\": \"left\", \"y\": 7, \"x\": 1.55, \"font\": {\"color\": \"#000000\"}, \"showarrow\": false}, {\"xref\": \"x1\", \"xanchor\": \"left\", \"yref\": \"y1\", \"text\": \"Novelty\", \"align\": \"left\", \"y\": 8, \"x\": -0.45, \"font\": {\"color\": \"#000000\"}, \"showarrow\": false}, {\"xref\": \"x1\", \"xanchor\": \"left\", \"yref\": \"y1\", \"text\": \"0.443892820958\", \"align\": \"left\", \"y\": 8, \"x\": 0.55, \"font\": {\"color\": \"#000000\"}, \"showarrow\": false}, {\"xref\": \"x1\", \"xanchor\": \"left\", \"yref\": \"y1\", \"text\": \"-32.417150396\", \"align\": \"left\", \"y\": 8, \"x\": 1.55, \"font\": {\"color\": \"#000000\"}, \"showarrow\": false}, {\"xref\": \"x1\", \"xanchor\": \"left\", \"yref\": \"y1\", \"text\": \"Subjectivity\", \"align\": \"left\", \"y\": 9, \"x\": -0.45, \"font\": {\"color\": \"#000000\"}, \"showarrow\": false}, {\"xref\": \"x1\", \"xanchor\": \"left\", \"yref\": \"y1\", \"text\": \"0.218780792971\", \"align\": \"left\", \"y\": 9, \"x\": 0.55, \"font\": {\"color\": \"#000000\"}, \"showarrow\": false}, {\"xref\": \"x1\", \"xanchor\": \"left\", \"yref\": \"y1\", \"text\": \"-7.84583622724\", \"align\": \"left\", \"y\": 9, \"x\": 1.55, \"font\": {\"color\": \"#000000\"}, \"showarrow\": false}, {\"xref\": \"x1\", \"xanchor\": \"left\", \"yref\": \"y1\", \"text\": \"Referencing\", \"align\": \"left\", \"y\": 10, \"x\": -0.45, \"font\": {\"color\": \"#000000\"}, \"showarrow\": false}, {\"xref\": \"x1\", \"xanchor\": \"left\", \"yref\": \"y1\", \"text\": \"0.492697403369\", \"align\": \"left\", \"y\": 10, \"x\": 0.55, \"font\": {\"color\": \"#000000\"}, \"showarrow\": false}, {\"xref\": \"x1\", \"xanchor\": \"left\", \"yref\": \"y1\", \"text\": \"-40.8109458474\", \"align\": \"left\", \"y\": 10, \"x\": 1.55, \"font\": {\"color\": \"#000000\"}, \"showarrow\": false}, {\"xref\": \"x1\", \"xanchor\": \"left\", \"yref\": \"y1\", \"text\": \"Completeness\", \"align\": \"left\", \"y\": 11, \"x\": -0.45, \"font\": {\"color\": \"#000000\"}, \"showarrow\": false}, {\"xref\": \"x1\", \"xanchor\": \"left\", \"yref\": \"y1\", \"text\": \"0.709879943404\", \"align\": \"left\", \"y\": 11, \"x\": 0.55, \"font\": {\"color\": \"#000000\"}, \"showarrow\": false}, {\"xref\": \"x1\", \"xanchor\": \"left\", \"yref\": \"y1\", \"text\": \"-101.220283696\", \"align\": \"left\", \"y\": 11, \"x\": 1.55, \"font\": {\"color\": \"#000000\"}, \"showarrow\": false}, {\"xref\": \"x1\", \"xanchor\": \"left\", \"yref\": \"y1\", \"text\": \"PositiveEmotion\", \"align\": \"left\", \"y\": 12, \"x\": -0.45, \"font\": {\"color\": \"#000000\"}, \"showarrow\": false}, {\"xref\": \"x1\", \"xanchor\": \"left\", \"yref\": \"y1\", \"text\": \"0.267640665239\", \"align\": \"left\", \"y\": 12, \"x\": 0.55, \"font\": {\"color\": \"#000000\"}, \"showarrow\": false}, {\"xref\": \"x1\", \"xanchor\": \"left\", \"yref\": \"y1\", \"text\": \"-11.5301135673\", \"align\": \"left\", \"y\": 12, \"x\": 1.55, \"font\": {\"color\": \"#000000\"}, \"showarrow\": false}, {\"xref\": \"x1\", \"xanchor\": \"left\", \"yref\": \"y1\", \"text\": \"Fluency\", \"align\": \"left\", \"y\": 13, \"x\": -0.45, \"font\": {\"color\": \"#000000\"}, \"showarrow\": false}, {\"xref\": \"x1\", \"xanchor\": \"left\", \"yref\": \"y1\", \"text\": \"0.686861298178\", \"align\": \"left\", \"y\": 13, \"x\": 0.55, \"font\": {\"color\": \"#000000\"}, \"showarrow\": false}, {\"xref\": \"x1\", \"xanchor\": \"left\", \"yref\": \"y1\", \"text\": \"-92.2605945811\", \"align\": \"left\", \"y\": 13, \"x\": 1.55, \"font\": {\"color\": \"#000000\"}, \"showarrow\": false}, {\"xref\": \"x1\", \"xanchor\": \"left\", \"yref\": \"y1\", \"text\": \"NegativeEmotion\", \"align\": \"left\", \"y\": 14, \"x\": -0.45, \"font\": {\"color\": \"#000000\"}, \"showarrow\": false}, {\"xref\": \"x1\", \"xanchor\": \"left\", \"yref\": \"y1\", \"text\": \"0.168327612095\", \"align\": \"left\", \"y\": 14, \"x\": 0.55, \"font\": {\"color\": \"#000000\"}, \"showarrow\": false}, {\"xref\": \"x1\", \"xanchor\": \"left\", \"yref\": \"y1\", \"text\": \"-4.84753627425\", \"align\": \"left\", \"y\": 14, \"x\": 1.55, \"font\": {\"color\": \"#000000\"}, \"showarrow\": false}], \"xaxis\": {\"showticklabels\": false, \"tick0\": -0.5, \"ticks\": \"\", \"gridwidth\": 2, \"dtick\": 1, \"zeroline\": false}, \"height\": 500}, {\"linkText\": \"Export to plot.ly\", \"showLink\": true})});</script>"
      ],
      "text/vnd.plotly.v1+html": [
       "<div id=\"ada4ede2-305a-4853-8ae4-a92a7e0fbcb1\" style=\"height: 500px; width: 100%;\" class=\"plotly-graph-div\"></div><script type=\"text/javascript\">require([\"plotly\"], function(Plotly) { window.PLOTLYENV=window.PLOTLYENV || {};window.PLOTLYENV.BASE_URL=\"https://plot.ly\";Plotly.newPlot(\"ada4ede2-305a-4853-8ae4-a92a7e0fbcb1\", [{\"opacity\": 0.75, \"colorscale\": [[0, \"#00083e\"], [0.5, \"#ededee\"], [1, \"#ffffff\"]], \"showscale\": false, \"hoverinfo\": \"none\", \"z\": [[0, 0, 0], [0.5, 0.5, 0.5], [1, 1, 1], [0.5, 0.5, 0.5], [1, 1, 1], [0.5, 0.5, 0.5], [1, 1, 1], [0.5, 0.5, 0.5], [1, 1, 1], [0.5, 0.5, 0.5], [1, 1, 1], [0.5, 0.5, 0.5], [1, 1, 1], [0.5, 0.5, 0.5], [1, 1, 1]], \"type\": \"heatmap\"}], {\"yaxis\": {\"showticklabels\": false, \"tick0\": 0.5, \"ticks\": \"\", \"gridwidth\": 2, \"dtick\": 1, \"zeroline\": false, \"autorange\": \"reversed\"}, \"margin\": {\"r\": 0, \"b\": 0, \"l\": 0, \"t\": 0}, \"annotations\": [{\"xref\": \"x1\", \"xanchor\": \"left\", \"yref\": \"y1\", \"text\": \"<b>featureId</b>\", \"align\": \"left\", \"y\": 0, \"x\": -0.45, \"font\": {\"color\": \"#ffffff\"}, \"showarrow\": false}, {\"xref\": \"x1\", \"xanchor\": \"left\", \"yref\": \"y1\", \"text\": \"<b>correlation</b>\", \"align\": \"left\", \"y\": 0, \"x\": 0.55, \"font\": {\"color\": \"#ffffff\"}, \"showarrow\": false}, {\"xref\": \"x1\", \"xanchor\": \"left\", \"yref\": \"y1\", \"text\": \"<b>log10_pvalue</b>\", \"align\": \"left\", \"y\": 0, \"x\": 1.55, \"font\": {\"color\": \"#ffffff\"}, \"showarrow\": false}, {\"xref\": \"x1\", \"xanchor\": \"left\", \"yref\": \"y1\", \"text\": \"Conciseness\", \"align\": \"left\", \"y\": 1, \"x\": -0.45, \"font\": {\"color\": \"#000000\"}, \"showarrow\": false}, {\"xref\": \"x1\", \"xanchor\": \"left\", \"yref\": \"y1\", \"text\": \"0.522906214975\", \"align\": \"left\", \"y\": 1, \"x\": 0.55, \"font\": {\"color\": \"#000000\"}, \"showarrow\": false}, {\"xref\": \"x1\", \"xanchor\": \"left\", \"yref\": \"y1\", \"text\": \"-46.7280085326\", \"align\": \"left\", \"y\": 1, \"x\": 1.55, \"font\": {\"color\": \"#000000\"}, \"showarrow\": false}, {\"xref\": \"x1\", \"xanchor\": \"left\", \"yref\": \"y1\", \"text\": \"Popularity\", \"align\": \"left\", \"y\": 2, \"x\": -0.45, \"font\": {\"color\": \"#000000\"}, \"showarrow\": false}, {\"xref\": \"x1\", \"xanchor\": \"left\", \"yref\": \"y1\", \"text\": \"0.45046201289\", \"align\": \"left\", \"y\": 2, \"x\": 0.55, \"font\": {\"color\": \"#000000\"}, \"showarrow\": false}, {\"xref\": \"x1\", \"xanchor\": \"left\", \"yref\": \"y1\", \"text\": \"-33.4695531812\", \"align\": \"left\", \"y\": 2, \"x\": 1.55, \"font\": {\"color\": \"#000000\"}, \"showarrow\": false}, {\"xref\": \"x1\", \"xanchor\": \"left\", \"yref\": \"y1\", \"text\": \"Descriptiveness\", \"align\": \"left\", \"y\": 3, \"x\": -0.45, \"font\": {\"color\": \"#000000\"}, \"showarrow\": false}, {\"xref\": \"x1\", \"xanchor\": \"left\", \"yref\": \"y1\", \"text\": \"0.409720301747\", \"align\": \"left\", \"y\": 3, \"x\": 0.55, \"font\": {\"color\": \"#000000\"}, \"showarrow\": false}, {\"xref\": \"x1\", \"xanchor\": \"left\", \"yref\": \"y1\", \"text\": \"-27.2997946624\", \"align\": \"left\", \"y\": 3, \"x\": 1.55, \"font\": {\"color\": \"#000000\"}, \"showarrow\": false}, {\"xref\": \"x1\", \"xanchor\": \"left\", \"yref\": \"y1\", \"text\": \"Formality\", \"align\": \"left\", \"y\": 4, \"x\": -0.45, \"font\": {\"color\": \"#000000\"}, \"showarrow\": false}, {\"xref\": \"x1\", \"xanchor\": \"left\", \"yref\": \"y1\", \"text\": \"0.513609382155\", \"align\": \"left\", \"y\": 4, \"x\": 0.55, \"font\": {\"color\": \"#000000\"}, \"showarrow\": false}, {\"xref\": \"x1\", \"xanchor\": \"left\", \"yref\": \"y1\", \"text\": \"-44.8434612079\", \"align\": \"left\", \"y\": 4, \"x\": 1.55, \"font\": {\"color\": \"#000000\"}, \"showarrow\": false}, {\"xref\": \"x1\", \"xanchor\": \"left\", \"yref\": \"y1\", \"text\": \"Richness\", \"align\": \"left\", \"y\": 5, \"x\": -0.45, \"font\": {\"color\": \"#000000\"}, \"showarrow\": false}, {\"xref\": \"x1\", \"xanchor\": \"left\", \"yref\": \"y1\", \"text\": \"0.638801742965\", \"align\": \"left\", \"y\": 5, \"x\": 0.55, \"font\": {\"color\": \"#000000\"}, \"showarrow\": false}, {\"xref\": \"x1\", \"xanchor\": \"left\", \"yref\": \"y1\", \"text\": \"-76.0077589601\", \"align\": \"left\", \"y\": 5, \"x\": 1.55, \"font\": {\"color\": \"#000000\"}, \"showarrow\": false}, {\"xref\": \"x1\", \"xanchor\": \"left\", \"yref\": \"y1\", \"text\": \"Attractiveness\", \"align\": \"left\", \"y\": 6, \"x\": -0.45, \"font\": {\"color\": \"#000000\"}, \"showarrow\": false}, {\"xref\": \"x1\", \"xanchor\": \"left\", \"yref\": \"y1\", \"text\": \"0.516392386679\", \"align\": \"left\", \"y\": 6, \"x\": 0.55, \"font\": {\"color\": \"#000000\"}, \"showarrow\": false}, {\"xref\": \"x1\", \"xanchor\": \"left\", \"yref\": \"y1\", \"text\": \"-45.4015041385\", \"align\": \"left\", \"y\": 6, \"x\": 1.55, \"font\": {\"color\": \"#000000\"}, \"showarrow\": false}, {\"xref\": \"x1\", \"xanchor\": \"left\", \"yref\": \"y1\", \"text\": \"Technicality\", \"align\": \"left\", \"y\": 7, \"x\": -0.45, \"font\": {\"color\": \"#000000\"}, \"showarrow\": false}, {\"xref\": \"x1\", \"xanchor\": \"left\", \"yref\": \"y1\", \"text\": \"0.289557907788\", \"align\": \"left\", \"y\": 7, \"x\": 0.55, \"font\": {\"color\": \"#000000\"}, \"showarrow\": false}, {\"xref\": \"x1\", \"xanchor\": \"left\", \"yref\": \"y1\", \"text\": \"-13.4493412804\", \"align\": \"left\", \"y\": 7, \"x\": 1.55, \"font\": {\"color\": \"#000000\"}, \"showarrow\": false}, {\"xref\": \"x1\", \"xanchor\": \"left\", \"yref\": \"y1\", \"text\": \"Novelty\", \"align\": \"left\", \"y\": 8, \"x\": -0.45, \"font\": {\"color\": \"#000000\"}, \"showarrow\": false}, {\"xref\": \"x1\", \"xanchor\": \"left\", \"yref\": \"y1\", \"text\": \"0.443892820958\", \"align\": \"left\", \"y\": 8, \"x\": 0.55, \"font\": {\"color\": \"#000000\"}, \"showarrow\": false}, {\"xref\": \"x1\", \"xanchor\": \"left\", \"yref\": \"y1\", \"text\": \"-32.417150396\", \"align\": \"left\", \"y\": 8, \"x\": 1.55, \"font\": {\"color\": \"#000000\"}, \"showarrow\": false}, {\"xref\": \"x1\", \"xanchor\": \"left\", \"yref\": \"y1\", \"text\": \"Subjectivity\", \"align\": \"left\", \"y\": 9, \"x\": -0.45, \"font\": {\"color\": \"#000000\"}, \"showarrow\": false}, {\"xref\": \"x1\", \"xanchor\": \"left\", \"yref\": \"y1\", \"text\": \"0.218780792971\", \"align\": \"left\", \"y\": 9, \"x\": 0.55, \"font\": {\"color\": \"#000000\"}, \"showarrow\": false}, {\"xref\": \"x1\", \"xanchor\": \"left\", \"yref\": \"y1\", \"text\": \"-7.84583622724\", \"align\": \"left\", \"y\": 9, \"x\": 1.55, \"font\": {\"color\": \"#000000\"}, \"showarrow\": false}, {\"xref\": \"x1\", \"xanchor\": \"left\", \"yref\": \"y1\", \"text\": \"Referencing\", \"align\": \"left\", \"y\": 10, \"x\": -0.45, \"font\": {\"color\": \"#000000\"}, \"showarrow\": false}, {\"xref\": \"x1\", \"xanchor\": \"left\", \"yref\": \"y1\", \"text\": \"0.492697403369\", \"align\": \"left\", \"y\": 10, \"x\": 0.55, \"font\": {\"color\": \"#000000\"}, \"showarrow\": false}, {\"xref\": \"x1\", \"xanchor\": \"left\", \"yref\": \"y1\", \"text\": \"-40.8109458474\", \"align\": \"left\", \"y\": 10, \"x\": 1.55, \"font\": {\"color\": \"#000000\"}, \"showarrow\": false}, {\"xref\": \"x1\", \"xanchor\": \"left\", \"yref\": \"y1\", \"text\": \"Completeness\", \"align\": \"left\", \"y\": 11, \"x\": -0.45, \"font\": {\"color\": \"#000000\"}, \"showarrow\": false}, {\"xref\": \"x1\", \"xanchor\": \"left\", \"yref\": \"y1\", \"text\": \"0.709879943404\", \"align\": \"left\", \"y\": 11, \"x\": 0.55, \"font\": {\"color\": \"#000000\"}, \"showarrow\": false}, {\"xref\": \"x1\", \"xanchor\": \"left\", \"yref\": \"y1\", \"text\": \"-101.220283696\", \"align\": \"left\", \"y\": 11, \"x\": 1.55, \"font\": {\"color\": \"#000000\"}, \"showarrow\": false}, {\"xref\": \"x1\", \"xanchor\": \"left\", \"yref\": \"y1\", \"text\": \"PositiveEmotion\", \"align\": \"left\", \"y\": 12, \"x\": -0.45, \"font\": {\"color\": \"#000000\"}, \"showarrow\": false}, {\"xref\": \"x1\", \"xanchor\": \"left\", \"yref\": \"y1\", \"text\": \"0.267640665239\", \"align\": \"left\", \"y\": 12, \"x\": 0.55, \"font\": {\"color\": \"#000000\"}, \"showarrow\": false}, {\"xref\": \"x1\", \"xanchor\": \"left\", \"yref\": \"y1\", \"text\": \"-11.5301135673\", \"align\": \"left\", \"y\": 12, \"x\": 1.55, \"font\": {\"color\": \"#000000\"}, \"showarrow\": false}, {\"xref\": \"x1\", \"xanchor\": \"left\", \"yref\": \"y1\", \"text\": \"Fluency\", \"align\": \"left\", \"y\": 13, \"x\": -0.45, \"font\": {\"color\": \"#000000\"}, \"showarrow\": false}, {\"xref\": \"x1\", \"xanchor\": \"left\", \"yref\": \"y1\", \"text\": \"0.686861298178\", \"align\": \"left\", \"y\": 13, \"x\": 0.55, \"font\": {\"color\": \"#000000\"}, \"showarrow\": false}, {\"xref\": \"x1\", \"xanchor\": \"left\", \"yref\": \"y1\", \"text\": \"-92.2605945811\", \"align\": \"left\", \"y\": 13, \"x\": 1.55, \"font\": {\"color\": \"#000000\"}, \"showarrow\": false}, {\"xref\": \"x1\", \"xanchor\": \"left\", \"yref\": \"y1\", \"text\": \"NegativeEmotion\", \"align\": \"left\", \"y\": 14, \"x\": -0.45, \"font\": {\"color\": \"#000000\"}, \"showarrow\": false}, {\"xref\": \"x1\", \"xanchor\": \"left\", \"yref\": \"y1\", \"text\": \"0.168327612095\", \"align\": \"left\", \"y\": 14, \"x\": 0.55, \"font\": {\"color\": \"#000000\"}, \"showarrow\": false}, {\"xref\": \"x1\", \"xanchor\": \"left\", \"yref\": \"y1\", \"text\": \"-4.84753627425\", \"align\": \"left\", \"y\": 14, \"x\": 1.55, \"font\": {\"color\": \"#000000\"}, \"showarrow\": false}], \"xaxis\": {\"showticklabels\": false, \"tick0\": -0.5, \"ticks\": \"\", \"gridwidth\": 2, \"dtick\": 1, \"zeroline\": false}, \"height\": 500}, {\"linkText\": \"Export to plot.ly\", \"showLink\": true})});</script>"
      ]
     },
     "metadata": {},
     "output_type": "display_data"
    },
    {
     "data": {
      "application/vnd.plotly.v1+json": {
       "data": [
        {
         "name": "correlation",
         "type": "bar",
         "x": [
          "NegativeEmotion",
          "Subjectivity",
          "PositiveEmotion",
          "Technicality",
          "Descriptiveness",
          "Novelty",
          "Popularity",
          "Referencing",
          "Formality",
          "Attractiveness",
          "Conciseness",
          "Richness",
          "Fluency",
          "Completeness"
         ],
         "y": [
          0.16832761209548575,
          0.21878079297127487,
          0.267640665239288,
          0.2895579077875252,
          0.409720301746925,
          0.44389282095785504,
          0.4504620128899156,
          0.4926974033691813,
          0.5136093821549944,
          0.5163923866789014,
          0.5229062149747632,
          0.6388017429647862,
          0.6868612981775866,
          0.7098799434044267
         ]
        }
       ],
       "layout": {
        "title": "correlation"
       }
      },
      "text/html": [
       "<div id=\"6d6baee0-d469-442b-97cd-384ac4a2df68\" style=\"height: 525px; width: 100%;\" class=\"plotly-graph-div\"></div><script type=\"text/javascript\">require([\"plotly\"], function(Plotly) { window.PLOTLYENV=window.PLOTLYENV || {};window.PLOTLYENV.BASE_URL=\"https://plot.ly\";Plotly.newPlot(\"6d6baee0-d469-442b-97cd-384ac4a2df68\", [{\"y\": [0.16832761209548575, 0.21878079297127487, 0.267640665239288, 0.2895579077875252, 0.409720301746925, 0.44389282095785504, 0.4504620128899156, 0.4926974033691813, 0.5136093821549944, 0.5163923866789014, 0.5229062149747632, 0.6388017429647862, 0.6868612981775866, 0.7098799434044267], \"x\": [\"NegativeEmotion\", \"Subjectivity\", \"PositiveEmotion\", \"Technicality\", \"Descriptiveness\", \"Novelty\", \"Popularity\", \"Referencing\", \"Formality\", \"Attractiveness\", \"Conciseness\", \"Richness\", \"Fluency\", \"Completeness\"], \"type\": \"bar\", \"name\": \"correlation\"}], {\"title\": \"correlation\"}, {\"linkText\": \"Export to plot.ly\", \"showLink\": true})});</script>"
      ],
      "text/vnd.plotly.v1+html": [
       "<div id=\"6d6baee0-d469-442b-97cd-384ac4a2df68\" style=\"height: 525px; width: 100%;\" class=\"plotly-graph-div\"></div><script type=\"text/javascript\">require([\"plotly\"], function(Plotly) { window.PLOTLYENV=window.PLOTLYENV || {};window.PLOTLYENV.BASE_URL=\"https://plot.ly\";Plotly.newPlot(\"6d6baee0-d469-442b-97cd-384ac4a2df68\", [{\"y\": [0.16832761209548575, 0.21878079297127487, 0.267640665239288, 0.2895579077875252, 0.409720301746925, 0.44389282095785504, 0.4504620128899156, 0.4926974033691813, 0.5136093821549944, 0.5163923866789014, 0.5229062149747632, 0.6388017429647862, 0.6868612981775866, 0.7098799434044267], \"x\": [\"NegativeEmotion\", \"Subjectivity\", \"PositiveEmotion\", \"Technicality\", \"Descriptiveness\", \"Novelty\", \"Popularity\", \"Referencing\", \"Formality\", \"Attractiveness\", \"Conciseness\", \"Richness\", \"Fluency\", \"Completeness\"], \"type\": \"bar\", \"name\": \"correlation\"}], {\"title\": \"correlation\"}, {\"linkText\": \"Export to plot.ly\", \"showLink\": true})});</script>"
      ]
     },
     "metadata": {},
     "output_type": "display_data"
    },
    {
     "data": {
      "application/vnd.plotly.v1+json": {
       "data": [
        {
         "name": "log10_pvalue",
         "type": "bar",
         "x": [
          "NegativeEmotion",
          "Subjectivity",
          "PositiveEmotion",
          "Technicality",
          "Descriptiveness",
          "Novelty",
          "Popularity",
          "Referencing",
          "Formality",
          "Attractiveness",
          "Conciseness",
          "Richness",
          "Fluency",
          "Completeness"
         ],
         "y": [
          -4.847536274246153,
          -7.845836227240637,
          -11.530113567288627,
          -13.449341280411028,
          -27.29979466241817,
          -32.41715039595285,
          -33.469553181184345,
          -40.810945847373645,
          -44.843461207899864,
          -45.40150413845912,
          -46.728008532570705,
          -76.00775896008244,
          -92.2605945810567,
          -101.22028369559936
         ]
        }
       ],
       "layout": {
        "title": "log10_pvalue"
       }
      },
      "text/html": [
       "<div id=\"5f5d798f-34ca-4bb0-a38d-4a20249912da\" style=\"height: 525px; width: 100%;\" class=\"plotly-graph-div\"></div><script type=\"text/javascript\">require([\"plotly\"], function(Plotly) { window.PLOTLYENV=window.PLOTLYENV || {};window.PLOTLYENV.BASE_URL=\"https://plot.ly\";Plotly.newPlot(\"5f5d798f-34ca-4bb0-a38d-4a20249912da\", [{\"y\": [-4.847536274246153, -7.845836227240637, -11.530113567288627, -13.449341280411028, -27.29979466241817, -32.41715039595285, -33.469553181184345, -40.810945847373645, -44.843461207899864, -45.40150413845912, -46.728008532570705, -76.00775896008244, -92.2605945810567, -101.22028369559936], \"x\": [\"NegativeEmotion\", \"Subjectivity\", \"PositiveEmotion\", \"Technicality\", \"Descriptiveness\", \"Novelty\", \"Popularity\", \"Referencing\", \"Formality\", \"Attractiveness\", \"Conciseness\", \"Richness\", \"Fluency\", \"Completeness\"], \"type\": \"bar\", \"name\": \"log10_pvalue\"}], {\"title\": \"log10_pvalue\"}, {\"linkText\": \"Export to plot.ly\", \"showLink\": true})});</script>"
      ],
      "text/vnd.plotly.v1+html": [
       "<div id=\"5f5d798f-34ca-4bb0-a38d-4a20249912da\" style=\"height: 525px; width: 100%;\" class=\"plotly-graph-div\"></div><script type=\"text/javascript\">require([\"plotly\"], function(Plotly) { window.PLOTLYENV=window.PLOTLYENV || {};window.PLOTLYENV.BASE_URL=\"https://plot.ly\";Plotly.newPlot(\"5f5d798f-34ca-4bb0-a38d-4a20249912da\", [{\"y\": [-4.847536274246153, -7.845836227240637, -11.530113567288627, -13.449341280411028, -27.29979466241817, -32.41715039595285, -33.469553181184345, -40.810945847373645, -44.843461207899864, -45.40150413845912, -46.728008532570705, -76.00775896008244, -92.2605945810567, -101.22028369559936], \"x\": [\"NegativeEmotion\", \"Subjectivity\", \"PositiveEmotion\", \"Technicality\", \"Descriptiveness\", \"Novelty\", \"Popularity\", \"Referencing\", \"Formality\", \"Attractiveness\", \"Conciseness\", \"Richness\", \"Fluency\", \"Completeness\"], \"type\": \"bar\", \"name\": \"log10_pvalue\"}], {\"title\": \"log10_pvalue\"}, {\"linkText\": \"Export to plot.ly\", \"showLink\": true})});</script>"
      ]
     },
     "metadata": {},
     "output_type": "display_data"
    }
   ],
   "source": [
    "\n",
    "init_notebook_mode(connected=True)\n",
    "\n",
    "df = pd.read_csv(\"label_correlation.csv\")\n",
    "\n",
    "table = ff.create_table(df)\n",
    "\n",
    "df = df.sort_values(by='featureId')\n",
    "iplot(table)\n",
    "\n",
    "name = 'correlation'\n",
    "df = df.sort_values(by=name, ascending = True)\n",
    "data = go.Bar(x=df.featureId, y=df.correlation, name=name)\n",
    "layout = go.Layout(title=name)\n",
    "fig = go.Figure(data=[data], layout=layout)\n",
    "iplot(fig, filename=name)\n",
    "        \n",
    "name = 'log10_pvalue'\n",
    "df = df.sort_values(by=name, ascending = False)\n",
    "data = go.Bar(x=df.featureId, y=df.log10_pvalue, name=name)\n",
    "layout = go.Layout(title=name)\n",
    "fig = go.Figure(data=[data], layout=layout)\n",
    "iplot(fig, filename=name)\n"
   ]
  },
  {
   "cell_type": "code",
   "execution_count": null,
   "metadata": {
    "collapsed": true,
    "deletable": true,
    "editable": true
   },
   "outputs": [],
   "source": []
  }
 ],
 "metadata": {
  "anaconda-cloud": {},
  "kernelspec": {
   "display_name": "Python 2",
   "language": "python",
   "name": "python2"
  },
  "language_info": {
   "codemirror_mode": {
    "name": "ipython",
    "version": 2
   },
   "file_extension": ".py",
   "mimetype": "text/x-python",
   "name": "python",
   "nbconvert_exporter": "python",
   "pygments_lexer": "ipython2",
   "version": "2.7.12"
  }
 },
 "nbformat": 4,
 "nbformat_minor": 1
}
